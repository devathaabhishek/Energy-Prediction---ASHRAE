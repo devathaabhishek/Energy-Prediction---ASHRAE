{
 "cells": [
  {
   "cell_type": "markdown",
   "metadata": {
    "papermill": {
     "duration": 0.021717,
     "end_time": "2020-08-09T10:34:32.868900",
     "exception": false,
     "start_time": "2020-08-09T10:34:32.847183",
     "status": "completed"
    },
    "tags": []
   },
   "source": [
    "# Importing Libraries :"
   ]
  },
  {
   "cell_type": "code",
   "execution_count": 1,
   "metadata": {
    "_cell_guid": "b1076dfc-b9ad-4769-8c92-a6c4dae69d19",
    "_uuid": "8f2839f25d086af736a60e9eeb907d3b93b6e0e5",
    "execution": {
     "iopub.execute_input": "2020-08-09T10:34:32.916673Z",
     "iopub.status.busy": "2020-08-09T10:34:32.915600Z",
     "iopub.status.idle": "2020-08-09T10:34:37.706556Z",
     "shell.execute_reply": "2020-08-09T10:34:37.705628Z"
    },
    "papermill": {
     "duration": 4.819655,
     "end_time": "2020-08-09T10:34:37.706706",
     "exception": false,
     "start_time": "2020-08-09T10:34:32.887051",
     "status": "completed"
    },
    "tags": []
   },
   "outputs": [
    {
     "data": {
      "text/html": [
       "        <script type=\"text/javascript\">\n",
       "        window.PlotlyConfig = {MathJaxConfig: 'local'};\n",
       "        if (window.MathJax) {MathJax.Hub.Config({SVG: {font: \"STIX-Web\"}});}\n",
       "        if (typeof require !== 'undefined') {\n",
       "        require.undef(\"plotly\");\n",
       "        requirejs.config({\n",
       "            paths: {\n",
       "                'plotly': ['https://cdn.plot.ly/plotly-latest.min']\n",
       "            }\n",
       "        });\n",
       "        require(['plotly'], function(Plotly) {\n",
       "            window._Plotly = Plotly;\n",
       "        });\n",
       "        }\n",
       "        </script>\n",
       "        "
      ]
     },
     "metadata": {},
     "output_type": "display_data"
    }
   ],
   "source": [
    "import gc\n",
    "import os\n",
    "from pathlib import Path\n",
    "import random\n",
    "import sys\n",
    "\n",
    "from tqdm import tqdm_notebook as tqdm\n",
    "import numpy as np # linear algebra\n",
    "import pandas as pd # data processing, CSV file I/O (e.g. pd.read_csv)\n",
    "\n",
    "import matplotlib.pyplot as plt\n",
    "import seaborn as sns\n",
    "\n",
    "import statistics\n",
    "from IPython.core.display import display, HTML\n",
    "\n",
    "# --- plotly ---\n",
    "from plotly import tools, subplots\n",
    "import plotly.offline as py\n",
    "py.init_notebook_mode(connected=True)\n",
    "import plotly.graph_objs as go\n",
    "import plotly.express as px\n",
    "import plotly.figure_factory as ff\n",
    "\n",
    "# --- models ---\n",
    "from sklearn.model_selection import KFold\n",
    "import lightgbm as lgb\n",
    "import xgboost as xgb\n",
    "import catboost as cb"
   ]
  },
  {
   "cell_type": "markdown",
   "metadata": {
    "papermill": {
     "duration": 0.017841,
     "end_time": "2020-08-09T10:34:37.742817",
     "exception": false,
     "start_time": "2020-08-09T10:34:37.724976",
     "status": "completed"
    },
    "tags": []
   },
   "source": [
    "# Reading data :"
   ]
  },
  {
   "cell_type": "code",
   "execution_count": 2,
   "metadata": {
    "_cell_guid": "79c7e3d0-c299-4dcb-8224-4455121ee9b0",
    "_uuid": "d629ff2d2480ee46fbb7e2d37f6b5fab8052498a",
    "execution": {
     "iopub.execute_input": "2020-08-09T10:34:37.787402Z",
     "iopub.status.busy": "2020-08-09T10:34:37.786505Z",
     "iopub.status.idle": "2020-08-09T10:34:38.513791Z",
     "shell.execute_reply": "2020-08-09T10:34:38.514965Z"
    },
    "papermill": {
     "duration": 0.753773,
     "end_time": "2020-08-09T10:34:38.515260",
     "exception": false,
     "start_time": "2020-08-09T10:34:37.761487",
     "status": "completed"
    },
    "tags": []
   },
   "outputs": [
    {
     "name": "stdout",
     "output_type": "stream",
     "text": [
      "CPU times: user 105 ms, sys: 744 ms, total: 848 ms\n",
      "Wall time: 722 ms\n"
     ]
    }
   ],
   "source": [
    "%%time\n",
    "root = Path('../input/ashrae-feather-format-for-fast-loading')\n",
    "\n",
    "df_train = pd.read_feather(root/'train.feather')\n",
    "df_weather_train = pd.read_feather(root/'weather_train.feather')\n",
    "df_building = pd.read_feather(root/'building_metadata.feather')"
   ]
  },
  {
   "cell_type": "code",
   "execution_count": 3,
   "metadata": {
    "execution": {
     "iopub.execute_input": "2020-08-09T10:34:38.574127Z",
     "iopub.status.busy": "2020-08-09T10:34:38.568696Z",
     "iopub.status.idle": "2020-08-09T10:34:38.584275Z",
     "shell.execute_reply": "2020-08-09T10:34:38.585330Z"
    },
    "papermill": {
     "duration": 0.050934,
     "end_time": "2020-08-09T10:34:38.585617",
     "exception": false,
     "start_time": "2020-08-09T10:34:38.534683",
     "status": "completed"
    },
    "tags": []
   },
   "outputs": [],
   "source": [
    "# Copy from https://www.kaggle.com/gemartin/load-data-reduce-memory-usage by @gemartin\n",
    "# Modified to support timestamp type\n",
    "# Modified to add option to use float16 or not. feather format does not support float16.\n",
    "from pandas.api.types import is_datetime64_any_dtype as is_datetime\n",
    "\n",
    "def reduce_mem_usage(df, use_float16=False):\n",
    "    \"\"\" iterate through all the columns of a dataframe and modify the data type\n",
    "        to reduce memory usage.        \n",
    "    \"\"\"\n",
    "    start_mem = df.memory_usage().sum() / 1024**2\n",
    "    print('Memory usage of dataframe is {:.2f} MB'.format(start_mem))\n",
    "    \n",
    "    for col in df.columns:\n",
    "        if is_datetime(df[col]):\n",
    "            # skip datetime type\n",
    "            continue\n",
    "        col_type = df[col].dtype\n",
    "        \n",
    "        if col_type != object:\n",
    "            c_min = df[col].min()\n",
    "            c_max = df[col].max()\n",
    "            if str(col_type)[:3] == 'int':\n",
    "                if c_min > np.iinfo(np.int8).min and c_max < np.iinfo(np.int8).max:\n",
    "                    df[col] = df[col].astype(np.int8)\n",
    "                elif c_min > np.iinfo(np.int16).min and c_max < np.iinfo(np.int16).max:\n",
    "                    df[col] = df[col].astype(np.int16)\n",
    "                elif c_min > np.iinfo(np.int32).min and c_max < np.iinfo(np.int32).max:\n",
    "                    df[col] = df[col].astype(np.int32)\n",
    "                elif c_min > np.iinfo(np.int64).min and c_max < np.iinfo(np.int64).max:\n",
    "                    df[col] = df[col].astype(np.int64)  \n",
    "            else:\n",
    "                if use_float16 and c_min > np.finfo(np.float16).min and c_max < np.finfo(np.float16).max:\n",
    "                    df[col] = df[col].astype(np.float16)\n",
    "                elif c_min > np.finfo(np.float32).min and c_max < np.finfo(np.float32).max:\n",
    "                    df[col] = df[col].astype(np.float32)\n",
    "                else:\n",
    "                    df[col] = df[col].astype(np.float64)\n",
    "        else:\n",
    "            df[col] = df[col].astype('category')\n",
    "\n",
    "    end_mem = df.memory_usage().sum() / 1024**2\n",
    "    print('Memory usage after optimization is: {:.2f} MB'.format(end_mem))\n",
    "    print('Decreased by {:.1f}%'.format(100 * (start_mem - end_mem) / start_mem))\n",
    "    \n",
    "    return df"
   ]
  },
  {
   "cell_type": "markdown",
   "metadata": {
    "papermill": {
     "duration": 0.018079,
     "end_time": "2020-08-09T10:34:38.623042",
     "exception": false,
     "start_time": "2020-08-09T10:34:38.604963",
     "status": "completed"
    },
    "tags": []
   },
   "source": [
    "# Missing Value Imputation :"
   ]
  },
  {
   "cell_type": "markdown",
   "metadata": {
    "papermill": {
     "duration": 0.018097,
     "end_time": "2020-08-09T10:34:38.659528",
     "exception": false,
     "start_time": "2020-08-09T10:34:38.641431",
     "status": "completed"
    },
    "tags": []
   },
   "source": [
    "## Building meta data :"
   ]
  },
  {
   "cell_type": "code",
   "execution_count": 4,
   "metadata": {
    "execution": {
     "iopub.execute_input": "2020-08-09T10:34:38.708927Z",
     "iopub.status.busy": "2020-08-09T10:34:38.708028Z",
     "iopub.status.idle": "2020-08-09T10:34:38.711991Z",
     "shell.execute_reply": "2020-08-09T10:34:38.711346Z"
    },
    "papermill": {
     "duration": 0.032963,
     "end_time": "2020-08-09T10:34:38.712137",
     "exception": false,
     "start_time": "2020-08-09T10:34:38.679174",
     "status": "completed"
    },
    "tags": []
   },
   "outputs": [],
   "source": [
    "df_building = df_building.drop([\"year_built\",\"floor_count\"],axis=1)"
   ]
  },
  {
   "cell_type": "code",
   "execution_count": 5,
   "metadata": {
    "execution": {
     "iopub.execute_input": "2020-08-09T10:34:38.760374Z",
     "iopub.status.busy": "2020-08-09T10:34:38.759186Z",
     "iopub.status.idle": "2020-08-09T10:34:38.761976Z",
     "shell.execute_reply": "2020-08-09T10:34:38.762573Z"
    },
    "papermill": {
     "duration": 0.031752,
     "end_time": "2020-08-09T10:34:38.762749",
     "exception": false,
     "start_time": "2020-08-09T10:34:38.730997",
     "status": "completed"
    },
    "tags": []
   },
   "outputs": [],
   "source": [
    "df_building['square_feet'] = np.log1p(df_building['square_feet'])"
   ]
  },
  {
   "cell_type": "markdown",
   "metadata": {
    "papermill": {
     "duration": 0.018684,
     "end_time": "2020-08-09T10:34:38.799760",
     "exception": false,
     "start_time": "2020-08-09T10:34:38.781076",
     "status": "completed"
    },
    "tags": []
   },
   "source": [
    "### Encoding primary_use "
   ]
  },
  {
   "cell_type": "code",
   "execution_count": 6,
   "metadata": {
    "execution": {
     "iopub.execute_input": "2020-08-09T10:34:38.851882Z",
     "iopub.status.busy": "2020-08-09T10:34:38.850922Z",
     "iopub.status.idle": "2020-08-09T10:34:38.856685Z",
     "shell.execute_reply": "2020-08-09T10:34:38.855015Z"
    },
    "papermill": {
     "duration": 0.037599,
     "end_time": "2020-08-09T10:34:38.856851",
     "exception": false,
     "start_time": "2020-08-09T10:34:38.819252",
     "status": "completed"
    },
    "tags": []
   },
   "outputs": [
    {
     "name": "stdout",
     "output_type": "stream",
     "text": [
      "primary_use_dict:  {'Education': 0, 'Lodging/residential': 1, 'Office': 2, 'Entertainment/public assembly': 3, 'Other': 4, 'Retail': 5, 'Parking': 6, 'Public services': 7, 'Warehouse/storage': 8, 'Food sales and service': 9, 'Religious worship': 10, 'Healthcare': 11, 'Utility': 12, 'Technology/science': 13, 'Manufacturing/industrial': 14, 'Services': 15}\n"
     ]
    }
   ],
   "source": [
    "primary_use_list = df_building['primary_use'].unique()#getting unique valuesof primary use\n",
    "primary_use_dict = {key: value for value, key in enumerate(primary_use_list)} \n",
    "print('primary_use_dict: ', primary_use_dict)\n",
    "df_building['primary_use'] = df_building['primary_use'].map(primary_use_dict)#encoding with number \n",
    "\n",
    "del primary_use_list,primary_use_dict"
   ]
  },
  {
   "cell_type": "code",
   "execution_count": 7,
   "metadata": {
    "execution": {
     "iopub.execute_input": "2020-08-09T10:34:38.906152Z",
     "iopub.status.busy": "2020-08-09T10:34:38.905026Z",
     "iopub.status.idle": "2020-08-09T10:34:38.909166Z",
     "shell.execute_reply": "2020-08-09T10:34:38.908528Z"
    },
    "papermill": {
     "duration": 0.033521,
     "end_time": "2020-08-09T10:34:38.909318",
     "exception": false,
     "start_time": "2020-08-09T10:34:38.875797",
     "status": "completed"
    },
    "tags": []
   },
   "outputs": [],
   "source": [
    "\n",
    "#df_building.to_feather('new_building_metadata.feather')#storing the file"
   ]
  },
  {
   "cell_type": "markdown",
   "metadata": {
    "papermill": {
     "duration": 0.018476,
     "end_time": "2020-08-09T10:34:38.946178",
     "exception": false,
     "start_time": "2020-08-09T10:34:38.927702",
     "status": "completed"
    },
    "tags": []
   },
   "source": [
    "## Weather train data :"
   ]
  },
  {
   "cell_type": "code",
   "execution_count": 8,
   "metadata": {
    "execution": {
     "iopub.execute_input": "2020-08-09T10:34:39.010715Z",
     "iopub.status.busy": "2020-08-09T10:34:39.005121Z",
     "iopub.status.idle": "2020-08-09T10:34:39.016629Z",
     "shell.execute_reply": "2020-08-09T10:34:39.015776Z"
    },
    "papermill": {
     "duration": 0.051982,
     "end_time": "2020-08-09T10:34:39.016767",
     "exception": false,
     "start_time": "2020-08-09T10:34:38.964785",
     "status": "completed"
    },
    "tags": []
   },
   "outputs": [],
   "source": [
    "# retrieve cloud coverage data without NaN\n",
    "def filling_missing_data(df) :\n",
    "    \n",
    "    df[\"day\"] = pd.to_datetime(df[\"timestamp\"]).dt.day \n",
    "    df[\"week\"] = pd.to_datetime(df[\"timestamp\"]).dt.week\n",
    "    df[\"month\"] = pd.to_datetime(df[\"timestamp\"]).dt.month\n",
    "    \n",
    "    # Reset Index for Fast Update\n",
    "    df = df.set_index(['site_id','day','month'])   \n",
    "    \n",
    "    cloud_coverage = df.groupby(['site_id','day','month'])['cloud_coverage'].mean()\n",
    "    cloud_coverage = pd.DataFrame(cloud_coverage.fillna(method='ffill'),columns=[\"cloud_coverage\"]) # imputing with daily means per site id\n",
    "    df.update(cloud_coverage,overwrite=False)\n",
    "  \n",
    "    precip_depth = df.groupby(['site_id','day','month'])['precip_depth_1_hr'].mean()\n",
    "    precip_depth = pd.DataFrame(precip_depth.fillna(method='ffill'),columns=['precip_depth_1_hr'])\n",
    "    df.update(precip_depth,overwrite=False)\n",
    "    \n",
    "    sea_level = df.groupby(['site_id','day','month'])['sea_level_pressure'].mean()\n",
    "    sea_level = pd.DataFrame(sea_level.fillna(method='ffill'),columns=['sea_level_pressure'])\n",
    "    df.update(sea_level,overwrite=False)\n",
    "    \n",
    "\n",
    "    wind_direction =  pd.DataFrame(df.groupby(['site_id','day','month'])['wind_direction'].mean(),columns=['wind_direction'])\n",
    "    df.update(wind_direction,overwrite=False)\n",
    "\n",
    "    wind_speed =  pd.DataFrame(df.groupby(['site_id','day','month'])['wind_speed'].mean(),columns=['wind_speed'])\n",
    "    df.update(wind_speed,overwrite=False)\n",
    "\n",
    "    air_temperature = pd.DataFrame(df.groupby(['site_id','day','month'])['air_temperature'].mean(),columns=[\"air_temperature\"])\n",
    "    df.update(air_temperature,overwrite=False)\n",
    "    \n",
    "    due_temperature = pd.DataFrame(df.groupby(['site_id','day','month'])['dew_temperature'].mean(),columns=[\"dew_temperature\"])\n",
    "    df.update(due_temperature,overwrite=False)  \n",
    "\n",
    "    df = df.reset_index()\n",
    "    df = df.drop(['day','week','month'],axis=1)\n",
    "    "
   ]
  },
  {
   "cell_type": "code",
   "execution_count": 9,
   "metadata": {
    "execution": {
     "iopub.execute_input": "2020-08-09T10:34:39.070060Z",
     "iopub.status.busy": "2020-08-09T10:34:39.068850Z",
     "iopub.status.idle": "2020-08-09T10:34:41.956046Z",
     "shell.execute_reply": "2020-08-09T10:34:41.955412Z"
    },
    "papermill": {
     "duration": 2.92111,
     "end_time": "2020-08-09T10:34:41.956184",
     "exception": false,
     "start_time": "2020-08-09T10:34:39.035074",
     "status": "completed"
    },
    "tags": []
   },
   "outputs": [],
   "source": [
    "filling_missing_data(df_weather_train)#calling function to fill missing values"
   ]
  },
  {
   "cell_type": "code",
   "execution_count": 10,
   "metadata": {
    "execution": {
     "iopub.execute_input": "2020-08-09T10:34:42.002000Z",
     "iopub.status.busy": "2020-08-09T10:34:42.001190Z",
     "iopub.status.idle": "2020-08-09T10:34:42.004699Z",
     "shell.execute_reply": "2020-08-09T10:34:42.003942Z"
    },
    "papermill": {
     "duration": 0.030504,
     "end_time": "2020-08-09T10:34:42.004830",
     "exception": false,
     "start_time": "2020-08-09T10:34:41.974326",
     "status": "completed"
    },
    "tags": []
   },
   "outputs": [],
   "source": [
    "df_weather_train = df_weather_train.drop(['day','week','month'],axis=1) "
   ]
  },
  {
   "cell_type": "markdown",
   "metadata": {
    "papermill": {
     "duration": 0.017887,
     "end_time": "2020-08-09T10:34:42.040910",
     "exception": false,
     "start_time": "2020-08-09T10:34:42.023023",
     "status": "completed"
    },
    "tags": []
   },
   "source": [
    "# Adding features to weather data :"
   ]
  },
  {
   "cell_type": "code",
   "execution_count": 11,
   "metadata": {
    "execution": {
     "iopub.execute_input": "2020-08-09T10:34:42.093148Z",
     "iopub.status.busy": "2020-08-09T10:34:42.092373Z",
     "iopub.status.idle": "2020-08-09T10:34:43.536320Z",
     "shell.execute_reply": "2020-08-09T10:34:43.535571Z"
    },
    "papermill": {
     "duration": 1.4774,
     "end_time": "2020-08-09T10:34:43.536465",
     "exception": false,
     "start_time": "2020-08-09T10:34:42.059065",
     "status": "completed"
    },
    "tags": []
   },
   "outputs": [],
   "source": [
    "#https://www.kaggle.com/c/ashrae-energy-prediction/discussion/115256\n",
    "import holidays\n",
    "\n",
    "en_holidays = holidays.England()#holidays list of  England\n",
    "ir_holidays = holidays.Ireland()# holidays list of Ireland\n",
    "ca_holidays = holidays.Canada()#holidays list of Canada\n",
    "us_holidays = holidays.UnitedStates()# holidays list of US\n",
    "\n",
    "en_idx = df_weather_train.query('site_id == 1 or site_id == 5').index\n",
    "ir_idx = df_weather_train.query('site_id == 12').index\n",
    "ca_idx = df_weather_train.query('site_id == 7 or site_id == 11').index\n",
    "us_idx = df_weather_train.query('site_id == 0 or site_id == 2 or site_id == 3 or site_id == 4 or site_id == 6 or site_id == 8 or site_id == 9 or site_id == 10 or site_id == 13 or site_id == 14 or site_id == 15').index\n",
    "\n",
    "df_weather_train['IsHoliday'] = 0\n",
    "df_weather_train.loc[en_idx, 'IsHoliday'] = df_weather_train.loc[en_idx, 'timestamp'].apply(lambda x: en_holidays.get(x, default=0))\n",
    "df_weather_train.loc[ir_idx, 'IsHoliday'] = df_weather_train.loc[ir_idx, 'timestamp'].apply(lambda x: ir_holidays.get(x, default=0))\n",
    "df_weather_train.loc[ca_idx, 'IsHoliday'] = df_weather_train.loc[ca_idx, 'timestamp'].apply(lambda x: ca_holidays.get(x, default=0))\n",
    "df_weather_train.loc[us_idx, 'IsHoliday'] = df_weather_train.loc[us_idx, 'timestamp'].apply(lambda x: us_holidays.get(x, default=0))\n",
    "\n",
    "holiday_idx = df_weather_train['IsHoliday'] != 0\n",
    "df_weather_train.loc[holiday_idx, 'IsHoliday'] = 1\n",
    "df_weather_train['IsHoliday'] = df_weather_train['IsHoliday'].astype(np.uint8)"
   ]
  },
  {
   "cell_type": "code",
   "execution_count": 12,
   "metadata": {
    "execution": {
     "iopub.execute_input": "2020-08-09T10:34:43.579941Z",
     "iopub.status.busy": "2020-08-09T10:34:43.579108Z",
     "iopub.status.idle": "2020-08-09T10:34:43.583113Z",
     "shell.execute_reply": "2020-08-09T10:34:43.582501Z"
    },
    "papermill": {
     "duration": 0.028398,
     "end_time": "2020-08-09T10:34:43.583258",
     "exception": false,
     "start_time": "2020-08-09T10:34:43.554860",
     "status": "completed"
    },
    "tags": []
   },
   "outputs": [],
   "source": [
    "del en_idx,ir_idx,ca_idx,us_idx,holiday_idx"
   ]
  },
  {
   "cell_type": "code",
   "execution_count": 13,
   "metadata": {
    "execution": {
     "iopub.execute_input": "2020-08-09T10:34:43.634827Z",
     "iopub.status.busy": "2020-08-09T10:34:43.633688Z",
     "iopub.status.idle": "2020-08-09T10:34:43.637900Z",
     "shell.execute_reply": "2020-08-09T10:34:43.637236Z"
    },
    "papermill": {
     "duration": 0.035905,
     "end_time": "2020-08-09T10:34:43.638038",
     "exception": false,
     "start_time": "2020-08-09T10:34:43.602133",
     "status": "completed"
    },
    "tags": []
   },
   "outputs": [],
   "source": [
    "def add_lag_feature(df_weather, window=3):\n",
    "    group_df = df_weather.groupby('site_id')\n",
    "    cols = ['air_temperature', 'cloud_coverage', 'dew_temperature', 'precip_depth_1_hr']\n",
    "    rolled = group_df[cols].rolling(window=window, min_periods=0)\n",
    "    lag_mean = rolled.mean().reset_index().astype(np.float32)#getting mean in given window size\n",
    "    #lag_max = rolled.max().reset_index().astype(np.float32)# getting max in given window size \n",
    "    #lag_min = rolled.min().reset_index().astype(np.float32)# getting min in given window size\n",
    "    #lag_std = rolled.std().reset_index().astype(np.float32) #getting std in given window size\n",
    "    for col in cols:\n",
    "        df_weather[f'{col}_mean_lag{window}'] = lag_mean[col]\n",
    "        #df_weather[f'{col}_max_lag{window}'] = lag_max[col]\n",
    "        #df_weather[f'{col}_min_lag{window}'] = lag_min[col]\n",
    "        #df_weather[f'{col}_std_lag{window}'] = lag_std[col]\n",
    "    del group_df,cols,rolled,lag_mean    #,lag_max,lag_min,lag_std\n"
   ]
  },
  {
   "cell_type": "markdown",
   "metadata": {
    "papermill": {
     "duration": 0.018622,
     "end_time": "2020-08-09T10:34:43.675237",
     "exception": false,
     "start_time": "2020-08-09T10:34:43.656615",
     "status": "completed"
    },
    "tags": []
   },
   "source": [
    "## Offsetting timestamp :"
   ]
  },
  {
   "cell_type": "code",
   "execution_count": 14,
   "metadata": {
    "execution": {
     "iopub.execute_input": "2020-08-09T10:34:43.717773Z",
     "iopub.status.busy": "2020-08-09T10:34:43.716747Z",
     "iopub.status.idle": "2020-08-09T10:34:43.732906Z",
     "shell.execute_reply": "2020-08-09T10:34:43.733573Z"
    },
    "papermill": {
     "duration": 0.040273,
     "end_time": "2020-08-09T10:34:43.733753",
     "exception": false,
     "start_time": "2020-08-09T10:34:43.693480",
     "status": "completed"
    },
    "tags": []
   },
   "outputs": [
    {
     "data": {
      "image/jpeg": "[encoded data removed]",
      "text/plain": [
       "<IPython.core.display.Image object>"
      ]
     },
     "execution_count": 14,
     "metadata": {},
     "output_type": "execute_result"
    }
   ],
   "source": [
    "# offset in time zone in weather data\n",
    "#train data is given UTC timezone whereas weather train data given local timezone\n",
    "from IPython.display import Image\n",
    "Image('../input/image-location/one.JPG') "
   ]
  },
  {
   "cell_type": "code",
   "execution_count": 15,
   "metadata": {
    "execution": {
     "iopub.execute_input": "2020-08-09T10:34:43.783082Z",
     "iopub.status.busy": "2020-08-09T10:34:43.782131Z",
     "iopub.status.idle": "2020-08-09T10:34:43.785969Z",
     "shell.execute_reply": "2020-08-09T10:34:43.785329Z"
    },
    "papermill": {
     "duration": 0.032485,
     "end_time": "2020-08-09T10:34:43.786097",
     "exception": false,
     "start_time": "2020-08-09T10:34:43.753612",
     "status": "completed"
    },
    "tags": []
   },
   "outputs": [],
   "source": [
    "d1 = { 'offset' : [5,0,9,6,8,0,6,6,5,7,8,6,0,7,6,6]}# offsettig time\n",
    "ind = [i for i in range(16)]\n",
    "df1 = pd.DataFrame(d1,index = ind)\n",
    "df1.index.name = 'site_id'\n",
    "df2 = df1['offset']"
   ]
  },
  {
   "cell_type": "code",
   "execution_count": 16,
   "metadata": {
    "execution": {
     "iopub.execute_input": "2020-08-09T10:34:43.833694Z",
     "iopub.status.busy": "2020-08-09T10:34:43.832750Z",
     "iopub.status.idle": "2020-08-09T10:34:43.836015Z",
     "shell.execute_reply": "2020-08-09T10:34:43.835436Z"
    },
    "papermill": {
     "duration": 0.030273,
     "end_time": "2020-08-09T10:34:43.836151",
     "exception": false,
     "start_time": "2020-08-09T10:34:43.805878",
     "status": "completed"
    },
    "tags": []
   },
   "outputs": [],
   "source": [
    "def timestamp_align(df):\n",
    "    df['offset'] = df.site_id.map(df2)\n",
    "    df['timestamp_aligned'] = (df.timestamp - pd.to_timedelta(df.offset, unit='H'))#delaying according to timezone\n",
    "    df['timestamp'] = df['timestamp_aligned']\n",
    "    del df['timestamp_aligned']\n",
    "    return df"
   ]
  },
  {
   "cell_type": "code",
   "execution_count": 17,
   "metadata": {
    "execution": {
     "iopub.execute_input": "2020-08-09T10:34:43.881966Z",
     "iopub.status.busy": "2020-08-09T10:34:43.881143Z",
     "iopub.status.idle": "2020-08-09T10:34:43.894180Z",
     "shell.execute_reply": "2020-08-09T10:34:43.893372Z"
    },
    "papermill": {
     "duration": 0.038563,
     "end_time": "2020-08-09T10:34:43.894336",
     "exception": false,
     "start_time": "2020-08-09T10:34:43.855773",
     "status": "completed"
    },
    "tags": []
   },
   "outputs": [],
   "source": [
    "df_weather_train = timestamp_align(df_weather_train)"
   ]
  },
  {
   "cell_type": "code",
   "execution_count": 18,
   "metadata": {
    "execution": {
     "iopub.execute_input": "2020-08-09T10:34:43.941696Z",
     "iopub.status.busy": "2020-08-09T10:34:43.940483Z",
     "iopub.status.idle": "2020-08-09T10:34:55.675432Z",
     "shell.execute_reply": "2020-08-09T10:34:55.674253Z"
    },
    "papermill": {
     "duration": 11.761666,
     "end_time": "2020-08-09T10:34:55.675615",
     "exception": false,
     "start_time": "2020-08-09T10:34:43.913949",
     "status": "completed"
    },
    "tags": []
   },
   "outputs": [],
   "source": [
    "df_weather_train = df_weather_train.groupby('site_id').apply(lambda group: group.interpolate(limit_direction='both'))\n",
    "df_weather_train = df_weather_train.drop(['offset'],axis = 1)"
   ]
  },
  {
   "cell_type": "code",
   "execution_count": 19,
   "metadata": {
    "execution": {
     "iopub.execute_input": "2020-08-09T10:34:55.720795Z",
     "iopub.status.busy": "2020-08-09T10:34:55.719667Z",
     "iopub.status.idle": "2020-08-09T10:34:55.723171Z",
     "shell.execute_reply": "2020-08-09T10:34:55.722435Z"
    },
    "papermill": {
     "duration": 0.028056,
     "end_time": "2020-08-09T10:34:55.723324",
     "exception": false,
     "start_time": "2020-08-09T10:34:55.695268",
     "status": "completed"
    },
    "tags": []
   },
   "outputs": [],
   "source": [
    "#df_weather_train.to_feather('new_weather_train.feather')"
   ]
  },
  {
   "cell_type": "code",
   "execution_count": 20,
   "metadata": {
    "execution": {
     "iopub.execute_input": "2020-08-09T10:34:55.872878Z",
     "iopub.status.busy": "2020-08-09T10:34:55.871794Z",
     "iopub.status.idle": "2020-08-09T10:34:55.877053Z",
     "shell.execute_reply": "2020-08-09T10:34:55.876379Z"
    },
    "papermill": {
     "duration": 0.134105,
     "end_time": "2020-08-09T10:34:55.877182",
     "exception": false,
     "start_time": "2020-08-09T10:34:55.743077",
     "status": "completed"
    },
    "tags": []
   },
   "outputs": [
    {
     "data": {
      "text/plain": [
       "40"
      ]
     },
     "execution_count": 20,
     "metadata": {},
     "output_type": "execute_result"
    }
   ],
   "source": [
    "#add_lag_feature(df_weather_train, window=6)\n",
    "#add_lag_feature(df_weather_train, window=72)\n",
    "gc.collect()\n"
   ]
  },
  {
   "cell_type": "code",
   "execution_count": 21,
   "metadata": {
    "execution": {
     "iopub.execute_input": "2020-08-09T10:34:55.924178Z",
     "iopub.status.busy": "2020-08-09T10:34:55.923391Z",
     "iopub.status.idle": "2020-08-09T10:35:07.465232Z",
     "shell.execute_reply": "2020-08-09T10:35:07.464523Z"
    },
    "papermill": {
     "duration": 11.568099,
     "end_time": "2020-08-09T10:35:07.465449",
     "exception": false,
     "start_time": "2020-08-09T10:34:55.897350",
     "status": "completed"
    },
    "tags": []
   },
   "outputs": [],
   "source": [
    "df_weather_train = df_weather_train.groupby('site_id').apply(lambda group: group.interpolate(limit_direction='both'))"
   ]
  },
  {
   "cell_type": "code",
   "execution_count": 22,
   "metadata": {
    "execution": {
     "iopub.execute_input": "2020-08-09T10:35:07.511973Z",
     "iopub.status.busy": "2020-08-09T10:35:07.510918Z",
     "iopub.status.idle": "2020-08-09T10:35:07.514515Z",
     "shell.execute_reply": "2020-08-09T10:35:07.513911Z"
    },
    "papermill": {
     "duration": 0.028691,
     "end_time": "2020-08-09T10:35:07.514654",
     "exception": false,
     "start_time": "2020-08-09T10:35:07.485963",
     "status": "completed"
    },
    "tags": []
   },
   "outputs": [],
   "source": [
    "#df_weather_train.to_feather('add_weather_train.feather') #storing the file"
   ]
  },
  {
   "cell_type": "markdown",
   "metadata": {
    "papermill": {
     "duration": 0.020601,
     "end_time": "2020-08-09T10:35:07.555861",
     "exception": false,
     "start_time": "2020-08-09T10:35:07.535260",
     "status": "completed"
    },
    "tags": []
   },
   "source": [
    "# Removing Outliers of train data :"
   ]
  },
  {
   "cell_type": "code",
   "execution_count": 23,
   "metadata": {
    "execution": {
     "iopub.execute_input": "2020-08-09T10:35:07.603596Z",
     "iopub.status.busy": "2020-08-09T10:35:07.602731Z",
     "iopub.status.idle": "2020-08-09T10:35:10.313183Z",
     "shell.execute_reply": "2020-08-09T10:35:10.312532Z"
    },
    "papermill": {
     "duration": 2.736998,
     "end_time": "2020-08-09T10:35:10.313357",
     "exception": false,
     "start_time": "2020-08-09T10:35:07.576359",
     "status": "completed"
    },
    "tags": []
   },
   "outputs": [
    {
     "name": "stdout",
     "output_type": "stream",
     "text": [
      "number of unique bulilding id's : 1448\n"
     ]
    }
   ],
   "source": [
    "df_train = df_train[df_train[\"building_id\"] != 1099]#getting index of building id  1099\n",
    "print(\"number of unique bulilding id's :\",df_train['building_id'].nunique())\n",
    "\n",
    "df_train = df_train.query('not (building_id <= 104 & meter == 0 & timestamp <= \"2016-05-20\")')"
   ]
  },
  {
   "cell_type": "code",
   "execution_count": 24,
   "metadata": {
    "execution": {
     "iopub.execute_input": "2020-08-09T10:35:10.361844Z",
     "iopub.status.busy": "2020-08-09T10:35:10.360763Z",
     "iopub.status.idle": "2020-08-09T10:35:10.364509Z",
     "shell.execute_reply": "2020-08-09T10:35:10.363744Z"
    },
    "papermill": {
     "duration": 0.030561,
     "end_time": "2020-08-09T10:35:10.364639",
     "exception": false,
     "start_time": "2020-08-09T10:35:10.334078",
     "status": "completed"
    },
    "tags": []
   },
   "outputs": [],
   "source": [
    "def preprocess(df):\n",
    "    #df[\"hour\"] = df[\"timestamp\"].dt.hour #converting timestamp to hour\n",
    "    df[\"weekend\"] = df[\"timestamp\"].dt.weekday\n",
    "    #df[\"month\"] = df[\"timestamp\"].dt.month\n",
    "    #df[\"dayofweek\"] = df[\"timestamp\"].dt.dayofweek\n",
    "   "
   ]
  },
  {
   "cell_type": "code",
   "execution_count": 25,
   "metadata": {
    "execution": {
     "iopub.execute_input": "2020-08-09T10:35:10.411093Z",
     "iopub.status.busy": "2020-08-09T10:35:10.410349Z",
     "iopub.status.idle": "2020-08-09T10:35:12.876531Z",
     "shell.execute_reply": "2020-08-09T10:35:12.875872Z"
    },
    "papermill": {
     "duration": 2.491791,
     "end_time": "2020-08-09T10:35:12.876671",
     "exception": false,
     "start_time": "2020-08-09T10:35:10.384880",
     "status": "completed"
    },
    "tags": []
   },
   "outputs": [],
   "source": [
    "df_train['meter_reading_log1p'] = np.log1p(df_train['meter_reading'])   #convert meter reading to log value for rmse\n",
    "preprocess(df_train)"
   ]
  },
  {
   "cell_type": "code",
   "execution_count": 26,
   "metadata": {
    "execution": {
     "iopub.execute_input": "2020-08-09T10:35:12.927303Z",
     "iopub.status.busy": "2020-08-09T10:35:12.925662Z",
     "iopub.status.idle": "2020-08-09T10:35:13.978498Z",
     "shell.execute_reply": "2020-08-09T10:35:13.977718Z"
    },
    "papermill": {
     "duration": 1.081153,
     "end_time": "2020-08-09T10:35:13.978631",
     "exception": false,
     "start_time": "2020-08-09T10:35:12.897478",
     "status": "completed"
    },
    "tags": []
   },
   "outputs": [],
   "source": [
    "df_group = df_train.groupby('building_id')['meter_reading_log1p']\n",
    "building_mean = df_group.mean().astype(np.float32)\n",
    "df_train['building_mean'] = df_train['building_id'].map(building_mean)\n",
    "del df_group"
   ]
  },
  {
   "cell_type": "code",
   "execution_count": 27,
   "metadata": {
    "execution": {
     "iopub.execute_input": "2020-08-09T10:35:14.029524Z",
     "iopub.status.busy": "2020-08-09T10:35:14.027879Z",
     "iopub.status.idle": "2020-08-09T10:35:14.219150Z",
     "shell.execute_reply": "2020-08-09T10:35:14.218496Z"
    },
    "papermill": {
     "duration": 0.220319,
     "end_time": "2020-08-09T10:35:14.219316",
     "exception": false,
     "start_time": "2020-08-09T10:35:13.998997",
     "status": "completed"
    },
    "tags": []
   },
   "outputs": [
    {
     "name": "stdout",
     "output_type": "stream",
     "text": [
      "<class 'pandas.core.frame.DataFrame'>\n",
      "Int64Index: 19852320 entries, 103 to 20216099\n",
      "Data columns (total 7 columns):\n",
      " #   Column               Dtype         \n",
      "---  ------               -----         \n",
      " 0   building_id          int16         \n",
      " 1   meter                int8          \n",
      " 2   timestamp            datetime64[ns]\n",
      " 3   meter_reading        float32       \n",
      " 4   meter_reading_log1p  float32       \n",
      " 5   weekend              int64         \n",
      " 6   building_mean        float32       \n",
      "dtypes: datetime64[ns](1), float32(3), int16(1), int64(1), int8(1)\n",
      "memory usage: 738.4 MB\n"
     ]
    }
   ],
   "source": [
    "df_train.info()"
   ]
  },
  {
   "cell_type": "code",
   "execution_count": 28,
   "metadata": {
    "execution": {
     "iopub.execute_input": "2020-08-09T10:35:14.270589Z",
     "iopub.status.busy": "2020-08-09T10:35:14.269779Z",
     "iopub.status.idle": "2020-08-09T10:35:14.285964Z",
     "shell.execute_reply": "2020-08-09T10:35:14.285119Z"
    },
    "papermill": {
     "duration": 0.045668,
     "end_time": "2020-08-09T10:35:14.286108",
     "exception": false,
     "start_time": "2020-08-09T10:35:14.240440",
     "status": "completed"
    },
    "tags": []
   },
   "outputs": [
    {
     "name": "stdout",
     "output_type": "stream",
     "text": [
      "<class 'pandas.core.frame.DataFrame'>\n",
      "RangeIndex: 139773 entries, 0 to 139772\n",
      "Data columns (total 10 columns):\n",
      " #   Column              Non-Null Count   Dtype         \n",
      "---  ------              --------------   -----         \n",
      " 0   site_id             139773 non-null  int8          \n",
      " 1   timestamp           139773 non-null  datetime64[ns]\n",
      " 2   air_temperature     139773 non-null  float32       \n",
      " 3   cloud_coverage      122545 non-null  float32       \n",
      " 4   dew_temperature     139773 non-null  float32       \n",
      " 5   precip_depth_1_hr   113500 non-null  float32       \n",
      " 6   sea_level_pressure  131018 non-null  float32       \n",
      " 7   wind_direction      139773 non-null  float32       \n",
      " 8   wind_speed          139773 non-null  float32       \n",
      " 9   IsHoliday           139773 non-null  uint8         \n",
      "dtypes: datetime64[ns](1), float32(7), int8(1), uint8(1)\n",
      "memory usage: 5.1 MB\n"
     ]
    }
   ],
   "source": [
    "df_weather_train.info()"
   ]
  },
  {
   "cell_type": "code",
   "execution_count": 29,
   "metadata": {
    "execution": {
     "iopub.execute_input": "2020-08-09T10:35:14.386884Z",
     "iopub.status.busy": "2020-08-09T10:35:14.386058Z",
     "iopub.status.idle": "2020-08-09T10:35:15.552301Z",
     "shell.execute_reply": "2020-08-09T10:35:15.551592Z"
    },
    "papermill": {
     "duration": 1.191681,
     "end_time": "2020-08-09T10:35:15.552452",
     "exception": false,
     "start_time": "2020-08-09T10:35:14.360771",
     "status": "completed"
    },
    "tags": []
   },
   "outputs": [
    {
     "name": "stdout",
     "output_type": "stream",
     "text": [
      "Memory usage of dataframe is 738.37 MB\n",
      "Memory usage after optimization is: 530.11 MB\n",
      "Decreased by 28.2%\n"
     ]
    },
    {
     "data": {
      "text/html": [
       "<div>\n",
       "<style scoped>\n",
       "    .dataframe tbody tr th:only-of-type {\n",
       "        vertical-align: middle;\n",
       "    }\n",
       "\n",
       "    .dataframe tbody tr th {\n",
       "        vertical-align: top;\n",
       "    }\n",
       "\n",
       "    .dataframe thead th {\n",
       "        text-align: right;\n",
       "    }\n",
       "</style>\n",
       "<table border=\"1\" class=\"dataframe\">\n",
       "  <thead>\n",
       "    <tr style=\"text-align: right;\">\n",
       "      <th></th>\n",
       "      <th>index</th>\n",
       "      <th>building_id</th>\n",
       "      <th>meter</th>\n",
       "      <th>timestamp</th>\n",
       "      <th>meter_reading</th>\n",
       "      <th>meter_reading_log1p</th>\n",
       "      <th>weekend</th>\n",
       "      <th>building_mean</th>\n",
       "    </tr>\n",
       "  </thead>\n",
       "  <tbody>\n",
       "    <tr>\n",
       "      <th>0</th>\n",
       "      <td>103</td>\n",
       "      <td>105</td>\n",
       "      <td>0</td>\n",
       "      <td>2016-01-01 00:00:00</td>\n",
       "      <td>23.303600</td>\n",
       "      <td>3.190624</td>\n",
       "      <td>4</td>\n",
       "      <td>4.317676</td>\n",
       "    </tr>\n",
       "    <tr>\n",
       "      <th>1</th>\n",
       "      <td>104</td>\n",
       "      <td>106</td>\n",
       "      <td>0</td>\n",
       "      <td>2016-01-01 00:00:00</td>\n",
       "      <td>0.374600</td>\n",
       "      <td>0.318163</td>\n",
       "      <td>4</td>\n",
       "      <td>0.887571</td>\n",
       "    </tr>\n",
       "    <tr>\n",
       "      <th>2</th>\n",
       "      <td>105</td>\n",
       "      <td>106</td>\n",
       "      <td>3</td>\n",
       "      <td>2016-01-01 00:00:00</td>\n",
       "      <td>0.000000</td>\n",
       "      <td>0.000000</td>\n",
       "      <td>4</td>\n",
       "      <td>0.887571</td>\n",
       "    </tr>\n",
       "    <tr>\n",
       "      <th>3</th>\n",
       "      <td>106</td>\n",
       "      <td>107</td>\n",
       "      <td>0</td>\n",
       "      <td>2016-01-01 00:00:00</td>\n",
       "      <td>175.184006</td>\n",
       "      <td>5.171529</td>\n",
       "      <td>4</td>\n",
       "      <td>4.572077</td>\n",
       "    </tr>\n",
       "    <tr>\n",
       "      <th>4</th>\n",
       "      <td>107</td>\n",
       "      <td>108</td>\n",
       "      <td>0</td>\n",
       "      <td>2016-01-01 00:00:00</td>\n",
       "      <td>91.265297</td>\n",
       "      <td>4.524668</td>\n",
       "      <td>4</td>\n",
       "      <td>5.458557</td>\n",
       "    </tr>\n",
       "    <tr>\n",
       "      <th>...</th>\n",
       "      <td>...</td>\n",
       "      <td>...</td>\n",
       "      <td>...</td>\n",
       "      <td>...</td>\n",
       "      <td>...</td>\n",
       "      <td>...</td>\n",
       "      <td>...</td>\n",
       "      <td>...</td>\n",
       "    </tr>\n",
       "    <tr>\n",
       "      <th>19852315</th>\n",
       "      <td>20216095</td>\n",
       "      <td>1444</td>\n",
       "      <td>0</td>\n",
       "      <td>2016-12-31 23:00:00</td>\n",
       "      <td>8.750000</td>\n",
       "      <td>2.277267</td>\n",
       "      <td>5</td>\n",
       "      <td>2.027276</td>\n",
       "    </tr>\n",
       "    <tr>\n",
       "      <th>19852316</th>\n",
       "      <td>20216096</td>\n",
       "      <td>1445</td>\n",
       "      <td>0</td>\n",
       "      <td>2016-12-31 23:00:00</td>\n",
       "      <td>4.825000</td>\n",
       "      <td>1.762159</td>\n",
       "      <td>5</td>\n",
       "      <td>1.719585</td>\n",
       "    </tr>\n",
       "    <tr>\n",
       "      <th>19852317</th>\n",
       "      <td>20216097</td>\n",
       "      <td>1446</td>\n",
       "      <td>0</td>\n",
       "      <td>2016-12-31 23:00:00</td>\n",
       "      <td>0.000000</td>\n",
       "      <td>0.000000</td>\n",
       "      <td>5</td>\n",
       "      <td>0.961074</td>\n",
       "    </tr>\n",
       "    <tr>\n",
       "      <th>19852318</th>\n",
       "      <td>20216098</td>\n",
       "      <td>1447</td>\n",
       "      <td>0</td>\n",
       "      <td>2016-12-31 23:00:00</td>\n",
       "      <td>159.574997</td>\n",
       "      <td>5.078761</td>\n",
       "      <td>5</td>\n",
       "      <td>5.228821</td>\n",
       "    </tr>\n",
       "    <tr>\n",
       "      <th>19852319</th>\n",
       "      <td>20216099</td>\n",
       "      <td>1448</td>\n",
       "      <td>0</td>\n",
       "      <td>2016-12-31 23:00:00</td>\n",
       "      <td>2.850000</td>\n",
       "      <td>1.348073</td>\n",
       "      <td>5</td>\n",
       "      <td>1.447373</td>\n",
       "    </tr>\n",
       "  </tbody>\n",
       "</table>\n",
       "<p>19852320 rows × 8 columns</p>\n",
       "</div>"
      ],
      "text/plain": [
       "             index  building_id  meter           timestamp  meter_reading  \\\n",
       "0              103          105      0 2016-01-01 00:00:00      23.303600   \n",
       "1              104          106      0 2016-01-01 00:00:00       0.374600   \n",
       "2              105          106      3 2016-01-01 00:00:00       0.000000   \n",
       "3              106          107      0 2016-01-01 00:00:00     175.184006   \n",
       "4              107          108      0 2016-01-01 00:00:00      91.265297   \n",
       "...            ...          ...    ...                 ...            ...   \n",
       "19852315  20216095         1444      0 2016-12-31 23:00:00       8.750000   \n",
       "19852316  20216096         1445      0 2016-12-31 23:00:00       4.825000   \n",
       "19852317  20216097         1446      0 2016-12-31 23:00:00       0.000000   \n",
       "19852318  20216098         1447      0 2016-12-31 23:00:00     159.574997   \n",
       "19852319  20216099         1448      0 2016-12-31 23:00:00       2.850000   \n",
       "\n",
       "          meter_reading_log1p  weekend  building_mean  \n",
       "0                    3.190624        4       4.317676  \n",
       "1                    0.318163        4       0.887571  \n",
       "2                    0.000000        4       0.887571  \n",
       "3                    5.171529        4       4.572077  \n",
       "4                    4.524668        4       5.458557  \n",
       "...                       ...      ...            ...  \n",
       "19852315             2.277267        5       2.027276  \n",
       "19852316             1.762159        5       1.719585  \n",
       "19852317             0.000000        5       0.961074  \n",
       "19852318             5.078761        5       5.228821  \n",
       "19852319             1.348073        5       1.447373  \n",
       "\n",
       "[19852320 rows x 8 columns]"
      ]
     },
     "execution_count": 29,
     "metadata": {},
     "output_type": "execute_result"
    }
   ],
   "source": [
    "df_train = df_train.reset_index()\n",
    "reduce_mem_usage(df_train)"
   ]
  },
  {
   "cell_type": "code",
   "execution_count": 30,
   "metadata": {
    "execution": {
     "iopub.execute_input": "2020-08-09T10:35:15.600950Z",
     "iopub.status.busy": "2020-08-09T10:35:15.599918Z",
     "iopub.status.idle": "2020-08-09T10:35:15.603305Z",
     "shell.execute_reply": "2020-08-09T10:35:15.602560Z"
    },
    "papermill": {
     "duration": 0.02944,
     "end_time": "2020-08-09T10:35:15.603441",
     "exception": false,
     "start_time": "2020-08-09T10:35:15.574001",
     "status": "completed"
    },
    "tags": []
   },
   "outputs": [],
   "source": [
    "#df_train.to_feather('new_train.feather') #storing the file"
   ]
  },
  {
   "cell_type": "code",
   "execution_count": 31,
   "metadata": {
    "execution": {
     "iopub.execute_input": "2020-08-09T10:35:15.652261Z",
     "iopub.status.busy": "2020-08-09T10:35:15.651119Z",
     "iopub.status.idle": "2020-08-09T10:35:15.654151Z",
     "shell.execute_reply": "2020-08-09T10:35:15.654697Z"
    },
    "papermill": {
     "duration": 0.029794,
     "end_time": "2020-08-09T10:35:15.654867",
     "exception": false,
     "start_time": "2020-08-09T10:35:15.625073",
     "status": "completed"
    },
    "tags": []
   },
   "outputs": [],
   "source": [
    "#del df_train"
   ]
  },
  {
   "cell_type": "markdown",
   "metadata": {
    "papermill": {
     "duration": 0.02219,
     "end_time": "2020-08-09T10:35:15.698695",
     "exception": false,
     "start_time": "2020-08-09T10:35:15.676505",
     "status": "completed"
    },
    "tags": []
   },
   "source": [
    "# Test data :"
   ]
  },
  {
   "cell_type": "code",
   "execution_count": 32,
   "metadata": {
    "execution": {
     "iopub.execute_input": "2020-08-09T10:35:15.748026Z",
     "iopub.status.busy": "2020-08-09T10:35:15.746884Z",
     "iopub.status.idle": "2020-08-09T10:35:15.773517Z",
     "shell.execute_reply": "2020-08-09T10:35:15.772630Z"
    },
    "papermill": {
     "duration": 0.053185,
     "end_time": "2020-08-09T10:35:15.773671",
     "exception": false,
     "start_time": "2020-08-09T10:35:15.720486",
     "status": "completed"
    },
    "tags": []
   },
   "outputs": [],
   "source": [
    "df_weather_test = pd.read_feather('../input/ashrae-feather-format-for-fast-loading/weather_test.feather')"
   ]
  },
  {
   "cell_type": "markdown",
   "metadata": {
    "papermill": {
     "duration": 0.021579,
     "end_time": "2020-08-09T10:35:15.817190",
     "exception": false,
     "start_time": "2020-08-09T10:35:15.795611",
     "status": "completed"
    },
    "tags": []
   },
   "source": [
    "## Weather test data :"
   ]
  },
  {
   "cell_type": "code",
   "execution_count": 33,
   "metadata": {
    "execution": {
     "iopub.execute_input": "2020-08-09T10:35:15.869883Z",
     "iopub.status.busy": "2020-08-09T10:35:15.869015Z",
     "iopub.status.idle": "2020-08-09T10:35:21.138320Z",
     "shell.execute_reply": "2020-08-09T10:35:21.137584Z"
    },
    "papermill": {
     "duration": 5.299586,
     "end_time": "2020-08-09T10:35:21.138459",
     "exception": false,
     "start_time": "2020-08-09T10:35:15.838873",
     "status": "completed"
    },
    "tags": []
   },
   "outputs": [],
   "source": [
    "filling_missing_data(df_weather_test)#calling function to fill missing values"
   ]
  },
  {
   "cell_type": "code",
   "execution_count": 34,
   "metadata": {
    "execution": {
     "iopub.execute_input": "2020-08-09T10:35:21.195473Z",
     "iopub.status.busy": "2020-08-09T10:35:21.194463Z",
     "iopub.status.idle": "2020-08-09T10:35:21.197718Z",
     "shell.execute_reply": "2020-08-09T10:35:21.196968Z"
    },
    "papermill": {
     "duration": 0.036806,
     "end_time": "2020-08-09T10:35:21.197849",
     "exception": false,
     "start_time": "2020-08-09T10:35:21.161043",
     "status": "completed"
    },
    "tags": []
   },
   "outputs": [],
   "source": [
    "df_weather_test = df_weather_test.drop(['day','week','month'],axis=1) "
   ]
  },
  {
   "cell_type": "markdown",
   "metadata": {
    "papermill": {
     "duration": 0.021352,
     "end_time": "2020-08-09T10:35:21.240956",
     "exception": false,
     "start_time": "2020-08-09T10:35:21.219604",
     "status": "completed"
    },
    "tags": []
   },
   "source": [
    "# Adding IsHoliday feature :"
   ]
  },
  {
   "cell_type": "code",
   "execution_count": 35,
   "metadata": {
    "execution": {
     "iopub.execute_input": "2020-08-09T10:35:21.300517Z",
     "iopub.status.busy": "2020-08-09T10:35:21.299232Z",
     "iopub.status.idle": "2020-08-09T10:35:23.662081Z",
     "shell.execute_reply": "2020-08-09T10:35:23.661442Z"
    },
    "papermill": {
     "duration": 2.39891,
     "end_time": "2020-08-09T10:35:23.662223",
     "exception": false,
     "start_time": "2020-08-09T10:35:21.263313",
     "status": "completed"
    },
    "tags": []
   },
   "outputs": [],
   "source": [
    "en_idx = df_weather_test.query('site_id == 1 or site_id == 5').index\n",
    "ir_idx = df_weather_test.query('site_id == 12').index\n",
    "ca_idx = df_weather_test.query('site_id == 7 or site_id == 11').index\n",
    "us_idx = df_weather_test.query('site_id == 0 or site_id == 2 or site_id == 3 or site_id == 4 or site_id == 6 or site_id == 8 or site_id == 9 or site_id == 10 or site_id == 13 or site_id == 14 or site_id == 15').index\n",
    "\n",
    "df_weather_test['IsHoliday'] = 0\n",
    "df_weather_test.loc[en_idx, 'IsHoliday'] = df_weather_test.loc[en_idx, 'timestamp'].apply(lambda x: en_holidays.get(x, default=0))\n",
    "df_weather_test.loc[ir_idx, 'IsHoliday'] = df_weather_test.loc[ir_idx, 'timestamp'].apply(lambda x: ir_holidays.get(x, default=0))\n",
    "df_weather_test.loc[ca_idx, 'IsHoliday'] = df_weather_test.loc[ca_idx, 'timestamp'].apply(lambda x: ca_holidays.get(x, default=0))\n",
    "df_weather_test.loc[us_idx, 'IsHoliday'] = df_weather_test.loc[us_idx, 'timestamp'].apply(lambda x: us_holidays.get(x, default=0))\n",
    "\n",
    "holiday_idx = df_weather_test['IsHoliday'] != 0\n",
    "df_weather_test.loc[holiday_idx, 'IsHoliday'] = 1\n",
    "df_weather_test['IsHoliday'] = df_weather_test['IsHoliday'].astype(np.uint8)"
   ]
  },
  {
   "cell_type": "code",
   "execution_count": 36,
   "metadata": {
    "execution": {
     "iopub.execute_input": "2020-08-09T10:35:23.713904Z",
     "iopub.status.busy": "2020-08-09T10:35:23.712922Z",
     "iopub.status.idle": "2020-08-09T10:35:23.716602Z",
     "shell.execute_reply": "2020-08-09T10:35:23.715815Z"
    },
    "papermill": {
     "duration": 0.031955,
     "end_time": "2020-08-09T10:35:23.716736",
     "exception": false,
     "start_time": "2020-08-09T10:35:23.684781",
     "status": "completed"
    },
    "tags": []
   },
   "outputs": [],
   "source": [
    "del en_idx,ir_idx,ca_idx,us_idx,holiday_idx"
   ]
  },
  {
   "cell_type": "code",
   "execution_count": 37,
   "metadata": {
    "execution": {
     "iopub.execute_input": "2020-08-09T10:35:23.770189Z",
     "iopub.status.busy": "2020-08-09T10:35:23.769007Z",
     "iopub.status.idle": "2020-08-09T10:35:23.787711Z",
     "shell.execute_reply": "2020-08-09T10:35:23.786890Z"
    },
    "papermill": {
     "duration": 0.047757,
     "end_time": "2020-08-09T10:35:23.787856",
     "exception": false,
     "start_time": "2020-08-09T10:35:23.740099",
     "status": "completed"
    },
    "tags": []
   },
   "outputs": [],
   "source": [
    "df_weather_test = timestamp_align(df_weather_test)"
   ]
  },
  {
   "cell_type": "code",
   "execution_count": 38,
   "metadata": {
    "execution": {
     "iopub.execute_input": "2020-08-09T10:35:23.840068Z",
     "iopub.status.busy": "2020-08-09T10:35:23.838920Z",
     "iopub.status.idle": "2020-08-09T10:35:47.083440Z",
     "shell.execute_reply": "2020-08-09T10:35:47.082663Z"
    },
    "papermill": {
     "duration": 23.273483,
     "end_time": "2020-08-09T10:35:47.083583",
     "exception": false,
     "start_time": "2020-08-09T10:35:23.810100",
     "status": "completed"
    },
    "tags": []
   },
   "outputs": [],
   "source": [
    "df_weather_test = df_weather_test.groupby('site_id').apply(lambda group: group.interpolate(limit_direction='both'))\n",
    "df_weather_test = df_weather_test.drop(['offset'],axis = 1)"
   ]
  },
  {
   "cell_type": "code",
   "execution_count": 39,
   "metadata": {
    "execution": {
     "iopub.execute_input": "2020-08-09T10:35:47.133920Z",
     "iopub.status.busy": "2020-08-09T10:35:47.132812Z",
     "iopub.status.idle": "2020-08-09T10:35:47.136607Z",
     "shell.execute_reply": "2020-08-09T10:35:47.135962Z"
    },
    "papermill": {
     "duration": 0.030809,
     "end_time": "2020-08-09T10:35:47.136752",
     "exception": false,
     "start_time": "2020-08-09T10:35:47.105943",
     "status": "completed"
    },
    "tags": []
   },
   "outputs": [],
   "source": [
    "#df_weather_test.to_feather('new_weather_test.feather')"
   ]
  },
  {
   "cell_type": "code",
   "execution_count": 40,
   "metadata": {
    "execution": {
     "iopub.execute_input": "2020-08-09T10:35:47.187330Z",
     "iopub.status.busy": "2020-08-09T10:35:47.186526Z",
     "iopub.status.idle": "2020-08-09T10:35:47.204053Z",
     "shell.execute_reply": "2020-08-09T10:35:47.203184Z"
    },
    "papermill": {
     "duration": 0.044984,
     "end_time": "2020-08-09T10:35:47.204189",
     "exception": false,
     "start_time": "2020-08-09T10:35:47.159205",
     "status": "completed"
    },
    "tags": []
   },
   "outputs": [
    {
     "name": "stdout",
     "output_type": "stream",
     "text": [
      "<class 'pandas.core.frame.DataFrame'>\n",
      "RangeIndex: 277243 entries, 0 to 277242\n",
      "Data columns (total 10 columns):\n",
      " #   Column              Non-Null Count   Dtype         \n",
      "---  ------              --------------   -----         \n",
      " 0   site_id             277243 non-null  int8          \n",
      " 1   timestamp           277243 non-null  datetime64[ns]\n",
      " 2   air_temperature     277243 non-null  float32       \n",
      " 3   cloud_coverage      244097 non-null  float32       \n",
      " 4   dew_temperature     277243 non-null  float32       \n",
      " 5   precip_depth_1_hr   225436 non-null  float32       \n",
      " 6   sea_level_pressure  260002 non-null  float32       \n",
      " 7   wind_direction      277243 non-null  float32       \n",
      " 8   wind_speed          277243 non-null  float32       \n",
      " 9   IsHoliday           277243 non-null  uint8         \n",
      "dtypes: datetime64[ns](1), float32(7), int8(1), uint8(1)\n",
      "memory usage: 10.0 MB\n"
     ]
    }
   ],
   "source": [
    "df_weather_test.info()"
   ]
  },
  {
   "cell_type": "code",
   "execution_count": 41,
   "metadata": {
    "execution": {
     "iopub.execute_input": "2020-08-09T10:35:47.361087Z",
     "iopub.status.busy": "2020-08-09T10:35:47.360164Z",
     "iopub.status.idle": "2020-08-09T10:35:47.365154Z",
     "shell.execute_reply": "2020-08-09T10:35:47.364499Z"
    },
    "papermill": {
     "duration": 0.138702,
     "end_time": "2020-08-09T10:35:47.365314",
     "exception": false,
     "start_time": "2020-08-09T10:35:47.226612",
     "status": "completed"
    },
    "tags": []
   },
   "outputs": [
    {
     "data": {
      "text/plain": [
       "60"
      ]
     },
     "execution_count": 41,
     "metadata": {},
     "output_type": "execute_result"
    }
   ],
   "source": [
    "#add_lag_feature(df_weather_test, window=6)\n",
    "#add_lag_feature(df_weather_test, window=72)\n",
    "gc.collect()\n"
   ]
  },
  {
   "cell_type": "code",
   "execution_count": 42,
   "metadata": {
    "execution": {
     "iopub.execute_input": "2020-08-09T10:35:47.417107Z",
     "iopub.status.busy": "2020-08-09T10:35:47.416010Z",
     "iopub.status.idle": "2020-08-09T10:36:10.338571Z",
     "shell.execute_reply": "2020-08-09T10:36:10.337841Z"
    },
    "papermill": {
     "duration": 22.95107,
     "end_time": "2020-08-09T10:36:10.338717",
     "exception": false,
     "start_time": "2020-08-09T10:35:47.387647",
     "status": "completed"
    },
    "tags": []
   },
   "outputs": [],
   "source": [
    "df_weather_test = df_weather_test.groupby('site_id').apply(lambda group: group.interpolate(limit_direction='both'))"
   ]
  },
  {
   "cell_type": "code",
   "execution_count": 43,
   "metadata": {
    "execution": {
     "iopub.execute_input": "2020-08-09T10:36:10.389308Z",
     "iopub.status.busy": "2020-08-09T10:36:10.388507Z",
     "iopub.status.idle": "2020-08-09T10:36:10.392715Z",
     "shell.execute_reply": "2020-08-09T10:36:10.392068Z"
    },
    "papermill": {
     "duration": 0.031196,
     "end_time": "2020-08-09T10:36:10.392863",
     "exception": false,
     "start_time": "2020-08-09T10:36:10.361667",
     "status": "completed"
    },
    "tags": []
   },
   "outputs": [],
   "source": [
    "#df_weather_test.to_feather('add_weather_test.feather')"
   ]
  },
  {
   "cell_type": "code",
   "execution_count": 44,
   "metadata": {
    "execution": {
     "iopub.execute_input": "2020-08-09T10:36:10.444600Z",
     "iopub.status.busy": "2020-08-09T10:36:10.443781Z",
     "iopub.status.idle": "2020-08-09T10:36:10.461898Z",
     "shell.execute_reply": "2020-08-09T10:36:10.461002Z"
    },
    "papermill": {
     "duration": 0.046193,
     "end_time": "2020-08-09T10:36:10.462079",
     "exception": false,
     "start_time": "2020-08-09T10:36:10.415886",
     "status": "completed"
    },
    "tags": []
   },
   "outputs": [
    {
     "name": "stdout",
     "output_type": "stream",
     "text": [
      "<class 'pandas.core.frame.DataFrame'>\n",
      "RangeIndex: 277243 entries, 0 to 277242\n",
      "Data columns (total 10 columns):\n",
      " #   Column              Non-Null Count   Dtype         \n",
      "---  ------              --------------   -----         \n",
      " 0   site_id             277243 non-null  int8          \n",
      " 1   timestamp           277243 non-null  datetime64[ns]\n",
      " 2   air_temperature     277243 non-null  float32       \n",
      " 3   cloud_coverage      244097 non-null  float32       \n",
      " 4   dew_temperature     277243 non-null  float32       \n",
      " 5   precip_depth_1_hr   225436 non-null  float32       \n",
      " 6   sea_level_pressure  260002 non-null  float32       \n",
      " 7   wind_direction      277243 non-null  float32       \n",
      " 8   wind_speed          277243 non-null  float32       \n",
      " 9   IsHoliday           277243 non-null  uint8         \n",
      "dtypes: datetime64[ns](1), float32(7), int8(1), uint8(1)\n",
      "memory usage: 10.0 MB\n"
     ]
    }
   ],
   "source": [
    "df_weather_test.info()"
   ]
  },
  {
   "cell_type": "markdown",
   "metadata": {
    "papermill": {
     "duration": 0.022285,
     "end_time": "2020-08-09T10:36:10.507551",
     "exception": false,
     "start_time": "2020-08-09T10:36:10.485266",
     "status": "completed"
    },
    "tags": []
   },
   "source": [
    "## test data :"
   ]
  },
  {
   "cell_type": "code",
   "execution_count": 45,
   "metadata": {
    "execution": {
     "iopub.execute_input": "2020-08-09T10:36:10.559377Z",
     "iopub.status.busy": "2020-08-09T10:36:10.558543Z",
     "iopub.status.idle": "2020-08-09T10:36:11.660968Z",
     "shell.execute_reply": "2020-08-09T10:36:11.660216Z"
    },
    "papermill": {
     "duration": 1.130546,
     "end_time": "2020-08-09T10:36:11.661102",
     "exception": false,
     "start_time": "2020-08-09T10:36:10.530556",
     "status": "completed"
    },
    "tags": []
   },
   "outputs": [],
   "source": [
    "df_test = pd.read_feather('../input/ashrae-feather-format-for-fast-loading/test.feather')"
   ]
  },
  {
   "cell_type": "code",
   "execution_count": 46,
   "metadata": {
    "execution": {
     "iopub.execute_input": "2020-08-09T10:36:11.714574Z",
     "iopub.status.busy": "2020-08-09T10:36:11.713786Z",
     "iopub.status.idle": "2020-08-09T10:36:16.575569Z",
     "shell.execute_reply": "2020-08-09T10:36:16.574797Z"
    },
    "papermill": {
     "duration": 4.891103,
     "end_time": "2020-08-09T10:36:16.575709",
     "exception": false,
     "start_time": "2020-08-09T10:36:11.684606",
     "status": "completed"
    },
    "tags": []
   },
   "outputs": [],
   "source": [
    "preprocess(df_test)\n",
    "df_test['building_mean'] = df_test['building_id'].map(building_mean)"
   ]
  },
  {
   "cell_type": "code",
   "execution_count": 47,
   "metadata": {
    "execution": {
     "iopub.execute_input": "2020-08-09T10:36:16.630808Z",
     "iopub.status.busy": "2020-08-09T10:36:16.629555Z",
     "iopub.status.idle": "2020-08-09T10:36:17.587907Z",
     "shell.execute_reply": "2020-08-09T10:36:17.588710Z"
    },
    "papermill": {
     "duration": 0.990262,
     "end_time": "2020-08-09T10:36:17.588903",
     "exception": false,
     "start_time": "2020-08-09T10:36:16.598641",
     "status": "completed"
    },
    "tags": []
   },
   "outputs": [
    {
     "name": "stdout",
     "output_type": "stream",
     "text": [
      "Memory usage of dataframe is 1073.68 MB\n",
      "Memory usage after optimization is: 795.32 MB\n",
      "Decreased by 25.9%\n"
     ]
    },
    {
     "data": {
      "text/html": [
       "<div>\n",
       "<style scoped>\n",
       "    .dataframe tbody tr th:only-of-type {\n",
       "        vertical-align: middle;\n",
       "    }\n",
       "\n",
       "    .dataframe tbody tr th {\n",
       "        vertical-align: top;\n",
       "    }\n",
       "\n",
       "    .dataframe thead th {\n",
       "        text-align: right;\n",
       "    }\n",
       "</style>\n",
       "<table border=\"1\" class=\"dataframe\">\n",
       "  <thead>\n",
       "    <tr style=\"text-align: right;\">\n",
       "      <th></th>\n",
       "      <th>row_id</th>\n",
       "      <th>building_id</th>\n",
       "      <th>meter</th>\n",
       "      <th>timestamp</th>\n",
       "      <th>weekend</th>\n",
       "      <th>building_mean</th>\n",
       "    </tr>\n",
       "  </thead>\n",
       "  <tbody>\n",
       "    <tr>\n",
       "      <th>0</th>\n",
       "      <td>0</td>\n",
       "      <td>0</td>\n",
       "      <td>0</td>\n",
       "      <td>2017-01-01 00:00:00</td>\n",
       "      <td>6</td>\n",
       "      <td>5.432439</td>\n",
       "    </tr>\n",
       "    <tr>\n",
       "      <th>1</th>\n",
       "      <td>1</td>\n",
       "      <td>1</td>\n",
       "      <td>0</td>\n",
       "      <td>2017-01-01 00:00:00</td>\n",
       "      <td>6</td>\n",
       "      <td>4.761836</td>\n",
       "    </tr>\n",
       "    <tr>\n",
       "      <th>2</th>\n",
       "      <td>2</td>\n",
       "      <td>2</td>\n",
       "      <td>0</td>\n",
       "      <td>2017-01-01 00:00:00</td>\n",
       "      <td>6</td>\n",
       "      <td>2.998495</td>\n",
       "    </tr>\n",
       "    <tr>\n",
       "      <th>3</th>\n",
       "      <td>3</td>\n",
       "      <td>3</td>\n",
       "      <td>0</td>\n",
       "      <td>2017-01-01 00:00:00</td>\n",
       "      <td>6</td>\n",
       "      <td>5.873241</td>\n",
       "    </tr>\n",
       "    <tr>\n",
       "      <th>4</th>\n",
       "      <td>4</td>\n",
       "      <td>4</td>\n",
       "      <td>0</td>\n",
       "      <td>2017-01-01 00:00:00</td>\n",
       "      <td>6</td>\n",
       "      <td>7.342151</td>\n",
       "    </tr>\n",
       "    <tr>\n",
       "      <th>...</th>\n",
       "      <td>...</td>\n",
       "      <td>...</td>\n",
       "      <td>...</td>\n",
       "      <td>...</td>\n",
       "      <td>...</td>\n",
       "      <td>...</td>\n",
       "    </tr>\n",
       "    <tr>\n",
       "      <th>41697595</th>\n",
       "      <td>41697595</td>\n",
       "      <td>1444</td>\n",
       "      <td>0</td>\n",
       "      <td>2018-05-09 07:00:00</td>\n",
       "      <td>2</td>\n",
       "      <td>2.027276</td>\n",
       "    </tr>\n",
       "    <tr>\n",
       "      <th>41697596</th>\n",
       "      <td>41697596</td>\n",
       "      <td>1445</td>\n",
       "      <td>0</td>\n",
       "      <td>2018-05-09 07:00:00</td>\n",
       "      <td>2</td>\n",
       "      <td>1.719585</td>\n",
       "    </tr>\n",
       "    <tr>\n",
       "      <th>41697597</th>\n",
       "      <td>41697597</td>\n",
       "      <td>1446</td>\n",
       "      <td>0</td>\n",
       "      <td>2018-05-09 07:00:00</td>\n",
       "      <td>2</td>\n",
       "      <td>0.961074</td>\n",
       "    </tr>\n",
       "    <tr>\n",
       "      <th>41697598</th>\n",
       "      <td>41697598</td>\n",
       "      <td>1447</td>\n",
       "      <td>0</td>\n",
       "      <td>2018-05-09 07:00:00</td>\n",
       "      <td>2</td>\n",
       "      <td>5.228821</td>\n",
       "    </tr>\n",
       "    <tr>\n",
       "      <th>41697599</th>\n",
       "      <td>41697599</td>\n",
       "      <td>1448</td>\n",
       "      <td>0</td>\n",
       "      <td>2018-05-09 07:00:00</td>\n",
       "      <td>2</td>\n",
       "      <td>1.447373</td>\n",
       "    </tr>\n",
       "  </tbody>\n",
       "</table>\n",
       "<p>41697600 rows × 6 columns</p>\n",
       "</div>"
      ],
      "text/plain": [
       "            row_id  building_id  meter           timestamp  weekend  \\\n",
       "0                0            0      0 2017-01-01 00:00:00        6   \n",
       "1                1            1      0 2017-01-01 00:00:00        6   \n",
       "2                2            2      0 2017-01-01 00:00:00        6   \n",
       "3                3            3      0 2017-01-01 00:00:00        6   \n",
       "4                4            4      0 2017-01-01 00:00:00        6   \n",
       "...            ...          ...    ...                 ...      ...   \n",
       "41697595  41697595         1444      0 2018-05-09 07:00:00        2   \n",
       "41697596  41697596         1445      0 2018-05-09 07:00:00        2   \n",
       "41697597  41697597         1446      0 2018-05-09 07:00:00        2   \n",
       "41697598  41697598         1447      0 2018-05-09 07:00:00        2   \n",
       "41697599  41697599         1448      0 2018-05-09 07:00:00        2   \n",
       "\n",
       "          building_mean  \n",
       "0              5.432439  \n",
       "1              4.761836  \n",
       "2              2.998495  \n",
       "3              5.873241  \n",
       "4              7.342151  \n",
       "...                 ...  \n",
       "41697595       2.027276  \n",
       "41697596       1.719585  \n",
       "41697597       0.961074  \n",
       "41697598       5.228821  \n",
       "41697599       1.447373  \n",
       "\n",
       "[41697600 rows x 6 columns]"
      ]
     },
     "execution_count": 47,
     "metadata": {},
     "output_type": "execute_result"
    }
   ],
   "source": [
    "\n",
    "reduce_mem_usage(df_test)\n",
    "#df_test.to_feather('new_test.feather')"
   ]
  },
  {
   "cell_type": "code",
   "execution_count": 48,
   "metadata": {
    "execution": {
     "iopub.execute_input": "2020-08-09T10:36:17.643556Z",
     "iopub.status.busy": "2020-08-09T10:36:17.642747Z",
     "iopub.status.idle": "2020-08-09T10:36:17.719068Z",
     "shell.execute_reply": "2020-08-09T10:36:17.718370Z"
    },
    "papermill": {
     "duration": 0.106945,
     "end_time": "2020-08-09T10:36:17.719201",
     "exception": false,
     "start_time": "2020-08-09T10:36:17.612256",
     "status": "completed"
    },
    "tags": []
   },
   "outputs": [
    {
     "name": "stdout",
     "output_type": "stream",
     "text": [
      "<class 'pandas.core.frame.DataFrame'>\n",
      "RangeIndex: 41697600 entries, 0 to 41697599\n",
      "Data columns (total 6 columns):\n",
      " #   Column         Dtype         \n",
      "---  ------         -----         \n",
      " 0   row_id         int32         \n",
      " 1   building_id    int16         \n",
      " 2   meter          int8          \n",
      " 3   timestamp      datetime64[ns]\n",
      " 4   weekend        int8          \n",
      " 5   building_mean  float32       \n",
      "dtypes: datetime64[ns](1), float32(1), int16(1), int32(1), int8(2)\n",
      "memory usage: 795.3 MB\n"
     ]
    }
   ],
   "source": [
    "df_test.info()"
   ]
  },
  {
   "cell_type": "markdown",
   "metadata": {
    "papermill": {
     "duration": 0.023397,
     "end_time": "2020-08-09T10:36:17.767483",
     "exception": false,
     "start_time": "2020-08-09T10:36:17.744086",
     "status": "completed"
    },
    "tags": []
   },
   "source": [
    "# Merging :"
   ]
  },
  {
   "cell_type": "code",
   "execution_count": 49,
   "metadata": {
    "execution": {
     "iopub.execute_input": "2020-08-09T10:36:17.830758Z",
     "iopub.status.busy": "2020-08-09T10:36:17.823471Z",
     "iopub.status.idle": "2020-08-09T10:36:39.121853Z",
     "shell.execute_reply": "2020-08-09T10:36:39.121149Z"
    },
    "papermill": {
     "duration": 21.330959,
     "end_time": "2020-08-09T10:36:39.121999",
     "exception": false,
     "start_time": "2020-08-09T10:36:17.791040",
     "status": "completed"
    },
    "tags": []
   },
   "outputs": [],
   "source": [
    "\n",
    "target_train_df = df_train.merge(df_building, left_on='building_id',right_on='building_id',how='left')\n",
    "target_train_df = target_train_df.merge(df_weather_train,how='left',left_on=['site_id','timestamp'],right_on=['site_id','timestamp'])\n",
    "\n",
    "   \n",
    "\n",
    "\n",
    "target_train_df[\"hour\"] = target_train_df[\"timestamp\"].dt.hour \n",
    "target_train_df[\"weekend\"] = target_train_df[\"timestamp\"].dt.weekday\n",
    "target_train_df[\"day\"] = pd.to_datetime(target_train_df[\"timestamp\"]).dt.dayofyear\n",
    "    \n",
    "target_train_df['month_group'] = target_train_df['timestamp'].dt.month\n",
    "target_train_df['month_group'].replace((1, 2, 3, 4), 1, inplace = True)\n",
    "target_train_df['month_group'].replace((5, 6, 7, 8), 2, inplace = True)\n",
    "target_train_df['month_group'].replace((9, 10, 11, 12), 3, inplace = True)\n",
    "    \n",
    "target_train_df = target_train_df.drop(['meter_reading','index'],axis = 1) \n",
    "target_train_df[\"primary_use\"] = target_train_df[\"primary_use\"].astype(np.int8)\n",
    "\n"
   ]
  },
  {
   "cell_type": "code",
   "execution_count": 50,
   "metadata": {
    "execution": {
     "iopub.execute_input": "2020-08-09T10:36:39.190450Z",
     "iopub.status.busy": "2020-08-09T10:36:39.180884Z",
     "iopub.status.idle": "2020-08-09T10:37:00.653514Z",
     "shell.execute_reply": "2020-08-09T10:37:00.654083Z"
    },
    "papermill": {
     "duration": 21.507328,
     "end_time": "2020-08-09T10:37:00.654266",
     "exception": false,
     "start_time": "2020-08-09T10:36:39.146938",
     "status": "completed"
    },
    "tags": []
   },
   "outputs": [],
   "source": [
    "#https://www.kaggle.com/c/ashrae-energy-prediction/discussion/124984\n",
    "\n",
    "    #horizsolar is supposed to calculate the solar horizontal radiation coming into the building.\n",
    "latitude_dict = {0 :28.5383,1 :50.9097,2 :33.4255,3 :38.9072,4 :37.8715,5 :50.9097,6 :40.7128,7 :45.4215,8 :28.5383,9 :30.2672,10 :40.10677,11 :45.4215,12 :53.3498,13 :44.9375,14 :38.0293,15: 40.7128,}\n",
    "\n",
    "target_train_df['latitude'] = target_train_df['site_id'].map(latitude_dict)\n",
    "target_train_df['solarHour'] = (target_train_df['hour']-12)*15 # to be removed\n",
    "target_train_df['solarDec'] = -23.45*np.cos(np.deg2rad(360*(target_train_df['day']+10)/365)) # to be removed\n",
    "target_train_df['horizsolar'] = np.cos(np.deg2rad(target_train_df['solarHour']))*np.cos(np.deg2rad(target_train_df['solarDec']))*np.cos(np.deg2rad(target_train_df['latitude'])) + np.sin(np.deg2rad(target_train_df['solarDec']))*np.sin(np.deg2rad(target_train_df['latitude']))\n",
    "target_train_df['horizsolar'] = target_train_df['horizsolar'].apply(lambda x: 0 if x <0 else x)\n",
    "\n",
    "target_train_df = target_train_df.drop(['latitude','solarHour','solarDec'], axis=1)\n",
    "    # The sensible heat is a form of energy emitted into the atmosphere or absorbed\n",
    "target_train_df['Sensible_Heat'] = 0.5274*(10.**(-4.))*target_train_df['square_feet']*(75.-target_train_df['air_temperature'])\n",
    "\n",
    "target_train_df['relative_humidity'] = 100 * (np.exp((17.625 * target_train_df['dew_temperature']) / (243.04 + target_train_df['dew_temperature'])) / np.exp((17.625 * target_train_df['air_temperature'])/(243.04 + target_train_df['air_temperature'])))\n",
    "   \n",
    "#target_train_df = target_train_df.dropna()\n",
    "\n",
    "       \n"
   ]
  },
  {
   "cell_type": "code",
   "execution_count": 51,
   "metadata": {
    "execution": {
     "iopub.execute_input": "2020-08-09T10:37:00.712160Z",
     "iopub.status.busy": "2020-08-09T10:37:00.711361Z",
     "iopub.status.idle": "2020-08-09T10:37:05.134849Z",
     "shell.execute_reply": "2020-08-09T10:37:05.134033Z"
    },
    "papermill": {
     "duration": 4.456518,
     "end_time": "2020-08-09T10:37:05.134978",
     "exception": false,
     "start_time": "2020-08-09T10:37:00.678460",
     "status": "completed"
    },
    "tags": []
   },
   "outputs": [
    {
     "name": "stdout",
     "output_type": "stream",
     "text": [
      "Memory usage of dataframe is 2366.58 MB\n",
      "Memory usage after optimization is: 1552.48 MB\n",
      "Decreased by 34.4%\n"
     ]
    }
   ],
   "source": [
    "target_train_df = reduce_mem_usage(target_train_df, use_float16=False)    \n",
    "target_train_df = target_train_df.drop(['day','hour'],axis=1) \n"
   ]
  },
  {
   "cell_type": "code",
   "execution_count": 52,
   "metadata": {
    "execution": {
     "iopub.execute_input": "2020-08-09T10:37:05.198344Z",
     "iopub.status.busy": "2020-08-09T10:37:05.197228Z",
     "iopub.status.idle": "2020-08-09T10:37:05.202153Z",
     "shell.execute_reply": "2020-08-09T10:37:05.201116Z"
    },
    "papermill": {
     "duration": 0.042922,
     "end_time": "2020-08-09T10:37:05.202333",
     "exception": false,
     "start_time": "2020-08-09T10:37:05.159411",
     "status": "completed"
    },
    "tags": []
   },
   "outputs": [
    {
     "name": "stdout",
     "output_type": "stream",
     "text": [
      "<class 'pandas.core.frame.DataFrame'>\n",
      "Int64Index: 19852320 entries, 0 to 19852319\n",
      "Data columns (total 21 columns):\n",
      " #   Column               Dtype         \n",
      "---  ------               -----         \n",
      " 0   building_id          int16         \n",
      " 1   meter                int8          \n",
      " 2   timestamp            datetime64[ns]\n",
      " 3   meter_reading_log1p  float32       \n",
      " 4   weekend              int8          \n",
      " 5   building_mean        float32       \n",
      " 6   site_id              int8          \n",
      " 7   primary_use          int8          \n",
      " 8   square_feet          float32       \n",
      " 9   air_temperature      float32       \n",
      " 10  cloud_coverage       float32       \n",
      " 11  dew_temperature      float32       \n",
      " 12  precip_depth_1_hr    float32       \n",
      " 13  sea_level_pressure   float32       \n",
      " 14  wind_direction       float32       \n",
      " 15  wind_speed           float32       \n",
      " 16  IsHoliday            float32       \n",
      " 17  month_group          int8          \n",
      " 18  horizsolar           float32       \n",
      " 19  Sensible_Heat        float32       \n",
      " 20  relative_humidity    float32       \n",
      "dtypes: datetime64[ns](1), float32(14), int16(1), int8(5)\n",
      "memory usage: 1.5 GB\n"
     ]
    }
   ],
   "source": [
    "target_train_df.info()"
   ]
  },
  {
   "cell_type": "code",
   "execution_count": 53,
   "metadata": {
    "execution": {
     "iopub.execute_input": "2020-08-09T10:37:05.824341Z",
     "iopub.status.busy": "2020-08-09T10:37:05.819727Z",
     "iopub.status.idle": "2020-08-09T10:37:05.828126Z",
     "shell.execute_reply": "2020-08-09T10:37:05.827349Z"
    },
    "papermill": {
     "duration": 0.601754,
     "end_time": "2020-08-09T10:37:05.828258",
     "exception": false,
     "start_time": "2020-08-09T10:37:05.226504",
     "status": "completed"
    },
    "tags": []
   },
   "outputs": [],
   "source": [
    "target_train_df = target_train_df.drop(['building_mean',\"sea_level_pressure\", \"wind_direction\", \"wind_speed\"],axis=1) "
   ]
  },
  {
   "cell_type": "code",
   "execution_count": 54,
   "metadata": {
    "execution": {
     "iopub.execute_input": "2020-08-09T10:37:05.884035Z",
     "iopub.status.busy": "2020-08-09T10:37:05.883192Z",
     "iopub.status.idle": "2020-08-09T10:37:08.046191Z",
     "shell.execute_reply": "2020-08-09T10:37:08.045487Z"
    },
    "papermill": {
     "duration": 2.193451,
     "end_time": "2020-08-09T10:37:08.046360",
     "exception": false,
     "start_time": "2020-08-09T10:37:05.852909",
     "status": "completed"
    },
    "tags": []
   },
   "outputs": [],
   "source": [
    "target_train_df = target_train_df.reset_index()\n",
    "target_train_df.to_feather('merged_train.feather')"
   ]
  },
  {
   "cell_type": "markdown",
   "metadata": {
    "papermill": {
     "duration": 0.023581,
     "end_time": "2020-08-09T10:37:08.094071",
     "exception": false,
     "start_time": "2020-08-09T10:37:08.070490",
     "status": "completed"
    },
    "tags": []
   },
   "source": [
    "# Test :"
   ]
  },
  {
   "cell_type": "code",
   "execution_count": 55,
   "metadata": {
    "execution": {
     "iopub.execute_input": "2020-08-09T10:37:08.151506Z",
     "iopub.status.busy": "2020-08-09T10:37:08.150562Z",
     "iopub.status.idle": "2020-08-09T10:37:08.153924Z",
     "shell.execute_reply": "2020-08-09T10:37:08.153134Z"
    },
    "papermill": {
     "duration": 0.036021,
     "end_time": "2020-08-09T10:37:08.154056",
     "exception": false,
     "start_time": "2020-08-09T10:37:08.118035",
     "status": "completed"
    },
    "tags": []
   },
   "outputs": [],
   "source": [
    "del target_train_df"
   ]
  },
  {
   "cell_type": "code",
   "execution_count": 56,
   "metadata": {
    "execution": {
     "iopub.execute_input": "2020-08-09T10:37:08.219822Z",
     "iopub.status.busy": "2020-08-09T10:37:08.218195Z",
     "iopub.status.idle": "2020-08-09T10:37:42.040357Z",
     "shell.execute_reply": "2020-08-09T10:37:42.039474Z"
    },
    "papermill": {
     "duration": 33.86114,
     "end_time": "2020-08-09T10:37:42.040508",
     "exception": false,
     "start_time": "2020-08-09T10:37:08.179368",
     "status": "completed"
    },
    "tags": []
   },
   "outputs": [],
   "source": [
    "\n",
    "\n",
    "target_test_df = df_test.merge(df_building, left_on='building_id',right_on='building_id',how='left')\n",
    "target_test_df = target_test_df.merge(df_weather_test, how='left',left_on=['site_id','timestamp'],right_on=['site_id','timestamp'])\n",
    "\n",
    "   \n",
    "\n",
    "\n",
    "target_test_df[\"hour\"] = target_test_df[\"timestamp\"].dt.hour \n",
    "target_test_df[\"weekend\"] = target_test_df[\"timestamp\"].dt.weekday\n",
    "target_test_df[\"day\"] = pd.to_datetime(target_test_df[\"timestamp\"]).dt.dayofyear\n",
    "    \n",
    "target_test_df['month_group'] = target_test_df['timestamp'].dt.month\n",
    "target_test_df['month_group'].replace((1, 2, 3, 4), 1, inplace = True)\n",
    "target_test_df['month_group'].replace((5, 6, 7, 8), 2, inplace = True)\n",
    "target_test_df['month_group'].replace((9, 10, 11, 12), 3, inplace = True)\n",
    "    \n",
    "#target_test_df = target_test_df.drop(['timestamp'],axis = 1) \n",
    "target_test_df[\"primary_use\"] = target_test_df[\"primary_use\"].astype(np.int8)\n",
    "\n"
   ]
  },
  {
   "cell_type": "code",
   "execution_count": 57,
   "metadata": {
    "execution": {
     "iopub.execute_input": "2020-08-09T10:37:42.108611Z",
     "iopub.status.busy": "2020-08-09T10:37:42.103931Z",
     "iopub.status.idle": "2020-08-09T10:38:32.326660Z",
     "shell.execute_reply": "2020-08-09T10:38:32.325788Z"
    },
    "papermill": {
     "duration": 50.261753,
     "end_time": "2020-08-09T10:38:32.326809",
     "exception": false,
     "start_time": "2020-08-09T10:37:42.065056",
     "status": "completed"
    },
    "tags": []
   },
   "outputs": [],
   "source": [
    "#https://www.kaggle.com/c/ashrae-energy-prediction/discussion/124984\n",
    "\n",
    "    #horizsolar is supposed to calculate the solar horizontal radiation coming into the building.\n",
    "latitude_dict = {0 :28.5383,1 :50.9097,2 :33.4255,3 :38.9072,4 :37.8715,5 :50.9097,6 :40.7128,7 :45.4215,8 :28.5383,9 :30.2672,10 :40.10677,11 :45.4215,12 :53.3498,13 :44.9375,14 :38.0293,15: 40.7128,}\n",
    "\n",
    "target_test_df['latitude'] = target_test_df['site_id'].map(latitude_dict)\n",
    "target_test_df['solarHour'] = (target_test_df['hour']-12)*15 # to be removed\n",
    "target_test_df['solarDec'] = -23.45*np.cos(np.deg2rad(360*(target_test_df['day']+10)/365)) # to be removed\n",
    "target_test_df['horizsolar'] = np.cos(np.deg2rad(target_test_df['solarHour']))*np.cos(np.deg2rad(target_test_df['solarDec']))*np.cos(np.deg2rad(target_test_df['latitude'])) + np.sin(np.deg2rad(target_test_df['solarDec']))*np.sin(np.deg2rad(target_test_df['latitude']))\n",
    "target_test_df['horizsolar'] = target_test_df['horizsolar'].apply(lambda x: 0 if x <0 else x)\n",
    "\n",
    "target_test_df = target_test_df.drop(['latitude','solarHour','solarDec'], axis=1)\n",
    "    # The sensible heat is a form of energy emitted into the atmosphere or absorbed\n",
    "target_test_df['Sensible_Heat'] = 0.5274*(10.**(-4.))*target_test_df['square_feet']*(75.-target_test_df['air_temperature'])\n",
    "\n",
    "target_test_df['relative_humidity'] = 100 * (np.exp((17.625 * target_test_df['dew_temperature']) / (243.04 + target_test_df['dew_temperature'])) / np.exp((17.625 * target_test_df['air_temperature'])/(243.04 + target_test_df['air_temperature'])))\n",
    "   \n",
    "\n",
    "\n",
    "       \n"
   ]
  },
  {
   "cell_type": "code",
   "execution_count": 58,
   "metadata": {
    "execution": {
     "iopub.execute_input": "2020-08-09T10:38:32.385355Z",
     "iopub.status.busy": "2020-08-09T10:38:32.384326Z",
     "iopub.status.idle": "2020-08-09T10:38:41.888594Z",
     "shell.execute_reply": "2020-08-09T10:38:41.887712Z"
    },
    "papermill": {
     "duration": 9.537318,
     "end_time": "2020-08-09T10:38:41.888878",
     "exception": false,
     "start_time": "2020-08-09T10:38:32.351560",
     "status": "completed"
    },
    "tags": []
   },
   "outputs": [
    {
     "name": "stdout",
     "output_type": "stream",
     "text": [
      "Memory usage of dataframe is 4970.74 MB\n",
      "Memory usage after optimization is: 3260.81 MB\n",
      "Decreased by 34.4%\n"
     ]
    }
   ],
   "source": [
    "target_test_df = reduce_mem_usage(target_test_df, use_float16=False)    \n",
    "target_test_df = target_test_df.drop(['day','hour'],axis=1) \n"
   ]
  },
  {
   "cell_type": "code",
   "execution_count": 59,
   "metadata": {
    "execution": {
     "iopub.execute_input": "2020-08-09T10:38:41.995800Z",
     "iopub.status.busy": "2020-08-09T10:38:41.988864Z",
     "iopub.status.idle": "2020-08-09T10:38:42.027867Z",
     "shell.execute_reply": "2020-08-09T10:38:42.026871Z"
    },
    "papermill": {
     "duration": 0.101295,
     "end_time": "2020-08-09T10:38:42.028067",
     "exception": false,
     "start_time": "2020-08-09T10:38:41.926772",
     "status": "completed"
    },
    "tags": []
   },
   "outputs": [
    {
     "name": "stdout",
     "output_type": "stream",
     "text": [
      "<class 'pandas.core.frame.DataFrame'>\n",
      "Int64Index: 41697600 entries, 0 to 41697599\n",
      "Data columns (total 21 columns):\n",
      " #   Column              Dtype         \n",
      "---  ------              -----         \n",
      " 0   row_id              int32         \n",
      " 1   building_id         int16         \n",
      " 2   meter               int8          \n",
      " 3   timestamp           datetime64[ns]\n",
      " 4   weekend             int8          \n",
      " 5   building_mean       float32       \n",
      " 6   site_id             int8          \n",
      " 7   primary_use         int8          \n",
      " 8   square_feet         float32       \n",
      " 9   air_temperature     float32       \n",
      " 10  cloud_coverage      float32       \n",
      " 11  dew_temperature     float32       \n",
      " 12  precip_depth_1_hr   float32       \n",
      " 13  sea_level_pressure  float32       \n",
      " 14  wind_direction      float32       \n",
      " 15  wind_speed          float32       \n",
      " 16  IsHoliday           float32       \n",
      " 17  month_group         int8          \n",
      " 18  horizsolar          float32       \n",
      " 19  Sensible_Heat       float32       \n",
      " 20  relative_humidity   float32       \n",
      "dtypes: datetime64[ns](1), float32(13), int16(1), int32(1), int8(5)\n",
      "memory usage: 3.1 GB\n"
     ]
    }
   ],
   "source": [
    "target_test_df.info()"
   ]
  },
  {
   "cell_type": "code",
   "execution_count": 60,
   "metadata": {
    "execution": {
     "iopub.execute_input": "2020-08-09T10:38:42.141939Z",
     "iopub.status.busy": "2020-08-09T10:38:42.140676Z",
     "iopub.status.idle": "2020-08-09T10:38:42.148647Z",
     "shell.execute_reply": "2020-08-09T10:38:42.149320Z"
    },
    "papermill": {
     "duration": 0.064857,
     "end_time": "2020-08-09T10:38:42.149531",
     "exception": false,
     "start_time": "2020-08-09T10:38:42.084674",
     "status": "completed"
    },
    "tags": []
   },
   "outputs": [
    {
     "data": {
      "text/plain": [
       "(41697600, 21)"
      ]
     },
     "execution_count": 60,
     "metadata": {},
     "output_type": "execute_result"
    }
   ],
   "source": [
    "target_test_df.shape"
   ]
  },
  {
   "cell_type": "code",
   "execution_count": 61,
   "metadata": {
    "execution": {
     "iopub.execute_input": "2020-08-09T10:38:44.252906Z",
     "iopub.status.busy": "2020-08-09T10:38:44.250576Z",
     "iopub.status.idle": "2020-08-09T10:38:44.263730Z",
     "shell.execute_reply": "2020-08-09T10:38:44.262324Z"
    },
    "papermill": {
     "duration": 2.07146,
     "end_time": "2020-08-09T10:38:44.263976",
     "exception": false,
     "start_time": "2020-08-09T10:38:42.192516",
     "status": "completed"
    },
    "tags": []
   },
   "outputs": [],
   "source": [
    "target_test_df = target_test_df.drop(['building_mean',\"sea_level_pressure\", \"wind_direction\", \"wind_speed\"],axis=1) "
   ]
  },
  {
   "cell_type": "code",
   "execution_count": 62,
   "metadata": {
    "execution": {
     "iopub.execute_input": "2020-08-09T10:38:44.359031Z",
     "iopub.status.busy": "2020-08-09T10:38:44.356907Z",
     "iopub.status.idle": "2020-08-09T10:38:51.220651Z",
     "shell.execute_reply": "2020-08-09T10:38:51.218713Z"
    },
    "papermill": {
     "duration": 6.918034,
     "end_time": "2020-08-09T10:38:51.220992",
     "exception": false,
     "start_time": "2020-08-09T10:38:44.302958",
     "status": "completed"
    },
    "tags": []
   },
   "outputs": [],
   "source": [
    "target_test_df = target_test_df.reset_index()\n",
    "target_test_df.to_feather('merged_test.feather')            "
   ]
  },
  {
   "cell_type": "markdown",
   "metadata": {
    "papermill": {
     "duration": 0.14276,
     "end_time": "2020-08-09T10:38:51.431025",
     "exception": false,
     "start_time": "2020-08-09T10:38:51.288265",
     "status": "completed"
    },
    "tags": []
   },
   "source": [
    "# Summary :"
   ]
  },
  {
   "cell_type": "markdown",
   "metadata": {
    "papermill": {
     "duration": 0.161745,
     "end_time": "2020-08-09T10:38:51.763643",
     "exception": false,
     "start_time": "2020-08-09T10:38:51.601898",
     "status": "completed"
    },
    "tags": []
   },
   "source": [
    "1. Timing adjustments of weather data, using timestamp converting to local time as shown in first figure.\n",
    "2. filling missing values of weather data and building meta data.\n",
    "   2.1 filling cloud coverage with mean value,precip depth with mode value,sea level pressure with forward fill.\n",
    "   2.2 filling wind direction, wind speed with median value and interpolating temperature values\n",
    "3. Adding Is_holiday feature by extracting holiday list of differen locations\n",
    "4. Removal of Outliers \n",
    "     4.1 Removing building id 1099 as it has high meter reading values\n",
    "     4.2 removing building 1 and meter==0 and days <= 141 which has low meter reading values.\n",
    "     4.3 removing building 7 and meter==1 and day >= 307 and day <=334 which has zero values.\n",
    "     4.4 Removing building 145 and meter==0 and day>=69 and day<=112 and day>= 208 and day<=223 as it has constant values.\n",
    "     4.5 Removing building_id  784 and meter==2 and day >= 277 and day <=286 as it has zero values.\n",
    "     \n",
    "5. Adding hour,week, month and weekday as features using timestamp.\n",
    "6. Reducing memory size of each dataframe after computation.\n",
    "7. storing in feather format for less memory usage."
   ]
  }
 ],
 "metadata": {
  "kernelspec": {
   "display_name": "Python 3",
   "language": "python",
   "name": "python3"
  },
  "language_info": {
   "codemirror_mode": {
    "name": "ipython",
    "version": 3
   },
   "file_extension": ".py",
   "mimetype": "text/x-python",
   "name": "python",
   "nbconvert_exporter": "python",
   "pygments_lexer": "ipython3",
   "version": "3.7.3"
  },
  "papermill": {
   "duration": 264.313819,
   "end_time": "2020-08-09T10:38:51.961377",
   "environment_variables": {},
   "exception": null,
   "input_path": "__notebook__.ipynb",
   "output_path": "__notebook__.ipynb",
   "parameters": {},
   "start_time": "2020-08-09T10:34:27.647558",
   "version": "2.1.0"
  }
 },
 "nbformat": 4,
 "nbformat_minor": 4
}
