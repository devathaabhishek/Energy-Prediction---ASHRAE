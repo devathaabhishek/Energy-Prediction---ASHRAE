{
 "cells": [
  {
   "cell_type": "markdown",
   "metadata": {},
   "source": [
    "# Importing libraries :"
   ]
  },
  {
   "cell_type": "code",
   "execution_count": 1,
   "metadata": {
    "_cell_guid": "b1076dfc-b9ad-4769-8c92-a6c4dae69d19",
    "_uuid": "8f2839f25d086af736a60e9eeb907d3b93b6e0e5"
   },
   "outputs": [
    {
     "data": {
      "text/html": [
       "        <script type=\"text/javascript\">\n",
       "        window.PlotlyConfig = {MathJaxConfig: 'local'};\n",
       "        if (window.MathJax) {MathJax.Hub.Config({SVG: {font: \"STIX-Web\"}});}\n",
       "        if (typeof require !== 'undefined') {\n",
       "        require.undef(\"plotly\");\n",
       "        requirejs.config({\n",
       "            paths: {\n",
       "                'plotly': ['https://cdn.plot.ly/plotly-latest.min']\n",
       "            }\n",
       "        });\n",
       "        require(['plotly'], function(Plotly) {\n",
       "            window._Plotly = Plotly;\n",
       "        });\n",
       "        }\n",
       "        </script>\n",
       "        "
      ]
     },
     "metadata": {},
     "output_type": "display_data"
    }
   ],
   "source": [
    "import gc\n",
    "import os\n",
    "import random\n",
    "import sys\n",
    "\n",
    "from tqdm import tqdm_notebook as tqdm\n",
    "import numpy as np # linear algebra\n",
    "import pandas as pd # data processing, CSV file I/O (e.g. pd.read_csv)\n",
    "\n",
    "import matplotlib.pyplot as plt\n",
    "import seaborn as sns\n",
    "import statistics\n",
    "from IPython.core.display import display, HTML\n",
    "\n",
    "from math import sqrt\n",
    "from sklearn.metrics import mean_squared_error\n",
    "import warnings\n",
    "warnings.filterwarnings('ignore')\n",
    "\n",
    "\n",
    "\n",
    "# --- plotly ---\n",
    "from plotly import tools, subplots\n",
    "import plotly.offline as py\n",
    "py.init_notebook_mode(connected=True)\n",
    "import plotly.graph_objs as go\n",
    "import plotly.express as px\n",
    "import plotly.figure_factory as ff\n",
    "\n",
    "# --- models ---\n",
    "#from sklearn import preprocessing\n",
    "from sklearn.model_selection import KFold\n",
    "import lightgbm as lgb\n",
    "import xgboost as xgb\n",
    "#import catboost as cb"
   ]
  },
  {
   "cell_type": "markdown",
   "metadata": {},
   "source": [
    "# Reading Data :"
   ]
  },
  {
   "cell_type": "code",
   "execution_count": 2,
   "metadata": {
    "_cell_guid": "79c7e3d0-c299-4dcb-8224-4455121ee9b0",
    "_uuid": "d629ff2d2480ee46fbb7e2d37f6b5fab8052498a"
   },
   "outputs": [
    {
     "name": "stdout",
     "output_type": "stream",
     "text": [
      "CPU times: user 228 ms, sys: 545 ms, total: 772 ms\n",
      "Wall time: 708 ms\n"
     ]
    }
   ],
   "source": [
    "%%time\n",
    "#https://www.kaggle.com/corochann/ashrae-feather-format-for-fast-loading\n",
    "df_train = pd.read_feather('../input/preprocessing-and-feature-engineering/new_train.feather')\n",
    "df_weather_train = pd.read_feather('../input/preprocessing-and-feature-engineering/new_weather_train.feather')\n",
    "df_building = pd.read_feather('../input/preprocessing-and-feature-engineering/new_building_metadata.feather')"
   ]
  },
  {
   "cell_type": "markdown",
   "metadata": {},
   "source": [
    "# Memory Reduction :"
   ]
  },
  {
   "cell_type": "code",
   "execution_count": 3,
   "metadata": {},
   "outputs": [],
   "source": [
    "# Original code from https://www.kaggle.com/gemartin/load-data-reduce-memory-usage by @gemartin\n",
    "# Modified to support timestamp type, categorical type\n",
    "# Modified to add option to use float16 or not. feather format does not support float16.\n",
    "from pandas.api.types import is_datetime64_any_dtype as is_datetime\n",
    "from pandas.api.types import is_categorical_dtype\n",
    "\n",
    "def memory_reduction(df, use_float16=False):\n",
    "    \"\"\" iterate through all the columns of a dataframe and modify the data type\n",
    "        to reduce memory usage.        \n",
    "    \"\"\"\n",
    "    start_mem = df.memory_usage().sum() / 1024**2\n",
    "    print('Memory usage of dataframe is {:.2f} MB'.format(start_mem))\n",
    "    \n",
    "    for col in df.columns:\n",
    "        if is_datetime(df[col]) or is_categorical_dtype(df[col]):\n",
    "            # skip datetime type or categorical type\n",
    "            continue\n",
    "        col_type = df[col].dtype\n",
    "        \n",
    "        if col_type != object:\n",
    "            c_min = df[col].min()\n",
    "            c_max = df[col].max()\n",
    "            if str(col_type)[:3] == 'int':\n",
    "                if c_min > np.iinfo(np.int8).min and c_max < np.iinfo(np.int8).max:\n",
    "                    df[col] = df[col].astype(np.int8)\n",
    "                elif c_min > np.iinfo(np.int16).min and c_max < np.iinfo(np.int16).max:\n",
    "                    df[col] = df[col].astype(np.int16)\n",
    "                elif c_min > np.iinfo(np.int32).min and c_max < np.iinfo(np.int32).max:\n",
    "                    df[col] = df[col].astype(np.int32)\n",
    "                elif c_min > np.iinfo(np.int64).min and c_max < np.iinfo(np.int64).max:\n",
    "                    df[col] = df[col].astype(np.int64)  \n",
    "            else:\n",
    "                if use_float16 and c_min > np.finfo(np.float16).min and c_max < np.finfo(np.float16).max:\n",
    "                    df[col] = df[col].astype(np.float16)\n",
    "                elif c_min > np.finfo(np.float32).min and c_max < np.finfo(np.float32).max:\n",
    "                    df[col] = df[col].astype(np.float32)\n",
    "                else:\n",
    "                    df[col] = df[col].astype(np.float64)\n",
    "        else:\n",
    "            df[col] = df[col].astype('category')\n",
    "\n",
    "    end_mem = df.memory_usage().sum() / 1024**2\n",
    "    print('Memory usage after optimization is: {:.2f} MB'\n",
    "          .format(end_mem))\n",
    "    print('Decreased by {:.1f}%'.format(100 * (start_mem - end_mem) / start_mem))\n",
    "    \n",
    "    return df"
   ]
  },
  {
   "cell_type": "code",
   "execution_count": 4,
   "metadata": {},
   "outputs": [],
   "source": [
    "def create_X_y(target_train_df, target_meter):\n",
    "    # This function divides dataframe to X_train and y_train\n",
    "    target_train_df = target_train_df.merge(df_building, on='building_id', how='left')\n",
    "    target_train_df = target_train_df.merge(df_weather_train, on=['site_id', 'timestamp'], how='left')\n",
    "    target_train_df = target_train_df.dropna()\n",
    "    #X_train = target_train_df[feature_cols + category_cols]\n",
    "    y_train = target_train_df['meter_reading_log1p'].values\n",
    "    X_train = target_train_df.drop(['meter_reading_log1p'],axis = 1)\n",
    "    del target_train_df\n",
    "    return X_train, y_train\n"
   ]
  },
  {
   "cell_type": "code",
   "execution_count": 5,
   "metadata": {},
   "outputs": [
    {
     "name": "stdout",
     "output_type": "stream",
     "text": [
      "target_meter 0 (18231121, 24)\n"
     ]
    }
   ],
   "source": [
    "target_meter = 0\n",
    "X_train, y_train = create_X_y(df_train, target_meter=target_meter)\n",
    "gc.collect()\n",
    "print('target_meter', target_meter, X_train.shape)\n"
   ]
  },
  {
   "cell_type": "code",
   "execution_count": 6,
   "metadata": {},
   "outputs": [],
   "source": [
    "X_train = X_train.drop(['meter_reading','index','timestamp'],axis = 1) "
   ]
  },
  {
   "cell_type": "code",
   "execution_count": 7,
   "metadata": {},
   "outputs": [
    {
     "name": "stdout",
     "output_type": "stream",
     "text": [
      "<class 'pandas.core.frame.DataFrame'>\n",
      "Int64Index: 18231121 entries, 0 to 18323526\n",
      "Data columns (total 21 columns):\n",
      " #   Column              Dtype   \n",
      "---  ------              -----   \n",
      " 0   building_id         int16   \n",
      " 1   meter               int8    \n",
      " 2   day                 int16   \n",
      " 3   hour                int8    \n",
      " 4   weekend             int8    \n",
      " 5   month               int8    \n",
      " 6   dayofweek           int8    \n",
      " 7   building_mean       float32 \n",
      " 8   site_id             int8    \n",
      " 9   primary_use         category\n",
      " 10  square_feet         int32   \n",
      " 11  year_built          float32 \n",
      " 12  floor_count         float32 \n",
      " 13  air_temperature     float32 \n",
      " 14  cloud_coverage      float32 \n",
      " 15  dew_temperature     float32 \n",
      " 16  precip_depth_1_hr   float32 \n",
      " 17  sea_level_pressure  float32 \n",
      " 18  wind_direction      float32 \n",
      " 19  wind_speed          float32 \n",
      " 20  IsHoliday           float64 \n",
      "dtypes: category(1), float32(10), float64(1), int16(2), int32(1), int8(6)\n",
      "memory usage: 1.2 GB\n"
     ]
    }
   ],
   "source": [
    "X_train.info()"
   ]
  },
  {
   "cell_type": "markdown",
   "metadata": {},
   "source": [
    "# Adding few features :"
   ]
  },
  {
   "cell_type": "code",
   "execution_count": 8,
   "metadata": {},
   "outputs": [],
   "source": [
    "#https://www.kaggle.com/c/ashrae-energy-prediction/discussion/124984\n",
    "#horizsolar is supposed to calculate the solar horizontal radiation coming into the building.\n",
    "latitude_dict = {0 :28.5383,1 :50.9097,2 :33.4255,3 :38.9072,4 :37.8715,5 :50.9097,6 :40.7128,7 :45.4215,8 :28.5383,9 :30.2672,10 :40.10677,11 :45.4215,12 :53.3498,13 :44.9375,14 :38.0293,15: 40.7128,}\n",
    "\n",
    "X_train['latitude'] = X_train['site_id'].map(latitude_dict)\n",
    "X_train['solarHour'] = (X_train['hour']-12)*15 # to be removed\n",
    "X_train['solarDec'] = -23.45*np.cos(np.deg2rad(360*(X_train['day']+10)/365)) # to be removed\n",
    "X_train['horizsolar'] = np.cos(np.deg2rad(X_train['solarHour']))*np.cos(np.deg2rad(X_train['solarDec']))*np.cos(np.deg2rad(X_train['latitude'])) + np.sin(np.deg2rad(X_train['solarDec']))*np.sin(np.deg2rad(X_train['latitude']))\n",
    "X_train['horizsolar'] = X_train['horizsolar'].apply(lambda x: 0 if x <0 else x)"
   ]
  },
  {
   "cell_type": "code",
   "execution_count": 9,
   "metadata": {},
   "outputs": [],
   "source": [
    "X_train = X_train.drop(['latitude','solarHour','solarDec'], axis=1)"
   ]
  },
  {
   "cell_type": "code",
   "execution_count": 10,
   "metadata": {},
   "outputs": [],
   "source": [
    "# The sensible heat is a form of energy emitted into the atmosphere or absorbed\n",
    "X_train['Sensible_Heat'] = 0.5274*(10.**(-4.))*X_train['square_feet']*(75.-X_train['air_temperature'])\n"
   ]
  },
  {
   "cell_type": "markdown",
   "metadata": {},
   "source": [
    "https://bmcnoldy.rsmas.miami.edu/Humidity.html\n",
    "\n",
    "#### RH: =100*(EXP((17.625*TD)/(243.04+TD))/EXP((17.625*T)/(243.04+T)))"
   ]
  },
  {
   "cell_type": "code",
   "execution_count": 11,
   "metadata": {},
   "outputs": [],
   "source": [
    "X_train['relative_humidity'] = 100 * (np.exp((17.625 * X_train['dew_temperature']) / (243.04 + X_train['dew_temperature'])) / np.exp((17.625 * X_train['air_temperature'])/(243.04 + X_train['air_temperature'])))"
   ]
  },
  {
   "cell_type": "code",
   "execution_count": 12,
   "metadata": {},
   "outputs": [],
   "source": [
    "from sklearn.preprocessing import StandardScaler\n",
    "def standardizing(df,col) :\n",
    "    scaler = StandardScaler()\n",
    "    scaler.fit(df[col].values.reshape(-1, 1))\n",
    "    df[col]=scaler.transform(df[col].values.reshape(-1, 1))\n",
    "    return df\n"
   ]
  },
  {
   "cell_type": "code",
   "execution_count": 13,
   "metadata": {},
   "outputs": [],
   "source": [
    "X_train[\"primary_use\"] = X_train[\"primary_use\"].astype(np.int8)\n",
    "\n",
    "num_features = X_train.columns.tolist()\n",
    "for i in num_features :\n",
    "    standardizing(X_train,i)"
   ]
  },
  {
   "cell_type": "code",
   "execution_count": 14,
   "metadata": {},
   "outputs": [
    {
     "name": "stdout",
     "output_type": "stream",
     "text": [
      "Memory usage of dataframe is 2712.30 MB\n",
      "Memory usage after optimization is: 973.65 MB\n",
      "Decreased by 64.1%\n"
     ]
    },
    {
     "data": {
      "text/html": [
       "<div>\n",
       "<style scoped>\n",
       "    .dataframe tbody tr th:only-of-type {\n",
       "        vertical-align: middle;\n",
       "    }\n",
       "\n",
       "    .dataframe tbody tr th {\n",
       "        vertical-align: top;\n",
       "    }\n",
       "\n",
       "    .dataframe thead th {\n",
       "        text-align: right;\n",
       "    }\n",
       "</style>\n",
       "<table border=\"1\" class=\"dataframe\">\n",
       "  <thead>\n",
       "    <tr style=\"text-align: right;\">\n",
       "      <th></th>\n",
       "      <th>building_id</th>\n",
       "      <th>meter</th>\n",
       "      <th>day</th>\n",
       "      <th>hour</th>\n",
       "      <th>weekend</th>\n",
       "      <th>month</th>\n",
       "      <th>dayofweek</th>\n",
       "      <th>building_mean</th>\n",
       "      <th>site_id</th>\n",
       "      <th>primary_use</th>\n",
       "      <th>...</th>\n",
       "      <th>cloud_coverage</th>\n",
       "      <th>dew_temperature</th>\n",
       "      <th>precip_depth_1_hr</th>\n",
       "      <th>sea_level_pressure</th>\n",
       "      <th>wind_direction</th>\n",
       "      <th>wind_speed</th>\n",
       "      <th>IsHoliday</th>\n",
       "      <th>horizsolar</th>\n",
       "      <th>Sensible_Heat</th>\n",
       "      <th>relative_humidity</th>\n",
       "    </tr>\n",
       "  </thead>\n",
       "  <tbody>\n",
       "    <tr>\n",
       "      <th>0</th>\n",
       "      <td>-1.802734</td>\n",
       "      <td>-0.670898</td>\n",
       "      <td>-1.784180</td>\n",
       "      <td>-1.669922</td>\n",
       "      <td>0.500488</td>\n",
       "      <td>-1.654297</td>\n",
       "      <td>0.500488</td>\n",
       "      <td>-1.378906</td>\n",
       "      <td>-1.586914</td>\n",
       "      <td>0.929199</td>\n",
       "      <td>...</td>\n",
       "      <td>0.025177</td>\n",
       "      <td>1.199219</td>\n",
       "      <td>-0.245239</td>\n",
       "      <td>0.583984</td>\n",
       "      <td>0.689453</td>\n",
       "      <td>-0.343994</td>\n",
       "      <td>5.781250</td>\n",
       "      <td>-0.684570</td>\n",
       "      <td>-0.812988</td>\n",
       "      <td>1.574219</td>\n",
       "    </tr>\n",
       "    <tr>\n",
       "      <th>1</th>\n",
       "      <td>-1.736328</td>\n",
       "      <td>-0.670898</td>\n",
       "      <td>-1.784180</td>\n",
       "      <td>-1.669922</td>\n",
       "      <td>0.500488</td>\n",
       "      <td>-1.654297</td>\n",
       "      <td>0.500488</td>\n",
       "      <td>0.165405</td>\n",
       "      <td>-1.586914</td>\n",
       "      <td>1.261719</td>\n",
       "      <td>...</td>\n",
       "      <td>0.025177</td>\n",
       "      <td>1.199219</td>\n",
       "      <td>-0.245239</td>\n",
       "      <td>0.583984</td>\n",
       "      <td>0.689453</td>\n",
       "      <td>-0.343994</td>\n",
       "      <td>5.781250</td>\n",
       "      <td>-0.684570</td>\n",
       "      <td>2.089844</td>\n",
       "      <td>1.574219</td>\n",
       "    </tr>\n",
       "    <tr>\n",
       "      <th>2</th>\n",
       "      <td>-1.690430</td>\n",
       "      <td>-0.670898</td>\n",
       "      <td>-1.784180</td>\n",
       "      <td>-1.669922</td>\n",
       "      <td>0.500488</td>\n",
       "      <td>-1.654297</td>\n",
       "      <td>0.500488</td>\n",
       "      <td>0.348145</td>\n",
       "      <td>-1.586914</td>\n",
       "      <td>-0.070068</td>\n",
       "      <td>...</td>\n",
       "      <td>0.025177</td>\n",
       "      <td>1.199219</td>\n",
       "      <td>-0.245239</td>\n",
       "      <td>0.583984</td>\n",
       "      <td>0.689453</td>\n",
       "      <td>-0.343994</td>\n",
       "      <td>5.781250</td>\n",
       "      <td>-0.684570</td>\n",
       "      <td>-0.626465</td>\n",
       "      <td>1.574219</td>\n",
       "    </tr>\n",
       "    <tr>\n",
       "      <th>3</th>\n",
       "      <td>-1.662109</td>\n",
       "      <td>-0.670898</td>\n",
       "      <td>-1.784180</td>\n",
       "      <td>-1.669922</td>\n",
       "      <td>0.500488</td>\n",
       "      <td>-1.654297</td>\n",
       "      <td>0.500488</td>\n",
       "      <td>-0.171997</td>\n",
       "      <td>-1.388672</td>\n",
       "      <td>-0.735840</td>\n",
       "      <td>...</td>\n",
       "      <td>0.025177</td>\n",
       "      <td>-0.537598</td>\n",
       "      <td>-0.096436</td>\n",
       "      <td>0.713867</td>\n",
       "      <td>0.598633</td>\n",
       "      <td>-0.123840</td>\n",
       "      <td>5.781250</td>\n",
       "      <td>-0.722656</td>\n",
       "      <td>-0.380127</td>\n",
       "      <td>1.162109</td>\n",
       "    </tr>\n",
       "    <tr>\n",
       "      <th>4</th>\n",
       "      <td>-1.660156</td>\n",
       "      <td>-0.670898</td>\n",
       "      <td>-1.784180</td>\n",
       "      <td>-1.669922</td>\n",
       "      <td>0.500488</td>\n",
       "      <td>-1.654297</td>\n",
       "      <td>0.500488</td>\n",
       "      <td>-2.291016</td>\n",
       "      <td>-1.388672</td>\n",
       "      <td>-0.735840</td>\n",
       "      <td>...</td>\n",
       "      <td>0.025177</td>\n",
       "      <td>-0.537598</td>\n",
       "      <td>-0.096436</td>\n",
       "      <td>0.713867</td>\n",
       "      <td>0.598633</td>\n",
       "      <td>-0.123840</td>\n",
       "      <td>5.781250</td>\n",
       "      <td>-0.722656</td>\n",
       "      <td>-0.829102</td>\n",
       "      <td>1.162109</td>\n",
       "    </tr>\n",
       "    <tr>\n",
       "      <th>...</th>\n",
       "      <td>...</td>\n",
       "      <td>...</td>\n",
       "      <td>...</td>\n",
       "      <td>...</td>\n",
       "      <td>...</td>\n",
       "      <td>...</td>\n",
       "      <td>...</td>\n",
       "      <td>...</td>\n",
       "      <td>...</td>\n",
       "      <td>...</td>\n",
       "      <td>...</td>\n",
       "      <td>...</td>\n",
       "      <td>...</td>\n",
       "      <td>...</td>\n",
       "      <td>...</td>\n",
       "      <td>...</td>\n",
       "      <td>...</td>\n",
       "      <td>...</td>\n",
       "      <td>...</td>\n",
       "      <td>...</td>\n",
       "      <td>...</td>\n",
       "    </tr>\n",
       "    <tr>\n",
       "      <th>18323522</th>\n",
       "      <td>0.622070</td>\n",
       "      <td>-0.670898</td>\n",
       "      <td>1.701172</td>\n",
       "      <td>1.661133</td>\n",
       "      <td>1.000977</td>\n",
       "      <td>1.563477</td>\n",
       "      <td>1.000977</td>\n",
       "      <td>0.592285</td>\n",
       "      <td>0.791992</td>\n",
       "      <td>-0.735840</td>\n",
       "      <td>...</td>\n",
       "      <td>3.324219</td>\n",
       "      <td>-0.251465</td>\n",
       "      <td>-0.096436</td>\n",
       "      <td>0.511719</td>\n",
       "      <td>1.506836</td>\n",
       "      <td>1.152344</td>\n",
       "      <td>-0.172974</td>\n",
       "      <td>-0.722656</td>\n",
       "      <td>0.370361</td>\n",
       "      <td>1.226562</td>\n",
       "    </tr>\n",
       "    <tr>\n",
       "      <th>18323523</th>\n",
       "      <td>0.624512</td>\n",
       "      <td>-0.670898</td>\n",
       "      <td>1.701172</td>\n",
       "      <td>1.661133</td>\n",
       "      <td>1.000977</td>\n",
       "      <td>1.563477</td>\n",
       "      <td>1.000977</td>\n",
       "      <td>-1.678711</td>\n",
       "      <td>0.791992</td>\n",
       "      <td>-0.070068</td>\n",
       "      <td>...</td>\n",
       "      <td>3.324219</td>\n",
       "      <td>-0.251465</td>\n",
       "      <td>-0.096436</td>\n",
       "      <td>0.511719</td>\n",
       "      <td>1.506836</td>\n",
       "      <td>1.152344</td>\n",
       "      <td>-0.172974</td>\n",
       "      <td>-0.722656</td>\n",
       "      <td>-0.766602</td>\n",
       "      <td>1.226562</td>\n",
       "    </tr>\n",
       "    <tr>\n",
       "      <th>18323524</th>\n",
       "      <td>0.626465</td>\n",
       "      <td>-0.670898</td>\n",
       "      <td>1.701172</td>\n",
       "      <td>1.661133</td>\n",
       "      <td>1.000977</td>\n",
       "      <td>1.563477</td>\n",
       "      <td>1.000977</td>\n",
       "      <td>-0.740723</td>\n",
       "      <td>0.791992</td>\n",
       "      <td>-0.735840</td>\n",
       "      <td>...</td>\n",
       "      <td>3.324219</td>\n",
       "      <td>-0.251465</td>\n",
       "      <td>-0.096436</td>\n",
       "      <td>0.511719</td>\n",
       "      <td>1.506836</td>\n",
       "      <td>1.152344</td>\n",
       "      <td>-0.172974</td>\n",
       "      <td>-0.722656</td>\n",
       "      <td>-0.349854</td>\n",
       "      <td>1.226562</td>\n",
       "    </tr>\n",
       "    <tr>\n",
       "      <th>18323525</th>\n",
       "      <td>0.628906</td>\n",
       "      <td>-0.670898</td>\n",
       "      <td>1.701172</td>\n",
       "      <td>1.661133</td>\n",
       "      <td>1.000977</td>\n",
       "      <td>1.563477</td>\n",
       "      <td>1.000977</td>\n",
       "      <td>0.800293</td>\n",
       "      <td>0.791992</td>\n",
       "      <td>-0.735840</td>\n",
       "      <td>...</td>\n",
       "      <td>3.324219</td>\n",
       "      <td>-0.251465</td>\n",
       "      <td>-0.096436</td>\n",
       "      <td>0.511719</td>\n",
       "      <td>1.506836</td>\n",
       "      <td>1.152344</td>\n",
       "      <td>-0.172974</td>\n",
       "      <td>-0.722656</td>\n",
       "      <td>0.317627</td>\n",
       "      <td>1.226562</td>\n",
       "    </tr>\n",
       "    <tr>\n",
       "      <th>18323526</th>\n",
       "      <td>0.631348</td>\n",
       "      <td>-0.670898</td>\n",
       "      <td>1.701172</td>\n",
       "      <td>1.661133</td>\n",
       "      <td>1.000977</td>\n",
       "      <td>1.563477</td>\n",
       "      <td>1.000977</td>\n",
       "      <td>-0.046295</td>\n",
       "      <td>0.791992</td>\n",
       "      <td>-0.735840</td>\n",
       "      <td>...</td>\n",
       "      <td>3.324219</td>\n",
       "      <td>-0.251465</td>\n",
       "      <td>-0.096436</td>\n",
       "      <td>0.511719</td>\n",
       "      <td>1.506836</td>\n",
       "      <td>1.152344</td>\n",
       "      <td>-0.172974</td>\n",
       "      <td>-0.722656</td>\n",
       "      <td>0.196045</td>\n",
       "      <td>1.226562</td>\n",
       "    </tr>\n",
       "  </tbody>\n",
       "</table>\n",
       "<p>18231121 rows × 24 columns</p>\n",
       "</div>"
      ],
      "text/plain": [
       "          building_id     meter       day      hour   weekend     month  \\\n",
       "0           -1.802734 -0.670898 -1.784180 -1.669922  0.500488 -1.654297   \n",
       "1           -1.736328 -0.670898 -1.784180 -1.669922  0.500488 -1.654297   \n",
       "2           -1.690430 -0.670898 -1.784180 -1.669922  0.500488 -1.654297   \n",
       "3           -1.662109 -0.670898 -1.784180 -1.669922  0.500488 -1.654297   \n",
       "4           -1.660156 -0.670898 -1.784180 -1.669922  0.500488 -1.654297   \n",
       "...               ...       ...       ...       ...       ...       ...   \n",
       "18323522     0.622070 -0.670898  1.701172  1.661133  1.000977  1.563477   \n",
       "18323523     0.624512 -0.670898  1.701172  1.661133  1.000977  1.563477   \n",
       "18323524     0.626465 -0.670898  1.701172  1.661133  1.000977  1.563477   \n",
       "18323525     0.628906 -0.670898  1.701172  1.661133  1.000977  1.563477   \n",
       "18323526     0.631348 -0.670898  1.701172  1.661133  1.000977  1.563477   \n",
       "\n",
       "          dayofweek  building_mean   site_id  primary_use  ...  \\\n",
       "0          0.500488      -1.378906 -1.586914     0.929199  ...   \n",
       "1          0.500488       0.165405 -1.586914     1.261719  ...   \n",
       "2          0.500488       0.348145 -1.586914    -0.070068  ...   \n",
       "3          0.500488      -0.171997 -1.388672    -0.735840  ...   \n",
       "4          0.500488      -2.291016 -1.388672    -0.735840  ...   \n",
       "...             ...            ...       ...          ...  ...   \n",
       "18323522   1.000977       0.592285  0.791992    -0.735840  ...   \n",
       "18323523   1.000977      -1.678711  0.791992    -0.070068  ...   \n",
       "18323524   1.000977      -0.740723  0.791992    -0.735840  ...   \n",
       "18323525   1.000977       0.800293  0.791992    -0.735840  ...   \n",
       "18323526   1.000977      -0.046295  0.791992    -0.735840  ...   \n",
       "\n",
       "          cloud_coverage  dew_temperature  precip_depth_1_hr  \\\n",
       "0               0.025177         1.199219          -0.245239   \n",
       "1               0.025177         1.199219          -0.245239   \n",
       "2               0.025177         1.199219          -0.245239   \n",
       "3               0.025177        -0.537598          -0.096436   \n",
       "4               0.025177        -0.537598          -0.096436   \n",
       "...                  ...              ...                ...   \n",
       "18323522        3.324219        -0.251465          -0.096436   \n",
       "18323523        3.324219        -0.251465          -0.096436   \n",
       "18323524        3.324219        -0.251465          -0.096436   \n",
       "18323525        3.324219        -0.251465          -0.096436   \n",
       "18323526        3.324219        -0.251465          -0.096436   \n",
       "\n",
       "          sea_level_pressure  wind_direction  wind_speed  IsHoliday  \\\n",
       "0                   0.583984        0.689453   -0.343994   5.781250   \n",
       "1                   0.583984        0.689453   -0.343994   5.781250   \n",
       "2                   0.583984        0.689453   -0.343994   5.781250   \n",
       "3                   0.713867        0.598633   -0.123840   5.781250   \n",
       "4                   0.713867        0.598633   -0.123840   5.781250   \n",
       "...                      ...             ...         ...        ...   \n",
       "18323522            0.511719        1.506836    1.152344  -0.172974   \n",
       "18323523            0.511719        1.506836    1.152344  -0.172974   \n",
       "18323524            0.511719        1.506836    1.152344  -0.172974   \n",
       "18323525            0.511719        1.506836    1.152344  -0.172974   \n",
       "18323526            0.511719        1.506836    1.152344  -0.172974   \n",
       "\n",
       "          horizsolar  Sensible_Heat  relative_humidity  \n",
       "0          -0.684570      -0.812988           1.574219  \n",
       "1          -0.684570       2.089844           1.574219  \n",
       "2          -0.684570      -0.626465           1.574219  \n",
       "3          -0.722656      -0.380127           1.162109  \n",
       "4          -0.722656      -0.829102           1.162109  \n",
       "...              ...            ...                ...  \n",
       "18323522   -0.722656       0.370361           1.226562  \n",
       "18323523   -0.722656      -0.766602           1.226562  \n",
       "18323524   -0.722656      -0.349854           1.226562  \n",
       "18323525   -0.722656       0.317627           1.226562  \n",
       "18323526   -0.722656       0.196045           1.226562  \n",
       "\n",
       "[18231121 rows x 24 columns]"
      ]
     },
     "execution_count": 14,
     "metadata": {},
     "output_type": "execute_result"
    }
   ],
   "source": [
    "memory_reduction(X_train, use_float16=True)"
   ]
  },
  {
   "cell_type": "code",
   "execution_count": 15,
   "metadata": {},
   "outputs": [
    {
     "name": "stdout",
     "output_type": "stream",
     "text": [
      "<class 'pandas.core.frame.DataFrame'>\n",
      "Int64Index: 18231121 entries, 0 to 18323526\n",
      "Data columns (total 24 columns):\n",
      " #   Column              Dtype  \n",
      "---  ------              -----  \n",
      " 0   building_id         float16\n",
      " 1   meter               float16\n",
      " 2   day                 float16\n",
      " 3   hour                float16\n",
      " 4   weekend             float16\n",
      " 5   month               float16\n",
      " 6   dayofweek           float16\n",
      " 7   building_mean       float16\n",
      " 8   site_id             float16\n",
      " 9   primary_use         float16\n",
      " 10  square_feet         float16\n",
      " 11  year_built          float16\n",
      " 12  floor_count         float16\n",
      " 13  air_temperature     float16\n",
      " 14  cloud_coverage      float16\n",
      " 15  dew_temperature     float16\n",
      " 16  precip_depth_1_hr   float16\n",
      " 17  sea_level_pressure  float16\n",
      " 18  wind_direction      float16\n",
      " 19  wind_speed          float16\n",
      " 20  IsHoliday           float16\n",
      " 21  horizsolar          float16\n",
      " 22  Sensible_Heat       float16\n",
      " 23  relative_humidity   float16\n",
      "dtypes: float16(24)\n",
      "memory usage: 973.6 MB\n"
     ]
    }
   ],
   "source": [
    "X_train.info()"
   ]
  },
  {
   "cell_type": "code",
   "execution_count": 16,
   "metadata": {},
   "outputs": [],
   "source": [
    "folds = 4\n",
    "seed = 222\n",
    "shuffle = False\n",
    "kf = KFold(n_splits=folds, shuffle=shuffle, random_state=seed)"
   ]
  },
  {
   "cell_type": "code",
   "execution_count": 17,
   "metadata": {},
   "outputs": [],
   "source": [
    "X_train = X_train.dropna()"
   ]
  },
  {
   "cell_type": "markdown",
   "metadata": {},
   "source": [
    "# splitting data into train and valid  :"
   ]
  },
  {
   "cell_type": "code",
   "execution_count": 18,
   "metadata": {},
   "outputs": [
    {
     "name": "stdout",
     "output_type": "stream",
     "text": [
      "train 13673341 valid 4557780\n"
     ]
    }
   ],
   "source": [
    "for train_idx, valid_idx in kf.split(X_train, y_train):\n",
    "    xx_train,yy_train = X_train.iloc[train_idx,:], y_train[train_idx]\n",
    "    xx_valid,yy_valid = X_train.iloc[valid_idx,:], y_train[valid_idx]\n",
    "print('train', len(train_idx), 'valid', len(valid_idx))"
   ]
  },
  {
   "cell_type": "code",
   "execution_count": 19,
   "metadata": {},
   "outputs": [],
   "source": [
    "del X_train,kf"
   ]
  },
  {
   "cell_type": "code",
   "execution_count": 20,
   "metadata": {},
   "outputs": [],
   "source": [
    "import warnings\n",
    "warnings.filterwarnings('ignore')"
   ]
  },
  {
   "cell_type": "markdown",
   "metadata": {},
   "source": [
    "# Baseline model :"
   ]
  },
  {
   "cell_type": "code",
   "execution_count": 21,
   "metadata": {},
   "outputs": [],
   "source": [
    "def baseline(y_actual,y_pred) :\n",
    "    # Finding RMSE\n",
    "    k = np.mean((y_actual - y_pred)*(y_actual-y_pred))\n",
    "    k = np.sqrt(k)\n",
    "    print(\"The rmse score of baseline model is :\",k)\n",
    "    return k"
   ]
  },
  {
   "cell_type": "code",
   "execution_count": 22,
   "metadata": {},
   "outputs": [
    {
     "name": "stdout",
     "output_type": "stream",
     "text": [
      "The rmse score of baseline model is : 1.7612385\n"
     ]
    },
    {
     "data": {
      "text/plain": [
       "1.7612385"
      ]
     },
     "execution_count": 22,
     "metadata": {},
     "output_type": "execute_result"
    }
   ],
   "source": [
    "baseline(yy_train,np.median(yy_train))"
   ]
  },
  {
   "cell_type": "markdown",
   "metadata": {},
   "source": [
    "Base line rmse score for any model is 1.761"
   ]
  },
  {
   "cell_type": "markdown",
   "metadata": {},
   "source": [
    "# SGDRegressor"
   ]
  },
  {
   "cell_type": "code",
   "execution_count": 23,
   "metadata": {},
   "outputs": [],
   "source": [
    "from sklearn.linear_model import SGDRegressor"
   ]
  },
  {
   "cell_type": "code",
   "execution_count": 24,
   "metadata": {},
   "outputs": [
    {
     "data": {
      "application/vnd.jupyter.widget-view+json": {
       "model_id": "558f10433cba4f5e978869b2372f2535",
       "version_major": 2,
       "version_minor": 0
      },
      "text/plain": [
       "HBox(children=(FloatProgress(value=0.0, max=7.0), HTML(value='')))"
      ]
     },
     "metadata": {},
     "output_type": "display_data"
    },
    {
     "name": "stdout",
     "output_type": "stream",
     "text": [
      "rmse for alpha =  1e-05 is 1.0431801428265473\n",
      "rmse for alpha =  0.0001 is 1.0431709347420761\n",
      "rmse for alpha =  0.001 is 1.0430917021537938\n",
      "rmse for alpha =  0.01 is 1.0421257911165434\n",
      "rmse for alpha =  0.1 is 1.0509707456562867\n",
      "rmse for alpha =  1 is 1.2158266259110417\n",
      "rmse for alpha =  10 is 1.6079251055953723\n",
      "\n"
     ]
    }
   ],
   "source": [
    "#https://www.kaggle.com/nsrose7224/stochastic-gradient-descent-regressor\n",
    "alpha_sgd = [10 ** x for x in range(-5, 2)]\n",
    "rmse_sgd = []\n",
    "for i in tqdm(alpha_sgd): \n",
    "    sgd_clf = SGDRegressor(alpha = i,loss='squared_loss', eta0=0.01, verbose=0,random_state=42, penalty='l2',early_stopping=True)\n",
    "    sgd_clf.fit(xx_train, yy_train)\n",
    "    y_pred =  sgd_clf.predict(xx_valid)\n",
    "    error = sqrt(mean_squared_error(yy_valid, y_pred))\n",
    "    print ('rmse for alpha = ',i,'is',error)\n",
    "    rmse_sgd.append(error)\n"
   ]
  },
  {
   "cell_type": "code",
   "execution_count": 25,
   "metadata": {},
   "outputs": [
    {
     "name": "stdout",
     "output_type": "stream",
     "text": [
      "best_alpha 3\n"
     ]
    },
    {
     "data": {
      "image/png": "[encoded data removed]",
      "text/plain": [
       "<Figure size 432x288 with 1 Axes>"
      ]
     },
     "metadata": {
      "needs_background": "light"
     },
     "output_type": "display_data"
    }
   ],
   "source": [
    "best_alpha = np.argmin(rmse_sgd)\n",
    "print(\"best_alpha\",best_alpha)\n",
    "fig, ax = plt.subplots()\n",
    "ax.plot(alpha_sgd, rmse_sgd,c='g')\n",
    "for i, txt in enumerate(np.round(rmse_sgd,3)):\n",
    "    ax.annotate((alpha_sgd[i],np.round(txt,3)), (alpha_sgd[i],rmse_sgd[i]))\n",
    "plt.grid()\n",
    "plt.title(\"Cross Validation Error for each alpha\")\n",
    "plt.xlabel(\"Alpha i's\")\n",
    "plt.ylabel(\"Error measure\")\n",
    "plt.show()"
   ]
  },
  {
   "cell_type": "markdown",
   "metadata": {},
   "source": [
    "# ARD Regressor :"
   ]
  },
  {
   "cell_type": "code",
   "execution_count": 26,
   "metadata": {},
   "outputs": [],
   "source": [
    "from sklearn.linear_model import ARDRegression"
   ]
  },
  {
   "cell_type": "code",
   "execution_count": 27,
   "metadata": {},
   "outputs": [
    {
     "data": {
      "application/vnd.jupyter.widget-view+json": {
       "model_id": "e585eeca9b674512aaf6a4abba2edf5c",
       "version_major": 2,
       "version_minor": 0
      },
      "text/plain": [
       "HBox(children=(FloatProgress(value=0.0, max=7.0), HTML(value='')))"
      ]
     },
     "metadata": {},
     "output_type": "display_data"
    },
    {
     "name": "stdout",
     "output_type": "stream",
     "text": [
      "rmse for alpha_1 =  1e-05 is 1.0410296912560568\n",
      "rmse for alpha_1 =  0.0001 is 1.0410296912560588\n",
      "rmse for alpha_1 =  0.001 is 1.0410296912560568\n",
      "rmse for alpha_1 =  0.01 is 1.0410296912560595\n",
      "rmse for alpha_1 =  0.1 is 1.041029691256064\n",
      "rmse for alpha_1 =  1 is 1.0410296912561186\n",
      "rmse for alpha_1 =  10 is 1.0410296912566501\n",
      "\n"
     ]
    }
   ],
   "source": [
    "#https://www.kaggle.com/nsrose7224/stochastic-gradient-descent-regressor\n",
    "alpha_ard = [10 ** x for x in range(-5, 2)]\n",
    "rmse_ard = []\n",
    "for i in tqdm(alpha_ard): \n",
    "    ard_clf = ARDRegression(n_iter=300, tol=0.001, alpha_1= i, alpha_2= 1e-05, lambda_1=1e-6, lambda_2=1e-06, compute_score=False)\n",
    "    ard_clf.fit(xx_train, yy_train)\n",
    "    y_pred =  ard_clf.predict(xx_valid)\n",
    "    error = sqrt(mean_squared_error(yy_valid, y_pred))\n",
    "    print ('rmse for alpha_1 = ',i,'is',error)\n",
    "    rmse_ard.append(error)\n"
   ]
  },
  {
   "cell_type": "code",
   "execution_count": 28,
   "metadata": {},
   "outputs": [
    {
     "name": "stdout",
     "output_type": "stream",
     "text": [
      "best_alpha 0\n"
     ]
    },
    {
     "data": {
      "image/png": "[encoded data removed]",
      "text/plain": [
       "<Figure size 432x288 with 1 Axes>"
      ]
     },
     "metadata": {
      "needs_background": "light"
     },
     "output_type": "display_data"
    }
   ],
   "source": [
    "best_alpha = np.argmin(rmse_ard)\n",
    "print(\"best_alpha\",best_alpha)\n",
    "fig, ax = plt.subplots()\n",
    "ax.plot(alpha_ard, rmse_ard,c='g')\n",
    "for i, txt in enumerate(np.round(rmse_ard,3)):\n",
    "    ax.annotate((alpha_ard[i],np.round(txt,3)), (alpha_ard[i],rmse_ard[i]))\n",
    "plt.grid()\n",
    "plt.title(\"Cross Validation Error for each alpha\")\n",
    "plt.xlabel(\"Alpha i's\")\n",
    "plt.ylabel(\"Error measure\")\n",
    "plt.show()"
   ]
  },
  {
   "cell_type": "markdown",
   "metadata": {},
   "source": [
    "# DecisionTreeRegressor :"
   ]
  },
  {
   "cell_type": "code",
   "execution_count": 29,
   "metadata": {},
   "outputs": [],
   "source": [
    "from sklearn.tree import DecisionTreeRegressor"
   ]
  },
  {
   "cell_type": "code",
   "execution_count": 30,
   "metadata": {},
   "outputs": [
    {
     "data": {
      "application/vnd.jupyter.widget-view+json": {
       "model_id": "1afeb1a2eaa24698bea4cd944aa9c269",
       "version_major": 2,
       "version_minor": 0
      },
      "text/plain": [
       "HBox(children=(FloatProgress(value=0.0, max=5.0), HTML(value='')))"
      ]
     },
     "metadata": {},
     "output_type": "display_data"
    },
    {
     "name": "stdout",
     "output_type": "stream",
     "text": [
      "rmse for max_depth  3 is 1.0889306600635569\n",
      "rmse for max_depth  5 is 1.0365821929830623\n",
      "rmse for max_depth  10 is 0.8373526871453013\n",
      "rmse for max_depth  50 is 0.8129701087072789\n",
      "rmse for max_depth  100 is 0.8141675950542806\n",
      "\n"
     ]
    }
   ],
   "source": [
    "max_depth_dtr = [3,5,10,50,100] \n",
    "rmse_dtr = []\n",
    "for i in tqdm(max_depth_dtr):\n",
    "    dtr_clf = DecisionTreeRegressor(max_depth=i)\n",
    "    dtr_clf.fit(xx_train,yy_train)\n",
    "    y_pred = dtr_clf.predict(xx_valid)\n",
    "    error = sqrt(mean_squared_error(yy_valid, y_pred))\n",
    "    rmse_dtr.append(error)\n",
    "    print ('rmse for max_depth ',i,'is',error)\n"
   ]
  },
  {
   "cell_type": "code",
   "execution_count": 31,
   "metadata": {},
   "outputs": [
    {
     "name": "stdout",
     "output_type": "stream",
     "text": [
      "max_depth 3\n"
     ]
    },
    {
     "data": {
      "image/png": "[encoded data removed]",
      "text/plain": [
       "<Figure size 432x288 with 1 Axes>"
      ]
     },
     "metadata": {
      "needs_background": "light"
     },
     "output_type": "display_data"
    }
   ],
   "source": [
    "best_max_depth = np.argmin(rmse_dtr)\n",
    "print(\"max_depth\",best_max_depth)\n",
    "fig, ax = plt.subplots()\n",
    "ax.plot(max_depth_dtr, rmse_dtr,c='g')\n",
    "for i, txt in enumerate(np.round(rmse_dtr,3)):\n",
    "    ax.annotate((max_depth_dtr[i],np.round(txt,3)), (max_depth_dtr[i],rmse_dtr[i]))\n",
    "plt.grid()\n",
    "plt.title(\"Cross Validation Error for each max_depth\")\n",
    "plt.xlabel(\"max_depth i's\")\n",
    "plt.ylabel(\"Error measure\")\n",
    "plt.show()"
   ]
  },
  {
   "cell_type": "markdown",
   "metadata": {},
   "source": [
    "# ElasticNet :"
   ]
  },
  {
   "cell_type": "code",
   "execution_count": 32,
   "metadata": {},
   "outputs": [],
   "source": [
    "from sklearn.linear_model import ElasticNet"
   ]
  },
  {
   "cell_type": "code",
   "execution_count": 33,
   "metadata": {},
   "outputs": [
    {
     "data": {
      "application/vnd.jupyter.widget-view+json": {
       "model_id": "cbfa0853732343b1a3e47b834c508ca3",
       "version_major": 2,
       "version_minor": 0
      },
      "text/plain": [
       "HBox(children=(FloatProgress(value=0.0, max=7.0), HTML(value='')))"
      ]
     },
     "metadata": {},
     "output_type": "display_data"
    },
    {
     "name": "stdout",
     "output_type": "stream",
     "text": [
      "rmse for alpha_1 =  1e-05 is 1.0410941762319337\n",
      "rmse for alpha_1 =  0.0001 is 1.0410726089128657\n",
      "rmse for alpha_1 =  0.001 is 1.040984568053859\n",
      "rmse for alpha_1 =  0.01 is 1.0403567276949972\n",
      "rmse for alpha_1 =  0.1 is 1.0504585015433145\n",
      "rmse for alpha_1 =  1 is 1.3236307107197975\n",
      "rmse for alpha_1 =  10 is 1.777608077558771\n",
      "\n"
     ]
    }
   ],
   "source": [
    "#https://scikit-learn.org/stable/modules/generated/sklearn.linear_model.ElasticNet.html\n",
    "alpha_eln = [10 ** x for x in range(-5, 2)]\n",
    "rmse_eln = []\n",
    "for i in tqdm(alpha_eln): \n",
    "    eln_clf = ElasticNet(alpha= i , l1_ratio=0.5)\n",
    "    eln_clf.fit(xx_train, yy_train)\n",
    "    y_pred =  eln_clf.predict(xx_valid)\n",
    "    error = sqrt(mean_squared_error(yy_valid, y_pred))\n",
    "    print ('rmse for alpha_1 = ',i,'is',error)\n",
    "    rmse_eln.append(error)\n"
   ]
  },
  {
   "cell_type": "code",
   "execution_count": 34,
   "metadata": {},
   "outputs": [
    {
     "name": "stdout",
     "output_type": "stream",
     "text": [
      "best_alpha 3\n"
     ]
    },
    {
     "data": {
      "image/png": "[encoded data removed]",
      "text/plain": [
       "<Figure size 432x288 with 1 Axes>"
      ]
     },
     "metadata": {
      "needs_background": "light"
     },
     "output_type": "display_data"
    }
   ],
   "source": [
    "best_alpha = np.argmin(rmse_eln)\n",
    "print(\"best_alpha\",best_alpha)\n",
    "fig, ax = plt.subplots()\n",
    "ax.plot(alpha_eln, rmse_eln,c='g')\n",
    "for i, txt in enumerate(np.round(rmse_eln,3)):\n",
    "    ax.annotate((alpha_eln[i],np.round(txt,3)), (alpha_eln[i],rmse_eln[i]))\n",
    "plt.grid()\n",
    "plt.title(\"Cross Validation Error for each alpha\")\n",
    "plt.xlabel(\"Alpha i's\")\n",
    "plt.ylabel(\"Error measure\")\n",
    "plt.show()"
   ]
  },
  {
   "cell_type": "markdown",
   "metadata": {},
   "source": [
    "# XGBRegressor :"
   ]
  },
  {
   "cell_type": "code",
   "execution_count": 30,
   "metadata": {},
   "outputs": [],
   "source": [
    "from xgboost import XGBRegressor"
   ]
  },
  {
   "cell_type": "code",
   "execution_count": null,
   "metadata": {},
   "outputs": [
    {
     "data": {
      "application/vnd.jupyter.widget-view+json": {
       "model_id": "08d41a3b62eb4da6af3a4512077bb176",
       "version_major": 2,
       "version_minor": 0
      },
      "text/plain": [
       "HBox(children=(FloatProgress(value=0.0, max=5.0), HTML(value='')))"
      ]
     },
     "metadata": {},
     "output_type": "display_data"
    },
    {
     "name": "stdout",
     "output_type": "stream",
     "text": [
      "[11:09:34] WARNING: /workspace/src/learner.cc:480: \n",
      "Parameters: { verbose } might not be used.\n",
      "\n",
      "  This may not be accurate due to some parameters are only used in language bindings but\n",
      "  passed down to XGBoost core.  Or some parameters are not used but slip through this\n",
      "  verification. Please open an issue if you find above cases.\n",
      "\n",
      "\n",
      "[11:09:35] WARNING: /workspace/src/gbm/gbtree.cc:139: Tree method is automatically selected to be 'approx' for faster speed. To use old behavior (exact greedy algorithm on single machine), set tree_method to 'exact'.\n",
      "rmse for estimators =  3 is 0.8679099295640513\n",
      "[11:40:05] WARNING: /workspace/src/learner.cc:480: \n",
      "Parameters: { verbose } might not be used.\n",
      "\n",
      "  This may not be accurate due to some parameters are only used in language bindings but\n",
      "  passed down to XGBoost core.  Or some parameters are not used but slip through this\n",
      "  verification. Please open an issue if you find above cases.\n",
      "\n",
      "\n",
      "[11:40:05] WARNING: /workspace/src/gbm/gbtree.cc:139: Tree method is automatically selected to be 'approx' for faster speed. To use old behavior (exact greedy algorithm on single machine), set tree_method to 'exact'.\n",
      "rmse for estimators =  5 is 0.7629313280817356\n",
      "[12:24:07] WARNING: /workspace/src/learner.cc:480: \n",
      "Parameters: { verbose } might not be used.\n",
      "\n",
      "  This may not be accurate due to some parameters are only used in language bindings but\n",
      "  passed down to XGBoost core.  Or some parameters are not used but slip through this\n",
      "  verification. Please open an issue if you find above cases.\n",
      "\n",
      "\n",
      "[12:24:08] WARNING: /workspace/src/gbm/gbtree.cc:139: Tree method is automatically selected to be 'approx' for faster speed. To use old behavior (exact greedy algorithm on single machine), set tree_method to 'exact'.\n",
      "rmse for estimators =  9 is 0.6598252815482151\n"
     ]
    }
   ],
   "source": [
    "#est_xgb = [20,50,100,200] \n",
    "max_depth_xgb= [3,5,9,13,21] \n",
    "rmse_xgb = []\n",
    "for i in tqdm(max_depth_xgb):\n",
    "    xgb_clf =XGBRegressor(n_estimators=50,max_depth = i,nthread=-1,verbose = 1)\n",
    "    xgb_clf.fit(xx_train,yy_train)\n",
    "    y_pred =  xgb_clf.predict(xx_valid)\n",
    "    error = sqrt(mean_squared_error(yy_valid, y_pred))\n",
    "    rmse_xgb.append(error)\n",
    "    print ('rmse for estimators = ',i,'is',error)\n"
   ]
  },
  {
   "cell_type": "code",
   "execution_count": null,
   "metadata": {},
   "outputs": [],
   "source": [
    "best_est = np.argmin(rmse_xgb)\n",
    "print(\"best_alpha\",best_est)\n",
    "fig, ax = plt.subplots()\n",
    "ax.plot(max_depth_xgb, rmse_xgb,c='g')\n",
    "for i, txt in enumerate(np.round(rmse_xgb,3)):\n",
    "    ax.annotate((max_depth_xgb[i],np.round(txt,3)), (max_depth_xgb[i],rmse_xgb[i]))\n",
    "plt.grid()\n",
    "plt.title(\"Cross Validation Error for number of estimators\")\n",
    "plt.xlabel(\"Alpha i's\")\n",
    "plt.ylabel(\"Error measure\")\n",
    "plt.show()"
   ]
  },
  {
   "cell_type": "markdown",
   "metadata": {},
   "source": [
    "# Random forest regressor :"
   ]
  },
  {
   "cell_type": "code",
   "execution_count": 23,
   "metadata": {},
   "outputs": [],
   "source": [
    "from sklearn.ensemble import RandomForestRegressor"
   ]
  },
  {
   "cell_type": "code",
   "execution_count": 24,
   "metadata": {},
   "outputs": [
    {
     "data": {
      "application/vnd.jupyter.widget-view+json": {
       "model_id": "761096a334af41fdb871382a1aa62eeb",
       "version_major": 2,
       "version_minor": 0
      },
      "text/plain": [
       "HBox(children=(FloatProgress(value=0.0, max=4.0), HTML(value='')))"
      ]
     },
     "metadata": {},
     "output_type": "display_data"
    },
    {
     "name": "stderr",
     "output_type": "stream",
     "text": [
      "[Parallel(n_jobs=4)]: Using backend ThreadingBackend with 4 concurrent workers.\n",
      "[Parallel(n_jobs=4)]: Done  42 tasks      | elapsed: 10.1min\n",
      "[Parallel(n_jobs=4)]: Done  50 out of  50 | elapsed: 11.6min finished\n",
      "[Parallel(n_jobs=4)]: Using backend ThreadingBackend with 4 concurrent workers.\n",
      "[Parallel(n_jobs=4)]: Done  42 tasks      | elapsed:    1.7s\n",
      "[Parallel(n_jobs=4)]: Done  50 out of  50 | elapsed:    2.0s finished\n"
     ]
    },
    {
     "name": "stdout",
     "output_type": "stream",
     "text": [
      "rmse for each max_depth =  3 is 1.0873516179452936\n"
     ]
    },
    {
     "name": "stderr",
     "output_type": "stream",
     "text": [
      "[Parallel(n_jobs=4)]: Using backend ThreadingBackend with 4 concurrent workers.\n",
      "[Parallel(n_jobs=4)]: Done  42 tasks      | elapsed: 17.0min\n",
      "[Parallel(n_jobs=4)]: Done  50 out of  50 | elapsed: 19.6min finished\n",
      "[Parallel(n_jobs=4)]: Using backend ThreadingBackend with 4 concurrent workers.\n",
      "[Parallel(n_jobs=4)]: Done  42 tasks      | elapsed:    2.6s\n",
      "[Parallel(n_jobs=4)]: Done  50 out of  50 | elapsed:    3.0s finished\n"
     ]
    },
    {
     "name": "stdout",
     "output_type": "stream",
     "text": [
      "rmse for each max_depth =  5 is 1.0352048735428592\n"
     ]
    },
    {
     "name": "stderr",
     "output_type": "stream",
     "text": [
      "[Parallel(n_jobs=4)]: Using backend ThreadingBackend with 4 concurrent workers.\n",
      "[Parallel(n_jobs=4)]: Done  42 tasks      | elapsed: 26.2min\n",
      "[Parallel(n_jobs=4)]: Done  50 out of  50 | elapsed: 30.0min finished\n",
      "[Parallel(n_jobs=4)]: Using backend ThreadingBackend with 4 concurrent workers.\n",
      "[Parallel(n_jobs=4)]: Done  42 tasks      | elapsed:    3.8s\n",
      "[Parallel(n_jobs=4)]: Done  50 out of  50 | elapsed:    4.4s finished\n"
     ]
    },
    {
     "name": "stdout",
     "output_type": "stream",
     "text": [
      "rmse for each max_depth =  7 is 0.9682190595883137\n"
     ]
    },
    {
     "name": "stderr",
     "output_type": "stream",
     "text": [
      "[Parallel(n_jobs=4)]: Using backend ThreadingBackend with 4 concurrent workers.\n",
      "[Parallel(n_jobs=4)]: Done  42 tasks      | elapsed: 37.2min\n",
      "[Parallel(n_jobs=4)]: Done  50 out of  50 | elapsed: 42.8min finished\n",
      "[Parallel(n_jobs=4)]: Using backend ThreadingBackend with 4 concurrent workers.\n",
      "[Parallel(n_jobs=4)]: Done  42 tasks      | elapsed:    8.1s\n"
     ]
    },
    {
     "name": "stdout",
     "output_type": "stream",
     "text": [
      "rmse for each max_depth =  11 is 0.7701294878255439\n",
      "\n"
     ]
    },
    {
     "name": "stderr",
     "output_type": "stream",
     "text": [
      "[Parallel(n_jobs=4)]: Done  50 out of  50 | elapsed:    9.3s finished\n"
     ]
    }
   ],
   "source": [
    "##### https://www.kaggle.com/c/datasciencebowl/discussion/12520\n",
    "#estimators = [16,32,64,128]\n",
    "max_depth_rfr = [3,5,7,11] \n",
    "rmse_rfr = []\n",
    "for i in tqdm(max_depth_rfr):\n",
    "    rfr_clf =RandomForestRegressor(n_estimators=50,max_depth = i,n_jobs= 4,verbose=1)#n_jobs=-1,\n",
    "    rfr_clf.fit(xx_train,yy_train)\n",
    "    y_pred =  rfr_clf.predict(xx_valid)\n",
    "    error = sqrt(mean_squared_error(yy_valid, y_pred))\n",
    "    rmse_rfr.append(error)\n",
    "    print ('rmse for each max_depth = ',i,'is',error)\n"
   ]
  },
  {
   "cell_type": "code",
   "execution_count": 25,
   "metadata": {},
   "outputs": [
    {
     "name": "stdout",
     "output_type": "stream",
     "text": [
      "3\n"
     ]
    },
    {
     "data": {
      "image/png": "[encoded data removed]",
      "text/plain": [
       "<Figure size 432x288 with 1 Axes>"
      ]
     },
     "metadata": {
      "needs_background": "light"
     },
     "output_type": "display_data"
    }
   ],
   "source": [
    "best_alpha = np.argmin(rmse_rfr)\n",
    "print(best_alpha)\n",
    "fig, ax = plt.subplots()\n",
    "ax.plot(max_depth_rfr, rmse_rfr,c='g')\n",
    "for i, txt in enumerate(np.round(rmse_rfr,3)):\n",
    "    ax.annotate((max_depth_rfr[i],np.round(txt,3)), (max_depth_rfr[i],rmse_rfr[i]))\n",
    "plt.grid()\n",
    "plt.title(\"Cross Validation Error for each max_depth\")\n",
    "plt.xlabel(\"Alpha i's\")\n",
    "plt.ylabel(\"Error measure\")\n",
    "plt.show()"
   ]
  },
  {
   "cell_type": "markdown",
   "metadata": {},
   "source": [
    "# LGBM :"
   ]
  },
  {
   "cell_type": "code",
   "execution_count": 21,
   "metadata": {},
   "outputs": [],
   "source": [
    "import lightgbm as lgb"
   ]
  },
  {
   "cell_type": "code",
   "execution_count": 22,
   "metadata": {},
   "outputs": [
    {
     "data": {
      "application/vnd.jupyter.widget-view+json": {
       "model_id": "fc990a21f86f47bab8440ad175212ad7",
       "version_major": 2,
       "version_minor": 0
      },
      "text/plain": [
       "HBox(children=(FloatProgress(value=0.0, max=5.0), HTML(value='')))"
      ]
     },
     "metadata": {},
     "output_type": "display_data"
    },
    {
     "name": "stdout",
     "output_type": "stream",
     "text": [
      "rmse for estimators =  25 is 0.8789424524547844\n",
      "rmse for estimators =  50 is 0.7707259931163246\n",
      "rmse for estimators =  150 is 0.7079671301058731\n",
      "rmse for estimators =  500 is 0.6568662420866657\n",
      "rmse for estimators =  1000 is 0.6343791253819746\n",
      "\n"
     ]
    }
   ],
   "source": [
    "\n",
    "alpha_lgb=[25,50,150,500,1000]\n",
    "#alpha_lgb=[500]\n",
    "rmse_lgb = []\n",
    "for i in tqdm(alpha_lgb):\n",
    "    lgb_clf=lgb.LGBMRegressor(boosting_type='gbdt', n_estimators=i, objective='regression', n_jobs=-1)\n",
    "    model = lgb_clf.fit(xx_train,yy_train)\n",
    "    y_pred =  model.predict(xx_valid)\n",
    "    error = sqrt(mean_squared_error(yy_valid, y_pred))\n",
    "    rmse_lgb.append(error)\n",
    "    print ('rmse for estimators = ',i,'is',error)\n",
    "\n"
   ]
  },
  {
   "cell_type": "code",
   "execution_count": 23,
   "metadata": {},
   "outputs": [],
   "source": [
    "import pickle\n",
    "filename = 'finalized_model.sav'\n",
    "pickle.dump(model, open(filename, 'wb'))\n",
    "\n",
    "\n",
    "#loaded_model = pickle.load(open(filename, 'rb'))\n",
    "#result = loaded_model.score(X_test, Y_test)\n",
    "#print(result)"
   ]
  },
  {
   "cell_type": "code",
   "execution_count": 24,
   "metadata": {},
   "outputs": [
    {
     "data": {
      "image/png": "[encoded data removed]",
      "text/plain": [
       "<Figure size 432x288 with 1 Axes>"
      ]
     },
     "metadata": {
      "needs_background": "light"
     },
     "output_type": "display_data"
    }
   ],
   "source": [
    "\n",
    "best_alpha = np.argmin(rmse_lgb)\n",
    "\n",
    "fig, ax = plt.subplots()\n",
    "ax.plot(alpha_lgb, rmse_lgb,c='g')\n",
    "for i, txt in enumerate(np.round(rmse_lgb,3)):\n",
    "    ax.annotate((alpha_lgb[i],np.round(txt,3)), (alpha_lgb[i],rmse_lgb[i]))\n",
    "plt.grid()\n",
    "plt.title(\"Cross Validation Error for each alpha\")\n",
    "plt.xlabel(\"Alpha i's\")\n",
    "plt.ylabel(\"Error measure\")\n",
    "plt.show()"
   ]
  },
  {
   "cell_type": "markdown",
   "metadata": {},
   "source": [
    "# Deep Learning  :"
   ]
  },
  {
   "cell_type": "code",
   "execution_count": 21,
   "metadata": {},
   "outputs": [],
   "source": [
    "from keras import backend\n",
    "backend.clear_session()\n",
    "#from numba import cuda\n",
    "#cuda.select_device(0)\n",
    "#cuda.close()"
   ]
  },
  {
   "cell_type": "code",
   "execution_count": 22,
   "metadata": {},
   "outputs": [
    {
     "name": "stdout",
     "output_type": "stream",
     "text": [
      "(13673341, 24)\n",
      "(4557780, 24)\n",
      "(13673341,)\n",
      "(4557780,)\n"
     ]
    }
   ],
   "source": [
    "print(xx_train.shape)\n",
    "print(xx_valid.shape)\n",
    "print(yy_train.shape)\n",
    "print(yy_valid.shape)"
   ]
  },
  {
   "cell_type": "code",
   "execution_count": 23,
   "metadata": {},
   "outputs": [],
   "source": [
    "from keras.models import Sequential\n",
    "from keras.layers import Dense, Dropout, Activation,BatchNormalization\n",
    "from keras.layers.advanced_activations import PReLU\n",
    "from keras import backend as K\n",
    "\n",
    "\n",
    "model = Sequential()\n",
    "model.add(Dense(512, input_shape=(xx_train.shape[1],), activation='relu'))\n",
    "model.add(Dropout(0.4))\n",
    "model.add(Dense(256, activation='relu'))\n",
    "model.add(Dropout(0.2))\n",
    "model.add(Dense(128, activation='relu'))\n",
    "model.add(Dropout(0.2))\n",
    "model.add(Dense(32, activation='relu'))\n",
    "model.add(Dense(1,activation='linear'))\n",
    "    \n",
    "    \n",
    "def root_mean_squared_error(y_true, y_pred):\n",
    "    return K.sqrt(K.mean(K.square(y_pred - y_true))) \n",
    "\n",
    "model.compile(optimizer = 'adam', loss = root_mean_squared_error)\n",
    "\n",
    "\n"
   ]
  },
  {
   "cell_type": "code",
   "execution_count": 24,
   "metadata": {},
   "outputs": [
    {
     "name": "stdout",
     "output_type": "stream",
     "text": [
      "Model: \"sequential\"\n",
      "_________________________________________________________________\n",
      "Layer (type)                 Output Shape              Param #   \n",
      "=================================================================\n",
      "dense (Dense)                (None, 512)               12800     \n",
      "_________________________________________________________________\n",
      "dropout (Dropout)            (None, 512)               0         \n",
      "_________________________________________________________________\n",
      "dense_1 (Dense)              (None, 256)               131328    \n",
      "_________________________________________________________________\n",
      "dropout_1 (Dropout)          (None, 256)               0         \n",
      "_________________________________________________________________\n",
      "dense_2 (Dense)              (None, 128)               32896     \n",
      "_________________________________________________________________\n",
      "dropout_2 (Dropout)          (None, 128)               0         \n",
      "_________________________________________________________________\n",
      "dense_3 (Dense)              (None, 32)                4128      \n",
      "_________________________________________________________________\n",
      "dense_4 (Dense)              (None, 1)                 33        \n",
      "=================================================================\n",
      "Total params: 181,185\n",
      "Trainable params: 181,185\n",
      "Non-trainable params: 0\n",
      "_________________________________________________________________\n"
     ]
    }
   ],
   "source": [
    "model.summary()"
   ]
  },
  {
   "cell_type": "code",
   "execution_count": 25,
   "metadata": {},
   "outputs": [
    {
     "name": "stdout",
     "output_type": "stream",
     "text": [
      "Epoch 1/25\n",
      "6677/6677 [==============================] - 25s 4ms/step - loss: 0.7614 - val_loss: 0.7646\n",
      "Epoch 2/25\n",
      "6677/6677 [==============================] - 25s 4ms/step - loss: 0.6286 - val_loss: 0.7214\n",
      "Epoch 3/25\n",
      "6677/6677 [==============================] - 24s 4ms/step - loss: 0.5977 - val_loss: 0.7167\n",
      "Epoch 4/25\n",
      "6677/6677 [==============================] - 26s 4ms/step - loss: 0.5823 - val_loss: 0.7157\n",
      "Epoch 5/25\n",
      "6677/6677 [==============================] - 24s 4ms/step - loss: 0.5726 - val_loss: 0.7156\n",
      "Epoch 6/25\n",
      "6677/6677 [==============================] - 25s 4ms/step - loss: 0.5656 - val_loss: 0.7192\n",
      "Epoch 7/25\n",
      "6677/6677 [==============================] - 25s 4ms/step - loss: 0.5604 - val_loss: 0.7101\n",
      "Epoch 8/25\n",
      "6677/6677 [==============================] - 24s 4ms/step - loss: 0.5558 - val_loss: 0.7118\n",
      "Epoch 9/25\n",
      "6677/6677 [==============================] - 25s 4ms/step - loss: 0.5522 - val_loss: 0.7241\n",
      "Epoch 10/25\n",
      "6677/6677 [==============================] - 24s 4ms/step - loss: 0.5490 - val_loss: 0.7200\n",
      "Epoch 11/25\n",
      "6677/6677 [==============================] - 25s 4ms/step - loss: 0.5460 - val_loss: 0.7372\n",
      "Epoch 12/25\n",
      "6677/6677 [==============================] - 25s 4ms/step - loss: 0.5438 - val_loss: 0.7316\n",
      "Epoch 13/25\n",
      "6677/6677 [==============================] - 25s 4ms/step - loss: 0.5414 - val_loss: 0.7193\n",
      "Epoch 14/25\n",
      "6677/6677 [==============================] - 25s 4ms/step - loss: 0.5393 - val_loss: 0.7435\n",
      "Epoch 15/25\n",
      "6677/6677 [==============================] - 24s 4ms/step - loss: 0.5379 - val_loss: 0.7179\n",
      "Epoch 16/25\n",
      "6677/6677 [==============================] - 25s 4ms/step - loss: 0.5363 - val_loss: 0.7373\n",
      "Epoch 17/25\n",
      "6677/6677 [==============================] - 24s 4ms/step - loss: 0.5348 - val_loss: 0.7300\n",
      "Epoch 18/25\n",
      "6677/6677 [==============================] - 25s 4ms/step - loss: 0.5331 - val_loss: 0.7206\n",
      "Epoch 19/25\n",
      "6677/6677 [==============================] - 25s 4ms/step - loss: 0.5320 - val_loss: 0.7347\n",
      "Epoch 20/25\n",
      "6677/6677 [==============================] - 25s 4ms/step - loss: 0.5305 - val_loss: 0.7333\n",
      "Epoch 21/25\n",
      "6677/6677 [==============================] - 26s 4ms/step - loss: 0.5299 - val_loss: 0.7263\n",
      "Epoch 22/25\n",
      "6677/6677 [==============================] - 25s 4ms/step - loss: 0.5287 - val_loss: 0.7294\n",
      "Epoch 23/25\n",
      "6677/6677 [==============================] - 26s 4ms/step - loss: 0.5277 - val_loss: 0.7334\n",
      "Epoch 24/25\n",
      "6677/6677 [==============================] - 25s 4ms/step - loss: 0.5269 - val_loss: 0.7366\n",
      "Epoch 25/25\n",
      "6677/6677 [==============================] - 25s 4ms/step - loss: 0.5262 - val_loss: 0.7338\n"
     ]
    },
    {
     "data": {
      "text/plain": [
       "<tensorflow.python.keras.callbacks.History at 0x7fc30024a550>"
      ]
     },
     "execution_count": 25,
     "metadata": {},
     "output_type": "execute_result"
    }
   ],
   "source": [
    "n_epochs = 25\n",
    "model.fit(xx_train,yy_train, epochs = n_epochs,batch_size=2048,verbose = 1,validation_data=(xx_valid,yy_valid))\n"
   ]
  },
  {
   "cell_type": "markdown",
   "metadata": {},
   "source": [
    "# Summary :"
   ]
  },
  {
   "cell_type": "markdown",
   "metadata": {},
   "source": [
    "1. Creating train and valid set from data and adding new features for better performance of models.\n",
    "2. I tried different Regression models to check which model performs well for given data.\n",
    "3. Performing simple baseline model to know the limit of rmse, which turns out to be 1.71\n",
    "3. Sgd , ard, elasticnet regressor are performing at same level and rmse of these models is around 1.04\n",
    "4. Random Forest and decision tree regressors are performing better than linear models , rmse of these models is around 0.81\n",
    "5. LGBM,XGB and deep learning model are performing way better than other models and rmse is around 0.7\n",
    "6. LGBM and deep learning model are faster compared to XGB"
   ]
  },
  {
   "cell_type": "code",
   "execution_count": null,
   "metadata": {},
   "outputs": [],
   "source": []
  }
 ],
 "metadata": {
  "kernelspec": {
   "display_name": "Python 3",
   "language": "python",
   "name": "python3"
  },
  "language_info": {
   "codemirror_mode": {
    "name": "ipython",
    "version": 3
   },
   "file_extension": ".py",
   "mimetype": "text/x-python",
   "name": "python",
   "nbconvert_exporter": "python",
   "pygments_lexer": "ipython3",
   "version": "3.7.3"
  }
 },
 "nbformat": 4,
 "nbformat_minor": 4
}
