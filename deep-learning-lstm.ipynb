{
 "cells": [
  {
   "cell_type": "markdown",
   "metadata": {},
   "source": [
    "# Importing Libraries :"
   ]
  },
  {
   "cell_type": "code",
   "execution_count": 1,
   "metadata": {},
   "outputs": [],
   "source": [
    "import gc\n",
    "import pandas as pd\n",
    "from tqdm import tqdm_notebook as tqdm\n",
    "import numpy as np # linear algebra\n",
    " # data processing, CSV file I/O (e.g. pd.read_csv)\n",
    "\n",
    "\n",
    "from math import sqrt\n",
    "from sklearn.metrics import mean_squared_error\n",
    "import warnings\n",
    "warnings.filterwarnings('ignore')\n",
    "\n",
    "#from sklearn import preprocessing\n",
    "from sklearn.model_selection import KFold, StratifiedKFold\n",
    "from keras.models import Model, load_model\n",
    "from keras.layers import Input,LSTM, Dropout, Dense, Embedding, concatenate, BatchNormalization, Flatten\n",
    "from keras.callbacks import Callback\n",
    "from keras import backend as K\n",
    "from keras.models import Model\n",
    "from keras.losses import mean_squared_error as mse_loss\n",
    "\n",
    "from keras import optimizers\n",
    "from keras.optimizers import  Adam\n",
    "from keras.callbacks import EarlyStopping, ModelCheckpoint\n",
    "#import catboost as cb"
   ]
  },
  {
   "cell_type": "markdown",
   "metadata": {},
   "source": [
    "# Memory Reduction :"
   ]
  },
  {
   "cell_type": "code",
   "execution_count": 2,
   "metadata": {},
   "outputs": [],
   "source": [
    "# Original code from https://www.kaggle.com/gemartin/load-data-reduce-memory-usage by @gemartin\n",
    "# Modified to support timestamp type, categorical type\n",
    "# Modified to add option to use float16 or not. feather format does not support float16.\n",
    "from pandas.api.types import is_datetime64_any_dtype as is_datetime\n",
    "from pandas.api.types import is_categorical_dtype\n",
    "\n",
    "def memory_reduction(df, use_float16=False):\n",
    "    \"\"\" iterate through all the columns of a dataframe and modify the data type\n",
    "        to reduce memory usage.        \n",
    "    \"\"\"\n",
    "    start_mem = df.memory_usage().sum() / 1024**2\n",
    "    print('Memory usage of dataframe is {:.2f} MB'.format(start_mem))\n",
    "    \n",
    "    for col in df.columns:\n",
    "        if is_datetime(df[col]) or is_categorical_dtype(df[col]):\n",
    "            # skip datetime type or categorical type\n",
    "            continue\n",
    "        col_type = df[col].dtype\n",
    "        \n",
    "        if col_type != object:\n",
    "            c_min = df[col].min()\n",
    "            c_max = df[col].max()\n",
    "            if str(col_type)[:3] == 'int':\n",
    "                if c_min > np.iinfo(np.int8).min and c_max < np.iinfo(np.int8).max:\n",
    "                    df[col] = df[col].astype(np.int8)\n",
    "                elif c_min > np.iinfo(np.int16).min and c_max < np.iinfo(np.int16).max:\n",
    "                    df[col] = df[col].astype(np.int16)\n",
    "                elif c_min > np.iinfo(np.int32).min and c_max < np.iinfo(np.int32).max:\n",
    "                    df[col] = df[col].astype(np.int32)\n",
    "                elif c_min > np.iinfo(np.int64).min and c_max < np.iinfo(np.int64).max:\n",
    "                    df[col] = df[col].astype(np.int64)  \n",
    "            else:\n",
    "                if use_float16 and c_min > np.finfo(np.float16).min and c_max < np.finfo(np.float16).max:\n",
    "                    df[col] = df[col].astype(np.float16)\n",
    "                elif c_min > np.finfo(np.float32).min and c_max < np.finfo(np.float32).max:\n",
    "                    df[col] = df[col].astype(np.float32)\n",
    "                else:\n",
    "                    df[col] = df[col].astype(np.float64)\n",
    "        else:\n",
    "            df[col] = df[col].astype('category')\n",
    "\n",
    "    end_mem = df.memory_usage().sum() / 1024**2\n",
    "    print('Memory usage after optimization is: {:.2f} MB'\n",
    "          .format(end_mem))\n",
    "    print('Decreased by {:.1f}%'.format(100 * (start_mem - end_mem) / start_mem))\n",
    "    \n",
    "    return df"
   ]
  },
  {
   "cell_type": "markdown",
   "metadata": {},
   "source": [
    "# Reading Merged train data :"
   ]
  },
  {
   "cell_type": "code",
   "execution_count": 3,
   "metadata": {},
   "outputs": [],
   "source": [
    "merged_train = pd.read_feather('../input/energy-feature-engineering-2/merged_train.feather')"
   ]
  },
  {
   "cell_type": "code",
   "execution_count": 4,
   "metadata": {},
   "outputs": [],
   "source": [
    "merged_train[\"hour\"] = merged_train[\"timestamp\"].dt.hour #converting timestamp to hour     "
   ]
  },
  {
   "cell_type": "code",
   "execution_count": 5,
   "metadata": {},
   "outputs": [
    {
     "data": {
      "text/plain": [
       "Index(['index', 'building_id', 'meter', 'timestamp', 'meter_reading_log1p',\n",
       "       'weekend', 'site_id', 'primary_use', 'square_feet', 'air_temperature',\n",
       "       'cloud_coverage', 'dew_temperature', 'precip_depth_1_hr', 'IsHoliday',\n",
       "       'month_group', 'horizsolar', 'Sensible_Heat', 'relative_humidity',\n",
       "       'hour'],\n",
       "      dtype='object')"
      ]
     },
     "execution_count": 5,
     "metadata": {},
     "output_type": "execute_result"
    }
   ],
   "source": [
    "merged_train.columns"
   ]
  },
  {
   "cell_type": "code",
   "execution_count": 6,
   "metadata": {},
   "outputs": [],
   "source": [
    "merged_train = merged_train.drop(['timestamp','index'],axis=1) "
   ]
  },
  {
   "cell_type": "code",
   "execution_count": 7,
   "metadata": {},
   "outputs": [],
   "source": [
    "merged_train = merged_train.drop(['month_group','Sensible_Heat', 'relative_humidity','precip_depth_1_hr'],axis=1)"
   ]
  },
  {
   "cell_type": "code",
   "execution_count": 8,
   "metadata": {},
   "outputs": [],
   "source": [
    "merged_train = merged_train.dropna()"
   ]
  },
  {
   "cell_type": "code",
   "execution_count": 9,
   "metadata": {},
   "outputs": [
    {
     "name": "stdout",
     "output_type": "stream",
     "text": [
      "Memory usage of dataframe is 918.98 MB\n",
      "Memory usage after optimization is: 790.32 MB\n",
      "Decreased by 14.0%\n"
     ]
    }
   ],
   "source": [
    "merged_train = memory_reduction(merged_train)"
   ]
  },
  {
   "cell_type": "code",
   "execution_count": 10,
   "metadata": {},
   "outputs": [
    {
     "data": {
      "text/plain": [
       "Index(['building_id', 'meter', 'meter_reading_log1p', 'weekend', 'site_id',\n",
       "       'primary_use', 'square_feet', 'air_temperature', 'cloud_coverage',\n",
       "       'dew_temperature', 'IsHoliday', 'horizsolar', 'hour'],\n",
       "      dtype='object')"
      ]
     },
     "execution_count": 10,
     "metadata": {},
     "output_type": "execute_result"
    }
   ],
   "source": [
    "merged_train.columns"
   ]
  },
  {
   "cell_type": "code",
   "execution_count": 11,
   "metadata": {},
   "outputs": [
    {
     "data": {
      "text/plain": [
       "(19272332, 13)"
      ]
     },
     "execution_count": 11,
     "metadata": {},
     "output_type": "execute_result"
    }
   ],
   "source": [
    "merged_train.shape"
   ]
  },
  {
   "cell_type": "code",
   "execution_count": 12,
   "metadata": {
    "_cell_guid": "b1076dfc-b9ad-4769-8c92-a6c4dae69d19",
    "_uuid": "8f2839f25d086af736a60e9eeb907d3b93b6e0e5"
   },
   "outputs": [],
   "source": [
    "from keras import backend\n",
    "backend.clear_session()\n",
    "#from numba import cuda\n",
    "#cuda.select_device(0)  \n",
    "#cuda.close()"
   ]
  },
  {
   "cell_type": "code",
   "execution_count": 13,
   "metadata": {},
   "outputs": [],
   "source": [
    "import tensorflow as tf"
   ]
  },
  {
   "cell_type": "code",
   "execution_count": 21,
   "metadata": {},
   "outputs": [],
   "source": [
    "#https://www.kaggle.com/isaienkov/keras-nn-with-embeddings-for-cat-features-1-15\n",
    "# Defining all input layers \n",
    "\n",
    "building_id = Input(shape=(1,), name=\"building_id\")\n",
    "meter = Input(shape=(1,), name=\"meter\")\n",
    "weekend = Input(shape=(1,), name=\"weekend\")\n",
    "site_id = Input(shape=(1,), name=\"site_id\")\n",
    "primary_use = Input(shape=(1,), name=\"primary_use\")\n",
    "square_feet = Input(shape=(1,), name=\"square_feet\")\n",
    "air_temperature = Input(shape=(1,), name=\"air_temperature\")\n",
    "cloud_coverage = Input(shape=(1,), name=\"cloud_coverage\")\n",
    "dew_temperature = Input(shape=(1,), name=\"dew_temperature\")\n",
    "#precip_depth_1_hr = Input(shape=(1,), name=\"precip_depth_1_hr\")\n",
    "IsHoliday = Input(shape=(1,), name=\"IsHoliday\")\n",
    "horizsolar = Input(shape=(1,), name=\"horizsolar\")\n",
    "hour = Input(shape=(1,), name=\"hour\")\n",
    "\n",
    "# Embedding Layers\n",
    "building_id_embedding = Embedding(1449, 6)(building_id)\n",
    "meter_embedding = Embedding(4, 2)(meter)\n",
    "weekend_embedding = Embedding(7, 2)(weekend)\n",
    "site_id_embedding = Embedding(16, 2)(site_id)\n",
    "primary_use_embedding = Embedding(16, 2)(primary_use)\n",
    "hour_embedding = Embedding(24, 3)(hour)\n",
    "# Concatinating all input layers\n",
    "concat_embedding = concatenate([\n",
    "           Flatten() (building_id_embedding)\n",
    "         , Flatten() (meter_embedding)\n",
    "         , Flatten() (weekend_embedding)\n",
    "         , Flatten() (site_id_embedding)\n",
    "         , Flatten() (primary_use_embedding)\n",
    "         , Flatten() (hour_embedding)\n",
    "    ])\n",
    "#concat_embedding = tf.expand_dims(concat_embedding, axis=-1)\n",
    "\n",
    "con = Dropout(0.01)(Dense(1024,activation='relu') (concat_embedding))\n",
    "con = BatchNormalization()(con)\n",
    "con = Dropout(0.01)(Dense(512,activation='relu') (con))\n",
    "  \n",
    "final_layer = concatenate([\n",
    "          con, square_feet , air_temperature , cloud_coverage , dew_temperature\n",
    "        ,IsHoliday,#, precip_depth_1_hr\n",
    "        horizsolar ])\n",
    "final_layer = tf.expand_dims(final_layer, axis=-2)\n",
    "lstm = LSTM(64, return_sequences=True)(final_layer)#\n",
    "flat = Flatten()(lstm)\n",
    "final_layer = Dropout(0.01)(Dense(64,activation='relu') (flat))\n",
    "final_layer = BatchNormalization()(final_layer)\n",
    "final_layer = Dropout(0.01)(Dense(16,activation='relu') (final_layer))\n",
    "    \n",
    "#output\n",
    "output = Dense(1,activation='linear') (final_layer)\n",
    "\n",
    "model = Model(inputs = [ building_id, meter,weekend, site_id, primary_use, square_feet, air_temperature,\n",
    "       cloud_coverage, dew_temperature,  IsHoliday,\n",
    "        horizsolar,# month_group,Sensible_Heat, relative_humidity,precip_depth_1_hr,\n",
    "       hour], outputs = output)\n",
    "\n"
   ]
  },
  {
   "cell_type": "code",
   "execution_count": 22,
   "metadata": {},
   "outputs": [],
   "source": [
    "def root_mean_squared_error(y_true, y_pred):\n",
    "    return K.sqrt(K.mean(K.square(y_pred - y_true))) \n"
   ]
  },
  {
   "cell_type": "code",
   "execution_count": 23,
   "metadata": {},
   "outputs": [],
   "source": [
    "model.compile(optimizer = Adam(lr=0.001),loss = root_mean_squared_error)#loss= mse_loss,metrics=[root_mean_squared_error]"
   ]
  },
  {
   "cell_type": "code",
   "execution_count": 24,
   "metadata": {},
   "outputs": [
    {
     "name": "stdout",
     "output_type": "stream",
     "text": [
      "Model: \"functional_3\"\n",
      "__________________________________________________________________________________________________\n",
      "Layer (type)                    Output Shape         Param #     Connected to                     \n",
      "==================================================================================================\n",
      "building_id (InputLayer)        [(None, 1)]          0                                            \n",
      "__________________________________________________________________________________________________\n",
      "meter (InputLayer)              [(None, 1)]          0                                            \n",
      "__________________________________________________________________________________________________\n",
      "weekend (InputLayer)            [(None, 1)]          0                                            \n",
      "__________________________________________________________________________________________________\n",
      "site_id (InputLayer)            [(None, 1)]          0                                            \n",
      "__________________________________________________________________________________________________\n",
      "primary_use (InputLayer)        [(None, 1)]          0                                            \n",
      "__________________________________________________________________________________________________\n",
      "hour (InputLayer)               [(None, 1)]          0                                            \n",
      "__________________________________________________________________________________________________\n",
      "embedding_6 (Embedding)         (None, 1, 6)         8694        building_id[0][0]                \n",
      "__________________________________________________________________________________________________\n",
      "embedding_7 (Embedding)         (None, 1, 2)         8           meter[0][0]                      \n",
      "__________________________________________________________________________________________________\n",
      "embedding_8 (Embedding)         (None, 1, 2)         14          weekend[0][0]                    \n",
      "__________________________________________________________________________________________________\n",
      "embedding_9 (Embedding)         (None, 1, 2)         32          site_id[0][0]                    \n",
      "__________________________________________________________________________________________________\n",
      "embedding_10 (Embedding)        (None, 1, 2)         32          primary_use[0][0]                \n",
      "__________________________________________________________________________________________________\n",
      "embedding_11 (Embedding)        (None, 1, 3)         72          hour[0][0]                       \n",
      "__________________________________________________________________________________________________\n",
      "flatten_7 (Flatten)             (None, 6)            0           embedding_6[0][0]                \n",
      "__________________________________________________________________________________________________\n",
      "flatten_8 (Flatten)             (None, 2)            0           embedding_7[0][0]                \n",
      "__________________________________________________________________________________________________\n",
      "flatten_9 (Flatten)             (None, 2)            0           embedding_8[0][0]                \n",
      "__________________________________________________________________________________________________\n",
      "flatten_10 (Flatten)            (None, 2)            0           embedding_9[0][0]                \n",
      "__________________________________________________________________________________________________\n",
      "flatten_11 (Flatten)            (None, 2)            0           embedding_10[0][0]               \n",
      "__________________________________________________________________________________________________\n",
      "flatten_12 (Flatten)            (None, 3)            0           embedding_11[0][0]               \n",
      "__________________________________________________________________________________________________\n",
      "concatenate_2 (Concatenate)     (None, 17)           0           flatten_7[0][0]                  \n",
      "                                                                 flatten_8[0][0]                  \n",
      "                                                                 flatten_9[0][0]                  \n",
      "                                                                 flatten_10[0][0]                 \n",
      "                                                                 flatten_11[0][0]                 \n",
      "                                                                 flatten_12[0][0]                 \n",
      "__________________________________________________________________________________________________\n",
      "dense_5 (Dense)                 (None, 1024)         18432       concatenate_2[0][0]              \n",
      "__________________________________________________________________________________________________\n",
      "dropout_4 (Dropout)             (None, 1024)         0           dense_5[0][0]                    \n",
      "__________________________________________________________________________________________________\n",
      "batch_normalization_2 (BatchNor (None, 1024)         4096        dropout_4[0][0]                  \n",
      "__________________________________________________________________________________________________\n",
      "dense_6 (Dense)                 (None, 512)          524800      batch_normalization_2[0][0]      \n",
      "__________________________________________________________________________________________________\n",
      "dropout_5 (Dropout)             (None, 512)          0           dense_6[0][0]                    \n",
      "__________________________________________________________________________________________________\n",
      "square_feet (InputLayer)        [(None, 1)]          0                                            \n",
      "__________________________________________________________________________________________________\n",
      "air_temperature (InputLayer)    [(None, 1)]          0                                            \n",
      "__________________________________________________________________________________________________\n",
      "cloud_coverage (InputLayer)     [(None, 1)]          0                                            \n",
      "__________________________________________________________________________________________________\n",
      "dew_temperature (InputLayer)    [(None, 1)]          0                                            \n",
      "__________________________________________________________________________________________________\n",
      "IsHoliday (InputLayer)          [(None, 1)]          0                                            \n",
      "__________________________________________________________________________________________________\n",
      "horizsolar (InputLayer)         [(None, 1)]          0                                            \n",
      "__________________________________________________________________________________________________\n",
      "concatenate_3 (Concatenate)     (None, 518)          0           dropout_5[0][0]                  \n",
      "                                                                 square_feet[0][0]                \n",
      "                                                                 air_temperature[0][0]            \n",
      "                                                                 cloud_coverage[0][0]             \n",
      "                                                                 dew_temperature[0][0]            \n",
      "                                                                 IsHoliday[0][0]                  \n",
      "                                                                 horizsolar[0][0]                 \n",
      "__________________________________________________________________________________________________\n",
      "tf_op_layer_ExpandDims_1 (Tenso [(None, 1, 518)]     0           concatenate_3[0][0]              \n",
      "__________________________________________________________________________________________________\n",
      "lstm_1 (LSTM)                   (None, 1, 64)        149248      tf_op_layer_ExpandDims_1[0][0]   \n",
      "__________________________________________________________________________________________________\n",
      "flatten_13 (Flatten)            (None, 64)           0           lstm_1[0][0]                     \n",
      "__________________________________________________________________________________________________\n",
      "dense_7 (Dense)                 (None, 64)           4160        flatten_13[0][0]                 \n",
      "__________________________________________________________________________________________________\n",
      "dropout_6 (Dropout)             (None, 64)           0           dense_7[0][0]                    \n",
      "__________________________________________________________________________________________________\n",
      "batch_normalization_3 (BatchNor (None, 64)           256         dropout_6[0][0]                  \n",
      "__________________________________________________________________________________________________\n",
      "dense_8 (Dense)                 (None, 16)           1040        batch_normalization_3[0][0]      \n",
      "__________________________________________________________________________________________________\n",
      "dropout_7 (Dropout)             (None, 16)           0           dense_8[0][0]                    \n",
      "__________________________________________________________________________________________________\n",
      "dense_9 (Dense)                 (None, 1)            17          dropout_7[0][0]                  \n",
      "==================================================================================================\n",
      "Total params: 710,901\n",
      "Trainable params: 708,725\n",
      "Non-trainable params: 2,176\n",
      "__________________________________________________________________________________________________\n"
     ]
    }
   ],
   "source": [
    "model.summary()"
   ]
  },
  {
   "cell_type": "code",
   "execution_count": 25,
   "metadata": {},
   "outputs": [],
   "source": [
    "folds = 4\n",
    "seed = 666\n",
    "kf = StratifiedKFold(n_splits=folds, shuffle=True, random_state=seed)\n"
   ]
  },
  {
   "cell_type": "code",
   "execution_count": 26,
   "metadata": {},
   "outputs": [],
   "source": [
    "def get_keras_data(df,cols):\n",
    "    X = {col: np.array(df[col]) for col in cols}\n",
    "    return X\n"
   ]
  },
  {
   "cell_type": "code",
   "execution_count": 27,
   "metadata": {},
   "outputs": [
    {
     "name": "stdout",
     "output_type": "stream",
     "text": [
      "Epoch 1/15\n",
      "14113/14116 [============================>.] - ETA: 0s - loss: 0.9230\n",
      "Epoch 00001: val_loss improved from inf to 0.84168, saving model to model_0.hdf5\n",
      "14116/14116 [==============================] - 146s 10ms/step - loss: 0.9230 - val_loss: 0.8417\n",
      "Epoch 2/15\n",
      "14114/14116 [============================>.] - ETA: 0s - loss: 0.8661\n",
      "Epoch 00002: val_loss improved from 0.84168 to 0.82191, saving model to model_0.hdf5\n",
      "14116/14116 [==============================] - 146s 10ms/step - loss: 0.8661 - val_loss: 0.8219\n",
      "Epoch 3/15\n",
      "14113/14116 [============================>.] - ETA: 0s - loss: 0.8470\n",
      "Epoch 00003: val_loss improved from 0.82191 to 0.80847, saving model to model_0.hdf5\n",
      "14116/14116 [==============================] - 147s 10ms/step - loss: 0.8470 - val_loss: 0.8085\n",
      "Epoch 4/15\n",
      "14115/14116 [============================>.] - ETA: 0s - loss: 0.8314\n",
      "Epoch 00004: val_loss improved from 0.80847 to 0.79732, saving model to model_0.hdf5\n",
      "14116/14116 [==============================] - 147s 10ms/step - loss: 0.8314 - val_loss: 0.7973\n",
      "Epoch 5/15\n",
      "14112/14116 [============================>.] - ETA: 0s - loss: 0.8166\n",
      "Epoch 00005: val_loss improved from 0.79732 to 0.78098, saving model to model_0.hdf5\n",
      "14116/14116 [==============================] - 147s 10ms/step - loss: 0.8166 - val_loss: 0.7810\n",
      "Epoch 6/15\n",
      "14116/14116 [==============================] - ETA: 0s - loss: 0.8050\n",
      "Epoch 00006: val_loss improved from 0.78098 to 0.77359, saving model to model_0.hdf5\n",
      "14116/14116 [==============================] - 146s 10ms/step - loss: 0.8050 - val_loss: 0.7736\n",
      "Epoch 7/15\n",
      "14113/14116 [============================>.] - ETA: 0s - loss: 0.7959\n",
      "Epoch 00007: val_loss improved from 0.77359 to 0.76474, saving model to model_0.hdf5\n",
      "14116/14116 [==============================] - 148s 10ms/step - loss: 0.7959 - val_loss: 0.7647\n",
      "Epoch 8/15\n",
      "14116/14116 [==============================] - ETA: 0s - loss: 0.7887\n",
      "Epoch 00008: val_loss did not improve from 0.76474\n",
      "14116/14116 [==============================] - 146s 10ms/step - loss: 0.7887 - val_loss: 0.7658\n",
      "Epoch 9/15\n",
      "14113/14116 [============================>.] - ETA: 0s - loss: 0.7829\n",
      "Epoch 00009: val_loss improved from 0.76474 to 0.75801, saving model to model_0.hdf5\n",
      "14116/14116 [==============================] - 149s 11ms/step - loss: 0.7829 - val_loss: 0.7580\n",
      "Epoch 10/15\n",
      "14113/14116 [============================>.] - ETA: 0s - loss: 0.7776\n",
      "Epoch 00010: val_loss improved from 0.75801 to 0.75380, saving model to model_0.hdf5\n",
      "14116/14116 [==============================] - 146s 10ms/step - loss: 0.7776 - val_loss: 0.7538\n",
      "Epoch 11/15\n",
      "14114/14116 [============================>.] - ETA: 0s - loss: 0.7730\n",
      "Epoch 00011: val_loss did not improve from 0.75380\n",
      "14116/14116 [==============================] - 149s 11ms/step - loss: 0.7730 - val_loss: 0.7561\n",
      "Epoch 12/15\n",
      "14115/14116 [============================>.] - ETA: 0s - loss: 0.7690\n",
      "Epoch 00012: val_loss improved from 0.75380 to 0.75158, saving model to model_0.hdf5\n",
      "14116/14116 [==============================] - 147s 10ms/step - loss: 0.7690 - val_loss: 0.7516\n",
      "Epoch 13/15\n",
      "14115/14116 [============================>.] - ETA: 0s - loss: 0.7652\n",
      "Epoch 00013: val_loss improved from 0.75158 to 0.74408, saving model to model_0.hdf5\n",
      "14116/14116 [==============================] - 147s 10ms/step - loss: 0.7652 - val_loss: 0.7441\n",
      "Epoch 14/15\n",
      "14116/14116 [==============================] - ETA: 0s - loss: 0.7619\n",
      "Epoch 00014: val_loss improved from 0.74408 to 0.74181, saving model to model_0.hdf5\n",
      "14116/14116 [==============================] - 145s 10ms/step - loss: 0.7619 - val_loss: 0.7418\n",
      "Epoch 15/15\n",
      "14115/14116 [============================>.] - ETA: 0s - loss: 0.7591\n",
      "Epoch 00015: val_loss did not improve from 0.74181\n",
      "14116/14116 [==============================] - 146s 10ms/step - loss: 0.7591 - val_loss: 0.7420\n",
      "Epoch 1/15\n",
      "14116/14116 [==============================] - ETA: 0s - loss: 0.7596\n",
      "Epoch 00001: val_loss improved from inf to 0.73204, saving model to model_1.hdf5\n",
      "14116/14116 [==============================] - 146s 10ms/step - loss: 0.7596 - val_loss: 0.7320\n",
      "Epoch 2/15\n",
      "14115/14116 [============================>.] - ETA: 0s - loss: 0.7557\n",
      "Epoch 00002: val_loss did not improve from 0.73204\n",
      "14116/14116 [==============================] - 145s 10ms/step - loss: 0.7557 - val_loss: 0.7321\n",
      "Epoch 3/15\n",
      "14114/14116 [============================>.] - ETA: 0s - loss: 0.7529\n",
      "Epoch 00003: val_loss improved from 0.73204 to 0.73010, saving model to model_1.hdf5\n",
      "14116/14116 [==============================] - 146s 10ms/step - loss: 0.7529 - val_loss: 0.7301\n",
      "Epoch 4/15\n",
      "14113/14116 [============================>.] - ETA: 0s - loss: 0.7508\n",
      "Epoch 00004: val_loss improved from 0.73010 to 0.72873, saving model to model_1.hdf5\n",
      "14116/14116 [==============================] - 142s 10ms/step - loss: 0.7508 - val_loss: 0.7287\n",
      "Epoch 5/15\n",
      "14112/14116 [============================>.] - ETA: 0s - loss: 0.7482\n",
      "Epoch 00005: val_loss did not improve from 0.72873\n",
      "14116/14116 [==============================] - 140s 10ms/step - loss: 0.7482 - val_loss: 0.7306\n",
      "Epoch 6/15\n",
      "14116/14116 [==============================] - ETA: 0s - loss: 0.7465\n",
      "Epoch 00006: val_loss did not improve from 0.72873\n",
      "14116/14116 [==============================] - 141s 10ms/step - loss: 0.7465 - val_loss: 0.7290\n",
      "Epoch 7/15\n",
      "14116/14116 [==============================] - ETA: 0s - loss: 0.7449\n",
      "Epoch 00007: val_loss improved from 0.72873 to 0.72671, saving model to model_1.hdf5\n",
      "14116/14116 [==============================] - 140s 10ms/step - loss: 0.7449 - val_loss: 0.7267\n",
      "Epoch 8/15\n",
      "14111/14116 [============================>.] - ETA: 0s - loss: 0.7433\n",
      "Epoch 00008: val_loss improved from 0.72671 to 0.72579, saving model to model_1.hdf5\n",
      "14116/14116 [==============================] - 140s 10ms/step - loss: 0.7433 - val_loss: 0.7258\n",
      "Epoch 9/15\n",
      "14114/14116 [============================>.] - ETA: 0s - loss: 0.7418\n",
      "Epoch 00009: val_loss improved from 0.72579 to 0.72456, saving model to model_1.hdf5\n",
      "14116/14116 [==============================] - 139s 10ms/step - loss: 0.7418 - val_loss: 0.7246\n",
      "Epoch 10/15\n",
      "14116/14116 [==============================] - ETA: 0s - loss: 0.7403\n",
      "Epoch 00010: val_loss did not improve from 0.72456\n",
      "14116/14116 [==============================] - 139s 10ms/step - loss: 0.7403 - val_loss: 0.7271\n",
      "Epoch 11/15\n",
      "14116/14116 [==============================] - ETA: 0s - loss: 0.7394\n",
      "Epoch 00011: val_loss improved from 0.72456 to 0.71992, saving model to model_1.hdf5\n",
      "14116/14116 [==============================] - 139s 10ms/step - loss: 0.7394 - val_loss: 0.7199\n",
      "Epoch 12/15\n",
      "14113/14116 [============================>.] - ETA: 0s - loss: 0.7378\n",
      "Epoch 00012: val_loss did not improve from 0.71992\n",
      "14116/14116 [==============================] - 137s 10ms/step - loss: 0.7378 - val_loss: 0.7223\n",
      "Epoch 13/15\n",
      "14115/14116 [============================>.] - ETA: 0s - loss: 0.7366\n",
      "Epoch 00013: val_loss did not improve from 0.71992\n",
      "14116/14116 [==============================] - 137s 10ms/step - loss: 0.7366 - val_loss: 0.7216\n",
      "Epoch 14/15\n",
      "14111/14116 [============================>.] - ETA: 0s - loss: 0.7356\n",
      "Epoch 00014: val_loss did not improve from 0.71992\n",
      "14116/14116 [==============================] - 136s 10ms/step - loss: 0.7356 - val_loss: 0.7222\n",
      "Epoch 00014: early stopping\n",
      "Epoch 1/15\n",
      "14115/14116 [============================>.] - ETA: 0s - loss: 0.7395\n",
      "Epoch 00001: val_loss improved from inf to 0.70893, saving model to model_2.hdf5\n",
      "14116/14116 [==============================] - 137s 10ms/step - loss: 0.7395 - val_loss: 0.7089\n",
      "Epoch 2/15\n",
      "14115/14116 [============================>.] - ETA: 0s - loss: 0.7375\n",
      "Epoch 00002: val_loss did not improve from 0.70893\n",
      "14116/14116 [==============================] - 137s 10ms/step - loss: 0.7375 - val_loss: 0.7133\n",
      "Epoch 3/15\n",
      "14115/14116 [============================>.] - ETA: 0s - loss: 0.7359\n",
      "Epoch 00003: val_loss did not improve from 0.70893\n",
      "14116/14116 [==============================] - 136s 10ms/step - loss: 0.7359 - val_loss: 0.7118\n",
      "Epoch 4/15\n",
      "14116/14116 [==============================] - ETA: 0s - loss: 0.7348\n",
      "Epoch 00004: val_loss did not improve from 0.70893\n",
      "14116/14116 [==============================] - 138s 10ms/step - loss: 0.7348 - val_loss: 0.7133\n"
     ]
    },
    {
     "name": "stdout",
     "output_type": "stream",
     "text": [
      "Epoch 00004: early stopping\n",
      "Epoch 1/15\n",
      "14116/14116 [==============================] - ETA: 0s - loss: 0.7365\n",
      "Epoch 00001: val_loss improved from inf to 0.70617, saving model to model_3.hdf5\n",
      "14116/14116 [==============================] - 136s 10ms/step - loss: 0.7365 - val_loss: 0.7062\n",
      "Epoch 2/15\n",
      "14112/14116 [============================>.] - ETA: 0s - loss: 0.7343\n",
      "Epoch 00002: val_loss did not improve from 0.70617\n",
      "14116/14116 [==============================] - 136s 10ms/step - loss: 0.7343 - val_loss: 0.7078\n",
      "Epoch 3/15\n",
      "14116/14116 [==============================] - ETA: 0s - loss: 0.7331\n",
      "Epoch 00003: val_loss did not improve from 0.70617\n",
      "14116/14116 [==============================] - 136s 10ms/step - loss: 0.7331 - val_loss: 0.7068\n",
      "Epoch 4/15\n",
      "14114/14116 [============================>.] - ETA: 0s - loss: 0.7319\n",
      "Epoch 00004: val_loss improved from 0.70617 to 0.70504, saving model to model_3.hdf5\n",
      "14116/14116 [==============================] - 136s 10ms/step - loss: 0.7319 - val_loss: 0.7050\n",
      "Epoch 5/15\n",
      "14114/14116 [============================>.] - ETA: 0s - loss: 0.7314\n",
      "Epoch 00005: val_loss did not improve from 0.70504\n",
      "14116/14116 [==============================] - 136s 10ms/step - loss: 0.7314 - val_loss: 0.7089\n",
      "Epoch 6/15\n",
      "14116/14116 [==============================] - ETA: 0s - loss: 0.7300\n",
      "Epoch 00006: val_loss did not improve from 0.70504\n",
      "14116/14116 [==============================] - 135s 10ms/step - loss: 0.7300 - val_loss: 0.7072\n",
      "Epoch 7/15\n",
      "14113/14116 [============================>.] - ETA: 0s - loss: 0.7293\n",
      "Epoch 00007: val_loss did not improve from 0.70504\n",
      "14116/14116 [==============================] - 137s 10ms/step - loss: 0.7293 - val_loss: 0.7056\n",
      "Epoch 00007: early stopping\n"
     ]
    }
   ],
   "source": [
    "models = []\n",
    "\n",
    "i = 0\n",
    "for train_idx, valid_idx in kf.split(merged_train,merged_train['site_id']):\n",
    "    train_data = merged_train.iloc[train_idx,:]\n",
    "    valid_data = merged_train.iloc[valid_idx,:]\n",
    "    yy_train = train_data['meter_reading_log1p']\n",
    "    xx_train = train_data.drop(['meter_reading_log1p'], axis=1)\n",
    "    del train_data\n",
    "    yy_valid = valid_data['meter_reading_log1p']\n",
    "    xx_valid = valid_data.drop(['meter_reading_log1p'], axis=1)\n",
    "    del valid_data\n",
    "    cols = xx_train.columns\n",
    "    x_train = get_keras_data(xx_train,cols)\n",
    "    x_valid = get_keras_data(xx_valid, cols)\n",
    "    del xx_train,xx_valid\n",
    "\n",
    "    early_stopping = EarlyStopping(patience=3, verbose=1)\n",
    "    model_checkpoint = ModelCheckpoint(\"model_\" + str(i) + \".hdf5\",\n",
    "                                       save_best_only=True, verbose=1, monitor='val_loss', mode='min')\n",
    "\n",
    "    hist = model.fit(x_train,yy_train, batch_size=1024, epochs=15,\n",
    "                            validation_data=(x_valid,yy_valid), verbose=1,callbacks=[early_stopping, model_checkpoint])\n",
    "\n",
    "    model1 = load_model(\"model_\" + str(i) + \".hdf5\", custom_objects={'root_mean_squared_error': root_mean_squared_error})\n",
    "    models.append(model1)  \n",
    "    i +=1\n",
    "                                                 \n",
    " "
   ]
  },
  {
   "cell_type": "code",
   "execution_count": 28,
   "metadata": {},
   "outputs": [],
   "source": [
    "del merged_train                                                  "
   ]
  },
  {
   "cell_type": "code",
   "execution_count": 29,
   "metadata": {},
   "outputs": [],
   "source": [
    "del x_train,x_valid"
   ]
  },
  {
   "cell_type": "code",
   "execution_count": null,
   "metadata": {},
   "outputs": [],
   "source": [
    "'''models = []\n",
    "for i in range(4) :\n",
    "    model1 = load_model(\"../input/energydl/model_\" + str(i) + \".hdf5\", custom_objects={'root_mean_squared_error': root_mean_squared_error})\n",
    "    models.append(model1)'''"
   ]
  },
  {
   "cell_type": "markdown",
   "metadata": {},
   "source": [
    "# Reading Merged Test data :"
   ]
  },
  {
   "cell_type": "code",
   "execution_count": 30,
   "metadata": {},
   "outputs": [],
   "source": [
    "merged_test = pd.read_feather('../input/energy-feature-engineering-2/merged_test.feather')               "
   ]
  },
  {
   "cell_type": "code",
   "execution_count": 31,
   "metadata": {},
   "outputs": [],
   "source": [
    "merged_test[\"hour\"] = merged_test[\"timestamp\"].dt.hour       "
   ]
  },
  {
   "cell_type": "code",
   "execution_count": 32,
   "metadata": {},
   "outputs": [],
   "source": [
    "merged_test = merged_test.drop(['index','row_id','timestamp'],axis=1)"
   ]
  },
  {
   "cell_type": "code",
   "execution_count": 34,
   "metadata": {},
   "outputs": [],
   "source": [
    "merged_test = merged_test.drop(['month_group','Sensible_Heat', 'relative_humidity','precip_depth_1_hr'],axis=1)"
   ]
  },
  {
   "cell_type": "code",
   "execution_count": 35,
   "metadata": {},
   "outputs": [
    {
     "data": {
      "text/plain": [
       "Index(['building_id', 'meter', 'weekend', 'site_id', 'primary_use',\n",
       "       'square_feet', 'air_temperature', 'cloud_coverage', 'dew_temperature',\n",
       "       'IsHoliday', 'horizsolar', 'hour'],\n",
       "      dtype='object')"
      ]
     },
     "execution_count": 35,
     "metadata": {},
     "output_type": "execute_result"
    }
   ],
   "source": [
    "merged_test.columns "
   ]
  },
  {
   "cell_type": "code",
   "execution_count": 36,
   "metadata": {},
   "outputs": [
    {
     "data": {
      "text/plain": [
       "(41697600, 12)"
      ]
     },
     "execution_count": 36,
     "metadata": {},
     "output_type": "execute_result"
    }
   ],
   "source": [
    "merged_test.shape"
   ]
  },
  {
   "cell_type": "code",
   "execution_count": 37,
   "metadata": {},
   "outputs": [],
   "source": [
    "cols = merged_test.columns"
   ]
  },
  {
   "cell_type": "code",
   "execution_count": 46,
   "metadata": {},
   "outputs": [
    {
     "name": "stderr",
     "output_type": "stream",
     "text": [
      "100%|██████████| 84/84 [09:00<00:00,  6.43s/it]\n"
     ]
    }
   ],
   "source": [
    "from tqdm import tqdm\n",
    "k=0\n",
    "folds=4\n",
    "result = np.zeros((merged_test.shape[0]),dtype=np.float32)\n",
    "step_size = 500000\n",
    "for j in tqdm(range(int(np.ceil(merged_test.shape[0]/step_size)))):\n",
    "    for_prediction = get_keras_data(merged_test.iloc[k:k+step_size],cols)\n",
    "    result[k:min(k+step_size,merged_test.shape[0])] = \\\n",
    "       np.expm1(sum([model.predict(for_prediction, batch_size=1024)[:,0] for model in models])/folds)\n",
    "    k+=step_size        "
   ]
  },
  {
   "cell_type": "code",
   "execution_count": 39,
   "metadata": {},
   "outputs": [],
   "source": [
    "submission = pd.read_feather('../input/ashrae-feather-format-for-fast-loading/sample_submission.feather')\n",
    "submission['meter_reading'] = 0.95*result\n",
    "submission.loc[submission['meter_reading']<0, 'meter_reading'] = 0     \n",
    "                                                 "
   ]
  },
  {
   "cell_type": "code",
   "execution_count": 40,
   "metadata": {},
   "outputs": [],
   "source": [
    "submission['meter_reading'] = submission['meter_reading'].astype('float32')\n",
    "submission['row_id'] = submission['row_id'].astype('int32')"
   ]
  },
  {
   "cell_type": "code",
   "execution_count": 41,
   "metadata": {},
   "outputs": [
    {
     "data": {
      "text/html": [
       "<div>\n",
       "<style scoped>\n",
       "    .dataframe tbody tr th:only-of-type {\n",
       "        vertical-align: middle;\n",
       "    }\n",
       "\n",
       "    .dataframe tbody tr th {\n",
       "        vertical-align: top;\n",
       "    }\n",
       "\n",
       "    .dataframe thead th {\n",
       "        text-align: right;\n",
       "    }\n",
       "</style>\n",
       "<table border=\"1\" class=\"dataframe\">\n",
       "  <thead>\n",
       "    <tr style=\"text-align: right;\">\n",
       "      <th></th>\n",
       "      <th>row_id</th>\n",
       "      <th>meter_reading</th>\n",
       "    </tr>\n",
       "  </thead>\n",
       "  <tbody>\n",
       "    <tr>\n",
       "      <th>0</th>\n",
       "      <td>0</td>\n",
       "      <td>172.396515</td>\n",
       "    </tr>\n",
       "    <tr>\n",
       "      <th>1</th>\n",
       "      <td>1</td>\n",
       "      <td>70.800880</td>\n",
       "    </tr>\n",
       "    <tr>\n",
       "      <th>2</th>\n",
       "      <td>2</td>\n",
       "      <td>7.038885</td>\n",
       "    </tr>\n",
       "    <tr>\n",
       "      <th>3</th>\n",
       "      <td>3</td>\n",
       "      <td>301.929657</td>\n",
       "    </tr>\n",
       "    <tr>\n",
       "      <th>4</th>\n",
       "      <td>4</td>\n",
       "      <td>1393.303223</td>\n",
       "    </tr>\n",
       "    <tr>\n",
       "      <th>5</th>\n",
       "      <td>5</td>\n",
       "      <td>9.422876</td>\n",
       "    </tr>\n",
       "    <tr>\n",
       "      <th>6</th>\n",
       "      <td>6</td>\n",
       "      <td>140.178909</td>\n",
       "    </tr>\n",
       "    <tr>\n",
       "      <th>7</th>\n",
       "      <td>7</td>\n",
       "      <td>400.909058</td>\n",
       "    </tr>\n",
       "    <tr>\n",
       "      <th>8</th>\n",
       "      <td>8</td>\n",
       "      <td>4.194011</td>\n",
       "    </tr>\n",
       "    <tr>\n",
       "      <th>9</th>\n",
       "      <td>9</td>\n",
       "      <td>410.071625</td>\n",
       "    </tr>\n",
       "  </tbody>\n",
       "</table>\n",
       "</div>"
      ],
      "text/plain": [
       "   row_id  meter_reading\n",
       "0       0     172.396515\n",
       "1       1      70.800880\n",
       "2       2       7.038885\n",
       "3       3     301.929657\n",
       "4       4    1393.303223\n",
       "5       5       9.422876\n",
       "6       6     140.178909\n",
       "7       7     400.909058\n",
       "8       8       4.194011\n",
       "9       9     410.071625"
      ]
     },
     "execution_count": 41,
     "metadata": {},
     "output_type": "execute_result"
    }
   ],
   "source": [
    "submission.head(10)                                    "
   ]
  },
  {
   "cell_type": "code",
   "execution_count": 42,
   "metadata": {},
   "outputs": [],
   "source": [
    "submission.to_csv('submission_deep_learning11.csv', index=False)    "
   ]
  },
  {
   "cell_type": "code",
   "execution_count": 44,
   "metadata": {},
   "outputs": [
    {
     "data": {
      "text/html": [
       "<a href='./submission_deep_learning11.csv' target='_blank'>./submission_deep_learning11.csv</a><br>"
      ],
      "text/plain": [
       "/kaggle/working/submission_deep_learning11.csv"
      ]
     },
     "execution_count": 44,
     "metadata": {},
     "output_type": "execute_result"
    }
   ],
   "source": [
    "from IPython.display import FileLink\n",
    "FileLink(r'./submission_deep_learning11.csv')                                                                "
   ]
  },
  {
   "cell_type": "code",
   "execution_count": 1,
   "metadata": {},
   "outputs": [
    {
     "data": {
      "image/jpeg": "[encoded data removed]",
      "text/plain": [
       "<IPython.core.display.Image object>"
      ]
     },
     "execution_count": 1,
     "metadata": {},
     "output_type": "execute_result"
    }
   ],
   "source": [
    "from IPython.display import Image\n",
    "Image(filename='lstm.JPG')                  "
   ]
  }
 ],
 "metadata": {
  "kernelspec": {
   "display_name": "Python 3",
   "language": "python",
   "name": "python3"
  },
  "language_info": {
   "codemirror_mode": {
    "name": "ipython",
    "version": 3
   },
   "file_extension": ".py",
   "mimetype": "text/x-python",
   "name": "python",
   "nbconvert_exporter": "python",
   "pygments_lexer": "ipython3",
   "version": "3.7.3"
  }
 },
 "nbformat": 4,
 "nbformat_minor": 4
}
