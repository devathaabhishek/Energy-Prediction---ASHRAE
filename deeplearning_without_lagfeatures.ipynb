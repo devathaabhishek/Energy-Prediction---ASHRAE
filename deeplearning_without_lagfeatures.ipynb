{
 "cells": [
  {
   "attachments": {},
   "cell_type": "markdown",
   "metadata": {},
   "source": [
    "# Importing Libraries :"
   ]
  },
  {
   "cell_type": "code",
   "execution_count": 1,
   "metadata": {},
   "outputs": [],
   "source": [
    "import gc\n",
    "import pandas as pd\n",
    "from tqdm import tqdm_notebook as tqdm\n",
    "import numpy as np # linear algebra\n",
    " # data processing, CSV file I/O (e.g. pd.read_csv)\n",
    "\n",
    "\n",
    "from math import sqrt\n",
    "from sklearn.metrics import mean_squared_error\n",
    "import warnings\n",
    "warnings.filterwarnings('ignore')\n",
    "\n",
    "#from sklearn import preprocessing\n",
    "from sklearn.model_selection import KFold, StratifiedKFold\n",
    "from keras.models import Model, load_model\n",
    "from keras.layers import Input, Dropout, Dense, Embedding, concatenate, BatchNormalization, Flatten\n",
    "from keras.callbacks import Callback\n",
    "from keras import backend as K\n",
    "from keras.models import Model\n",
    "from keras.losses import mean_squared_error as mse_loss\n",
    "\n",
    "from keras import optimizers\n",
    "from keras.optimizers import  Adam\n",
    "from keras.callbacks import EarlyStopping, ModelCheckpoint\n",
    "#import catboost as cb"
   ]
  },
  {
   "cell_type": "markdown",
   "metadata": {},
   "source": [
    "# Memory Reduction :"
   ]
  },
  {
   "cell_type": "code",
   "execution_count": 2,
   "metadata": {},
   "outputs": [],
   "source": [
    "# Original code from https://www.kaggle.com/gemartin/load-data-reduce-memory-usage by @gemartin\n",
    "# Modified to support timestamp type, categorical type\n",
    "# Modified to add option to use float16 or not. feather format does not support float16.\n",
    "from pandas.api.types import is_datetime64_any_dtype as is_datetime\n",
    "from pandas.api.types import is_categorical_dtype\n",
    "\n",
    "def memory_reduction(df, use_float16=False):\n",
    "    \"\"\" iterate through all the columns of a dataframe and modify the data type\n",
    "        to reduce memory usage.        \n",
    "    \"\"\"\n",
    "    start_mem = df.memory_usage().sum() / 1024**2\n",
    "    print('Memory usage of dataframe is {:.2f} MB'.format(start_mem))\n",
    "    \n",
    "    for col in df.columns:\n",
    "        if is_datetime(df[col]) or is_categorical_dtype(df[col]):\n",
    "            # skip datetime type or categorical type\n",
    "            continue\n",
    "        col_type = df[col].dtype\n",
    "        \n",
    "        if col_type != object:\n",
    "            c_min = df[col].min()\n",
    "            c_max = df[col].max()\n",
    "            if str(col_type)[:3] == 'int':\n",
    "                if c_min > np.iinfo(np.int8).min and c_max < np.iinfo(np.int8).max:\n",
    "                    df[col] = df[col].astype(np.int8)\n",
    "                elif c_min > np.iinfo(np.int16).min and c_max < np.iinfo(np.int16).max:\n",
    "                    df[col] = df[col].astype(np.int16)\n",
    "                elif c_min > np.iinfo(np.int32).min and c_max < np.iinfo(np.int32).max:\n",
    "                    df[col] = df[col].astype(np.int32)\n",
    "                elif c_min > np.iinfo(np.int64).min and c_max < np.iinfo(np.int64).max:\n",
    "                    df[col] = df[col].astype(np.int64)  \n",
    "            else:\n",
    "                if use_float16 and c_min > np.finfo(np.float16).min and c_max < np.finfo(np.float16).max:\n",
    "                    df[col] = df[col].astype(np.float16)\n",
    "                elif c_min > np.finfo(np.float32).min and c_max < np.finfo(np.float32).max:\n",
    "                    df[col] = df[col].astype(np.float32)\n",
    "                else:\n",
    "                    df[col] = df[col].astype(np.float64)\n",
    "        else:\n",
    "            df[col] = df[col].astype('category')\n",
    "\n",
    "    end_mem = df.memory_usage().sum() / 1024**2\n",
    "    print('Memory usage after optimization is: {:.2f} MB'\n",
    "          .format(end_mem))\n",
    "    print('Decreased by {:.1f}%'.format(100 * (start_mem - end_mem) / start_mem))\n",
    "    \n",
    "    return df"
   ]
  },
  {
   "cell_type": "markdown",
   "metadata": {},
   "source": [
    "# Reading Merged train data :"
   ]
  },
  {
   "cell_type": "code",
   "execution_count": 3,
   "metadata": {},
   "outputs": [],
   "source": [
    "merged_train = pd.read_feather('../input/energy-feature-engineering-2/merged_train.feather')"
   ]
  },
  {
   "cell_type": "code",
   "execution_count": 5,
   "metadata": {},
   "outputs": [],
   "source": [
    "merged_train[\"hour\"] = merged_train[\"timestamp\"].dt.hour #converting timestamp to hour     "
   ]
  },
  {
   "cell_type": "code",
   "execution_count": 6,
   "metadata": {},
   "outputs": [
    {
     "data": {
      "text/plain": [
       "Index(['index', 'building_id', 'meter', 'timestamp', 'meter_reading_log1p',\n",
       "       'weekend', 'site_id', 'primary_use', 'square_feet', 'air_temperature',\n",
       "       'cloud_coverage', 'dew_temperature', 'precip_depth_1_hr', 'IsHoliday',\n",
       "       'month_group', 'horizsolar', 'Sensible_Heat', 'relative_humidity',\n",
       "       'hour'],\n",
       "      dtype='object')"
      ]
     },
     "execution_count": 6,
     "metadata": {},
     "output_type": "execute_result"
    }
   ],
   "source": [
    "merged_train.columns"
   ]
  },
  {
   "cell_type": "code",
   "execution_count": 7,
   "metadata": {},
   "outputs": [],
   "source": [
    "merged_train = merged_train.drop(['timestamp','index'],axis=1) "
   ]
  },
  {
   "cell_type": "code",
   "execution_count": 8,
   "metadata": {},
   "outputs": [
    {
     "name": "stdout",
     "output_type": "stream",
     "text": [
      "Memory usage of dataframe is 924.53 MB\n",
      "Memory usage after optimization is: 806.87 MB\n",
      "Decreased by 12.7%\n"
     ]
    }
   ],
   "source": [
    "merged_train = memory_reduction(merged_train)"
   ]
  },
  {
   "cell_type": "code",
   "execution_count": 9,
   "metadata": {
    "_cell_guid": "b1076dfc-b9ad-4769-8c92-a6c4dae69d19",
    "_uuid": "8f2839f25d086af736a60e9eeb907d3b93b6e0e5"
   },
   "outputs": [],
   "source": [
    "from keras import backend\n",
    "backend.clear_session()\n",
    "#from numba import cuda\n",
    "#cuda.select_device(0)  \n",
    "#cuda.close()"
   ]
  },
  {
   "cell_type": "code",
   "execution_count": 11,
   "metadata": {},
   "outputs": [],
   "source": [
    "#https://www.kaggle.com/isaienkov/keras-nn-with-embeddings-for-cat-features-1-15\n",
    "# Defining all input layers \n",
    "\n",
    "building_id = Input(shape=[1], name=\"building_id\")\n",
    "meter = Input(shape=[1], name=\"meter\")\n",
    "weekend = Input(shape=[1], name=\"weekend\")\n",
    "site_id = Input(shape=[1], name=\"site_id\")\n",
    "primary_use = Input(shape=[1], name=\"primary_use\")\n",
    "square_feet = Input(shape=[1], name=\"square_feet\")\n",
    "air_temperature = Input(shape=[1], name=\"air_temperature\")\n",
    "cloud_coverage = Input(shape=[1], name=\"cloud_coverage\")\n",
    "dew_temperature = Input(shape=[1], name=\"dew_temperature\")\n",
    "precip_depth_1_hr = Input(shape=[1], name=\"precip_depth_1_hr\")\n",
    "IsHoliday = Input(shape=[1], name=\"IsHoliday\")\n",
    "\n",
    "month_group = Input(shape=[1], name=\"month_group\")\n",
    "horizsolar = Input(shape=[1], name=\"horizsolar\")\n",
    "Sensible_Heat = Input(shape=[1], name=\"Sensible_Heat\")\n",
    "relative_humidity = Input(shape=[1], name=\"relative_humidity\")\n",
    "hour = Input(shape=[1], name=\"hour\")\n",
    "\n",
    "# Embedding Layers\n",
    "building_id_embedding = Embedding(1449, 6)(building_id)\n",
    "meter_embedding = Embedding(4, 2)(meter)\n",
    "weekend_embedding = Embedding(7, 2)(weekend)\n",
    "site_id_embedding = Embedding(16, 2)(site_id)\n",
    "primary_use_embedding = Embedding(16, 2)(primary_use)\n",
    "month_group_embedding = Embedding(4, 2)(month_group)\n",
    "hour_embedding = Embedding(24, 3)(hour)\n",
    "# Concatinating all input layers\n",
    "concat_embedding = concatenate([\n",
    "           Flatten() (building_id_embedding)\n",
    "         , Flatten() (meter_embedding)\n",
    "         , Flatten() (weekend_embedding)\n",
    "         , Flatten() (site_id_embedding)\n",
    "         , Flatten() (primary_use_embedding)\n",
    "         , Flatten() (month_group_embedding)\n",
    "         , Flatten() (hour_embedding)\n",
    "    ])\n",
    "con = Dropout(0.2)(Dense(128,activation='relu') (concat_embedding))\n",
    "con = BatchNormalization()(con)\n",
    "con = Dropout(0.1)(Dense(64,activation='relu') (con))\n",
    "  \n",
    "final_layer = concatenate([\n",
    "          con, square_feet , air_temperature , cloud_coverage , dew_temperature\n",
    "        , precip_depth_1_hr,IsHoliday,\n",
    "        horizsolar, Sensible_Heat, relative_humidity ])\n",
    "  \n",
    "final_layer = Dropout(0.1)(Dense(32,activation='relu') (final_layer))\n",
    "final_layer = BatchNormalization()(final_layer)\n",
    "final_layer = Dropout(0.1)(Dense(16,activation='relu') (final_layer))\n",
    "    \n",
    "#output\n",
    "output = Dense(1,activation='linear') (final_layer)\n",
    "\n",
    "model = Model(inputs = [ building_id, meter,weekend, site_id, primary_use, square_feet, air_temperature,\n",
    "       cloud_coverage, dew_temperature, precip_depth_1_hr, IsHoliday,\n",
    "       month_group, horizsolar, Sensible_Heat, relative_humidity,\n",
    "       hour], outputs = output)\n",
    "\n"
   ]
  },
  {
   "cell_type": "code",
   "execution_count": 12,
   "metadata": {},
   "outputs": [],
   "source": [
    "def root_mean_squared_error(y_true, y_pred):\n",
    "    return K.sqrt(K.mean(K.square(y_pred - y_true))) \n"
   ]
  },
  {
   "cell_type": "code",
   "execution_count": 13,
   "metadata": {},
   "outputs": [],
   "source": [
    "model.compile(optimizer = Adam(lr=0.001),loss = root_mean_squared_error)#loss= mse_loss,metrics=[root_mean_squared_error]"
   ]
  },
  {
   "cell_type": "code",
   "execution_count": 14,
   "metadata": {},
   "outputs": [
    {
     "name": "stdout",
     "output_type": "stream",
     "text": [
      "Model: \"model\"\n",
      "__________________________________________________________________________________________________\n",
      "Layer (type)                    Output Shape         Param #     Connected to                     \n",
      "==================================================================================================\n",
      "building_id (InputLayer)        [(None, 1)]          0                                            \n",
      "__________________________________________________________________________________________________\n",
      "meter (InputLayer)              [(None, 1)]          0                                            \n",
      "__________________________________________________________________________________________________\n",
      "weekend (InputLayer)            [(None, 1)]          0                                            \n",
      "__________________________________________________________________________________________________\n",
      "site_id (InputLayer)            [(None, 1)]          0                                            \n",
      "__________________________________________________________________________________________________\n",
      "primary_use (InputLayer)        [(None, 1)]          0                                            \n",
      "__________________________________________________________________________________________________\n",
      "month_group (InputLayer)        [(None, 1)]          0                                            \n",
      "__________________________________________________________________________________________________\n",
      "hour (InputLayer)               [(None, 1)]          0                                            \n",
      "__________________________________________________________________________________________________\n",
      "embedding (Embedding)           (None, 1, 6)         8694        building_id[0][0]                \n",
      "__________________________________________________________________________________________________\n",
      "embedding_1 (Embedding)         (None, 1, 2)         8           meter[0][0]                      \n",
      "__________________________________________________________________________________________________\n",
      "embedding_2 (Embedding)         (None, 1, 2)         14          weekend[0][0]                    \n",
      "__________________________________________________________________________________________________\n",
      "embedding_3 (Embedding)         (None, 1, 2)         32          site_id[0][0]                    \n",
      "__________________________________________________________________________________________________\n",
      "embedding_4 (Embedding)         (None, 1, 2)         32          primary_use[0][0]                \n",
      "__________________________________________________________________________________________________\n",
      "embedding_5 (Embedding)         (None, 1, 2)         8           month_group[0][0]                \n",
      "__________________________________________________________________________________________________\n",
      "embedding_6 (Embedding)         (None, 1, 3)         72          hour[0][0]                       \n",
      "__________________________________________________________________________________________________\n",
      "flatten (Flatten)               (None, 6)            0           embedding[0][0]                  \n",
      "__________________________________________________________________________________________________\n",
      "flatten_1 (Flatten)             (None, 2)            0           embedding_1[0][0]                \n",
      "__________________________________________________________________________________________________\n",
      "flatten_2 (Flatten)             (None, 2)            0           embedding_2[0][0]                \n",
      "__________________________________________________________________________________________________\n",
      "flatten_3 (Flatten)             (None, 2)            0           embedding_3[0][0]                \n",
      "__________________________________________________________________________________________________\n",
      "flatten_4 (Flatten)             (None, 2)            0           embedding_4[0][0]                \n",
      "__________________________________________________________________________________________________\n",
      "flatten_5 (Flatten)             (None, 2)            0           embedding_5[0][0]                \n",
      "__________________________________________________________________________________________________\n",
      "flatten_6 (Flatten)             (None, 3)            0           embedding_6[0][0]                \n",
      "__________________________________________________________________________________________________\n",
      "concatenate (Concatenate)       (None, 19)           0           flatten[0][0]                    \n",
      "                                                                 flatten_1[0][0]                  \n",
      "                                                                 flatten_2[0][0]                  \n",
      "                                                                 flatten_3[0][0]                  \n",
      "                                                                 flatten_4[0][0]                  \n",
      "                                                                 flatten_5[0][0]                  \n",
      "                                                                 flatten_6[0][0]                  \n",
      "__________________________________________________________________________________________________\n",
      "dense (Dense)                   (None, 128)          2560        concatenate[0][0]                \n",
      "__________________________________________________________________________________________________\n",
      "dropout (Dropout)               (None, 128)          0           dense[0][0]                      \n",
      "__________________________________________________________________________________________________\n",
      "batch_normalization (BatchNorma (None, 128)          512         dropout[0][0]                    \n",
      "__________________________________________________________________________________________________\n",
      "dense_1 (Dense)                 (None, 64)           8256        batch_normalization[0][0]        \n",
      "__________________________________________________________________________________________________\n",
      "dropout_1 (Dropout)             (None, 64)           0           dense_1[0][0]                    \n",
      "__________________________________________________________________________________________________\n",
      "square_feet (InputLayer)        [(None, 1)]          0                                            \n",
      "__________________________________________________________________________________________________\n",
      "air_temperature (InputLayer)    [(None, 1)]          0                                            \n",
      "__________________________________________________________________________________________________\n",
      "cloud_coverage (InputLayer)     [(None, 1)]          0                                            \n",
      "__________________________________________________________________________________________________\n",
      "dew_temperature (InputLayer)    [(None, 1)]          0                                            \n",
      "__________________________________________________________________________________________________\n",
      "precip_depth_1_hr (InputLayer)  [(None, 1)]          0                                            \n",
      "__________________________________________________________________________________________________\n",
      "IsHoliday (InputLayer)          [(None, 1)]          0                                            \n",
      "__________________________________________________________________________________________________\n",
      "horizsolar (InputLayer)         [(None, 1)]          0                                            \n",
      "__________________________________________________________________________________________________\n",
      "Sensible_Heat (InputLayer)      [(None, 1)]          0                                            \n",
      "__________________________________________________________________________________________________\n",
      "relative_humidity (InputLayer)  [(None, 1)]          0                                            \n",
      "__________________________________________________________________________________________________\n",
      "concatenate_1 (Concatenate)     (None, 73)           0           dropout_1[0][0]                  \n",
      "                                                                 square_feet[0][0]                \n",
      "                                                                 air_temperature[0][0]            \n",
      "                                                                 cloud_coverage[0][0]             \n",
      "                                                                 dew_temperature[0][0]            \n",
      "                                                                 precip_depth_1_hr[0][0]          \n",
      "                                                                 IsHoliday[0][0]                  \n",
      "                                                                 horizsolar[0][0]                 \n",
      "                                                                 Sensible_Heat[0][0]              \n",
      "                                                                 relative_humidity[0][0]          \n",
      "__________________________________________________________________________________________________\n",
      "dense_2 (Dense)                 (None, 32)           2368        concatenate_1[0][0]              \n",
      "__________________________________________________________________________________________________\n",
      "dropout_2 (Dropout)             (None, 32)           0           dense_2[0][0]                    \n",
      "__________________________________________________________________________________________________\n",
      "batch_normalization_1 (BatchNor (None, 32)           128         dropout_2[0][0]                  \n",
      "__________________________________________________________________________________________________\n",
      "dense_3 (Dense)                 (None, 16)           528         batch_normalization_1[0][0]      \n",
      "__________________________________________________________________________________________________\n",
      "dropout_3 (Dropout)             (None, 16)           0           dense_3[0][0]                    \n",
      "__________________________________________________________________________________________________\n",
      "dense_4 (Dense)                 (None, 1)            17          dropout_3[0][0]                  \n",
      "==================================================================================================\n",
      "Total params: 23,229\n",
      "Trainable params: 22,909\n",
      "Non-trainable params: 320\n",
      "__________________________________________________________________________________________________\n"
     ]
    }
   ],
   "source": [
    "model.summary()"
   ]
  },
  {
   "cell_type": "code",
   "execution_count": 15,
   "metadata": {},
   "outputs": [],
   "source": [
    "folds = 4\n",
    "seed = 666\n",
    "kf = StratifiedKFold(n_splits=folds, shuffle=True, random_state=seed)\n"
   ]
  },
  {
   "cell_type": "code",
   "execution_count": 16,
   "metadata": {},
   "outputs": [],
   "source": [
    "def get_keras_data(df,cols):\n",
    "    X = {col: np.array(df[col]) for col in cols}\n",
    "    return X\n"
   ]
  },
  {
   "cell_type": "code",
   "execution_count": 17,
   "metadata": {},
   "outputs": [
    {
     "name": "stdout",
     "output_type": "stream",
     "text": [
      "Epoch 1/15\n",
      "12907/12910 [============================>.] - ETA: 0s - loss: 1.0723\n",
      "Epoch 00001: val_loss improved from inf to 0.86050, saving model to model_0.hdf5\n",
      "12910/12910 [==============================] - 112s 9ms/step - loss: 1.0722 - val_loss: 0.8605\n",
      "Epoch 2/15\n",
      "12907/12910 [============================>.] - ETA: 0s - loss: 0.9576\n",
      "Epoch 00002: val_loss improved from 0.86050 to 0.84775, saving model to model_0.hdf5\n",
      "12910/12910 [==============================] - 113s 9ms/step - loss: 0.9576 - val_loss: 0.8477\n",
      "Epoch 3/15\n",
      "12907/12910 [============================>.] - ETA: 0s - loss: 0.9456\n",
      "Epoch 00003: val_loss did not improve from 0.84775\n",
      "12910/12910 [==============================] - 113s 9ms/step - loss: 0.9456 - val_loss: 0.8519\n",
      "Epoch 4/15\n",
      "12907/12910 [============================>.] - ETA: 0s - loss: 0.9391\n",
      "Epoch 00004: val_loss improved from 0.84775 to 0.84370, saving model to model_0.hdf5\n",
      "12910/12910 [==============================] - 111s 9ms/step - loss: 0.9390 - val_loss: 0.8437\n",
      "Epoch 5/15\n",
      "12907/12910 [============================>.] - ETA: 0s - loss: 0.9356\n",
      "Epoch 00005: val_loss improved from 0.84370 to 0.83849, saving model to model_0.hdf5\n",
      "12910/12910 [==============================] - 111s 9ms/step - loss: 0.9356 - val_loss: 0.8385\n",
      "Epoch 6/15\n",
      "12909/12910 [============================>.] - ETA: 0s - loss: 0.9328\n",
      "Epoch 00006: val_loss improved from 0.83849 to 0.83392, saving model to model_0.hdf5\n",
      "12910/12910 [==============================] - 111s 9ms/step - loss: 0.9328 - val_loss: 0.8339\n",
      "Epoch 7/15\n",
      "12906/12910 [============================>.] - ETA: 0s - loss: 0.9310\n",
      "Epoch 00007: val_loss did not improve from 0.83392\n",
      "12910/12910 [==============================] - 110s 8ms/step - loss: 0.9310 - val_loss: 0.8377\n",
      "Epoch 8/15\n",
      "12905/12910 [============================>.] - ETA: 0s - loss: 0.9293\n",
      "Epoch 00008: val_loss improved from 0.83392 to 0.83173, saving model to model_0.hdf5\n",
      "12910/12910 [==============================] - 112s 9ms/step - loss: 0.9293 - val_loss: 0.8317\n",
      "Epoch 9/15\n",
      "12909/12910 [============================>.] - ETA: 0s - loss: 0.9274\n",
      "Epoch 00009: val_loss did not improve from 0.83173\n",
      "12910/12910 [==============================] - 112s 9ms/step - loss: 0.9274 - val_loss: 0.8338\n",
      "Epoch 10/15\n",
      "12908/12910 [============================>.] - ETA: 0s - loss: 0.9263\n",
      "Epoch 00010: val_loss did not improve from 0.83173\n",
      "12910/12910 [==============================] - 111s 9ms/step - loss: 0.9263 - val_loss: 0.8340\n",
      "Epoch 11/15\n",
      "12910/12910 [==============================] - ETA: 0s - loss: 0.9254\n",
      "Epoch 00011: val_loss improved from 0.83173 to 0.82509, saving model to model_0.hdf5\n",
      "12910/12910 [==============================] - 111s 9ms/step - loss: 0.9254 - val_loss: 0.8251\n",
      "Epoch 12/15\n",
      "12908/12910 [============================>.] - ETA: 0s - loss: 0.9242\n",
      "Epoch 00012: val_loss did not improve from 0.82509\n",
      "12910/12910 [==============================] - 112s 9ms/step - loss: 0.9242 - val_loss: 0.8290\n",
      "Epoch 13/15\n",
      "12907/12910 [============================>.] - ETA: 0s - loss: 0.9235\n",
      "Epoch 00013: val_loss did not improve from 0.82509\n",
      "12910/12910 [==============================] - 112s 9ms/step - loss: 0.9235 - val_loss: 0.8324\n",
      "Epoch 14/15\n",
      "12906/12910 [============================>.] - ETA: 0s - loss: 0.9228\n",
      "Epoch 00014: val_loss did not improve from 0.82509\n",
      "12910/12910 [==============================] - 110s 9ms/step - loss: 0.9228 - val_loss: 0.8332\n",
      "Epoch 00014: early stopping\n",
      "Epoch 1/15\n",
      "12906/12910 [============================>.] - ETA: 0s - loss: 0.9227\n",
      "Epoch 00001: val_loss improved from inf to 0.83005, saving model to model_1.hdf5\n",
      "12910/12910 [==============================] - 113s 9ms/step - loss: 0.9227 - val_loss: 0.8300\n",
      "Epoch 2/15\n",
      "12909/12910 [============================>.] - ETA: 0s - loss: 0.9219\n",
      "Epoch 00002: val_loss improved from 0.83005 to 0.82289, saving model to model_1.hdf5\n",
      "12910/12910 [==============================] - 113s 9ms/step - loss: 0.9219 - val_loss: 0.8229\n",
      "Epoch 3/15\n",
      "12905/12910 [============================>.] - ETA: 0s - loss: 0.9215\n",
      "Epoch 00003: val_loss improved from 0.82289 to 0.82259, saving model to model_1.hdf5\n",
      "12910/12910 [==============================] - 113s 9ms/step - loss: 0.9215 - val_loss: 0.8226\n",
      "Epoch 4/15\n",
      "12909/12910 [============================>.] - ETA: 0s - loss: 0.9209\n",
      "Epoch 00004: val_loss did not improve from 0.82259\n",
      "12910/12910 [==============================] - 112s 9ms/step - loss: 0.9209 - val_loss: 0.8250\n",
      "Epoch 5/15\n",
      "12905/12910 [============================>.] - ETA: 0s - loss: 0.9206\n",
      "Epoch 00005: val_loss did not improve from 0.82259\n",
      "12910/12910 [==============================] - 112s 9ms/step - loss: 0.9206 - val_loss: 0.8256\n",
      "Epoch 6/15\n",
      "12908/12910 [============================>.] - ETA: 0s - loss: 0.9203\n",
      "Epoch 00006: val_loss did not improve from 0.82259\n",
      "12910/12910 [==============================] - 112s 9ms/step - loss: 0.9203 - val_loss: 0.8236\n",
      "Epoch 00006: early stopping\n",
      "Epoch 1/15\n",
      "12910/12910 [==============================] - ETA: 0s - loss: 0.9195\n",
      "Epoch 00001: val_loss improved from inf to 0.82563, saving model to model_2.hdf5\n",
      "12910/12910 [==============================] - 112s 9ms/step - loss: 0.9195 - val_loss: 0.8256\n",
      "Epoch 2/15\n",
      "12906/12910 [============================>.] - ETA: 0s - loss: 0.9192\n",
      "Epoch 00002: val_loss improved from 0.82563 to 0.81586, saving model to model_2.hdf5\n",
      "12910/12910 [==============================] - 111s 9ms/step - loss: 0.9192 - val_loss: 0.8159\n",
      "Epoch 3/15\n",
      "12908/12910 [============================>.] - ETA: 0s - loss: 0.9188\n",
      "Epoch 00003: val_loss did not improve from 0.81586\n",
      "12910/12910 [==============================] - 110s 9ms/step - loss: 0.9188 - val_loss: 0.8201\n",
      "Epoch 4/15\n",
      "12906/12910 [============================>.] - ETA: 0s - loss: 0.9183\n",
      "Epoch 00004: val_loss did not improve from 0.81586\n",
      "12910/12910 [==============================] - 111s 9ms/step - loss: 0.9183 - val_loss: 0.8249\n",
      "Epoch 5/15\n",
      "12907/12910 [============================>.] - ETA: 0s - loss: 0.9180\n",
      "Epoch 00005: val_loss did not improve from 0.81586\n",
      "12910/12910 [==============================] - 112s 9ms/step - loss: 0.9180 - val_loss: 0.8203\n",
      "Epoch 00005: early stopping\n",
      "Epoch 1/15\n",
      "12906/12910 [============================>.] - ETA: 0s - loss: 0.9180\n",
      "Epoch 00001: val_loss improved from inf to 0.82175, saving model to model_3.hdf5\n",
      "12910/12910 [==============================] - 114s 9ms/step - loss: 0.9180 - val_loss: 0.8218\n",
      "Epoch 2/15\n",
      "12910/12910 [==============================] - ETA: 0s - loss: 0.9178\n",
      "Epoch 00002: val_loss did not improve from 0.82175\n",
      "12910/12910 [==============================] - 112s 9ms/step - loss: 0.9178 - val_loss: 0.8254\n",
      "Epoch 3/15\n",
      "12906/12910 [============================>.] - ETA: 0s - loss: 0.9173\n",
      "Epoch 00003: val_loss improved from 0.82175 to 0.82076, saving model to model_3.hdf5\n",
      "12910/12910 [==============================] - 113s 9ms/step - loss: 0.9173 - val_loss: 0.8208\n",
      "Epoch 4/15\n",
      "12909/12910 [============================>.] - ETA: 0s - loss: 0.9170\n",
      "Epoch 00004: val_loss did not improve from 0.82076\n",
      "12910/12910 [==============================] - 113s 9ms/step - loss: 0.9170 - val_loss: 0.8359\n",
      "Epoch 5/15\n",
      "12905/12910 [============================>.] - ETA: 0s - loss: 0.9171\n",
      "Epoch 00005: val_loss did not improve from 0.82076\n",
      "12910/12910 [==============================] - 111s 9ms/step - loss: 0.9171 - val_loss: 0.8251\n",
      "Epoch 6/15\n",
      "12907/12910 [============================>.] - ETA: 0s - loss: 0.9169\n",
      "Epoch 00006: val_loss did not improve from 0.82076\n",
      "12910/12910 [==============================] - 112s 9ms/step - loss: 0.9169 - val_loss: 0.8237\n",
      "Epoch 00006: early stopping\n"
     ]
    }
   ],
   "source": [
    "models = []\n",
    "\n",
    "i = 0\n",
    "for train_idx, valid_idx in kf.split(merged_train,merged_train['site_id']):\n",
    "    train_data = merged_train.iloc[train_idx,:]\n",
    "    valid_data = merged_train.iloc[valid_idx,:]\n",
    "    yy_train = train_data['meter_reading_log1p']\n",
    "    xx_train = train_data.drop(['meter_reading_log1p'], axis=1)\n",
    "    del train_data\n",
    "    yy_valid = valid_data['meter_reading_log1p']\n",
    "    xx_valid = valid_data.drop(['meter_reading_log1p'], axis=1)\n",
    "    del valid_data\n",
    "    cols = xx_train.columns\n",
    "    x_train = get_keras_data(xx_train,cols)\n",
    "    x_valid = get_keras_data(xx_valid, cols)\n",
    "    del xx_train,xx_valid\n",
    "\n",
    "    early_stopping = EarlyStopping(patience=3, verbose=1)\n",
    "    model_checkpoint = ModelCheckpoint(\"model_\" + str(i) + \".hdf5\",\n",
    "                                       save_best_only=True, verbose=1, monitor='val_loss', mode='min')\n",
    "\n",
    "    hist = model.fit(x_train,yy_train, batch_size=1024, epochs=15,\n",
    "                            validation_data=(x_valid,yy_valid), verbose=1,callbacks=[early_stopping, model_checkpoint])\n",
    "\n",
    "    model1 = load_model(\"model_\" + str(i) + \".hdf5\", custom_objects={'root_mean_squared_error': root_mean_squared_error})\n",
    "    models.append(model1)  \n",
    "    i +=1\n",
    "                                               \n",
    " "
   ]
  },
  {
   "cell_type": "code",
   "execution_count": null,
   "metadata": {},
   "outputs": [],
   "source": [
    "merged_trainmerged_train merged_train"
   ]
  },
  {
   "cell_type": "code",
   "execution_count": 18,
   "metadata": {},
   "outputs": [],
   "source": [
    "del merged_train                                                  "
   ]
  },
  {
   "cell_type": "code",
   "execution_count": 19,
   "metadata": {},
   "outputs": [],
   "source": [
    "del x_train,x_valid"
   ]
  },
  {
   "cell_type": "code",
   "execution_count": 10,
   "metadata": {},
   "outputs": [],
   "source": [
    "models = []\n",
    "for i in range(4) :\n",
    "    model1 = load_model(\"../input/energydl/model_\" + str(i) + \".hdf5\", custom_objects={'root_mean_squared_error': root_mean_squared_error})\n",
    "    models.append(model1)"
   ]
  },
  {
   "cell_type": "markdown",
   "metadata": {},
   "source": [
    "# Reading Merged Test data :"
   ]
  },
  {
   "cell_type": "code",
   "execution_count": 20,
   "metadata": {},
   "outputs": [],
   "source": [
    "merged_test = pd.read_feather('../input/energy-feature-engineering-2/merged_test.feather')               "
   ]
  },
  {
   "cell_type": "code",
   "execution_count": 21,
   "metadata": {},
   "outputs": [],
   "source": [
    "merged_test[\"hour\"] = merged_test[\"timestamp\"].dt.hour       "
   ]
  },
  {
   "cell_type": "code",
   "execution_count": 22,
   "metadata": {},
   "outputs": [],
   "source": [
    "merged_test = merged_test.drop(['index','row_id','timestamp'],axis=1)"
   ]
  },
  {
   "cell_type": "code",
   "execution_count": 23,
   "metadata": {},
   "outputs": [
    {
     "data": {
      "text/plain": [
       "Index(['building_id', 'meter', 'weekend', 'site_id', 'primary_use',\n",
       "       'square_feet', 'air_temperature', 'cloud_coverage', 'dew_temperature',\n",
       "       'precip_depth_1_hr', 'IsHoliday', 'month_group', 'horizsolar',\n",
       "       'Sensible_Heat', 'relative_humidity', 'hour'],\n",
       "      dtype='object')"
      ]
     },
     "execution_count": 23,
     "metadata": {},
     "output_type": "execute_result"
    }
   ],
   "source": [
    "merged_test.columns "
   ]
  },
  {
   "cell_type": "code",
   "execution_count": 24,
   "metadata": {},
   "outputs": [
    {
     "data": {
      "text/plain": [
       "(41697600, 16)"
      ]
     },
     "execution_count": 24,
     "metadata": {},
     "output_type": "execute_result"
    }
   ],
   "source": [
    "merged_test.shape"
   ]
  },
  {
   "cell_type": "code",
   "execution_count": 25,
   "metadata": {},
   "outputs": [],
   "source": [
    "cols = merged_test.columns"
   ]
  },
  {
   "cell_type": "code",
   "execution_count": 31,
   "metadata": {},
   "outputs": [
    {
     "name": "stderr",
     "output_type": "stream",
     "text": [
      "100%|██████████| 84/84 [07:46<00:00,  5.55s/it]\n"
     ]
    }
   ],
   "source": [
    "from tqdm import tqdm\n",
    "k=0\n",
    "folds=4\n",
    "result = np.zeros((merged_test.shape[0]),dtype=np.float32)\n",
    "step_size = 500000\n",
    "for j in tqdm(range(int(np.ceil(merged_test.shape[0]/step_size)))):\n",
    "    for_prediction = get_keras_data(merged_test.iloc[k:k+step_size],cols)\n",
    "    result[k:min(k+step_size,merged_test.shape[0])] = \\\n",
    "       np.expm1(sum([model.predict(for_prediction, batch_size=1024)[:,0] for model in models])/folds)\n",
    "    k+=step_size        "
   ]
  },
  {
   "cell_type": "code",
   "execution_count": 27,
   "metadata": {},
   "outputs": [],
   "source": [
    "submission = pd.read_feather('../input/ashrae-feather-format-for-fast-loading/sample_submission.feather')\n",
    "submission['meter_reading'] = result\n",
    "submission.loc[submission['meter_reading']<0, 'meter_reading'] = 0     \n",
    "                                                 "
   ]
  },
  {
   "cell_type": "code",
   "execution_count": 28,
   "metadata": {},
   "outputs": [
    {
     "data": {
      "text/html": [
       "<div>\n",
       "<style scoped>\n",
       "    .dataframe tbody tr th:only-of-type {\n",
       "        vertical-align: middle;\n",
       "    }\n",
       "\n",
       "    .dataframe tbody tr th {\n",
       "        vertical-align: top;\n",
       "    }\n",
       "\n",
       "    .dataframe thead th {\n",
       "        text-align: right;\n",
       "    }\n",
       "</style>\n",
       "<table border=\"1\" class=\"dataframe\">\n",
       "  <thead>\n",
       "    <tr style=\"text-align: right;\">\n",
       "      <th></th>\n",
       "      <th>row_id</th>\n",
       "      <th>meter_reading</th>\n",
       "    </tr>\n",
       "  </thead>\n",
       "  <tbody>\n",
       "    <tr>\n",
       "      <th>0</th>\n",
       "      <td>0</td>\n",
       "      <td>218.098022</td>\n",
       "    </tr>\n",
       "    <tr>\n",
       "      <th>1</th>\n",
       "      <td>1</td>\n",
       "      <td>104.609573</td>\n",
       "    </tr>\n",
       "    <tr>\n",
       "      <th>2</th>\n",
       "      <td>2</td>\n",
       "      <td>5.629797</td>\n",
       "    </tr>\n",
       "    <tr>\n",
       "      <th>3</th>\n",
       "      <td>3</td>\n",
       "      <td>365.547852</td>\n",
       "    </tr>\n",
       "    <tr>\n",
       "      <th>4</th>\n",
       "      <td>4</td>\n",
       "      <td>1066.554199</td>\n",
       "    </tr>\n",
       "    <tr>\n",
       "      <th>5</th>\n",
       "      <td>5</td>\n",
       "      <td>16.920645</td>\n",
       "    </tr>\n",
       "    <tr>\n",
       "      <th>6</th>\n",
       "      <td>6</td>\n",
       "      <td>96.684021</td>\n",
       "    </tr>\n",
       "    <tr>\n",
       "      <th>7</th>\n",
       "      <td>7</td>\n",
       "      <td>525.516418</td>\n",
       "    </tr>\n",
       "    <tr>\n",
       "      <th>8</th>\n",
       "      <td>8</td>\n",
       "      <td>718.931396</td>\n",
       "    </tr>\n",
       "    <tr>\n",
       "      <th>9</th>\n",
       "      <td>9</td>\n",
       "      <td>265.529144</td>\n",
       "    </tr>\n",
       "  </tbody>\n",
       "</table>\n",
       "</div>"
      ],
      "text/plain": [
       "   row_id  meter_reading\n",
       "0       0     218.098022\n",
       "1       1     104.609573\n",
       "2       2       5.629797\n",
       "3       3     365.547852\n",
       "4       4    1066.554199\n",
       "5       5      16.920645\n",
       "6       6      96.684021\n",
       "7       7     525.516418\n",
       "8       8     718.931396\n",
       "9       9     265.529144"
      ]
     },
     "execution_count": 28,
     "metadata": {},
     "output_type": "execute_result"
    }
   ],
   "source": [
    "submission.head(10)                                    "
   ]
  },
  {
   "cell_type": "code",
   "execution_count": 29,
   "metadata": {},
   "outputs": [],
   "source": [
    "submission.to_csv('submission_deep_learning_without_lag.csv', index=False)    "
   ]
  },
  {
   "cell_type": "code",
   "execution_count": 30,
   "metadata": {},
   "outputs": [
    {
     "data": {
      "text/html": [
       "<a href='./submission_deep_learning_without_lag.csv' target='_blank'>./submission_deep_learning_without_lag.csv</a><br>"
      ],
      "text/plain": [
       "/kaggle/working/submission_deep_learning_without_lag.csv"
      ]
     },
     "execution_count": 30,
     "metadata": {},
     "output_type": "execute_result"
    }
   ],
   "source": [
    "from IPython.display import FileLink\n",
    "FileLink(r'./submission_deep_learning_without_lag.csv')                                                                "
   ]
  },
  {
   "cell_type": "code",
   "execution_count": 2,
   "metadata": {},
   "outputs": [
    {
     "data": {
      "image/jpeg": "[encoded data removed]",
      "text/plain": [
       "<IPython.core.display.Image object>"
      ]
     },
     "execution_count": 2,
     "metadata": {},
     "output_type": "execute_result"
    }
   ],
   "source": [
    "from IPython.display import Image\n",
    "Image(filename='Capture2.JPG')     "
   ]
  }
 ],
 "metadata": {
  "kernelspec": {
   "display_name": "Python 3",
   "language": "python",
   "name": "python3"
  },
  "language_info": {
   "codemirror_mode": {
    "name": "ipython",
    "version": 3
   },
   "file_extension": ".py",
   "mimetype": "text/x-python",
   "name": "python",
   "nbconvert_exporter": "python",
   "pygments_lexer": "ipython3",
   "version": "3.7.3"
  }
 },
 "nbformat": 4,
 "nbformat_minor": 4
}
