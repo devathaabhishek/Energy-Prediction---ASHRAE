{
 "cells": [
  {
   "cell_type": "markdown",
   "metadata": {
    "papermill": {
     "duration": 0.019925,
     "end_time": "2020-08-10T08:00:34.914089",
     "exception": false,
     "start_time": "2020-08-10T08:00:34.894164",
     "status": "completed"
    },
    "tags": []
   },
   "source": [
    "# Importing Libraries :"
   ]
  },
  {
   "cell_type": "code",
   "execution_count": 1,
   "metadata": {
    "_cell_guid": "b1076dfc-b9ad-4769-8c92-a6c4dae69d19",
    "_uuid": "8f2839f25d086af736a60e9eeb907d3b93b6e0e5",
    "execution": {
     "iopub.execute_input": "2020-08-10T08:00:34.958397Z",
     "iopub.status.busy": "2020-08-10T08:00:34.957543Z",
     "iopub.status.idle": "2020-08-10T08:00:38.854207Z",
     "shell.execute_reply": "2020-08-10T08:00:38.854953Z"
    },
    "papermill": {
     "duration": 3.925181,
     "end_time": "2020-08-10T08:00:38.855213",
     "exception": false,
     "start_time": "2020-08-10T08:00:34.930032",
     "status": "completed"
    },
    "tags": []
   },
   "outputs": [
    {
     "data": {
      "text/html": [
       "        <script type=\"text/javascript\">\n",
       "        window.PlotlyConfig = {MathJaxConfig: 'local'};\n",
       "        if (window.MathJax) {MathJax.Hub.Config({SVG: {font: \"STIX-Web\"}});}\n",
       "        if (typeof require !== 'undefined') {\n",
       "        require.undef(\"plotly\");\n",
       "        requirejs.config({\n",
       "            paths: {\n",
       "                'plotly': ['https://cdn.plot.ly/plotly-latest.min']\n",
       "            }\n",
       "        });\n",
       "        require(['plotly'], function(Plotly) {\n",
       "            window._Plotly = Plotly;\n",
       "        });\n",
       "        }\n",
       "        </script>\n",
       "        "
      ]
     },
     "metadata": {},
     "output_type": "display_data"
    }
   ],
   "source": [
    "import gc\n",
    "import os\n",
    "import random\n",
    "import sys\n",
    "\n",
    "from tqdm import tqdm_notebook as tqdm\n",
    "import numpy as np # linear algebra\n",
    "import pandas as pd # data processing, CSV file I/O (e.g. pd.read_csv)\n",
    "\n",
    "import matplotlib.pyplot as plt\n",
    "import seaborn as sns\n",
    "import statistics\n",
    "from IPython.core.display import display, HTML\n",
    "\n",
    "from math import sqrt\n",
    "from sklearn.metrics import mean_squared_error\n",
    "import warnings\n",
    "warnings.filterwarnings('ignore')\n",
    "\n",
    "\n",
    "\n",
    "# --- plotly ---\n",
    "from plotly import tools, subplots\n",
    "import plotly.offline as py\n",
    "py.init_notebook_mode(connected=True)\n",
    "import plotly.graph_objs as go\n",
    "import plotly.express as px\n",
    "import plotly.figure_factory as ff\n",
    "\n",
    "# --- models ---\n",
    "#from sklearn import preprocessing\n",
    "from sklearn.model_selection import KFold\n",
    "import lightgbm as lgb\n",
    "import xgboost as xgb\n",
    "#import catboost as cb"
   ]
  },
  {
   "cell_type": "markdown",
   "metadata": {
    "papermill": {
     "duration": 0.015912,
     "end_time": "2020-08-10T08:00:38.887993",
     "exception": false,
     "start_time": "2020-08-10T08:00:38.872081",
     "status": "completed"
    },
    "tags": []
   },
   "source": [
    "# Memory Reduction :"
   ]
  },
  {
   "cell_type": "code",
   "execution_count": 2,
   "metadata": {
    "_cell_guid": "79c7e3d0-c299-4dcb-8224-4455121ee9b0",
    "_uuid": "d629ff2d2480ee46fbb7e2d37f6b5fab8052498a",
    "execution": {
     "iopub.execute_input": "2020-08-10T08:00:38.947446Z",
     "iopub.status.busy": "2020-08-10T08:00:38.939635Z",
     "iopub.status.idle": "2020-08-10T08:00:38.951241Z",
     "shell.execute_reply": "2020-08-10T08:00:38.950605Z"
    },
    "papermill": {
     "duration": 0.047268,
     "end_time": "2020-08-10T08:00:38.951375",
     "exception": false,
     "start_time": "2020-08-10T08:00:38.904107",
     "status": "completed"
    },
    "tags": []
   },
   "outputs": [],
   "source": [
    "# Original code from https://www.kaggle.com/gemartin/load-data-reduce-memory-usage by @gemartin\n",
    "# Modified to support timestamp type, categorical type\n",
    "# Modified to add option to use float16 or not. feather format does not support float16.\n",
    "from pandas.api.types import is_datetime64_any_dtype as is_datetime\n",
    "from pandas.api.types import is_categorical_dtype\n",
    "\n",
    "def memory_reduction(df, use_float16=False):\n",
    "    \"\"\" iterate through all the columns of a dataframe and modify the data type\n",
    "        to reduce memory usage.        \n",
    "    \"\"\"\n",
    "    start_mem = df.memory_usage().sum() / 1024**2\n",
    "    print('Memory usage of dataframe is {:.2f} MB'.format(start_mem))\n",
    "    \n",
    "    for col in df.columns:\n",
    "        if is_datetime(df[col]) or is_categorical_dtype(df[col]):\n",
    "            # skip datetime type or categorical type\n",
    "            continue\n",
    "        col_type = df[col].dtype\n",
    "        \n",
    "        if col_type != object:\n",
    "            c_min = df[col].min()\n",
    "            c_max = df[col].max()\n",
    "            if str(col_type)[:3] == 'int':\n",
    "                if c_min > np.iinfo(np.int8).min and c_max < np.iinfo(np.int8).max:\n",
    "                    df[col] = df[col].astype(np.int8)\n",
    "                elif c_min > np.iinfo(np.int16).min and c_max < np.iinfo(np.int16).max:\n",
    "                    df[col] = df[col].astype(np.int16)\n",
    "                elif c_min > np.iinfo(np.int32).min and c_max < np.iinfo(np.int32).max:\n",
    "                    df[col] = df[col].astype(np.int32)\n",
    "                elif c_min > np.iinfo(np.int64).min and c_max < np.iinfo(np.int64).max:\n",
    "                    df[col] = df[col].astype(np.int64)  \n",
    "            else:\n",
    "                if use_float16 and c_min > np.finfo(np.float16).min and c_max < np.finfo(np.float16).max:\n",
    "                    df[col] = df[col].astype(np.float16)\n",
    "                elif c_min > np.finfo(np.float32).min and c_max < np.finfo(np.float32).max:\n",
    "                    df[col] = df[col].astype(np.float32)\n",
    "                else:\n",
    "                    df[col] = df[col].astype(np.float64)\n",
    "        else:\n",
    "            df[col] = df[col].astype('category')\n",
    "\n",
    "    end_mem = df.memory_usage().sum() / 1024**2\n",
    "    print('Memory usage after optimization is: {:.2f} MB'\n",
    "          .format(end_mem))\n",
    "    print('Decreased by {:.1f}%'.format(100 * (start_mem - end_mem) / start_mem))\n",
    "    \n",
    "    return df"
   ]
  },
  {
   "cell_type": "markdown",
   "metadata": {
    "papermill": {
     "duration": 0.015512,
     "end_time": "2020-08-10T08:00:38.982924",
     "exception": false,
     "start_time": "2020-08-10T08:00:38.967412",
     "status": "completed"
    },
    "tags": []
   },
   "source": [
    "# Reading Merged train data :"
   ]
  },
  {
   "cell_type": "code",
   "execution_count": 3,
   "metadata": {
    "execution": {
     "iopub.execute_input": "2020-08-10T08:00:39.021305Z",
     "iopub.status.busy": "2020-08-10T08:00:39.020503Z",
     "iopub.status.idle": "2020-08-10T08:00:41.031101Z",
     "shell.execute_reply": "2020-08-10T08:00:41.030399Z"
    },
    "papermill": {
     "duration": 2.032332,
     "end_time": "2020-08-10T08:00:41.031236",
     "exception": false,
     "start_time": "2020-08-10T08:00:38.998904",
     "status": "completed"
    },
    "tags": []
   },
   "outputs": [],
   "source": [
    "merged_train = pd.read_feather('../input/energy-feature-engineering-2/merged_train.feather')"
   ]
  },
  {
   "cell_type": "code",
   "execution_count": 4,
   "metadata": {
    "execution": {
     "iopub.execute_input": "2020-08-10T08:00:41.072247Z",
     "iopub.status.busy": "2020-08-10T08:00:41.070901Z",
     "iopub.status.idle": "2020-08-10T08:00:44.881427Z",
     "shell.execute_reply": "2020-08-10T08:00:44.880798Z"
    },
    "papermill": {
     "duration": 3.834063,
     "end_time": "2020-08-10T08:00:44.881574",
     "exception": false,
     "start_time": "2020-08-10T08:00:41.047511",
     "status": "completed"
    },
    "tags": []
   },
   "outputs": [
    {
     "data": {
      "text/html": [
       "<div>\n",
       "<style scoped>\n",
       "    .dataframe tbody tr th:only-of-type {\n",
       "        vertical-align: middle;\n",
       "    }\n",
       "\n",
       "    .dataframe tbody tr th {\n",
       "        vertical-align: top;\n",
       "    }\n",
       "\n",
       "    .dataframe thead th {\n",
       "        text-align: right;\n",
       "    }\n",
       "</style>\n",
       "<table border=\"1\" class=\"dataframe\">\n",
       "  <thead>\n",
       "    <tr style=\"text-align: right;\">\n",
       "      <th></th>\n",
       "      <th>index</th>\n",
       "      <th>building_id</th>\n",
       "      <th>meter</th>\n",
       "      <th>timestamp</th>\n",
       "      <th>meter_reading_log1p</th>\n",
       "      <th>weekend</th>\n",
       "      <th>site_id</th>\n",
       "      <th>primary_use</th>\n",
       "      <th>square_feet</th>\n",
       "      <th>air_temperature</th>\n",
       "      <th>cloud_coverage</th>\n",
       "      <th>dew_temperature</th>\n",
       "      <th>precip_depth_1_hr</th>\n",
       "      <th>IsHoliday</th>\n",
       "      <th>month_group</th>\n",
       "      <th>horizsolar</th>\n",
       "      <th>Sensible_Heat</th>\n",
       "      <th>relative_humidity</th>\n",
       "    </tr>\n",
       "  </thead>\n",
       "  <tbody>\n",
       "    <tr>\n",
       "      <th>0</th>\n",
       "      <td>0</td>\n",
       "      <td>0</td>\n",
       "      <td>0</td>\n",
       "      <td>2016-01-01 00:00:00</td>\n",
       "      <td>0.000000</td>\n",
       "      <td>4</td>\n",
       "      <td>0</td>\n",
       "      <td>0</td>\n",
       "      <td>8.913685</td>\n",
       "      <td>19.4</td>\n",
       "      <td>4.0</td>\n",
       "      <td>19.4</td>\n",
       "      <td>0.0</td>\n",
       "      <td>1.0</td>\n",
       "      <td>1</td>\n",
       "      <td>0.0</td>\n",
       "      <td>0.026138</td>\n",
       "      <td>100.000000</td>\n",
       "    </tr>\n",
       "    <tr>\n",
       "      <th>1</th>\n",
       "      <td>1</td>\n",
       "      <td>105</td>\n",
       "      <td>0</td>\n",
       "      <td>2016-01-01 00:00:00</td>\n",
       "      <td>3.190624</td>\n",
       "      <td>4</td>\n",
       "      <td>1</td>\n",
       "      <td>0</td>\n",
       "      <td>10.832181</td>\n",
       "      <td>3.8</td>\n",
       "      <td>0.0</td>\n",
       "      <td>2.4</td>\n",
       "      <td>NaN</td>\n",
       "      <td>1.0</td>\n",
       "      <td>1</td>\n",
       "      <td>0.0</td>\n",
       "      <td>0.040676</td>\n",
       "      <td>90.575539</td>\n",
       "    </tr>\n",
       "    <tr>\n",
       "      <th>2</th>\n",
       "      <td>2</td>\n",
       "      <td>106</td>\n",
       "      <td>0</td>\n",
       "      <td>2016-01-01 00:00:00</td>\n",
       "      <td>0.318163</td>\n",
       "      <td>4</td>\n",
       "      <td>1</td>\n",
       "      <td>0</td>\n",
       "      <td>8.589514</td>\n",
       "      <td>3.8</td>\n",
       "      <td>0.0</td>\n",
       "      <td>2.4</td>\n",
       "      <td>NaN</td>\n",
       "      <td>1.0</td>\n",
       "      <td>1</td>\n",
       "      <td>0.0</td>\n",
       "      <td>0.032254</td>\n",
       "      <td>90.575539</td>\n",
       "    </tr>\n",
       "    <tr>\n",
       "      <th>3</th>\n",
       "      <td>3</td>\n",
       "      <td>106</td>\n",
       "      <td>3</td>\n",
       "      <td>2016-01-01 00:00:00</td>\n",
       "      <td>0.000000</td>\n",
       "      <td>4</td>\n",
       "      <td>1</td>\n",
       "      <td>0</td>\n",
       "      <td>8.589514</td>\n",
       "      <td>3.8</td>\n",
       "      <td>0.0</td>\n",
       "      <td>2.4</td>\n",
       "      <td>NaN</td>\n",
       "      <td>1.0</td>\n",
       "      <td>1</td>\n",
       "      <td>0.0</td>\n",
       "      <td>0.032254</td>\n",
       "      <td>90.575539</td>\n",
       "    </tr>\n",
       "    <tr>\n",
       "      <th>4</th>\n",
       "      <td>4</td>\n",
       "      <td>107</td>\n",
       "      <td>0</td>\n",
       "      <td>2016-01-01 00:00:00</td>\n",
       "      <td>5.171529</td>\n",
       "      <td>4</td>\n",
       "      <td>1</td>\n",
       "      <td>0</td>\n",
       "      <td>11.487947</td>\n",
       "      <td>3.8</td>\n",
       "      <td>0.0</td>\n",
       "      <td>2.4</td>\n",
       "      <td>NaN</td>\n",
       "      <td>1.0</td>\n",
       "      <td>1</td>\n",
       "      <td>0.0</td>\n",
       "      <td>0.043138</td>\n",
       "      <td>90.575539</td>\n",
       "    </tr>\n",
       "    <tr>\n",
       "      <th>...</th>\n",
       "      <td>...</td>\n",
       "      <td>...</td>\n",
       "      <td>...</td>\n",
       "      <td>...</td>\n",
       "      <td>...</td>\n",
       "      <td>...</td>\n",
       "      <td>...</td>\n",
       "      <td>...</td>\n",
       "      <td>...</td>\n",
       "      <td>...</td>\n",
       "      <td>...</td>\n",
       "      <td>...</td>\n",
       "      <td>...</td>\n",
       "      <td>...</td>\n",
       "      <td>...</td>\n",
       "      <td>...</td>\n",
       "      <td>...</td>\n",
       "      <td>...</td>\n",
       "    </tr>\n",
       "    <tr>\n",
       "      <th>19229836</th>\n",
       "      <td>19229836</td>\n",
       "      <td>1443</td>\n",
       "      <td>0</td>\n",
       "      <td>2016-12-31 23:00:00</td>\n",
       "      <td>4.188897</td>\n",
       "      <td>5</td>\n",
       "      <td>15</td>\n",
       "      <td>0</td>\n",
       "      <td>10.604404</td>\n",
       "      <td>NaN</td>\n",
       "      <td>NaN</td>\n",
       "      <td>NaN</td>\n",
       "      <td>NaN</td>\n",
       "      <td>NaN</td>\n",
       "      <td>3</td>\n",
       "      <td>0.0</td>\n",
       "      <td>NaN</td>\n",
       "      <td>NaN</td>\n",
       "    </tr>\n",
       "    <tr>\n",
       "      <th>19229837</th>\n",
       "      <td>19229837</td>\n",
       "      <td>1444</td>\n",
       "      <td>0</td>\n",
       "      <td>2016-12-31 23:00:00</td>\n",
       "      <td>2.277267</td>\n",
       "      <td>5</td>\n",
       "      <td>15</td>\n",
       "      <td>3</td>\n",
       "      <td>9.884305</td>\n",
       "      <td>NaN</td>\n",
       "      <td>NaN</td>\n",
       "      <td>NaN</td>\n",
       "      <td>NaN</td>\n",
       "      <td>NaN</td>\n",
       "      <td>3</td>\n",
       "      <td>0.0</td>\n",
       "      <td>NaN</td>\n",
       "      <td>NaN</td>\n",
       "    </tr>\n",
       "    <tr>\n",
       "      <th>19229838</th>\n",
       "      <td>19229838</td>\n",
       "      <td>1445</td>\n",
       "      <td>0</td>\n",
       "      <td>2016-12-31 23:00:00</td>\n",
       "      <td>1.762159</td>\n",
       "      <td>5</td>\n",
       "      <td>15</td>\n",
       "      <td>0</td>\n",
       "      <td>8.366138</td>\n",
       "      <td>NaN</td>\n",
       "      <td>NaN</td>\n",
       "      <td>NaN</td>\n",
       "      <td>NaN</td>\n",
       "      <td>NaN</td>\n",
       "      <td>3</td>\n",
       "      <td>0.0</td>\n",
       "      <td>NaN</td>\n",
       "      <td>NaN</td>\n",
       "    </tr>\n",
       "    <tr>\n",
       "      <th>19229839</th>\n",
       "      <td>19229839</td>\n",
       "      <td>1447</td>\n",
       "      <td>0</td>\n",
       "      <td>2016-12-31 23:00:00</td>\n",
       "      <td>5.078761</td>\n",
       "      <td>5</td>\n",
       "      <td>15</td>\n",
       "      <td>1</td>\n",
       "      <td>10.301458</td>\n",
       "      <td>NaN</td>\n",
       "      <td>NaN</td>\n",
       "      <td>NaN</td>\n",
       "      <td>NaN</td>\n",
       "      <td>NaN</td>\n",
       "      <td>3</td>\n",
       "      <td>0.0</td>\n",
       "      <td>NaN</td>\n",
       "      <td>NaN</td>\n",
       "    </tr>\n",
       "    <tr>\n",
       "      <th>19229840</th>\n",
       "      <td>19229840</td>\n",
       "      <td>1448</td>\n",
       "      <td>0</td>\n",
       "      <td>2016-12-31 23:00:00</td>\n",
       "      <td>1.348073</td>\n",
       "      <td>5</td>\n",
       "      <td>15</td>\n",
       "      <td>2</td>\n",
       "      <td>11.432496</td>\n",
       "      <td>NaN</td>\n",
       "      <td>NaN</td>\n",
       "      <td>NaN</td>\n",
       "      <td>NaN</td>\n",
       "      <td>NaN</td>\n",
       "      <td>3</td>\n",
       "      <td>0.0</td>\n",
       "      <td>NaN</td>\n",
       "      <td>NaN</td>\n",
       "    </tr>\n",
       "  </tbody>\n",
       "</table>\n",
       "<p>19229841 rows × 18 columns</p>\n",
       "</div>"
      ],
      "text/plain": [
       "             index  building_id  meter           timestamp  \\\n",
       "0                0            0      0 2016-01-01 00:00:00   \n",
       "1                1          105      0 2016-01-01 00:00:00   \n",
       "2                2          106      0 2016-01-01 00:00:00   \n",
       "3                3          106      3 2016-01-01 00:00:00   \n",
       "4                4          107      0 2016-01-01 00:00:00   \n",
       "...            ...          ...    ...                 ...   \n",
       "19229836  19229836         1443      0 2016-12-31 23:00:00   \n",
       "19229837  19229837         1444      0 2016-12-31 23:00:00   \n",
       "19229838  19229838         1445      0 2016-12-31 23:00:00   \n",
       "19229839  19229839         1447      0 2016-12-31 23:00:00   \n",
       "19229840  19229840         1448      0 2016-12-31 23:00:00   \n",
       "\n",
       "          meter_reading_log1p  weekend  site_id  primary_use  square_feet  \\\n",
       "0                    0.000000        4        0            0     8.913685   \n",
       "1                    3.190624        4        1            0    10.832181   \n",
       "2                    0.318163        4        1            0     8.589514   \n",
       "3                    0.000000        4        1            0     8.589514   \n",
       "4                    5.171529        4        1            0    11.487947   \n",
       "...                       ...      ...      ...          ...          ...   \n",
       "19229836             4.188897        5       15            0    10.604404   \n",
       "19229837             2.277267        5       15            3     9.884305   \n",
       "19229838             1.762159        5       15            0     8.366138   \n",
       "19229839             5.078761        5       15            1    10.301458   \n",
       "19229840             1.348073        5       15            2    11.432496   \n",
       "\n",
       "          air_temperature  cloud_coverage  dew_temperature  precip_depth_1_hr  \\\n",
       "0                    19.4             4.0             19.4                0.0   \n",
       "1                     3.8             0.0              2.4                NaN   \n",
       "2                     3.8             0.0              2.4                NaN   \n",
       "3                     3.8             0.0              2.4                NaN   \n",
       "4                     3.8             0.0              2.4                NaN   \n",
       "...                   ...             ...              ...                ...   \n",
       "19229836              NaN             NaN              NaN                NaN   \n",
       "19229837              NaN             NaN              NaN                NaN   \n",
       "19229838              NaN             NaN              NaN                NaN   \n",
       "19229839              NaN             NaN              NaN                NaN   \n",
       "19229840              NaN             NaN              NaN                NaN   \n",
       "\n",
       "          IsHoliday  month_group  horizsolar  Sensible_Heat  relative_humidity  \n",
       "0               1.0            1         0.0       0.026138         100.000000  \n",
       "1               1.0            1         0.0       0.040676          90.575539  \n",
       "2               1.0            1         0.0       0.032254          90.575539  \n",
       "3               1.0            1         0.0       0.032254          90.575539  \n",
       "4               1.0            1         0.0       0.043138          90.575539  \n",
       "...             ...          ...         ...            ...                ...  \n",
       "19229836        NaN            3         0.0            NaN                NaN  \n",
       "19229837        NaN            3         0.0            NaN                NaN  \n",
       "19229838        NaN            3         0.0            NaN                NaN  \n",
       "19229839        NaN            3         0.0            NaN                NaN  \n",
       "19229840        NaN            3         0.0            NaN                NaN  \n",
       "\n",
       "[19229841 rows x 18 columns]"
      ]
     },
     "execution_count": 4,
     "metadata": {},
     "output_type": "execute_result"
    }
   ],
   "source": [
    "merged_train.sort_values(\"timestamp\")\n",
    "merged_train.reset_index(drop=True)"
   ]
  },
  {
   "cell_type": "code",
   "execution_count": 5,
   "metadata": {
    "execution": {
     "iopub.execute_input": "2020-08-10T08:00:44.921158Z",
     "iopub.status.busy": "2020-08-10T08:00:44.920030Z",
     "iopub.status.idle": "2020-08-10T08:00:44.923802Z",
     "shell.execute_reply": "2020-08-10T08:00:44.924491Z"
    },
    "papermill": {
     "duration": 0.026804,
     "end_time": "2020-08-10T08:00:44.924673",
     "exception": false,
     "start_time": "2020-08-10T08:00:44.897869",
     "status": "completed"
    },
    "tags": []
   },
   "outputs": [
    {
     "data": {
      "text/plain": [
       "Index(['index', 'building_id', 'meter', 'timestamp', 'meter_reading_log1p',\n",
       "       'weekend', 'site_id', 'primary_use', 'square_feet', 'air_temperature',\n",
       "       'cloud_coverage', 'dew_temperature', 'precip_depth_1_hr', 'IsHoliday',\n",
       "       'month_group', 'horizsolar', 'Sensible_Heat', 'relative_humidity'],\n",
       "      dtype='object')"
      ]
     },
     "execution_count": 5,
     "metadata": {},
     "output_type": "execute_result"
    }
   ],
   "source": [
    "merged_train.columns"
   ]
  },
  {
   "cell_type": "code",
   "execution_count": 6,
   "metadata": {
    "execution": {
     "iopub.execute_input": "2020-08-10T08:00:44.964688Z",
     "iopub.status.busy": "2020-08-10T08:00:44.963843Z",
     "iopub.status.idle": "2020-08-10T08:00:46.835310Z",
     "shell.execute_reply": "2020-08-10T08:00:46.834530Z"
    },
    "papermill": {
     "duration": 1.893858,
     "end_time": "2020-08-10T08:00:46.835452",
     "exception": false,
     "start_time": "2020-08-10T08:00:44.941594",
     "status": "completed"
    },
    "tags": []
   },
   "outputs": [],
   "source": [
    "merged_train[\"hour\"] = merged_train[\"timestamp\"].dt.hour #converting timestamp to hour\n"
   ]
  },
  {
   "cell_type": "code",
   "execution_count": 7,
   "metadata": {
    "execution": {
     "iopub.execute_input": "2020-08-10T08:00:46.877385Z",
     "iopub.status.busy": "2020-08-10T08:00:46.875839Z",
     "iopub.status.idle": "2020-08-10T08:00:48.153360Z",
     "shell.execute_reply": "2020-08-10T08:00:48.152648Z"
    },
    "papermill": {
     "duration": 1.301449,
     "end_time": "2020-08-10T08:00:48.153490",
     "exception": false,
     "start_time": "2020-08-10T08:00:46.852041",
     "status": "completed"
    },
    "tags": []
   },
   "outputs": [],
   "source": [
    "merged_train = merged_train.drop(['index',\"timestamp\"],axis=1)"
   ]
  },
  {
   "cell_type": "code",
   "execution_count": 8,
   "metadata": {
    "execution": {
     "iopub.execute_input": "2020-08-10T08:00:48.193245Z",
     "iopub.status.busy": "2020-08-10T08:00:48.192298Z",
     "iopub.status.idle": "2020-08-10T08:00:48.197099Z",
     "shell.execute_reply": "2020-08-10T08:00:48.196449Z"
    },
    "papermill": {
     "duration": 0.027061,
     "end_time": "2020-08-10T08:00:48.197244",
     "exception": false,
     "start_time": "2020-08-10T08:00:48.170183",
     "status": "completed"
    },
    "tags": []
   },
   "outputs": [
    {
     "data": {
      "text/plain": [
       "Index(['building_id', 'meter', 'meter_reading_log1p', 'weekend', 'site_id',\n",
       "       'primary_use', 'square_feet', 'air_temperature', 'cloud_coverage',\n",
       "       'dew_temperature', 'precip_depth_1_hr', 'IsHoliday', 'month_group',\n",
       "       'horizsolar', 'Sensible_Heat', 'relative_humidity', 'hour'],\n",
       "      dtype='object')"
      ]
     },
     "execution_count": 8,
     "metadata": {},
     "output_type": "execute_result"
    }
   ],
   "source": [
    "merged_train.columns"
   ]
  },
  {
   "cell_type": "code",
   "execution_count": 9,
   "metadata": {
    "execution": {
     "iopub.execute_input": "2020-08-10T08:00:48.238709Z",
     "iopub.status.busy": "2020-08-10T08:00:48.237917Z",
     "iopub.status.idle": "2020-08-10T08:00:48.241796Z",
     "shell.execute_reply": "2020-08-10T08:00:48.241012Z"
    },
    "papermill": {
     "duration": 0.028121,
     "end_time": "2020-08-10T08:00:48.241936",
     "exception": false,
     "start_time": "2020-08-10T08:00:48.213815",
     "status": "completed"
    },
    "tags": []
   },
   "outputs": [],
   "source": [
    "def create_X_y(target_train_df, target_meter):\n",
    "    # This function divides dataframe to X_train and y_train\n",
    "    #X_train = target_train_df[feature_cols + category_cols]\n",
    "    target_train_df = target_train_df[target_train_df['meter'] == target_meter]\n",
    "    y_train = target_train_df['meter_reading_log1p'].values\n",
    "    X_train = target_train_df.drop(['meter_reading_log1p'],axis = 1)\n",
    "    del target_train_df\n",
    "    return X_train, y_train\n"
   ]
  },
  {
   "cell_type": "code",
   "execution_count": 10,
   "metadata": {
    "execution": {
     "iopub.execute_input": "2020-08-10T08:00:48.293883Z",
     "iopub.status.busy": "2020-08-10T08:00:48.289658Z",
     "iopub.status.idle": "2020-08-10T08:00:48.297267Z",
     "shell.execute_reply": "2020-08-10T08:00:48.296637Z"
    },
    "papermill": {
     "duration": 0.038322,
     "end_time": "2020-08-10T08:00:48.297392",
     "exception": false,
     "start_time": "2020-08-10T08:00:48.259070",
     "status": "completed"
    },
    "tags": []
   },
   "outputs": [],
   "source": [
    "#https://www.kaggle.com/corochann/ashrae-training-lgbm-by-meter-type\n",
    "cat_features = [\"building_id\", \"site_id\", \"meter\", \"primary_use\", \"weekend\",'IsHoliday', 'month_group']\n",
    "def fit_lgbm(train, val, devices=(-1,), seed=None, cat_features=None, num_rounds=1500, lr=0.1, bf=0.1):\n",
    "    \"\"\"Train Light GBM model\"\"\"\n",
    "    X_train, y_train = train\n",
    "    X_valid, y_valid = val\n",
    "    metric = 'l2'\n",
    "    params = {'num_leaves': 127,'objective': 'regression','learning_rate': lr,\"boosting\": \"gbdt\",\"bagging_freq\": 5,\n",
    "    'max_depth': 7,\"verbosity\": -1,'reg_alpha': 0.1,'reg_lambda': 0.3,\n",
    "              \"bagging_fraction\": bf,\"feature_fraction\": 0.9,\"metric\": metric,' n_estimators' : 1200\n",
    "             }\n",
    "    device = devices[0]\n",
    "    if device == -1:\n",
    "        # use cpu\n",
    "        pass\n",
    "    else:\n",
    "        # use gpu\n",
    "        print(f'using gpu device_id {device}...')\n",
    "        params.update({'device': 'gpu', 'gpu_device_id': device})\n",
    "\n",
    "    params['seed'] = seed\n",
    "\n",
    "    early_stop = 20\n",
    "    verbose_eval = 20\n",
    "\n",
    "    d_train = lgb.Dataset(X_train, label=y_train, categorical_feature=cat_features)\n",
    "    d_valid = lgb.Dataset(X_valid, label=y_valid, categorical_feature=cat_features)\n",
    "    watchlist = [d_train, d_valid]\n",
    "\n",
    "    print('training LGB:')\n",
    "    model = lgb.train(params,train_set=d_train,num_boost_round=num_rounds,valid_sets=watchlist,verbose_eval=verbose_eval,     \n",
    "                      early_stopping_rounds=early_stop)\n",
    "\n",
    "    # predictions\n",
    "    y_pred_valid = model.predict(X_valid, num_iteration=model.best_iteration)\n",
    "    \n",
    "    print('best_score', model.best_score)\n",
    "    log = {'train/mae': model.best_score['training']['l2'],\n",
    "           'valid/mae': model.best_score['valid_1']['l2']}\n",
    "    return model, y_pred_valid, log\n"
   ]
  },
  {
   "cell_type": "code",
   "execution_count": 11,
   "metadata": {
    "execution": {
     "iopub.execute_input": "2020-08-10T08:00:48.337690Z",
     "iopub.status.busy": "2020-08-10T08:00:48.336935Z",
     "iopub.status.idle": "2020-08-10T08:00:48.340938Z",
     "shell.execute_reply": "2020-08-10T08:00:48.340142Z"
    },
    "papermill": {
     "duration": 0.027134,
     "end_time": "2020-08-10T08:00:48.341085",
     "exception": false,
     "start_time": "2020-08-10T08:00:48.313951",
     "status": "completed"
    },
    "tags": []
   },
   "outputs": [],
   "source": [
    "\n",
    "folds = 4\n",
    "seed = 666\n",
    "shuffle = False\n",
    "kf = KFold(n_splits=folds, shuffle=shuffle, random_state=seed)"
   ]
  },
  {
   "cell_type": "markdown",
   "metadata": {
    "papermill": {
     "duration": 0.016067,
     "end_time": "2020-08-10T08:00:48.374042",
     "exception": false,
     "start_time": "2020-08-10T08:00:48.357975",
     "status": "completed"
    },
    "tags": []
   },
   "source": [
    "# Meter type : Electricity "
   ]
  },
  {
   "cell_type": "code",
   "execution_count": 12,
   "metadata": {
    "execution": {
     "iopub.execute_input": "2020-08-10T08:00:48.414976Z",
     "iopub.status.busy": "2020-08-10T08:00:48.413999Z",
     "iopub.status.idle": "2020-08-10T08:00:50.067088Z",
     "shell.execute_reply": "2020-08-10T08:00:50.067781Z"
    },
    "papermill": {
     "duration": 1.676811,
     "end_time": "2020-08-10T08:00:50.067975",
     "exception": false,
     "start_time": "2020-08-10T08:00:48.391164",
     "status": "completed"
    },
    "tags": []
   },
   "outputs": [
    {
     "name": "stdout",
     "output_type": "stream",
     "text": [
      "target_meter 0 (11527365, 16)\n"
     ]
    }
   ],
   "source": [
    "target_meter = 0\n",
    "X_train, y_train = create_X_y(merged_train, target_meter=target_meter)\n",
    "y_valid_pred_total = np.zeros(X_train.shape[0])\n",
    "gc.collect()\n",
    "print('target_meter', target_meter, X_train.shape)\n"
   ]
  },
  {
   "cell_type": "code",
   "execution_count": 13,
   "metadata": {
    "execution": {
     "iopub.execute_input": "2020-08-10T08:00:50.111725Z",
     "iopub.status.busy": "2020-08-10T08:00:50.110916Z",
     "iopub.status.idle": "2020-08-10T08:55:49.219549Z",
     "shell.execute_reply": "2020-08-10T08:55:49.220290Z"
    },
    "papermill": {
     "duration": 3299.135861,
     "end_time": "2020-08-10T08:55:49.220679",
     "exception": false,
     "start_time": "2020-08-10T08:00:50.084818",
     "status": "completed"
    },
    "tags": []
   },
   "outputs": [
    {
     "name": "stdout",
     "output_type": "stream",
     "text": [
      "train 8645523 valid 2881842\n",
      "training LGB:\n",
      "Training until validation scores don't improve for 20 rounds\n",
      "[20]\ttraining's l2: 0.552723\tvalid_1's l2: 0.560425\n",
      "[40]\ttraining's l2: 0.24829\tvalid_1's l2: 0.271996\n",
      "[60]\ttraining's l2: 0.175517\tvalid_1's l2: 0.207487\n",
      "[80]\ttraining's l2: 0.147551\tvalid_1's l2: 0.185031\n",
      "[100]\ttraining's l2: 0.133878\tvalid_1's l2: 0.176082\n",
      "[120]\ttraining's l2: 0.126422\tvalid_1's l2: 0.171366\n",
      "[140]\ttraining's l2: 0.120687\tvalid_1's l2: 0.166434\n",
      "[160]\ttraining's l2: 0.115861\tvalid_1's l2: 0.16209\n",
      "[180]\ttraining's l2: 0.111702\tvalid_1's l2: 0.157736\n",
      "[200]\ttraining's l2: 0.108378\tvalid_1's l2: 0.15422\n",
      "[220]\ttraining's l2: 0.105412\tvalid_1's l2: 0.15153\n",
      "[240]\ttraining's l2: 0.102801\tvalid_1's l2: 0.148258\n",
      "[260]\ttraining's l2: 0.0997343\tvalid_1's l2: 0.14516\n",
      "[280]\ttraining's l2: 0.0971257\tvalid_1's l2: 0.142852\n",
      "[300]\ttraining's l2: 0.0948879\tvalid_1's l2: 0.140453\n",
      "[320]\ttraining's l2: 0.0927981\tvalid_1's l2: 0.138083\n",
      "[340]\ttraining's l2: 0.0909136\tvalid_1's l2: 0.136983\n",
      "[360]\ttraining's l2: 0.0893975\tvalid_1's l2: 0.135641\n",
      "[380]\ttraining's l2: 0.0882401\tvalid_1's l2: 0.134747\n",
      "[400]\ttraining's l2: 0.0872571\tvalid_1's l2: 0.13406\n",
      "[420]\ttraining's l2: 0.0860077\tvalid_1's l2: 0.133326\n",
      "[440]\ttraining's l2: 0.0849251\tvalid_1's l2: 0.133204\n",
      "[460]\ttraining's l2: 0.0839199\tvalid_1's l2: 0.132615\n",
      "[480]\ttraining's l2: 0.0829645\tvalid_1's l2: 0.132962\n",
      "Early stopping, best iteration is:\n",
      "[465]\ttraining's l2: 0.083686\tvalid_1's l2: 0.132351\n",
      "best_score defaultdict(<class 'collections.OrderedDict'>, {'training': OrderedDict([('l2', 0.08368603773350926)]), 'valid_1': OrderedDict([('l2', 0.13235061031184056)])})\n",
      "train 8645524 valid 2881841\n",
      "training LGB:\n",
      "Training until validation scores don't improve for 20 rounds\n",
      "[20]\ttraining's l2: 0.549245\tvalid_1's l2: 0.55144\n",
      "[40]\ttraining's l2: 0.249996\tvalid_1's l2: 0.257472\n",
      "[60]\ttraining's l2: 0.179321\tvalid_1's l2: 0.191292\n",
      "[80]\ttraining's l2: 0.15106\tvalid_1's l2: 0.166653\n",
      "[100]\ttraining's l2: 0.136299\tvalid_1's l2: 0.154416\n",
      "[120]\ttraining's l2: 0.128652\tvalid_1's l2: 0.148407\n",
      "[140]\ttraining's l2: 0.122517\tvalid_1's l2: 0.144717\n",
      "[160]\ttraining's l2: 0.117802\tvalid_1's l2: 0.142094\n",
      "[180]\ttraining's l2: 0.112751\tvalid_1's l2: 0.139646\n",
      "[200]\ttraining's l2: 0.108403\tvalid_1's l2: 0.137272\n",
      "[220]\ttraining's l2: 0.104582\tvalid_1's l2: 0.13561\n",
      "[240]\ttraining's l2: 0.101706\tvalid_1's l2: 0.134159\n",
      "[260]\ttraining's l2: 0.0990985\tvalid_1's l2: 0.132626\n",
      "[280]\ttraining's l2: 0.0959684\tvalid_1's l2: 0.131262\n",
      "[300]\ttraining's l2: 0.093342\tvalid_1's l2: 0.129889\n",
      "[320]\ttraining's l2: 0.0913565\tvalid_1's l2: 0.129071\n",
      "[340]\ttraining's l2: 0.0892725\tvalid_1's l2: 0.128165\n",
      "[360]\ttraining's l2: 0.0877509\tvalid_1's l2: 0.12752\n",
      "[380]\ttraining's l2: 0.0864097\tvalid_1's l2: 0.126869\n",
      "[400]\ttraining's l2: 0.0853173\tvalid_1's l2: 0.12625\n",
      "[420]\ttraining's l2: 0.0838968\tvalid_1's l2: 0.125766\n",
      "[440]\ttraining's l2: 0.0823291\tvalid_1's l2: 0.124854\n",
      "[460]\ttraining's l2: 0.081204\tvalid_1's l2: 0.124342\n",
      "[480]\ttraining's l2: 0.0801477\tvalid_1's l2: 0.123686\n",
      "[500]\ttraining's l2: 0.0792537\tvalid_1's l2: 0.123359\n",
      "[520]\ttraining's l2: 0.0784167\tvalid_1's l2: 0.123072\n",
      "[540]\ttraining's l2: 0.0776361\tvalid_1's l2: 0.122794\n",
      "[560]\ttraining's l2: 0.0768944\tvalid_1's l2: 0.122641\n",
      "[580]\ttraining's l2: 0.0761638\tvalid_1's l2: 0.122386\n",
      "[600]\ttraining's l2: 0.0755761\tvalid_1's l2: 0.122199\n",
      "[620]\ttraining's l2: 0.0750571\tvalid_1's l2: 0.122034\n",
      "[640]\ttraining's l2: 0.0744991\tvalid_1's l2: 0.121883\n",
      "[660]\ttraining's l2: 0.0739723\tvalid_1's l2: 0.121615\n",
      "[680]\ttraining's l2: 0.073462\tvalid_1's l2: 0.121447\n",
      "[700]\ttraining's l2: 0.0730187\tvalid_1's l2: 0.12116\n",
      "[720]\ttraining's l2: 0.0724879\tvalid_1's l2: 0.121101\n",
      "[740]\ttraining's l2: 0.0720726\tvalid_1's l2: 0.121084\n",
      "[760]\ttraining's l2: 0.0716695\tvalid_1's l2: 0.120999\n",
      "[780]\ttraining's l2: 0.0712387\tvalid_1's l2: 0.120873\n",
      "[800]\ttraining's l2: 0.0708259\tvalid_1's l2: 0.12076\n",
      "Early stopping, best iteration is:\n",
      "[789]\ttraining's l2: 0.0710373\tvalid_1's l2: 0.120712\n",
      "best_score defaultdict(<class 'collections.OrderedDict'>, {'training': OrderedDict([('l2', 0.07103731122485317)]), 'valid_1': OrderedDict([('l2', 0.12071171998041859)])})\n",
      "train 8645524 valid 2881841\n",
      "training LGB:\n",
      "Training until validation scores don't improve for 20 rounds\n",
      "[20]\ttraining's l2: 0.543515\tvalid_1's l2: 0.597753\n",
      "[40]\ttraining's l2: 0.248634\tvalid_1's l2: 0.29727\n",
      "[60]\ttraining's l2: 0.180349\tvalid_1's l2: 0.221575\n",
      "[80]\ttraining's l2: 0.154438\tvalid_1's l2: 0.190985\n",
      "[100]\ttraining's l2: 0.141031\tvalid_1's l2: 0.173505\n",
      "[120]\ttraining's l2: 0.131717\tvalid_1's l2: 0.162644\n",
      "[140]\ttraining's l2: 0.125668\tvalid_1's l2: 0.153998\n",
      "[160]\ttraining's l2: 0.119732\tvalid_1's l2: 0.147601\n",
      "[180]\ttraining's l2: 0.114237\tvalid_1's l2: 0.142867\n",
      "[200]\ttraining's l2: 0.110347\tvalid_1's l2: 0.138845\n",
      "[220]\ttraining's l2: 0.107442\tvalid_1's l2: 0.135951\n",
      "[240]\ttraining's l2: 0.104416\tvalid_1's l2: 0.133111\n",
      "[260]\ttraining's l2: 0.101094\tvalid_1's l2: 0.131396\n",
      "[280]\ttraining's l2: 0.0984753\tvalid_1's l2: 0.130062\n",
      "[300]\ttraining's l2: 0.0954113\tvalid_1's l2: 0.129464\n",
      "[320]\ttraining's l2: 0.0932566\tvalid_1's l2: 0.129021\n",
      "[340]\ttraining's l2: 0.0912947\tvalid_1's l2: 0.128113\n",
      "[360]\ttraining's l2: 0.0895265\tvalid_1's l2: 0.12748\n",
      "[380]\ttraining's l2: 0.0880564\tvalid_1's l2: 0.126907\n",
      "[400]\ttraining's l2: 0.0866565\tvalid_1's l2: 0.126387\n",
      "[420]\ttraining's l2: 0.0854618\tvalid_1's l2: 0.125914\n",
      "[440]\ttraining's l2: 0.0842057\tvalid_1's l2: 0.125563\n",
      "[460]\ttraining's l2: 0.0830709\tvalid_1's l2: 0.125071\n",
      "[480]\ttraining's l2: 0.0819653\tvalid_1's l2: 0.124723\n",
      "[500]\ttraining's l2: 0.0808755\tvalid_1's l2: 0.124221\n",
      "[520]\ttraining's l2: 0.0800571\tvalid_1's l2: 0.123939\n",
      "[540]\ttraining's l2: 0.0793173\tvalid_1's l2: 0.12369\n",
      "[560]\ttraining's l2: 0.0785307\tvalid_1's l2: 0.12338\n",
      "[580]\ttraining's l2: 0.0778914\tvalid_1's l2: 0.123001\n",
      "[600]\ttraining's l2: 0.077356\tvalid_1's l2: 0.122817\n",
      "[620]\ttraining's l2: 0.0767086\tvalid_1's l2: 0.122705\n",
      "[640]\ttraining's l2: 0.0761505\tvalid_1's l2: 0.122668\n",
      "Early stopping, best iteration is:\n",
      "[637]\ttraining's l2: 0.0762078\tvalid_1's l2: 0.122625\n",
      "best_score defaultdict(<class 'collections.OrderedDict'>, {'training': OrderedDict([('l2', 0.07620781162830473)]), 'valid_1': OrderedDict([('l2', 0.12262501853120694)])})\n",
      "train 8645524 valid 2881841\n",
      "training LGB:\n",
      "Training until validation scores don't improve for 20 rounds\n",
      "[20]\ttraining's l2: 0.540642\tvalid_1's l2: 0.59611\n",
      "[40]\ttraining's l2: 0.242928\tvalid_1's l2: 0.31406\n",
      "[60]\ttraining's l2: 0.171486\tvalid_1's l2: 0.249466\n",
      "[80]\ttraining's l2: 0.143421\tvalid_1's l2: 0.225818\n",
      "[100]\ttraining's l2: 0.13021\tvalid_1's l2: 0.215299\n",
      "[120]\ttraining's l2: 0.122119\tvalid_1's l2: 0.209248\n",
      "[140]\ttraining's l2: 0.116845\tvalid_1's l2: 0.20561\n",
      "[160]\ttraining's l2: 0.111486\tvalid_1's l2: 0.199423\n",
      "[180]\ttraining's l2: 0.106507\tvalid_1's l2: 0.194642\n",
      "[200]\ttraining's l2: 0.102911\tvalid_1's l2: 0.191057\n",
      "[220]\ttraining's l2: 0.100426\tvalid_1's l2: 0.188075\n",
      "[240]\ttraining's l2: 0.0977188\tvalid_1's l2: 0.185182\n",
      "[260]\ttraining's l2: 0.0953913\tvalid_1's l2: 0.182424\n",
      "[280]\ttraining's l2: 0.0928552\tvalid_1's l2: 0.180039\n",
      "[300]\ttraining's l2: 0.0903027\tvalid_1's l2: 0.176846\n",
      "[320]\ttraining's l2: 0.0885563\tvalid_1's l2: 0.175166\n",
      "[340]\ttraining's l2: 0.087146\tvalid_1's l2: 0.174125\n",
      "[360]\ttraining's l2: 0.0855719\tvalid_1's l2: 0.172054\n",
      "[380]\ttraining's l2: 0.084451\tvalid_1's l2: 0.171046\n",
      "[400]\ttraining's l2: 0.083212\tvalid_1's l2: 0.170166\n",
      "[420]\ttraining's l2: 0.082053\tvalid_1's l2: 0.169595\n",
      "[440]\ttraining's l2: 0.0808753\tvalid_1's l2: 0.168352\n",
      "[460]\ttraining's l2: 0.0796972\tvalid_1's l2: 0.167152\n",
      "[480]\ttraining's l2: 0.0787317\tvalid_1's l2: 0.166184\n",
      "[500]\ttraining's l2: 0.0779062\tvalid_1's l2: 0.165302\n",
      "[520]\ttraining's l2: 0.0771248\tvalid_1's l2: 0.164714\n",
      "[540]\ttraining's l2: 0.0764247\tvalid_1's l2: 0.163848\n",
      "[560]\ttraining's l2: 0.0758301\tvalid_1's l2: 0.163507\n",
      "[580]\ttraining's l2: 0.0751467\tvalid_1's l2: 0.162971\n",
      "[600]\ttraining's l2: 0.0745622\tvalid_1's l2: 0.162506\n",
      "[620]\ttraining's l2: 0.073998\tvalid_1's l2: 0.162092\n",
      "[640]\ttraining's l2: 0.0734696\tvalid_1's l2: 0.161613\n",
      "[660]\ttraining's l2: 0.0728698\tvalid_1's l2: 0.161414\n",
      "[680]\ttraining's l2: 0.0723955\tvalid_1's l2: 0.160941\n",
      "[700]\ttraining's l2: 0.0719002\tvalid_1's l2: 0.160841\n",
      "[720]\ttraining's l2: 0.0714262\tvalid_1's l2: 0.160578\n",
      "[740]\ttraining's l2: 0.0710231\tvalid_1's l2: 0.160502\n",
      "[760]\ttraining's l2: 0.0706439\tvalid_1's l2: 0.160314\n",
      "[780]\ttraining's l2: 0.0702381\tvalid_1's l2: 0.160302\n",
      "[800]\ttraining's l2: 0.069908\tvalid_1's l2: 0.16006\n",
      "[820]\ttraining's l2: 0.0695784\tvalid_1's l2: 0.159964\n",
      "[840]\ttraining's l2: 0.0691862\tvalid_1's l2: 0.159803\n",
      "[860]\ttraining's l2: 0.0688721\tvalid_1's l2: 0.159711\n",
      "Early stopping, best iteration is:\n",
      "[858]\ttraining's l2: 0.0689008\tvalid_1's l2: 0.159685\n",
      "best_score defaultdict(<class 'collections.OrderedDict'>, {'training': OrderedDict([('l2', 0.06890081805957829)]), 'valid_1': OrderedDict([('l2', 0.15968507971282508)])})\n"
     ]
    }
   ],
   "source": [
    "\n",
    "\n",
    "models0 = []\n",
    "for train_idx, valid_idx in kf.split(X_train, y_train):\n",
    "    train_data = X_train.iloc[train_idx,:], y_train[train_idx]\n",
    "    valid_data = X_train.iloc[valid_idx,:], y_train[valid_idx]\n",
    "\n",
    "    print('train', len(train_idx), 'valid', len(valid_idx))\n",
    "#     model, y_pred_valid, log = fit_cb(train_data, valid_data, cat_features=cat_features, devices=[0,])\n",
    "    model, y_pred_valid, log = fit_lgbm(train_data, valid_data,\n",
    "                                        num_rounds=1000,cat_features=cat_features, lr=0.05, bf=0.7)\n",
    "    y_valid_pred_total[valid_idx] = y_pred_valid\n",
    "    models0.append(model)\n",
    "    gc.collect()\n",
    "\n"
   ]
  },
  {
   "cell_type": "markdown",
   "metadata": {
    "papermill": {
     "duration": 0.026283,
     "end_time": "2020-08-10T08:55:49.273864",
     "exception": false,
     "start_time": "2020-08-10T08:55:49.247581",
     "status": "completed"
    },
    "tags": []
   },
   "source": [
    "# Meter type : Chilled Water "
   ]
  },
  {
   "cell_type": "code",
   "execution_count": 14,
   "metadata": {
    "execution": {
     "iopub.execute_input": "2020-08-10T08:55:49.335044Z",
     "iopub.status.busy": "2020-08-10T08:55:49.334268Z",
     "iopub.status.idle": "2020-08-10T08:55:50.289213Z",
     "shell.execute_reply": "2020-08-10T08:55:50.288099Z"
    },
    "papermill": {
     "duration": 0.988848,
     "end_time": "2020-08-10T08:55:50.289430",
     "exception": false,
     "start_time": "2020-08-10T08:55:49.300582",
     "status": "completed"
    },
    "tags": []
   },
   "outputs": [
    {
     "name": "stdout",
     "output_type": "stream",
     "text": [
      "target_meter 1 (3908919, 16)\n"
     ]
    }
   ],
   "source": [
    "target_meter = 1\n",
    "X_train, y_train = create_X_y(merged_train, target_meter=target_meter)\n",
    "y_valid_pred_total = np.zeros(X_train.shape[0])\n",
    "gc.collect()\n",
    "print('target_meter', target_meter, X_train.shape)\n"
   ]
  },
  {
   "cell_type": "code",
   "execution_count": 15,
   "metadata": {
    "execution": {
     "iopub.execute_input": "2020-08-10T08:55:50.354190Z",
     "iopub.status.busy": "2020-08-10T08:55:50.353401Z",
     "iopub.status.idle": "2020-08-10T09:02:17.895432Z",
     "shell.execute_reply": "2020-08-10T09:02:17.896913Z"
    },
    "papermill": {
     "duration": 387.580295,
     "end_time": "2020-08-10T09:02:17.897132",
     "exception": false,
     "start_time": "2020-08-10T08:55:50.316837",
     "status": "completed"
    },
    "tags": []
   },
   "outputs": [
    {
     "name": "stdout",
     "output_type": "stream",
     "text": [
      "train 2931689 valid 977230\n",
      "training LGB:\n",
      "Training until validation scores don't improve for 20 rounds\n",
      "[20]\ttraining's l2: 1.75838\tvalid_1's l2: 2.29458\n",
      "[40]\ttraining's l2: 1.12488\tvalid_1's l2: 1.52402\n",
      "[60]\ttraining's l2: 0.946633\tvalid_1's l2: 1.34021\n",
      "[80]\ttraining's l2: 0.856929\tvalid_1's l2: 1.27149\n",
      "[100]\ttraining's l2: 0.79624\tvalid_1's l2: 1.22838\n",
      "[120]\ttraining's l2: 0.758569\tvalid_1's l2: 1.2017\n",
      "[140]\ttraining's l2: 0.733005\tvalid_1's l2: 1.18628\n",
      "[160]\ttraining's l2: 0.710582\tvalid_1's l2: 1.17412\n",
      "[180]\ttraining's l2: 0.690192\tvalid_1's l2: 1.16401\n",
      "[200]\ttraining's l2: 0.673197\tvalid_1's l2: 1.15285\n",
      "[220]\ttraining's l2: 0.660026\tvalid_1's l2: 1.14572\n",
      "[240]\ttraining's l2: 0.649248\tvalid_1's l2: 1.13756\n",
      "[260]\ttraining's l2: 0.63901\tvalid_1's l2: 1.13422\n",
      "[280]\ttraining's l2: 0.630439\tvalid_1's l2: 1.13246\n",
      "[300]\ttraining's l2: 0.622525\tvalid_1's l2: 1.13174\n",
      "[320]\ttraining's l2: 0.614491\tvalid_1's l2: 1.13015\n",
      "[340]\ttraining's l2: 0.607626\tvalid_1's l2: 1.13021\n",
      "Early stopping, best iteration is:\n",
      "[323]\ttraining's l2: 0.613305\tvalid_1's l2: 1.1295\n",
      "best_score defaultdict(<class 'collections.OrderedDict'>, {'training': OrderedDict([('l2', 0.6133051113648126)]), 'valid_1': OrderedDict([('l2', 1.129501922553414)])})\n",
      "train 2931689 valid 977230\n",
      "training LGB:\n",
      "Training until validation scores don't improve for 20 rounds\n",
      "[20]\ttraining's l2: 1.81215\tvalid_1's l2: 1.86969\n",
      "[40]\ttraining's l2: 1.14153\tvalid_1's l2: 1.33712\n",
      "[60]\ttraining's l2: 0.967695\tvalid_1's l2: 1.19815\n",
      "[80]\ttraining's l2: 0.88502\tvalid_1's l2: 1.13056\n",
      "[100]\ttraining's l2: 0.817975\tvalid_1's l2: 1.06719\n",
      "[120]\ttraining's l2: 0.77075\tvalid_1's l2: 1.02886\n",
      "[140]\ttraining's l2: 0.738445\tvalid_1's l2: 1.0041\n",
      "[160]\ttraining's l2: 0.714471\tvalid_1's l2: 0.9895\n",
      "[180]\ttraining's l2: 0.693543\tvalid_1's l2: 0.979645\n",
      "[200]\ttraining's l2: 0.674803\tvalid_1's l2: 0.973234\n",
      "[220]\ttraining's l2: 0.660297\tvalid_1's l2: 0.970247\n",
      "[240]\ttraining's l2: 0.649156\tvalid_1's l2: 0.968249\n",
      "[260]\ttraining's l2: 0.638948\tvalid_1's l2: 0.966195\n",
      "[280]\ttraining's l2: 0.629642\tvalid_1's l2: 0.964511\n",
      "[300]\ttraining's l2: 0.621943\tvalid_1's l2: 0.96284\n",
      "[320]\ttraining's l2: 0.613619\tvalid_1's l2: 0.959825\n",
      "[340]\ttraining's l2: 0.605919\tvalid_1's l2: 0.958443\n",
      "Early stopping, best iteration is:\n",
      "[335]\ttraining's l2: 0.607855\tvalid_1's l2: 0.958279\n",
      "best_score defaultdict(<class 'collections.OrderedDict'>, {'training': OrderedDict([('l2', 0.6078548874488428)]), 'valid_1': OrderedDict([('l2', 0.9582790427489233)])})\n",
      "train 2931689 valid 977230\n",
      "training LGB:\n",
      "Training until validation scores don't improve for 20 rounds\n",
      "[20]\ttraining's l2: 1.85138\tvalid_1's l2: 2.12313\n",
      "[40]\ttraining's l2: 1.19423\tvalid_1's l2: 1.33754\n",
      "[60]\ttraining's l2: 1.01393\tvalid_1's l2: 1.09299\n",
      "[80]\ttraining's l2: 0.932146\tvalid_1's l2: 0.997041\n",
      "[100]\ttraining's l2: 0.865375\tvalid_1's l2: 0.952738\n",
      "[120]\ttraining's l2: 0.817674\tvalid_1's l2: 0.931825\n",
      "[140]\ttraining's l2: 0.782406\tvalid_1's l2: 0.907997\n",
      "[160]\ttraining's l2: 0.759715\tvalid_1's l2: 0.902624\n",
      "[180]\ttraining's l2: 0.739451\tvalid_1's l2: 0.894153\n",
      "[200]\ttraining's l2: 0.724392\tvalid_1's l2: 0.894507\n",
      "Early stopping, best iteration is:\n",
      "[188]\ttraining's l2: 0.733461\tvalid_1's l2: 0.889938\n",
      "best_score defaultdict(<class 'collections.OrderedDict'>, {'training': OrderedDict([('l2', 0.733461314129436)]), 'valid_1': OrderedDict([('l2', 0.8899384759937071)])})\n",
      "train 2931690 valid 977229\n",
      "training LGB:\n",
      "Training until validation scores don't improve for 20 rounds\n",
      "[20]\ttraining's l2: 1.73289\tvalid_1's l2: 2.36739\n",
      "[40]\ttraining's l2: 1.09226\tvalid_1's l2: 1.72032\n",
      "[60]\ttraining's l2: 0.918328\tvalid_1's l2: 1.55012\n",
      "[80]\ttraining's l2: 0.832054\tvalid_1's l2: 1.48329\n",
      "[100]\ttraining's l2: 0.779229\tvalid_1's l2: 1.48279\n",
      "Early stopping, best iteration is:\n",
      "[87]\ttraining's l2: 0.807779\tvalid_1's l2: 1.4701\n",
      "best_score defaultdict(<class 'collections.OrderedDict'>, {'training': OrderedDict([('l2', 0.807779356891989)]), 'valid_1': OrderedDict([('l2', 1.4700990849700766)])})\n"
     ]
    }
   ],
   "source": [
    "models1 = []\n",
    "for train_idx, valid_idx in kf.split(X_train, y_train):\n",
    "    train_data = X_train.iloc[train_idx,:], y_train[train_idx]\n",
    "    valid_data = X_train.iloc[valid_idx,:], y_train[valid_idx]\n",
    "\n",
    "    print('train', len(train_idx), 'valid', len(valid_idx))\n",
    "#     model, y_pred_valid, log = fit_cb(train_data, valid_data, cat_features=cat_features, devices=[0,])\n",
    "    model, y_pred_valid, log = fit_lgbm(train_data, valid_data,cat_features=cat_features,  num_rounds=1000,\n",
    "                                       lr=0.05, bf=0.5)\n",
    "    y_valid_pred_total[valid_idx] = y_pred_valid\n",
    "    models1.append(model)\n",
    "    gc.collect()"
   ]
  },
  {
   "cell_type": "markdown",
   "metadata": {
    "papermill": {
     "duration": 0.030441,
     "end_time": "2020-08-10T09:02:17.959488",
     "exception": false,
     "start_time": "2020-08-10T09:02:17.929047",
     "status": "completed"
    },
    "tags": []
   },
   "source": [
    "# Meter type : steam"
   ]
  },
  {
   "cell_type": "code",
   "execution_count": 16,
   "metadata": {
    "execution": {
     "iopub.execute_input": "2020-08-10T09:02:18.029450Z",
     "iopub.status.busy": "2020-08-10T09:02:18.028688Z",
     "iopub.status.idle": "2020-08-10T09:02:18.493139Z",
     "shell.execute_reply": "2020-08-10T09:02:18.492497Z"
    },
    "papermill": {
     "duration": 0.502814,
     "end_time": "2020-08-10T09:02:18.493288",
     "exception": false,
     "start_time": "2020-08-10T09:02:17.990474",
     "status": "completed"
    },
    "tags": []
   },
   "outputs": [
    {
     "name": "stdout",
     "output_type": "stream",
     "text": [
      "target_meter 2 (2640394, 16)\n"
     ]
    }
   ],
   "source": [
    "target_meter = 2\n",
    "X_train, y_train = create_X_y(merged_train, target_meter=target_meter)\n",
    "y_valid_pred_total = np.zeros(X_train.shape[0])\n",
    "\n",
    "gc.collect()\n",
    "print('target_meter', target_meter, X_train.shape)\n"
   ]
  },
  {
   "cell_type": "code",
   "execution_count": 17,
   "metadata": {
    "execution": {
     "iopub.execute_input": "2020-08-10T09:02:18.564103Z",
     "iopub.status.busy": "2020-08-10T09:02:18.563237Z",
     "iopub.status.idle": "2020-08-10T09:06:24.431493Z",
     "shell.execute_reply": "2020-08-10T09:06:24.432206Z"
    },
    "papermill": {
     "duration": 245.908574,
     "end_time": "2020-08-10T09:06:24.432445",
     "exception": false,
     "start_time": "2020-08-10T09:02:18.523871",
     "status": "completed"
    },
    "tags": []
   },
   "outputs": [
    {
     "name": "stdout",
     "output_type": "stream",
     "text": [
      "train 1980295 valid 660099\n",
      "training LGB:\n",
      "Training until validation scores don't improve for 20 rounds\n",
      "[20]\ttraining's l2: 2.3942\tvalid_1's l2: 2.07361\n",
      "[40]\ttraining's l2: 1.70074\tvalid_1's l2: 1.43094\n",
      "[60]\ttraining's l2: 1.49573\tvalid_1's l2: 1.29911\n",
      "[80]\ttraining's l2: 1.39779\tvalid_1's l2: 1.25669\n",
      "[100]\ttraining's l2: 1.33148\tvalid_1's l2: 1.22589\n",
      "[120]\ttraining's l2: 1.28382\tvalid_1's l2: 1.20356\n",
      "[140]\ttraining's l2: 1.24607\tvalid_1's l2: 1.1842\n",
      "[160]\ttraining's l2: 1.21629\tvalid_1's l2: 1.17421\n",
      "[180]\ttraining's l2: 1.19065\tvalid_1's l2: 1.16836\n",
      "[200]\ttraining's l2: 1.17119\tvalid_1's l2: 1.16192\n",
      "[220]\ttraining's l2: 1.1523\tvalid_1's l2: 1.1671\n",
      "Early stopping, best iteration is:\n",
      "[202]\ttraining's l2: 1.16946\tvalid_1's l2: 1.16137\n",
      "best_score defaultdict(<class 'collections.OrderedDict'>, {'training': OrderedDict([('l2', 1.1694574176459525)]), 'valid_1': OrderedDict([('l2', 1.161371757612961)])})\n",
      "train 1980295 valid 660099\n",
      "training LGB:\n",
      "Training until validation scores don't improve for 20 rounds\n",
      "[20]\ttraining's l2: 2.17806\tvalid_1's l2: 2.73066\n",
      "[40]\ttraining's l2: 1.46497\tvalid_1's l2: 2.06474\n",
      "[60]\ttraining's l2: 1.25784\tvalid_1's l2: 1.89939\n",
      "[80]\ttraining's l2: 1.1677\tvalid_1's l2: 1.82862\n",
      "[100]\ttraining's l2: 1.11148\tvalid_1's l2: 1.78995\n",
      "[120]\ttraining's l2: 1.06853\tvalid_1's l2: 1.76501\n",
      "[140]\ttraining's l2: 1.0413\tvalid_1's l2: 1.74922\n",
      "[160]\ttraining's l2: 1.02061\tvalid_1's l2: 1.73935\n",
      "[180]\ttraining's l2: 1.00124\tvalid_1's l2: 1.73185\n",
      "[200]\ttraining's l2: 0.985681\tvalid_1's l2: 1.72701\n",
      "[220]\ttraining's l2: 0.971565\tvalid_1's l2: 1.72458\n",
      "[240]\ttraining's l2: 0.959115\tvalid_1's l2: 1.72111\n",
      "[260]\ttraining's l2: 0.947802\tvalid_1's l2: 1.71705\n",
      "[280]\ttraining's l2: 0.938364\tvalid_1's l2: 1.7156\n",
      "[300]\ttraining's l2: 0.930233\tvalid_1's l2: 1.71416\n",
      "[320]\ttraining's l2: 0.922094\tvalid_1's l2: 1.71383\n",
      "[340]\ttraining's l2: 0.914989\tvalid_1's l2: 1.71383\n",
      "Early stopping, best iteration is:\n",
      "[330]\ttraining's l2: 0.918722\tvalid_1's l2: 1.71299\n",
      "best_score defaultdict(<class 'collections.OrderedDict'>, {'training': OrderedDict([('l2', 0.9187219509920916)]), 'valid_1': OrderedDict([('l2', 1.7129876067653995)])})\n",
      "train 1980296 valid 660098\n",
      "training LGB:\n",
      "Training until validation scores don't improve for 20 rounds\n",
      "[20]\ttraining's l2: 2.15468\tvalid_1's l2: 3.09589\n",
      "[40]\ttraining's l2: 1.50139\tvalid_1's l2: 2.19214\n",
      "[60]\ttraining's l2: 1.31454\tvalid_1's l2: 1.94977\n",
      "[80]\ttraining's l2: 1.21808\tvalid_1's l2: 1.8837\n",
      "[100]\ttraining's l2: 1.15566\tvalid_1's l2: 1.86467\n",
      "[120]\ttraining's l2: 1.11004\tvalid_1's l2: 1.85361\n",
      "Early stopping, best iteration is:\n",
      "[111]\ttraining's l2: 1.1288\tvalid_1's l2: 1.84382\n",
      "best_score defaultdict(<class 'collections.OrderedDict'>, {'training': OrderedDict([('l2', 1.12880230195798)]), 'valid_1': OrderedDict([('l2', 1.8438231808867924)])})\n",
      "train 1980296 valid 660098\n",
      "training LGB:\n",
      "Training until validation scores don't improve for 20 rounds\n",
      "[20]\ttraining's l2: 2.25501\tvalid_1's l2: 2.45004\n",
      "[40]\ttraining's l2: 1.54782\tvalid_1's l2: 1.9978\n",
      "[60]\ttraining's l2: 1.3566\tvalid_1's l2: 1.90526\n",
      "[80]\ttraining's l2: 1.25894\tvalid_1's l2: 1.89772\n",
      "Early stopping, best iteration is:\n",
      "[70]\ttraining's l2: 1.30021\tvalid_1's l2: 1.88017\n",
      "best_score defaultdict(<class 'collections.OrderedDict'>, {'training': OrderedDict([('l2', 1.300205211586054)]), 'valid_1': OrderedDict([('l2', 1.880172605723362)])})\n"
     ]
    }
   ],
   "source": [
    "\n",
    "models2 = []          \n",
    "for train_idx, valid_idx in kf.split(X_train, y_train):\n",
    "    train_data = X_train.iloc[train_idx,:], y_train[train_idx]\n",
    "    valid_data = X_train.iloc[valid_idx,:], y_train[valid_idx]\n",
    "\n",
    "    print('train', len(train_idx), 'valid', len(valid_idx))\n",
    "#     model, y_pred_valid, log = fit_cb(train_data, valid_data, cat_features=cat_features, devices=[0,])\n",
    "    model, y_pred_valid, log = fit_lgbm(train_data, valid_data,cat_features=cat_features, \n",
    "                                        num_rounds=1000, lr=0.05, bf=0.8)\n",
    "    y_valid_pred_total[valid_idx] = y_pred_valid\n",
    "    models2.append(model)\n",
    "    gc.collect()\n",
    " \n"
   ]
  },
  {
   "cell_type": "markdown",
   "metadata": {
    "papermill": {
     "duration": 0.036434,
     "end_time": "2020-08-10T09:06:24.510803",
     "exception": false,
     "start_time": "2020-08-10T09:06:24.474369",
     "status": "completed"
    },
    "tags": []
   },
   "source": [
    "# Meter type : Hot water"
   ]
  },
  {
   "cell_type": "code",
   "execution_count": 18,
   "metadata": {
    "execution": {
     "iopub.execute_input": "2020-08-10T09:06:24.588431Z",
     "iopub.status.busy": "2020-08-10T09:06:24.587629Z",
     "iopub.status.idle": "2020-08-10T09:06:24.962779Z",
     "shell.execute_reply": "2020-08-10T09:06:24.962035Z"
    },
    "papermill": {
     "duration": 0.416757,
     "end_time": "2020-08-10T09:06:24.962945",
     "exception": false,
     "start_time": "2020-08-10T09:06:24.546188",
     "status": "completed"
    },
    "tags": []
   },
   "outputs": [
    {
     "name": "stdout",
     "output_type": "stream",
     "text": [
      "target_meter 3 (1153163, 16)\n"
     ]
    }
   ],
   "source": [
    "target_meter = 3\n",
    "X_train, y_train = create_X_y(merged_train, target_meter=target_meter)\n",
    "y_valid_pred_total = np.zeros(X_train.shape[0])\n",
    "\n",
    "gc.collect()\n",
    "print('target_meter', target_meter, X_train.shape)\n",
    "   "
   ]
  },
  {
   "cell_type": "code",
   "execution_count": 19,
   "metadata": {
    "execution": {
     "iopub.execute_input": "2020-08-10T09:06:25.044903Z",
     "iopub.status.busy": "2020-08-10T09:06:25.043920Z",
     "iopub.status.idle": "2020-08-10T09:07:47.881862Z",
     "shell.execute_reply": "2020-08-10T09:07:47.882703Z"
    },
    "papermill": {
     "duration": 82.884476,
     "end_time": "2020-08-10T09:07:47.882919",
     "exception": false,
     "start_time": "2020-08-10T09:06:24.998443",
     "status": "completed"
    },
    "tags": []
   },
   "outputs": [
    {
     "name": "stdout",
     "output_type": "stream",
     "text": [
      "train 864872 valid 288291\n",
      "training LGB:\n",
      "Training until validation scores don't improve for 20 rounds\n",
      "[20]\ttraining's l2: 2.62948\tvalid_1's l2: 2.77348\n",
      "[40]\ttraining's l2: 2.00357\tvalid_1's l2: 2.11516\n",
      "[60]\ttraining's l2: 1.81579\tvalid_1's l2: 1.92852\n",
      "[80]\ttraining's l2: 1.73037\tvalid_1's l2: 1.84676\n",
      "[100]\ttraining's l2: 1.66461\tvalid_1's l2: 1.81926\n",
      "[120]\ttraining's l2: 1.62322\tvalid_1's l2: 1.81567\n",
      "[140]\ttraining's l2: 1.59542\tvalid_1's l2: 1.80934\n",
      "[160]\ttraining's l2: 1.57192\tvalid_1's l2: 1.81802\n",
      "Early stopping, best iteration is:\n",
      "[140]\ttraining's l2: 1.59542\tvalid_1's l2: 1.80934\n",
      "best_score defaultdict(<class 'collections.OrderedDict'>, {'training': OrderedDict([('l2', 1.5954201984205603)]), 'valid_1': OrderedDict([('l2', 1.8093367942945529)])})\n",
      "train 864872 valid 288291\n",
      "training LGB:\n",
      "Training until validation scores don't improve for 20 rounds\n",
      "[20]\ttraining's l2: 2.48962\tvalid_1's l2: 2.76833\n",
      "[40]\ttraining's l2: 1.85668\tvalid_1's l2: 2.32398\n",
      "[60]\ttraining's l2: 1.68327\tvalid_1's l2: 2.23051\n",
      "[80]\ttraining's l2: 1.60291\tvalid_1's l2: 2.19582\n",
      "[100]\ttraining's l2: 1.54287\tvalid_1's l2: 2.17044\n",
      "[120]\ttraining's l2: 1.5079\tvalid_1's l2: 2.15633\n",
      "[140]\ttraining's l2: 1.482\tvalid_1's l2: 2.1484\n",
      "[160]\ttraining's l2: 1.45816\tvalid_1's l2: 2.14266\n",
      "[180]\ttraining's l2: 1.43532\tvalid_1's l2: 2.13775\n",
      "Early stopping, best iteration is:\n",
      "[174]\ttraining's l2: 1.44024\tvalid_1's l2: 2.13655\n",
      "best_score defaultdict(<class 'collections.OrderedDict'>, {'training': OrderedDict([('l2', 1.440240453276015)]), 'valid_1': OrderedDict([('l2', 2.1365479941499443)])})\n",
      "train 864872 valid 288291\n",
      "training LGB:\n",
      "Training until validation scores don't improve for 20 rounds\n",
      "[20]\ttraining's l2: 2.53232\tvalid_1's l2: 3.35316\n",
      "[40]\ttraining's l2: 1.92846\tvalid_1's l2: 2.51773\n",
      "[60]\ttraining's l2: 1.7483\tvalid_1's l2: 2.31086\n",
      "[80]\ttraining's l2: 1.65755\tvalid_1's l2: 2.24079\n",
      "[100]\ttraining's l2: 1.58434\tvalid_1's l2: 2.21959\n",
      "[120]\ttraining's l2: 1.54411\tvalid_1's l2: 2.22403\n",
      "Early stopping, best iteration is:\n",
      "[110]\ttraining's l2: 1.56467\tvalid_1's l2: 2.21815\n",
      "best_score defaultdict(<class 'collections.OrderedDict'>, {'training': OrderedDict([('l2', 1.5646663587420617)]), 'valid_1': OrderedDict([('l2', 2.218154104678838)])})\n",
      "train 864873 valid 288290\n",
      "training LGB:\n",
      "Training until validation scores don't improve for 20 rounds\n",
      "[20]\ttraining's l2: 2.29893\tvalid_1's l2: 3.7917\n",
      "[40]\ttraining's l2: 1.66507\tvalid_1's l2: 3.53165\n",
      "[60]\ttraining's l2: 1.50802\tvalid_1's l2: 3.45897\n",
      "[80]\ttraining's l2: 1.4355\tvalid_1's l2: 3.43769\n",
      "[100]\ttraining's l2: 1.38365\tvalid_1's l2: 3.42529\n",
      "[120]\ttraining's l2: 1.34761\tvalid_1's l2: 3.41014\n",
      "[140]\ttraining's l2: 1.32322\tvalid_1's l2: 3.40235\n",
      "Early stopping, best iteration is:\n",
      "[134]\ttraining's l2: 1.32966\tvalid_1's l2: 3.4023\n",
      "best_score defaultdict(<class 'collections.OrderedDict'>, {'training': OrderedDict([('l2', 1.3296586082394446)]), 'valid_1': OrderedDict([('l2', 3.4023030432722052)])})\n"
     ]
    }
   ],
   "source": [
    "\n",
    "\n",
    "models3 = []\n",
    "for train_idx, valid_idx in kf.split(X_train, y_train):\n",
    "    train_data = X_train.iloc[train_idx,:], y_train[train_idx]\n",
    "    valid_data = X_train.iloc[valid_idx,:], y_train[valid_idx]\n",
    "\n",
    "    print('train', len(train_idx), 'valid', len(valid_idx))\n",
    "#     model, y_pred_valid, log = fit_cb(train_data, valid_data, cat_features=cat_features, devices=[0,])\n",
    "    model, y_pred_valid, log = fit_lgbm(train_data, valid_data,cat_features=cat_features, num_rounds=1000,\n",
    "                                       lr=0.05, bf=0.9)\n",
    "    y_valid_pred_total[valid_idx] = y_pred_valid\n",
    "    models3.append(model)\n",
    "    gc.collect()\n",
    "\n",
    "\n"
   ]
  },
  {
   "cell_type": "markdown",
   "metadata": {
    "papermill": {
     "duration": 0.037229,
     "end_time": "2020-08-10T09:07:47.958874",
     "exception": false,
     "start_time": "2020-08-10T09:07:47.921645",
     "status": "completed"
    },
    "tags": []
   },
   "source": [
    "### storing results in pickle file "
   ]
  },
  {
   "cell_type": "code",
   "execution_count": 20,
   "metadata": {
    "execution": {
     "iopub.execute_input": "2020-08-10T09:07:48.042606Z",
     "iopub.status.busy": "2020-08-10T09:07:48.041468Z",
     "iopub.status.idle": "2020-08-10T09:07:51.225875Z",
     "shell.execute_reply": "2020-08-10T09:07:51.226615Z"
    },
    "papermill": {
     "duration": 3.230837,
     "end_time": "2020-08-10T09:07:51.226844",
     "exception": false,
     "start_time": "2020-08-10T09:07:47.996007",
     "status": "completed"
    },
    "tags": []
   },
   "outputs": [],
   "source": [
    "import pickle\n",
    "filename = 'finalized_models0.sav'\n",
    "pickle.dump(models0, open(filename, 'wb'))\n",
    "\n",
    "filename = 'finalized_models1.sav'\n",
    "pickle.dump(models1, open(filename, 'wb'))\n",
    "\n",
    "filename = 'finalized_models2.sav'\n",
    "pickle.dump(models2, open(filename, 'wb'))\n",
    "\n",
    "filename = 'finalized_models3.sav'\n",
    "pickle.dump(models3, open(filename, 'wb'))\n",
    "               "
   ]
  },
  {
   "cell_type": "code",
   "execution_count": 21,
   "metadata": {
    "execution": {
     "iopub.execute_input": "2020-08-10T09:07:51.329362Z",
     "iopub.status.busy": "2020-08-10T09:07:51.328472Z",
     "iopub.status.idle": "2020-08-10T09:07:51.330651Z",
     "shell.execute_reply": "2020-08-10T09:07:51.331503Z"
    },
    "papermill": {
     "duration": 0.059901,
     "end_time": "2020-08-10T09:07:51.331714",
     "exception": false,
     "start_time": "2020-08-10T09:07:51.271813",
     "status": "completed"
    },
    "tags": []
   },
   "outputs": [],
   "source": [
    "del merged_train"
   ]
  },
  {
   "cell_type": "markdown",
   "metadata": {
    "papermill": {
     "duration": 0.042119,
     "end_time": "2020-08-10T09:07:51.418375",
     "exception": false,
     "start_time": "2020-08-10T09:07:51.376256",
     "status": "completed"
    },
    "tags": []
   },
   "source": [
    "# Reading Merged test data :"
   ]
  },
  {
   "cell_type": "code",
   "execution_count": 22,
   "metadata": {
    "execution": {
     "iopub.execute_input": "2020-08-10T09:07:51.499729Z",
     "iopub.status.busy": "2020-08-10T09:07:51.498835Z",
     "iopub.status.idle": "2020-08-10T09:07:56.112632Z",
     "shell.execute_reply": "2020-08-10T09:07:56.111497Z"
    },
    "papermill": {
     "duration": 4.656098,
     "end_time": "2020-08-10T09:07:56.112824",
     "exception": false,
     "start_time": "2020-08-10T09:07:51.456726",
     "status": "completed"
    },
    "tags": []
   },
   "outputs": [],
   "source": [
    "merged_test = pd.read_feather('../input/energy-feature-engineering-2/merged_test.feather')"
   ]
  },
  {
   "cell_type": "code",
   "execution_count": 23,
   "metadata": {
    "execution": {
     "iopub.execute_input": "2020-08-10T09:07:56.203981Z",
     "iopub.status.busy": "2020-08-10T09:07:56.203072Z",
     "iopub.status.idle": "2020-08-10T09:08:01.085641Z",
     "shell.execute_reply": "2020-08-10T09:08:01.084665Z"
    },
    "papermill": {
     "duration": 4.930924,
     "end_time": "2020-08-10T09:08:01.085822",
     "exception": false,
     "start_time": "2020-08-10T09:07:56.154898",
     "status": "completed"
    },
    "tags": []
   },
   "outputs": [],
   "source": [
    "merged_test[\"hour\"] = merged_test[\"timestamp\"].dt.hour"
   ]
  },
  {
   "cell_type": "code",
   "execution_count": 24,
   "metadata": {
    "execution": {
     "iopub.execute_input": "2020-08-10T09:08:01.179163Z",
     "iopub.status.busy": "2020-08-10T09:08:01.177939Z",
     "iopub.status.idle": "2020-08-10T09:08:01.183462Z",
     "shell.execute_reply": "2020-08-10T09:08:01.182490Z"
    },
    "papermill": {
     "duration": 0.05567,
     "end_time": "2020-08-10T09:08:01.183624",
     "exception": false,
     "start_time": "2020-08-10T09:08:01.127954",
     "status": "completed"
    },
    "tags": []
   },
   "outputs": [
    {
     "data": {
      "text/plain": [
       "Index(['index', 'row_id', 'building_id', 'meter', 'timestamp', 'weekend',\n",
       "       'site_id', 'primary_use', 'square_feet', 'air_temperature',\n",
       "       'cloud_coverage', 'dew_temperature', 'precip_depth_1_hr', 'IsHoliday',\n",
       "       'month_group', 'horizsolar', 'Sensible_Heat', 'relative_humidity',\n",
       "       'hour'],\n",
       "      dtype='object')"
      ]
     },
     "execution_count": 24,
     "metadata": {},
     "output_type": "execute_result"
    }
   ],
   "source": [
    "merged_test.columns"
   ]
  },
  {
   "cell_type": "code",
   "execution_count": 25,
   "metadata": {
    "execution": {
     "iopub.execute_input": "2020-08-10T09:08:01.274764Z",
     "iopub.status.busy": "2020-08-10T09:08:01.273820Z",
     "iopub.status.idle": "2020-08-10T09:08:04.576255Z",
     "shell.execute_reply": "2020-08-10T09:08:04.575454Z"
    },
    "papermill": {
     "duration": 3.351607,
     "end_time": "2020-08-10T09:08:04.576420",
     "exception": false,
     "start_time": "2020-08-10T09:08:01.224813",
     "status": "completed"
    },
    "tags": []
   },
   "outputs": [],
   "source": [
    "merged_test = merged_test.drop(['index', 'row_id','timestamp'],axis=1)"
   ]
  },
  {
   "cell_type": "code",
   "execution_count": 26,
   "metadata": {
    "execution": {
     "iopub.execute_input": "2020-08-10T09:08:04.658715Z",
     "iopub.status.busy": "2020-08-10T09:08:04.657740Z",
     "iopub.status.idle": "2020-08-10T09:08:04.662467Z",
     "shell.execute_reply": "2020-08-10T09:08:04.661801Z"
    },
    "papermill": {
     "duration": 0.047088,
     "end_time": "2020-08-10T09:08:04.662624",
     "exception": false,
     "start_time": "2020-08-10T09:08:04.615536",
     "status": "completed"
    },
    "tags": []
   },
   "outputs": [
    {
     "data": {
      "text/plain": [
       "(41697600, 16)"
      ]
     },
     "execution_count": 26,
     "metadata": {},
     "output_type": "execute_result"
    }
   ],
   "source": [
    "merged_test.shape"
   ]
  },
  {
   "cell_type": "code",
   "execution_count": 27,
   "metadata": {
    "execution": {
     "iopub.execute_input": "2020-08-10T09:08:04.748168Z",
     "iopub.status.busy": "2020-08-10T09:08:04.747327Z",
     "iopub.status.idle": "2020-08-10T09:08:04.750280Z",
     "shell.execute_reply": "2020-08-10T09:08:04.749700Z"
    },
    "papermill": {
     "duration": 0.049959,
     "end_time": "2020-08-10T09:08:04.750411",
     "exception": false,
     "start_time": "2020-08-10T09:08:04.700452",
     "status": "completed"
    },
    "tags": []
   },
   "outputs": [],
   "source": [
    "def create_X(target_test_df, target_meter):\n",
    "    target_test_df = target_test_df[target_test_df['meter'] == target_meter]\n",
    "\n",
    "    X_test = memory_reduction(target_test_df)\n",
    "    del target_test_df\n",
    "    \n",
    "    return X_test"
   ]
  },
  {
   "cell_type": "code",
   "execution_count": 28,
   "metadata": {
    "execution": {
     "iopub.execute_input": "2020-08-10T09:08:04.837985Z",
     "iopub.status.busy": "2020-08-10T09:08:04.837013Z",
     "iopub.status.idle": "2020-08-10T09:08:04.842205Z",
     "shell.execute_reply": "2020-08-10T09:08:04.841475Z"
    },
    "papermill": {
     "duration": 0.054442,
     "end_time": "2020-08-10T09:08:04.842357",
     "exception": false,
     "start_time": "2020-08-10T09:08:04.787915",
     "status": "completed"
    },
    "tags": []
   },
   "outputs": [],
   "source": [
    "def pred(X_test, models, batch_size=1000000):\n",
    "    '''\n",
    "    This function predicts test data with given batchsize for every iteration\n",
    "    '''\n",
    "    iterations = (X_test.shape[0] + batch_size -1) // batch_size\n",
    "    print('iterations', iterations)\n",
    "\n",
    "    y_test_pred_total = np.zeros(X_test.shape[0])\n",
    "    for i, model in enumerate(models):\n",
    "        print(f'predicting {i}-th model')\n",
    "        for k in tqdm(range(iterations)):\n",
    "            y_pred_test = model.predict(X_test[k*batch_size:(k+1)*batch_size], num_iteration=model.best_iteration)\n",
    "            y_test_pred_total[k*batch_size:(k+1)*batch_size] += y_pred_test\n",
    "\n",
    "    y_test_pred_total /= len(models)\n",
    "    return y_test_pred_total"
   ]
  },
  {
   "cell_type": "markdown",
   "metadata": {
    "papermill": {
     "duration": 0.038827,
     "end_time": "2020-08-10T09:08:04.925764",
     "exception": false,
     "start_time": "2020-08-10T09:08:04.886937",
     "status": "completed"
    },
    "tags": []
   },
   "source": [
    "# Prediction of test data :"
   ]
  },
  {
   "cell_type": "code",
   "execution_count": 29,
   "metadata": {
    "execution": {
     "iopub.execute_input": "2020-08-10T09:08:05.011176Z",
     "iopub.status.busy": "2020-08-10T09:08:05.009264Z",
     "iopub.status.idle": "2020-08-10T09:08:08.500341Z",
     "shell.execute_reply": "2020-08-10T09:08:08.499331Z"
    },
    "papermill": {
     "duration": 3.536283,
     "end_time": "2020-08-10T09:08:08.500511",
     "exception": false,
     "start_time": "2020-08-10T09:08:04.964228",
     "status": "completed"
    },
    "tags": []
   },
   "outputs": [
    {
     "name": "stdout",
     "output_type": "stream",
     "text": [
      "Memory usage of dataframe is 1392.93 MB\n",
      "Memory usage after optimization is: 1227.66 MB\n",
      "Decreased by 11.9%\n",
      "CPU times: user 2.73 s, sys: 766 ms, total: 3.5 s\n",
      "Wall time: 3.49 s\n"
     ]
    },
    {
     "data": {
      "text/plain": [
       "20"
      ]
     },
     "execution_count": 29,
     "metadata": {},
     "output_type": "execute_result"
    }
   ],
   "source": [
    "%%time\n",
    "X_test = create_X(merged_test, target_meter=0)\n",
    "gc.collect()\n"
   ]
  },
  {
   "cell_type": "code",
   "execution_count": 30,
   "metadata": {
    "execution": {
     "iopub.execute_input": "2020-08-10T09:08:08.584272Z",
     "iopub.status.busy": "2020-08-10T09:08:08.583390Z",
     "iopub.status.idle": "2020-08-10T10:26:16.092471Z",
     "shell.execute_reply": "2020-08-10T10:26:16.093117Z"
    },
    "papermill": {
     "duration": 4687.555231,
     "end_time": "2020-08-10T10:26:16.093382",
     "exception": false,
     "start_time": "2020-08-10T09:08:08.538151",
     "status": "completed"
    },
    "tags": []
   },
   "outputs": [
    {
     "name": "stdout",
     "output_type": "stream",
     "text": [
      "iterations 25\n",
      "predicting 0-th model\n"
     ]
    },
    {
     "data": {
      "application/vnd.jupyter.widget-view+json": {
       "model_id": "d819c9b5b5dd4991b106a9b955e41640",
       "version_major": 2,
       "version_minor": 0
      },
      "text/plain": [
       "HBox(children=(FloatProgress(value=0.0, max=25.0), HTML(value='')))"
      ]
     },
     "metadata": {},
     "output_type": "display_data"
    },
    {
     "name": "stdout",
     "output_type": "stream",
     "text": [
      "\n",
      "predicting 1-th model\n"
     ]
    },
    {
     "data": {
      "application/vnd.jupyter.widget-view+json": {
       "model_id": "edcb7ea46e4c4828afc941c12cef9ce0",
       "version_major": 2,
       "version_minor": 0
      },
      "text/plain": [
       "HBox(children=(FloatProgress(value=0.0, max=25.0), HTML(value='')))"
      ]
     },
     "metadata": {},
     "output_type": "display_data"
    },
    {
     "name": "stdout",
     "output_type": "stream",
     "text": [
      "\n",
      "predicting 2-th model\n"
     ]
    },
    {
     "data": {
      "application/vnd.jupyter.widget-view+json": {
       "model_id": "5db320bfc53f4f96986e0896f8cd42a8",
       "version_major": 2,
       "version_minor": 0
      },
      "text/plain": [
       "HBox(children=(FloatProgress(value=0.0, max=25.0), HTML(value='')))"
      ]
     },
     "metadata": {},
     "output_type": "display_data"
    },
    {
     "name": "stdout",
     "output_type": "stream",
     "text": [
      "\n",
      "predicting 3-th model\n"
     ]
    },
    {
     "data": {
      "application/vnd.jupyter.widget-view+json": {
       "model_id": "63394afcba3c4083aa346610264bcccd",
       "version_major": 2,
       "version_minor": 0
      },
      "text/plain": [
       "HBox(children=(FloatProgress(value=0.0, max=25.0), HTML(value='')))"
      ]
     },
     "metadata": {},
     "output_type": "display_data"
    },
    {
     "name": "stdout",
     "output_type": "stream",
     "text": [
      "\n"
     ]
    },
    {
     "data": {
      "text/plain": [
       "40"
      ]
     },
     "execution_count": 30,
     "metadata": {},
     "output_type": "execute_result"
    }
   ],
   "source": [
    "\n",
    "y_test0 = pred(X_test, models0)\n",
    "del X_test\n",
    "gc.collect()"
   ]
  },
  {
   "cell_type": "code",
   "execution_count": 31,
   "metadata": {
    "execution": {
     "iopub.execute_input": "2020-08-10T10:26:16.177629Z",
     "iopub.status.busy": "2020-08-10T10:26:16.176651Z",
     "iopub.status.idle": "2020-08-10T10:26:16.180140Z",
     "shell.execute_reply": "2020-08-10T10:26:16.180777Z"
    },
    "papermill": {
     "duration": 0.049026,
     "end_time": "2020-08-10T10:26:16.180956",
     "exception": false,
     "start_time": "2020-08-10T10:26:16.131930",
     "status": "completed"
    },
    "tags": []
   },
   "outputs": [
    {
     "name": "stderr",
     "output_type": "stream",
     "text": [
      "UsageError: Can't use statement directly after '%%time'!\n"
     ]
    }
   ],
   "source": [
    "%%time                              \n",
    "X_test = create_X(merged_test, target_meter=1)\n",
    "  \n",
    "y_test1 = pred(X_test, models1)\n",
    "del X_test       \n",
    "gc.collect()                           "
   ]
  },
  {
   "cell_type": "code",
   "execution_count": 32,
   "metadata": {
    "execution": {
     "iopub.execute_input": "2020-08-10T10:26:16.264953Z",
     "iopub.status.busy": "2020-08-10T10:26:16.264103Z",
     "iopub.status.idle": "2020-08-10T10:29:58.602219Z",
     "shell.execute_reply": "2020-08-10T10:29:58.601344Z"
    },
    "papermill": {
     "duration": 222.382762,
     "end_time": "2020-08-10T10:29:58.602405",
     "exception": false,
     "start_time": "2020-08-10T10:26:16.219643",
     "status": "completed"
    },
    "tags": []
   },
   "outputs": [
    {
     "name": "stdout",
     "output_type": "stream",
     "text": [
      "Memory usage of dataframe is 319.40 MB\n",
      "Memory usage after optimization is: 281.50 MB\n",
      "Decreased by 11.9%\n",
      "iterations 6\n",
      "predicting 0-th model\n"
     ]
    },
    {
     "data": {
      "application/vnd.jupyter.widget-view+json": {
       "model_id": "f543609f3ed9462088af95a972dff112",
       "version_major": 2,
       "version_minor": 0
      },
      "text/plain": [
       "HBox(children=(FloatProgress(value=0.0, max=6.0), HTML(value='')))"
      ]
     },
     "metadata": {},
     "output_type": "display_data"
    },
    {
     "name": "stdout",
     "output_type": "stream",
     "text": [
      "\n",
      "predicting 1-th model\n"
     ]
    },
    {
     "data": {
      "application/vnd.jupyter.widget-view+json": {
       "model_id": "ba41a7ee0d9a456784663cfa5b404ec1",
       "version_major": 2,
       "version_minor": 0
      },
      "text/plain": [
       "HBox(children=(FloatProgress(value=0.0, max=6.0), HTML(value='')))"
      ]
     },
     "metadata": {},
     "output_type": "display_data"
    },
    {
     "name": "stdout",
     "output_type": "stream",
     "text": [
      "\n",
      "predicting 2-th model\n"
     ]
    },
    {
     "data": {
      "application/vnd.jupyter.widget-view+json": {
       "model_id": "0f572c2d26a647fdbf07594fad99eec1",
       "version_major": 2,
       "version_minor": 0
      },
      "text/plain": [
       "HBox(children=(FloatProgress(value=0.0, max=6.0), HTML(value='')))"
      ]
     },
     "metadata": {},
     "output_type": "display_data"
    },
    {
     "name": "stdout",
     "output_type": "stream",
     "text": [
      "\n",
      "predicting 3-th model\n"
     ]
    },
    {
     "data": {
      "application/vnd.jupyter.widget-view+json": {
       "model_id": "89a544a507d24264b1855c53fc33484f",
       "version_major": 2,
       "version_minor": 0
      },
      "text/plain": [
       "HBox(children=(FloatProgress(value=0.0, max=6.0), HTML(value='')))"
      ]
     },
     "metadata": {},
     "output_type": "display_data"
    },
    {
     "name": "stdout",
     "output_type": "stream",
     "text": [
      "\n",
      "CPU times: user 14min 5s, sys: 1.01 s, total: 14min 6s\n",
      "Wall time: 3min 42s\n"
     ]
    },
    {
     "data": {
      "text/plain": [
       "57"
      ]
     },
     "execution_count": 32,
     "metadata": {},
     "output_type": "execute_result"
    }
   ],
   "source": [
    "%%time\n",
    "X_test = create_X(merged_test, target_meter=2)\n",
    "\n",
    "y_test2 = pred(X_test, models2)\n",
    "del X_test\n",
    "gc.collect()       "
   ]
  },
  {
   "cell_type": "code",
   "execution_count": 33,
   "metadata": {
    "execution": {
     "iopub.execute_input": "2020-08-10T10:29:58.691085Z",
     "iopub.status.busy": "2020-08-10T10:29:58.690253Z",
     "iopub.status.idle": "2020-08-10T10:31:06.541601Z",
     "shell.execute_reply": "2020-08-10T10:31:06.542169Z"
    },
    "papermill": {
     "duration": 67.899611,
     "end_time": "2020-08-10T10:31:06.542386",
     "exception": false,
     "start_time": "2020-08-10T10:29:58.642775",
     "status": "completed"
    },
    "tags": []
   },
   "outputs": [
    {
     "name": "stdout",
     "output_type": "stream",
     "text": [
      "Memory usage of dataframe is 142.94 MB\n",
      "Memory usage after optimization is: 125.98 MB\n",
      "Decreased by 11.9%\n",
      "iterations 3\n",
      "predicting 0-th model\n"
     ]
    },
    {
     "data": {
      "application/vnd.jupyter.widget-view+json": {
       "model_id": "0ec61fe8fdfa463fb5469cd40dbd9a0f",
       "version_major": 2,
       "version_minor": 0
      },
      "text/plain": [
       "HBox(children=(FloatProgress(value=0.0, max=3.0), HTML(value='')))"
      ]
     },
     "metadata": {},
     "output_type": "display_data"
    },
    {
     "name": "stdout",
     "output_type": "stream",
     "text": [
      "\n",
      "predicting 1-th model\n"
     ]
    },
    {
     "data": {
      "application/vnd.jupyter.widget-view+json": {
       "model_id": "141f7c3a03dc460888d03a8ab45095b7",
       "version_major": 2,
       "version_minor": 0
      },
      "text/plain": [
       "HBox(children=(FloatProgress(value=0.0, max=3.0), HTML(value='')))"
      ]
     },
     "metadata": {},
     "output_type": "display_data"
    },
    {
     "name": "stdout",
     "output_type": "stream",
     "text": [
      "\n",
      "predicting 2-th model\n"
     ]
    },
    {
     "data": {
      "application/vnd.jupyter.widget-view+json": {
       "model_id": "690768275c5342d88f8f3e64a813f3a6",
       "version_major": 2,
       "version_minor": 0
      },
      "text/plain": [
       "HBox(children=(FloatProgress(value=0.0, max=3.0), HTML(value='')))"
      ]
     },
     "metadata": {},
     "output_type": "display_data"
    },
    {
     "name": "stdout",
     "output_type": "stream",
     "text": [
      "\n",
      "predicting 3-th model\n"
     ]
    },
    {
     "data": {
      "application/vnd.jupyter.widget-view+json": {
       "model_id": "214ef8602a924a2699b633daab833136",
       "version_major": 2,
       "version_minor": 0
      },
      "text/plain": [
       "HBox(children=(FloatProgress(value=0.0, max=3.0), HTML(value='')))"
      ]
     },
     "metadata": {},
     "output_type": "display_data"
    },
    {
     "name": "stdout",
     "output_type": "stream",
     "text": [
      "\n",
      "CPU times: user 4min 19s, sys: 491 ms, total: 4min 20s\n",
      "Wall time: 1min 7s\n"
     ]
    },
    {
     "data": {
      "text/plain": [
       "18"
      ]
     },
     "execution_count": 33,
     "metadata": {},
     "output_type": "execute_result"
    }
   ],
   "source": [
    "%%time\n",
    "X_test = create_X(merged_test, target_meter=3)\n",
    "\n",
    "y_test3 = pred(X_test, models3)\n",
    "del X_test    \n",
    "gc.collect()                         "
   ]
  },
  {
   "cell_type": "code",
   "execution_count": 34,
   "metadata": {
    "execution": {
     "iopub.execute_input": "2020-08-10T10:31:06.630740Z",
     "iopub.status.busy": "2020-08-10T10:31:06.629879Z",
     "iopub.status.idle": "2020-08-10T10:31:08.477052Z",
     "shell.execute_reply": "2020-08-10T10:31:08.477671Z"
    },
    "papermill": {
     "duration": 1.894086,
     "end_time": "2020-08-10T10:31:08.477851",
     "exception": false,
     "start_time": "2020-08-10T10:31:06.583765",
     "status": "completed"
    },
    "tags": []
   },
   "outputs": [
    {
     "name": "stdout",
     "output_type": "stream",
     "text": [
      "Memory usage of dataframe is 636.26 MB\n",
      "Memory usage after optimization is: 198.83 MB\n",
      "Decreased by 68.7%\n"
     ]
    },
    {
     "data": {
      "text/html": [
       "<div>\n",
       "<style scoped>\n",
       "    .dataframe tbody tr th:only-of-type {\n",
       "        vertical-align: middle;\n",
       "    }\n",
       "\n",
       "    .dataframe tbody tr th {\n",
       "        vertical-align: top;\n",
       "    }\n",
       "\n",
       "    .dataframe thead th {\n",
       "        text-align: right;\n",
       "    }\n",
       "</style>\n",
       "<table border=\"1\" class=\"dataframe\">\n",
       "  <thead>\n",
       "    <tr style=\"text-align: right;\">\n",
       "      <th></th>\n",
       "      <th>row_id</th>\n",
       "      <th>meter_reading</th>\n",
       "    </tr>\n",
       "  </thead>\n",
       "  <tbody>\n",
       "    <tr>\n",
       "      <th>0</th>\n",
       "      <td>0</td>\n",
       "      <td>0</td>\n",
       "    </tr>\n",
       "    <tr>\n",
       "      <th>1</th>\n",
       "      <td>1</td>\n",
       "      <td>0</td>\n",
       "    </tr>\n",
       "    <tr>\n",
       "      <th>2</th>\n",
       "      <td>2</td>\n",
       "      <td>0</td>\n",
       "    </tr>\n",
       "    <tr>\n",
       "      <th>3</th>\n",
       "      <td>3</td>\n",
       "      <td>0</td>\n",
       "    </tr>\n",
       "    <tr>\n",
       "      <th>4</th>\n",
       "      <td>4</td>\n",
       "      <td>0</td>\n",
       "    </tr>\n",
       "    <tr>\n",
       "      <th>...</th>\n",
       "      <td>...</td>\n",
       "      <td>...</td>\n",
       "    </tr>\n",
       "    <tr>\n",
       "      <th>41697595</th>\n",
       "      <td>41697595</td>\n",
       "      <td>0</td>\n",
       "    </tr>\n",
       "    <tr>\n",
       "      <th>41697596</th>\n",
       "      <td>41697596</td>\n",
       "      <td>0</td>\n",
       "    </tr>\n",
       "    <tr>\n",
       "      <th>41697597</th>\n",
       "      <td>41697597</td>\n",
       "      <td>0</td>\n",
       "    </tr>\n",
       "    <tr>\n",
       "      <th>41697598</th>\n",
       "      <td>41697598</td>\n",
       "      <td>0</td>\n",
       "    </tr>\n",
       "    <tr>\n",
       "      <th>41697599</th>\n",
       "      <td>41697599</td>\n",
       "      <td>0</td>\n",
       "    </tr>\n",
       "  </tbody>\n",
       "</table>\n",
       "<p>41697600 rows × 2 columns</p>\n",
       "</div>"
      ],
      "text/plain": [
       "            row_id  meter_reading\n",
       "0                0              0\n",
       "1                1              0\n",
       "2                2              0\n",
       "3                3              0\n",
       "4                4              0\n",
       "...            ...            ...\n",
       "41697595  41697595              0\n",
       "41697596  41697596              0\n",
       "41697597  41697597              0\n",
       "41697598  41697598              0\n",
       "41697599  41697599              0\n",
       "\n",
       "[41697600 rows x 2 columns]"
      ]
     },
     "execution_count": 34,
     "metadata": {},
     "output_type": "execute_result"
    }
   ],
   "source": [
    "sample_submission = pd.read_feather(\"../input/ashrae-feather-format-for-fast-loading/sample_submission.feather\")\n",
    "memory_reduction(sample_submission)    "
   ]
  },
  {
   "cell_type": "code",
   "execution_count": 39,
   "metadata": {
    "execution": {
     "iopub.execute_input": "2020-08-10T10:31:17.118508Z",
     "iopub.status.busy": "2020-08-10T10:31:17.117639Z",
     "iopub.status.idle": "2020-08-10T10:31:19.254027Z",
     "shell.execute_reply": "2020-08-10T10:31:19.253322Z"
    },
    "papermill": {
     "duration": 2.183711,
     "end_time": "2020-08-10T10:31:19.254168",
     "exception": false,
     "start_time": "2020-08-10T10:31:17.070457",
     "status": "completed"
    },
    "tags": []
   },
   "outputs": [],
   "source": [
    "merged_test = pd.read_feather('../input/energy-feature-engineering-2/merged_test.feather')    "
   ]
  },
  {
   "cell_type": "code",
   "execution_count": null,
   "metadata": {},
   "outputs": [],
   "source": [
    "sample_submission.loc[merged_test['meter'] == 0, 'meter_reading'] = np.expm1(y_test0)\n",
    "sample_submission.loc[merged_test['meter'] == 1, 'meter_reading'] = np.expm1(y_test1)\n",
    "sample_submission.loc[merged_test['meter'] == 2, 'meter_reading'] = np.expm1(y_test2) \n",
    "sample_submission.loc[merged_test['meter'] == 3, 'meter_reading'] = np.expm1(y_test3)         "
   ]
  },
  {
   "cell_type": "code",
   "execution_count": 44,
   "metadata": {
    "execution": {
     "iopub.execute_input": "2020-08-10T10:32:35.683799Z",
     "iopub.status.busy": "2020-08-10T10:32:35.679037Z",
     "iopub.status.idle": "2020-08-10T10:32:35.689069Z",
     "shell.execute_reply": "2020-08-10T10:32:35.688402Z"
    },
    "papermill": {
     "duration": 0.06141,
     "end_time": "2020-08-10T10:32:35.689212",
     "exception": false,
     "start_time": "2020-08-10T10:32:35.627802",
     "status": "completed"
    },
    "tags": []
   },
   "outputs": [
    {
     "data": {
      "text/html": [
       "<div>\n",
       "<style scoped>\n",
       "    .dataframe tbody tr th:only-of-type {\n",
       "        vertical-align: middle;\n",
       "    }\n",
       "\n",
       "    .dataframe tbody tr th {\n",
       "        vertical-align: top;\n",
       "    }\n",
       "\n",
       "    .dataframe thead th {\n",
       "        text-align: right;\n",
       "    }\n",
       "</style>\n",
       "<table border=\"1\" class=\"dataframe\">\n",
       "  <thead>\n",
       "    <tr style=\"text-align: right;\">\n",
       "      <th></th>\n",
       "      <th>row_id</th>\n",
       "      <th>meter_reading</th>\n",
       "    </tr>\n",
       "  </thead>\n",
       "  <tbody>\n",
       "    <tr>\n",
       "      <th>0</th>\n",
       "      <td>0</td>\n",
       "      <td>173.370293</td>\n",
       "    </tr>\n",
       "    <tr>\n",
       "      <th>1</th>\n",
       "      <td>1</td>\n",
       "      <td>53.512720</td>\n",
       "    </tr>\n",
       "    <tr>\n",
       "      <th>2</th>\n",
       "      <td>2</td>\n",
       "      <td>6.143042</td>\n",
       "    </tr>\n",
       "    <tr>\n",
       "      <th>3</th>\n",
       "      <td>3</td>\n",
       "      <td>101.701470</td>\n",
       "    </tr>\n",
       "    <tr>\n",
       "      <th>4</th>\n",
       "      <td>4</td>\n",
       "      <td>1141.240666</td>\n",
       "    </tr>\n",
       "    <tr>\n",
       "      <th>5</th>\n",
       "      <td>5</td>\n",
       "      <td>13.651204</td>\n",
       "    </tr>\n",
       "    <tr>\n",
       "      <th>6</th>\n",
       "      <td>6</td>\n",
       "      <td>260.874513</td>\n",
       "    </tr>\n",
       "    <tr>\n",
       "      <th>7</th>\n",
       "      <td>7</td>\n",
       "      <td>502.705590</td>\n",
       "    </tr>\n",
       "    <tr>\n",
       "      <th>8</th>\n",
       "      <td>8</td>\n",
       "      <td>717.574038</td>\n",
       "    </tr>\n",
       "    <tr>\n",
       "      <th>9</th>\n",
       "      <td>9</td>\n",
       "      <td>513.285268</td>\n",
       "    </tr>\n",
       "    <tr>\n",
       "      <th>10</th>\n",
       "      <td>10</td>\n",
       "      <td>61.839954</td>\n",
       "    </tr>\n",
       "    <tr>\n",
       "      <th>11</th>\n",
       "      <td>11</td>\n",
       "      <td>0.000000</td>\n",
       "    </tr>\n",
       "    <tr>\n",
       "      <th>12</th>\n",
       "      <td>12</td>\n",
       "      <td>1806.736848</td>\n",
       "    </tr>\n",
       "    <tr>\n",
       "      <th>13</th>\n",
       "      <td>13</td>\n",
       "      <td>472.331669</td>\n",
       "    </tr>\n",
       "    <tr>\n",
       "      <th>14</th>\n",
       "      <td>14</td>\n",
       "      <td>298.620091</td>\n",
       "    </tr>\n",
       "  </tbody>\n",
       "</table>\n",
       "</div>"
      ],
      "text/plain": [
       "    row_id  meter_reading\n",
       "0        0     173.370293\n",
       "1        1      53.512720\n",
       "2        2       6.143042\n",
       "3        3     101.701470\n",
       "4        4    1141.240666\n",
       "5        5      13.651204\n",
       "6        6     260.874513\n",
       "7        7     502.705590\n",
       "8        8     717.574038\n",
       "9        9     513.285268\n",
       "10      10      61.839954\n",
       "11      11       0.000000\n",
       "12      12    1806.736848\n",
       "13      13     472.331669\n",
       "14      14     298.620091"
      ]
     },
     "execution_count": 44,
     "metadata": {},
     "output_type": "execute_result"
    }
   ],
   "source": [
    "sample_submission.head(15) "
   ]
  },
  {
   "cell_type": "code",
   "execution_count": 45,
   "metadata": {
    "execution": {
     "iopub.execute_input": "2020-08-10T10:32:35.780074Z",
     "iopub.status.busy": "2020-08-10T10:32:35.779224Z",
     "iopub.status.idle": "2020-08-10T10:35:54.176842Z",
     "shell.execute_reply": "2020-08-10T10:35:54.176079Z"
    },
    "papermill": {
     "duration": 198.445273,
     "end_time": "2020-08-10T10:35:54.177028",
     "exception": false,
     "start_time": "2020-08-10T10:32:35.731755",
     "status": "completed"
    },
    "tags": []
   },
   "outputs": [],
   "source": [
    "sample_submission.to_csv('meter_type_training1.csv', index=False, float_format='%.4f')\n"
   ]
  },
  {
   "cell_type": "code",
   "execution_count": 1,
   "metadata": {
    "execution": {
     "iopub.execute_input": "2020-08-10T10:35:54.276825Z",
     "iopub.status.busy": "2020-08-10T10:35:54.276018Z",
     "iopub.status.idle": "2020-08-10T10:35:54.281573Z",
     "shell.execute_reply": "2020-08-10T10:35:54.280802Z"
    },
    "papermill": {
     "duration": 0.061553,
     "end_time": "2020-08-10T10:35:54.281720",
     "exception": false,
     "start_time": "2020-08-10T10:35:54.220167",
     "status": "completed"
    },
    "tags": []
   },
   "outputs": [
    {
     "data": {
      "image/jpeg": "[encoded data removed]",
      "text/plain": [
       "<IPython.core.display.Image object>"
      ]
     },
     "execution_count": 1,
     "metadata": {},
     "output_type": "execute_result"
    }
   ],
   "source": [
    "from IPython.display import Image\n",
    "Image(filename='meter_type.JPG')                                                                                                                                                                                                         "
   ]
  }
 ],
 "metadata": {
  "kernelspec": {
   "display_name": "Python 3",
   "language": "python",
   "name": "python3"
  },
  "language_info": {
   "codemirror_mode": {
    "name": "ipython",
    "version": 3
   },
   "file_extension": ".py",
   "mimetype": "text/x-python",
   "name": "python",
   "nbconvert_exporter": "python",
   "pygments_lexer": "ipython3",
   "version": "3.7.3"
  },
  "papermill": {
   "duration": 9324.555842,
   "end_time": "2020-08-10T10:35:54.522753",
   "environment_variables": {},
   "exception": null,
   "input_path": "__notebook__.ipynb",
   "output_path": "__notebook__.ipynb",
   "parameters": {},
   "start_time": "2020-08-10T08:00:29.966911",
   "version": "2.1.0"
  },
  "widgets": {
   "application/vnd.jupyter.widget-state+json": {
    "state": {
     "0062099da4d84d9ca2d54fc2a05f71b7": {
      "model_module": "@jupyter-widgets/controls",
      "model_module_version": "1.5.0",
      "model_name": "FloatProgressModel",
      "state": {
       "_dom_classes": [],
       "_model_module": "@jupyter-widgets/controls",
       "_model_module_version": "1.5.0",
       "_model_name": "FloatProgressModel",
       "_view_count": null,
       "_view_module": "@jupyter-widgets/controls",
       "_view_module_version": "1.5.0",
       "_view_name": "ProgressView",
       "bar_style": "success",
       "description": "100%",
       "description_tooltip": null,
       "layout": "IPY_MODEL_56e69451986249938ce3ec835ed02a7d",
       "max": 25,
       "min": 0,
       "orientation": "horizontal",
       "style": "IPY_MODEL_3645a8b048c843019a74dc86ee6f6e51",
       "value": 25
      }
     },
     "02163001da2f4a409f59b6e599a6e993": {
      "model_module": "@jupyter-widgets/base",
      "model_module_version": "1.2.0",
      "model_name": "LayoutModel",
      "state": {
       "_model_module": "@jupyter-widgets/base",
       "_model_module_version": "1.2.0",
       "_model_name": "LayoutModel",
       "_view_count": null,
       "_view_module": "@jupyter-widgets/base",
       "_view_module_version": "1.2.0",
       "_view_name": "LayoutView",
       "align_content": null,
       "align_items": null,
       "align_self": null,
       "border": null,
       "bottom": null,
       "display": null,
       "flex": null,
       "flex_flow": null,
       "grid_area": null,
       "grid_auto_columns": null,
       "grid_auto_flow": null,
       "grid_auto_rows": null,
       "grid_column": null,
       "grid_gap": null,
       "grid_row": null,
       "grid_template_areas": null,
       "grid_template_columns": null,
       "grid_template_rows": null,
       "height": null,
       "justify_content": null,
       "justify_items": null,
       "left": null,
       "margin": null,
       "max_height": null,
       "max_width": null,
       "min_height": null,
       "min_width": null,
       "object_fit": null,
       "object_position": null,
       "order": null,
       "overflow": null,
       "overflow_x": null,
       "overflow_y": null,
       "padding": null,
       "right": null,
       "top": null,
       "visibility": null,
       "width": null
      }
     },
     "044b3757020544d2a08d932a124448fe": {
      "model_module": "@jupyter-widgets/controls",
      "model_module_version": "1.5.0",
      "model_name": "DescriptionStyleModel",
      "state": {
       "_model_module": "@jupyter-widgets/controls",
       "_model_module_version": "1.5.0",
       "_model_name": "DescriptionStyleModel",
       "_view_count": null,
       "_view_module": "@jupyter-widgets/base",
       "_view_module_version": "1.2.0",
       "_view_name": "StyleView",
       "description_width": ""
      }
     },
     "04ff2b728f0141ea82a63f5fb1fe2eca": {
      "model_module": "@jupyter-widgets/base",
      "model_module_version": "1.2.0",
      "model_name": "LayoutModel",
      "state": {
       "_model_module": "@jupyter-widgets/base",
       "_model_module_version": "1.2.0",
       "_model_name": "LayoutModel",
       "_view_count": null,
       "_view_module": "@jupyter-widgets/base",
       "_view_module_version": "1.2.0",
       "_view_name": "LayoutView",
       "align_content": null,
       "align_items": null,
       "align_self": null,
       "border": null,
       "bottom": null,
       "display": null,
       "flex": null,
       "flex_flow": null,
       "grid_area": null,
       "grid_auto_columns": null,
       "grid_auto_flow": null,
       "grid_auto_rows": null,
       "grid_column": null,
       "grid_gap": null,
       "grid_row": null,
       "grid_template_areas": null,
       "grid_template_columns": null,
       "grid_template_rows": null,
       "height": null,
       "justify_content": null,
       "justify_items": null,
       "left": null,
       "margin": null,
       "max_height": null,
       "max_width": null,
       "min_height": null,
       "min_width": null,
       "object_fit": null,
       "object_position": null,
       "order": null,
       "overflow": null,
       "overflow_x": null,
       "overflow_y": null,
       "padding": null,
       "right": null,
       "top": null,
       "visibility": null,
       "width": null
      }
     },
     "09eab942a34a41879fcf741f36d57428": {
      "model_module": "@jupyter-widgets/base",
      "model_module_version": "1.2.0",
      "model_name": "LayoutModel",
      "state": {
       "_model_module": "@jupyter-widgets/base",
       "_model_module_version": "1.2.0",
       "_model_name": "LayoutModel",
       "_view_count": null,
       "_view_module": "@jupyter-widgets/base",
       "_view_module_version": "1.2.0",
       "_view_name": "LayoutView",
       "align_content": null,
       "align_items": null,
       "align_self": null,
       "border": null,
       "bottom": null,
       "display": null,
       "flex": null,
       "flex_flow": null,
       "grid_area": null,
       "grid_auto_columns": null,
       "grid_auto_flow": null,
       "grid_auto_rows": null,
       "grid_column": null,
       "grid_gap": null,
       "grid_row": null,
       "grid_template_areas": null,
       "grid_template_columns": null,
       "grid_template_rows": null,
       "height": null,
       "justify_content": null,
       "justify_items": null,
       "left": null,
       "margin": null,
       "max_height": null,
       "max_width": null,
       "min_height": null,
       "min_width": null,
       "object_fit": null,
       "object_position": null,
       "order": null,
       "overflow": null,
       "overflow_x": null,
       "overflow_y": null,
       "padding": null,
       "right": null,
       "top": null,
       "visibility": null,
       "width": null
      }
     },
     "0a37008c061d45d3b587e8613096dc14": {
      "model_module": "@jupyter-widgets/base",
      "model_module_version": "1.2.0",
      "model_name": "LayoutModel",
      "state": {
       "_model_module": "@jupyter-widgets/base",
       "_model_module_version": "1.2.0",
       "_model_name": "LayoutModel",
       "_view_count": null,
       "_view_module": "@jupyter-widgets/base",
       "_view_module_version": "1.2.0",
       "_view_name": "LayoutView",
       "align_content": null,
       "align_items": null,
       "align_self": null,
       "border": null,
       "bottom": null,
       "display": null,
       "flex": null,
       "flex_flow": null,
       "grid_area": null,
       "grid_auto_columns": null,
       "grid_auto_flow": null,
       "grid_auto_rows": null,
       "grid_column": null,
       "grid_gap": null,
       "grid_row": null,
       "grid_template_areas": null,
       "grid_template_columns": null,
       "grid_template_rows": null,
       "height": null,
       "justify_content": null,
       "justify_items": null,
       "left": null,
       "margin": null,
       "max_height": null,
       "max_width": null,
       "min_height": null,
       "min_width": null,
       "object_fit": null,
       "object_position": null,
       "order": null,
       "overflow": null,
       "overflow_x": null,
       "overflow_y": null,
       "padding": null,
       "right": null,
       "top": null,
       "visibility": null,
       "width": null
      }
     },
     "0ec61fe8fdfa463fb5469cd40dbd9a0f": {
      "model_module": "@jupyter-widgets/controls",
      "model_module_version": "1.5.0",
      "model_name": "HBoxModel",
      "state": {
       "_dom_classes": [],
       "_model_module": "@jupyter-widgets/controls",
       "_model_module_version": "1.5.0",
       "_model_name": "HBoxModel",
       "_view_count": null,
       "_view_module": "@jupyter-widgets/controls",
       "_view_module_version": "1.5.0",
       "_view_name": "HBoxView",
       "box_style": "",
       "children": [
        "IPY_MODEL_ac10dd54812f4a4d8d573f0ff10d3431",
        "IPY_MODEL_3d5dcaa7be5a4424beecac0c9c81f7b7"
       ],
       "layout": "IPY_MODEL_91d65bd48a5e4eccae7a7b4bb9db3372"
      }
     },
     "0f572c2d26a647fdbf07594fad99eec1": {
      "model_module": "@jupyter-widgets/controls",
      "model_module_version": "1.5.0",
      "model_name": "HBoxModel",
      "state": {
       "_dom_classes": [],
       "_model_module": "@jupyter-widgets/controls",
       "_model_module_version": "1.5.0",
       "_model_name": "HBoxModel",
       "_view_count": null,
       "_view_module": "@jupyter-widgets/controls",
       "_view_module_version": "1.5.0",
       "_view_name": "HBoxView",
       "box_style": "",
       "children": [
        "IPY_MODEL_c9e4e119352c453db9a780c5c64c8f3a",
        "IPY_MODEL_e530c5c073ff48b4b785582ce7870d7e"
       ],
       "layout": "IPY_MODEL_30fab3df56a54929ad75f9832feba9cb"
      }
     },
     "111ca3cbcd824d9983f7109bd18a7004": {
      "model_module": "@jupyter-widgets/controls",
      "model_module_version": "1.5.0",
      "model_name": "FloatProgressModel",
      "state": {
       "_dom_classes": [],
       "_model_module": "@jupyter-widgets/controls",
       "_model_module_version": "1.5.0",
       "_model_name": "FloatProgressModel",
       "_view_count": null,
       "_view_module": "@jupyter-widgets/controls",
       "_view_module_version": "1.5.0",
       "_view_name": "ProgressView",
       "bar_style": "success",
       "description": "100%",
       "description_tooltip": null,
       "layout": "IPY_MODEL_3223b1ea29014cb7b298de17f0fc3231",
       "max": 6,
       "min": 0,
       "orientation": "horizontal",
       "style": "IPY_MODEL_e072bd506e934de68b4f1ebc53e5927c",
       "value": 6
      }
     },
     "141f7c3a03dc460888d03a8ab45095b7": {
      "model_module": "@jupyter-widgets/controls",
      "model_module_version": "1.5.0",
      "model_name": "HBoxModel",
      "state": {
       "_dom_classes": [],
       "_model_module": "@jupyter-widgets/controls",
       "_model_module_version": "1.5.0",
       "_model_name": "HBoxModel",
       "_view_count": null,
       "_view_module": "@jupyter-widgets/controls",
       "_view_module_version": "1.5.0",
       "_view_name": "HBoxView",
       "box_style": "",
       "children": [
        "IPY_MODEL_dac8e084f1b84cfda86d364ec740f66f",
        "IPY_MODEL_71a61a2a41e746079ac801a877ac4fcc"
       ],
       "layout": "IPY_MODEL_ce1290954b3a4d749ef03ec45b9368a4"
      }
     },
     "1ad136cdccf544c3ae610e1349208c8d": {
      "model_module": "@jupyter-widgets/controls",
      "model_module_version": "1.5.0",
      "model_name": "DescriptionStyleModel",
      "state": {
       "_model_module": "@jupyter-widgets/controls",
       "_model_module_version": "1.5.0",
       "_model_name": "DescriptionStyleModel",
       "_view_count": null,
       "_view_module": "@jupyter-widgets/base",
       "_view_module_version": "1.2.0",
       "_view_name": "StyleView",
       "description_width": ""
      }
     },
     "1b772d9b484848ec8f0a396b2191214f": {
      "model_module": "@jupyter-widgets/base",
      "model_module_version": "1.2.0",
      "model_name": "LayoutModel",
      "state": {
       "_model_module": "@jupyter-widgets/base",
       "_model_module_version": "1.2.0",
       "_model_name": "LayoutModel",
       "_view_count": null,
       "_view_module": "@jupyter-widgets/base",
       "_view_module_version": "1.2.0",
       "_view_name": "LayoutView",
       "align_content": null,
       "align_items": null,
       "align_self": null,
       "border": null,
       "bottom": null,
       "display": null,
       "flex": null,
       "flex_flow": null,
       "grid_area": null,
       "grid_auto_columns": null,
       "grid_auto_flow": null,
       "grid_auto_rows": null,
       "grid_column": null,
       "grid_gap": null,
       "grid_row": null,
       "grid_template_areas": null,
       "grid_template_columns": null,
       "grid_template_rows": null,
       "height": null,
       "justify_content": null,
       "justify_items": null,
       "left": null,
       "margin": null,
       "max_height": null,
       "max_width": null,
       "min_height": null,
       "min_width": null,
       "object_fit": null,
       "object_position": null,
       "order": null,
       "overflow": null,
       "overflow_x": null,
       "overflow_y": null,
       "padding": null,
       "right": null,
       "top": null,
       "visibility": null,
       "width": null
      }
     },
     "1fc498b267714725914e2fd8f474dbad": {
      "model_module": "@jupyter-widgets/controls",
      "model_module_version": "1.5.0",
      "model_name": "ProgressStyleModel",
      "state": {
       "_model_module": "@jupyter-widgets/controls",
       "_model_module_version": "1.5.0",
       "_model_name": "ProgressStyleModel",
       "_view_count": null,
       "_view_module": "@jupyter-widgets/base",
       "_view_module_version": "1.2.0",
       "_view_name": "StyleView",
       "bar_color": null,
       "description_width": "initial"
      }
     },
     "214ef8602a924a2699b633daab833136": {
      "model_module": "@jupyter-widgets/controls",
      "model_module_version": "1.5.0",
      "model_name": "HBoxModel",
      "state": {
       "_dom_classes": [],
       "_model_module": "@jupyter-widgets/controls",
       "_model_module_version": "1.5.0",
       "_model_name": "HBoxModel",
       "_view_count": null,
       "_view_module": "@jupyter-widgets/controls",
       "_view_module_version": "1.5.0",
       "_view_name": "HBoxView",
       "box_style": "",
       "children": [
        "IPY_MODEL_4fc353fc81294fce9312f28d33bc7bbc",
        "IPY_MODEL_7110bd72ba2e4663b8b86591a0fcdf88"
       ],
       "layout": "IPY_MODEL_6d33191653424d0bb91a81e409e6c813"
      }
     },
     "21822a92f6da40c885d6c9003724c9d6": {
      "model_module": "@jupyter-widgets/base",
      "model_module_version": "1.2.0",
      "model_name": "LayoutModel",
      "state": {
       "_model_module": "@jupyter-widgets/base",
       "_model_module_version": "1.2.0",
       "_model_name": "LayoutModel",
       "_view_count": null,
       "_view_module": "@jupyter-widgets/base",
       "_view_module_version": "1.2.0",
       "_view_name": "LayoutView",
       "align_content": null,
       "align_items": null,
       "align_self": null,
       "border": null,
       "bottom": null,
       "display": null,
       "flex": null,
       "flex_flow": null,
       "grid_area": null,
       "grid_auto_columns": null,
       "grid_auto_flow": null,
       "grid_auto_rows": null,
       "grid_column": null,
       "grid_gap": null,
       "grid_row": null,
       "grid_template_areas": null,
       "grid_template_columns": null,
       "grid_template_rows": null,
       "height": null,
       "justify_content": null,
       "justify_items": null,
       "left": null,
       "margin": null,
       "max_height": null,
       "max_width": null,
       "min_height": null,
       "min_width": null,
       "object_fit": null,
       "object_position": null,
       "order": null,
       "overflow": null,
       "overflow_x": null,
       "overflow_y": null,
       "padding": null,
       "right": null,
       "top": null,
       "visibility": null,
       "width": null
      }
     },
     "2441b70fd52a477c8c22fefa417b2b3f": {
      "model_module": "@jupyter-widgets/base",
      "model_module_version": "1.2.0",
      "model_name": "LayoutModel",
      "state": {
       "_model_module": "@jupyter-widgets/base",
       "_model_module_version": "1.2.0",
       "_model_name": "LayoutModel",
       "_view_count": null,
       "_view_module": "@jupyter-widgets/base",
       "_view_module_version": "1.2.0",
       "_view_name": "LayoutView",
       "align_content": null,
       "align_items": null,
       "align_self": null,
       "border": null,
       "bottom": null,
       "display": null,
       "flex": null,
       "flex_flow": null,
       "grid_area": null,
       "grid_auto_columns": null,
       "grid_auto_flow": null,
       "grid_auto_rows": null,
       "grid_column": null,
       "grid_gap": null,
       "grid_row": null,
       "grid_template_areas": null,
       "grid_template_columns": null,
       "grid_template_rows": null,
       "height": null,
       "justify_content": null,
       "justify_items": null,
       "left": null,
       "margin": null,
       "max_height": null,
       "max_width": null,
       "min_height": null,
       "min_width": null,
       "object_fit": null,
       "object_position": null,
       "order": null,
       "overflow": null,
       "overflow_x": null,
       "overflow_y": null,
       "padding": null,
       "right": null,
       "top": null,
       "visibility": null,
       "width": null
      }
     },
     "26737b4e8d0e4f21a86c6fdb79db0ad6": {
      "model_module": "@jupyter-widgets/base",
      "model_module_version": "1.2.0",
      "model_name": "LayoutModel",
      "state": {
       "_model_module": "@jupyter-widgets/base",
       "_model_module_version": "1.2.0",
       "_model_name": "LayoutModel",
       "_view_count": null,
       "_view_module": "@jupyter-widgets/base",
       "_view_module_version": "1.2.0",
       "_view_name": "LayoutView",
       "align_content": null,
       "align_items": null,
       "align_self": null,
       "border": null,
       "bottom": null,
       "display": null,
       "flex": null,
       "flex_flow": null,
       "grid_area": null,
       "grid_auto_columns": null,
       "grid_auto_flow": null,
       "grid_auto_rows": null,
       "grid_column": null,
       "grid_gap": null,
       "grid_row": null,
       "grid_template_areas": null,
       "grid_template_columns": null,
       "grid_template_rows": null,
       "height": null,
       "justify_content": null,
       "justify_items": null,
       "left": null,
       "margin": null,
       "max_height": null,
       "max_width": null,
       "min_height": null,
       "min_width": null,
       "object_fit": null,
       "object_position": null,
       "order": null,
       "overflow": null,
       "overflow_x": null,
       "overflow_y": null,
       "padding": null,
       "right": null,
       "top": null,
       "visibility": null,
       "width": null
      }
     },
     "284d036b76e54acaa9ae2adf1a95e70f": {
      "model_module": "@jupyter-widgets/base",
      "model_module_version": "1.2.0",
      "model_name": "LayoutModel",
      "state": {
       "_model_module": "@jupyter-widgets/base",
       "_model_module_version": "1.2.0",
       "_model_name": "LayoutModel",
       "_view_count": null,
       "_view_module": "@jupyter-widgets/base",
       "_view_module_version": "1.2.0",
       "_view_name": "LayoutView",
       "align_content": null,
       "align_items": null,
       "align_self": null,
       "border": null,
       "bottom": null,
       "display": null,
       "flex": null,
       "flex_flow": null,
       "grid_area": null,
       "grid_auto_columns": null,
       "grid_auto_flow": null,
       "grid_auto_rows": null,
       "grid_column": null,
       "grid_gap": null,
       "grid_row": null,
       "grid_template_areas": null,
       "grid_template_columns": null,
       "grid_template_rows": null,
       "height": null,
       "justify_content": null,
       "justify_items": null,
       "left": null,
       "margin": null,
       "max_height": null,
       "max_width": null,
       "min_height": null,
       "min_width": null,
       "object_fit": null,
       "object_position": null,
       "order": null,
       "overflow": null,
       "overflow_x": null,
       "overflow_y": null,
       "padding": null,
       "right": null,
       "top": null,
       "visibility": null,
       "width": null
      }
     },
     "2a8176a3151d482a9daf5d15c0793dc5": {
      "model_module": "@jupyter-widgets/controls",
      "model_module_version": "1.5.0",
      "model_name": "ProgressStyleModel",
      "state": {
       "_model_module": "@jupyter-widgets/controls",
       "_model_module_version": "1.5.0",
       "_model_name": "ProgressStyleModel",
       "_view_count": null,
       "_view_module": "@jupyter-widgets/base",
       "_view_module_version": "1.2.0",
       "_view_name": "StyleView",
       "bar_color": null,
       "description_width": "initial"
      }
     },
     "30fab3df56a54929ad75f9832feba9cb": {
      "model_module": "@jupyter-widgets/base",
      "model_module_version": "1.2.0",
      "model_name": "LayoutModel",
      "state": {
       "_model_module": "@jupyter-widgets/base",
       "_model_module_version": "1.2.0",
       "_model_name": "LayoutModel",
       "_view_count": null,
       "_view_module": "@jupyter-widgets/base",
       "_view_module_version": "1.2.0",
       "_view_name": "LayoutView",
       "align_content": null,
       "align_items": null,
       "align_self": null,
       "border": null,
       "bottom": null,
       "display": null,
       "flex": null,
       "flex_flow": null,
       "grid_area": null,
       "grid_auto_columns": null,
       "grid_auto_flow": null,
       "grid_auto_rows": null,
       "grid_column": null,
       "grid_gap": null,
       "grid_row": null,
       "grid_template_areas": null,
       "grid_template_columns": null,
       "grid_template_rows": null,
       "height": null,
       "justify_content": null,
       "justify_items": null,
       "left": null,
       "margin": null,
       "max_height": null,
       "max_width": null,
       "min_height": null,
       "min_width": null,
       "object_fit": null,
       "object_position": null,
       "order": null,
       "overflow": null,
       "overflow_x": null,
       "overflow_y": null,
       "padding": null,
       "right": null,
       "top": null,
       "visibility": null,
       "width": null
      }
     },
     "30fb6b49d80e4663b42ac4c793b7cc13": {
      "model_module": "@jupyter-widgets/controls",
      "model_module_version": "1.5.0",
      "model_name": "HTMLModel",
      "state": {
       "_dom_classes": [],
       "_model_module": "@jupyter-widgets/controls",
       "_model_module_version": "1.5.0",
       "_model_name": "HTMLModel",
       "_view_count": null,
       "_view_module": "@jupyter-widgets/controls",
       "_view_module_version": "1.5.0",
       "_view_name": "HTMLView",
       "description": "",
       "description_tooltip": null,
       "layout": "IPY_MODEL_0a37008c061d45d3b587e8613096dc14",
       "placeholder": "​",
       "style": "IPY_MODEL_1ad136cdccf544c3ae610e1349208c8d",
       "value": " 25/25 [43:59&lt;00:00, 105.57s/it]"
      }
     },
     "3223b1ea29014cb7b298de17f0fc3231": {
      "model_module": "@jupyter-widgets/base",
      "model_module_version": "1.2.0",
      "model_name": "LayoutModel",
      "state": {
       "_model_module": "@jupyter-widgets/base",
       "_model_module_version": "1.2.0",
       "_model_name": "LayoutModel",
       "_view_count": null,
       "_view_module": "@jupyter-widgets/base",
       "_view_module_version": "1.2.0",
       "_view_name": "LayoutView",
       "align_content": null,
       "align_items": null,
       "align_self": null,
       "border": null,
       "bottom": null,
       "display": null,
       "flex": null,
       "flex_flow": null,
       "grid_area": null,
       "grid_auto_columns": null,
       "grid_auto_flow": null,
       "grid_auto_rows": null,
       "grid_column": null,
       "grid_gap": null,
       "grid_row": null,
       "grid_template_areas": null,
       "grid_template_columns": null,
       "grid_template_rows": null,
       "height": null,
       "justify_content": null,
       "justify_items": null,
       "left": null,
       "margin": null,
       "max_height": null,
       "max_width": null,
       "min_height": null,
       "min_width": null,
       "object_fit": null,
       "object_position": null,
       "order": null,
       "overflow": null,
       "overflow_x": null,
       "overflow_y": null,
       "padding": null,
       "right": null,
       "top": null,
       "visibility": null,
       "width": null
      }
     },
     "32c20acf44a948f1ad7b066ac98bf836": {
      "model_module": "@jupyter-widgets/controls",
      "model_module_version": "1.5.0",
      "model_name": "FloatProgressModel",
      "state": {
       "_dom_classes": [],
       "_model_module": "@jupyter-widgets/controls",
       "_model_module_version": "1.5.0",
       "_model_name": "FloatProgressModel",
       "_view_count": null,
       "_view_module": "@jupyter-widgets/controls",
       "_view_module_version": "1.5.0",
       "_view_name": "ProgressView",
       "bar_style": "success",
       "description": "100%",
       "description_tooltip": null,
       "layout": "IPY_MODEL_6c4c297cbd7343968b0b625540d4f154",
       "max": 25,
       "min": 0,
       "orientation": "horizontal",
       "style": "IPY_MODEL_a1ba65c1112e495bb8affa23fd7e8970",
       "value": 25
      }
     },
     "3645a8b048c843019a74dc86ee6f6e51": {
      "model_module": "@jupyter-widgets/controls",
      "model_module_version": "1.5.0",
      "model_name": "ProgressStyleModel",
      "state": {
       "_model_module": "@jupyter-widgets/controls",
       "_model_module_version": "1.5.0",
       "_model_name": "ProgressStyleModel",
       "_view_count": null,
       "_view_module": "@jupyter-widgets/base",
       "_view_module_version": "1.2.0",
       "_view_name": "StyleView",
       "bar_color": null,
       "description_width": "initial"
      }
     },
     "36d9695093a842f681e326c968901533": {
      "model_module": "@jupyter-widgets/base",
      "model_module_version": "1.2.0",
      "model_name": "LayoutModel",
      "state": {
       "_model_module": "@jupyter-widgets/base",
       "_model_module_version": "1.2.0",
       "_model_name": "LayoutModel",
       "_view_count": null,
       "_view_module": "@jupyter-widgets/base",
       "_view_module_version": "1.2.0",
       "_view_name": "LayoutView",
       "align_content": null,
       "align_items": null,
       "align_self": null,
       "border": null,
       "bottom": null,
       "display": null,
       "flex": null,
       "flex_flow": null,
       "grid_area": null,
       "grid_auto_columns": null,
       "grid_auto_flow": null,
       "grid_auto_rows": null,
       "grid_column": null,
       "grid_gap": null,
       "grid_row": null,
       "grid_template_areas": null,
       "grid_template_columns": null,
       "grid_template_rows": null,
       "height": null,
       "justify_content": null,
       "justify_items": null,
       "left": null,
       "margin": null,
       "max_height": null,
       "max_width": null,
       "min_height": null,
       "min_width": null,
       "object_fit": null,
       "object_position": null,
       "order": null,
       "overflow": null,
       "overflow_x": null,
       "overflow_y": null,
       "padding": null,
       "right": null,
       "top": null,
       "visibility": null,
       "width": null
      }
     },
     "3a10bb030b954f1b8118b558e727d409": {
      "model_module": "@jupyter-widgets/controls",
      "model_module_version": "1.5.0",
      "model_name": "FloatProgressModel",
      "state": {
       "_dom_classes": [],
       "_model_module": "@jupyter-widgets/controls",
       "_model_module_version": "1.5.0",
       "_model_name": "FloatProgressModel",
       "_view_count": null,
       "_view_module": "@jupyter-widgets/controls",
       "_view_module_version": "1.5.0",
       "_view_name": "ProgressView",
       "bar_style": "success",
       "description": "100%",
       "description_tooltip": null,
       "layout": "IPY_MODEL_e8bbbddea1d3410a98416fa865d3adeb",
       "max": 25,
       "min": 0,
       "orientation": "horizontal",
       "style": "IPY_MODEL_1fc498b267714725914e2fd8f474dbad",
       "value": 25
      }
     },
     "3d5dcaa7be5a4424beecac0c9c81f7b7": {
      "model_module": "@jupyter-widgets/controls",
      "model_module_version": "1.5.0",
      "model_name": "HTMLModel",
      "state": {
       "_dom_classes": [],
       "_model_module": "@jupyter-widgets/controls",
       "_model_module_version": "1.5.0",
       "_model_name": "HTMLModel",
       "_view_count": null,
       "_view_module": "@jupyter-widgets/controls",
       "_view_module_version": "1.5.0",
       "_view_name": "HTMLView",
       "description": "",
       "description_tooltip": null,
       "layout": "IPY_MODEL_5c4b89be865f4cbba5e854ff522b69a2",
       "placeholder": "​",
       "style": "IPY_MODEL_710319ca73794ea384bc09ad39527919",
       "value": " 3/3 [01:07&lt;00:00, 22.46s/it]"
      }
     },
     "40bf75d9335e484588a58ec553550717": {
      "model_module": "@jupyter-widgets/controls",
      "model_module_version": "1.5.0",
      "model_name": "ProgressStyleModel",
      "state": {
       "_model_module": "@jupyter-widgets/controls",
       "_model_module_version": "1.5.0",
       "_model_name": "ProgressStyleModel",
       "_view_count": null,
       "_view_module": "@jupyter-widgets/base",
       "_view_module_version": "1.2.0",
       "_view_name": "StyleView",
       "bar_color": null,
       "description_width": "initial"
      }
     },
     "4854331f1ac44231ac400a231a33b7ce": {
      "model_module": "@jupyter-widgets/controls",
      "model_module_version": "1.5.0",
      "model_name": "HTMLModel",
      "state": {
       "_dom_classes": [],
       "_model_module": "@jupyter-widgets/controls",
       "_model_module_version": "1.5.0",
       "_model_name": "HTMLModel",
       "_view_count": null,
       "_view_module": "@jupyter-widgets/controls",
       "_view_module_version": "1.5.0",
       "_view_name": "HTMLView",
       "description": "",
       "description_tooltip": null,
       "layout": "IPY_MODEL_e62aa267d83c4d17b231c149937c8169",
       "placeholder": "​",
       "style": "IPY_MODEL_fd14a52c9b6c4d7fa08db510b167f80b",
       "value": " 25/25 [1:07:05&lt;00:00, 161.02s/it]"
      }
     },
     "4ac65baced634bbaa4eb6abacb275caa": {
      "model_module": "@jupyter-widgets/controls",
      "model_module_version": "1.5.0",
      "model_name": "FloatProgressModel",
      "state": {
       "_dom_classes": [],
       "_model_module": "@jupyter-widgets/controls",
       "_model_module_version": "1.5.0",
       "_model_name": "FloatProgressModel",
       "_view_count": null,
       "_view_module": "@jupyter-widgets/controls",
       "_view_module_version": "1.5.0",
       "_view_name": "ProgressView",
       "bar_style": "success",
       "description": "100%",
       "description_tooltip": null,
       "layout": "IPY_MODEL_54bed6ff916246b2866879d16df83925",
       "max": 25,
       "min": 0,
       "orientation": "horizontal",
       "style": "IPY_MODEL_2a8176a3151d482a9daf5d15c0793dc5",
       "value": 25
      }
     },
     "4fc353fc81294fce9312f28d33bc7bbc": {
      "model_module": "@jupyter-widgets/controls",
      "model_module_version": "1.5.0",
      "model_name": "FloatProgressModel",
      "state": {
       "_dom_classes": [],
       "_model_module": "@jupyter-widgets/controls",
       "_model_module_version": "1.5.0",
       "_model_name": "FloatProgressModel",
       "_view_count": null,
       "_view_module": "@jupyter-widgets/controls",
       "_view_module_version": "1.5.0",
       "_view_name": "ProgressView",
       "bar_style": "success",
       "description": "100%",
       "description_tooltip": null,
       "layout": "IPY_MODEL_c912852069ca4af2a24a39afa08b9c80",
       "max": 3,
       "min": 0,
       "orientation": "horizontal",
       "style": "IPY_MODEL_9c4667e98b2441f892a654d98430b5ce",
       "value": 3
      }
     },
     "54bed6ff916246b2866879d16df83925": {
      "model_module": "@jupyter-widgets/base",
      "model_module_version": "1.2.0",
      "model_name": "LayoutModel",
      "state": {
       "_model_module": "@jupyter-widgets/base",
       "_model_module_version": "1.2.0",
       "_model_name": "LayoutModel",
       "_view_count": null,
       "_view_module": "@jupyter-widgets/base",
       "_view_module_version": "1.2.0",
       "_view_name": "LayoutView",
       "align_content": null,
       "align_items": null,
       "align_self": null,
       "border": null,
       "bottom": null,
       "display": null,
       "flex": null,
       "flex_flow": null,
       "grid_area": null,
       "grid_auto_columns": null,
       "grid_auto_flow": null,
       "grid_auto_rows": null,
       "grid_column": null,
       "grid_gap": null,
       "grid_row": null,
       "grid_template_areas": null,
       "grid_template_columns": null,
       "grid_template_rows": null,
       "height": null,
       "justify_content": null,
       "justify_items": null,
       "left": null,
       "margin": null,
       "max_height": null,
       "max_width": null,
       "min_height": null,
       "min_width": null,
       "object_fit": null,
       "object_position": null,
       "order": null,
       "overflow": null,
       "overflow_x": null,
       "overflow_y": null,
       "padding": null,
       "right": null,
       "top": null,
       "visibility": null,
       "width": null
      }
     },
     "5584619c45c84cbfb079d99bb823611f": {
      "model_module": "@jupyter-widgets/controls",
      "model_module_version": "1.5.0",
      "model_name": "HTMLModel",
      "state": {
       "_dom_classes": [],
       "_model_module": "@jupyter-widgets/controls",
       "_model_module_version": "1.5.0",
       "_model_name": "HTMLModel",
       "_view_count": null,
       "_view_module": "@jupyter-widgets/controls",
       "_view_module_version": "1.5.0",
       "_view_name": "HTMLView",
       "description": "",
       "description_tooltip": null,
       "layout": "IPY_MODEL_55be652ae3bb4870a04ad4b3e05a3a6c",
       "placeholder": "​",
       "style": "IPY_MODEL_044b3757020544d2a08d932a124448fe",
       "value": " 6/6 [02:07&lt;00:00, 21.23s/it]"
      }
     },
     "55be652ae3bb4870a04ad4b3e05a3a6c": {
      "model_module": "@jupyter-widgets/base",
      "model_module_version": "1.2.0",
      "model_name": "LayoutModel",
      "state": {
       "_model_module": "@jupyter-widgets/base",
       "_model_module_version": "1.2.0",
       "_model_name": "LayoutModel",
       "_view_count": null,
       "_view_module": "@jupyter-widgets/base",
       "_view_module_version": "1.2.0",
       "_view_name": "LayoutView",
       "align_content": null,
       "align_items": null,
       "align_self": null,
       "border": null,
       "bottom": null,
       "display": null,
       "flex": null,
       "flex_flow": null,
       "grid_area": null,
       "grid_auto_columns": null,
       "grid_auto_flow": null,
       "grid_auto_rows": null,
       "grid_column": null,
       "grid_gap": null,
       "grid_row": null,
       "grid_template_areas": null,
       "grid_template_columns": null,
       "grid_template_rows": null,
       "height": null,
       "justify_content": null,
       "justify_items": null,
       "left": null,
       "margin": null,
       "max_height": null,
       "max_width": null,
       "min_height": null,
       "min_width": null,
       "object_fit": null,
       "object_position": null,
       "order": null,
       "overflow": null,
       "overflow_x": null,
       "overflow_y": null,
       "padding": null,
       "right": null,
       "top": null,
       "visibility": null,
       "width": null
      }
     },
     "565b1295831b44dc9ef1a646198b5dbc": {
      "model_module": "@jupyter-widgets/base",
      "model_module_version": "1.2.0",
      "model_name": "LayoutModel",
      "state": {
       "_model_module": "@jupyter-widgets/base",
       "_model_module_version": "1.2.0",
       "_model_name": "LayoutModel",
       "_view_count": null,
       "_view_module": "@jupyter-widgets/base",
       "_view_module_version": "1.2.0",
       "_view_name": "LayoutView",
       "align_content": null,
       "align_items": null,
       "align_self": null,
       "border": null,
       "bottom": null,
       "display": null,
       "flex": null,
       "flex_flow": null,
       "grid_area": null,
       "grid_auto_columns": null,
       "grid_auto_flow": null,
       "grid_auto_rows": null,
       "grid_column": null,
       "grid_gap": null,
       "grid_row": null,
       "grid_template_areas": null,
       "grid_template_columns": null,
       "grid_template_rows": null,
       "height": null,
       "justify_content": null,
       "justify_items": null,
       "left": null,
       "margin": null,
       "max_height": null,
       "max_width": null,
       "min_height": null,
       "min_width": null,
       "object_fit": null,
       "object_position": null,
       "order": null,
       "overflow": null,
       "overflow_x": null,
       "overflow_y": null,
       "padding": null,
       "right": null,
       "top": null,
       "visibility": null,
       "width": null
      }
     },
     "56e69451986249938ce3ec835ed02a7d": {
      "model_module": "@jupyter-widgets/base",
      "model_module_version": "1.2.0",
      "model_name": "LayoutModel",
      "state": {
       "_model_module": "@jupyter-widgets/base",
       "_model_module_version": "1.2.0",
       "_model_name": "LayoutModel",
       "_view_count": null,
       "_view_module": "@jupyter-widgets/base",
       "_view_module_version": "1.2.0",
       "_view_name": "LayoutView",
       "align_content": null,
       "align_items": null,
       "align_self": null,
       "border": null,
       "bottom": null,
       "display": null,
       "flex": null,
       "flex_flow": null,
       "grid_area": null,
       "grid_auto_columns": null,
       "grid_auto_flow": null,
       "grid_auto_rows": null,
       "grid_column": null,
       "grid_gap": null,
       "grid_row": null,
       "grid_template_areas": null,
       "grid_template_columns": null,
       "grid_template_rows": null,
       "height": null,
       "justify_content": null,
       "justify_items": null,
       "left": null,
       "margin": null,
       "max_height": null,
       "max_width": null,
       "min_height": null,
       "min_width": null,
       "object_fit": null,
       "object_position": null,
       "order": null,
       "overflow": null,
       "overflow_x": null,
       "overflow_y": null,
       "padding": null,
       "right": null,
       "top": null,
       "visibility": null,
       "width": null
      }
     },
     "58e383a4b18749a9982dbedcf1a7d05d": {
      "model_module": "@jupyter-widgets/controls",
      "model_module_version": "1.5.0",
      "model_name": "FloatProgressModel",
      "state": {
       "_dom_classes": [],
       "_model_module": "@jupyter-widgets/controls",
       "_model_module_version": "1.5.0",
       "_model_name": "FloatProgressModel",
       "_view_count": null,
       "_view_module": "@jupyter-widgets/controls",
       "_view_module_version": "1.5.0",
       "_view_name": "ProgressView",
       "bar_style": "success",
       "description": "100%",
       "description_tooltip": null,
       "layout": "IPY_MODEL_bb16547551974783a3511a4294909870",
       "max": 6,
       "min": 0,
       "orientation": "horizontal",
       "style": "IPY_MODEL_d2581cf4a8c741169e9b2577e1f9b742",
       "value": 6
      }
     },
     "5b6163ec06114048a1cabc756f01150e": {
      "model_module": "@jupyter-widgets/controls",
      "model_module_version": "1.5.0",
      "model_name": "HTMLModel",
      "state": {
       "_dom_classes": [],
       "_model_module": "@jupyter-widgets/controls",
       "_model_module_version": "1.5.0",
       "_model_name": "HTMLModel",
       "_view_count": null,
       "_view_module": "@jupyter-widgets/controls",
       "_view_module_version": "1.5.0",
       "_view_name": "HTMLView",
       "description": "",
       "description_tooltip": null,
       "layout": "IPY_MODEL_e4d929f726904148b17830137d259846",
       "placeholder": "​",
       "style": "IPY_MODEL_a2a294f6b75041d0a104b908273d7adf",
       "value": " 25/25 [1:18:07&lt;00:00, 187.50s/it]"
      }
     },
     "5c4b89be865f4cbba5e854ff522b69a2": {
      "model_module": "@jupyter-widgets/base",
      "model_module_version": "1.2.0",
      "model_name": "LayoutModel",
      "state": {
       "_model_module": "@jupyter-widgets/base",
       "_model_module_version": "1.2.0",
       "_model_name": "LayoutModel",
       "_view_count": null,
       "_view_module": "@jupyter-widgets/base",
       "_view_module_version": "1.2.0",
       "_view_name": "LayoutView",
       "align_content": null,
       "align_items": null,
       "align_self": null,
       "border": null,
       "bottom": null,
       "display": null,
       "flex": null,
       "flex_flow": null,
       "grid_area": null,
       "grid_auto_columns": null,
       "grid_auto_flow": null,
       "grid_auto_rows": null,
       "grid_column": null,
       "grid_gap": null,
       "grid_row": null,
       "grid_template_areas": null,
       "grid_template_columns": null,
       "grid_template_rows": null,
       "height": null,
       "justify_content": null,
       "justify_items": null,
       "left": null,
       "margin": null,
       "max_height": null,
       "max_width": null,
       "min_height": null,
       "min_width": null,
       "object_fit": null,
       "object_position": null,
       "order": null,
       "overflow": null,
       "overflow_x": null,
       "overflow_y": null,
       "padding": null,
       "right": null,
       "top": null,
       "visibility": null,
       "width": null
      }
     },
     "5db320bfc53f4f96986e0896f8cd42a8": {
      "model_module": "@jupyter-widgets/controls",
      "model_module_version": "1.5.0",
      "model_name": "HBoxModel",
      "state": {
       "_dom_classes": [],
       "_model_module": "@jupyter-widgets/controls",
       "_model_module_version": "1.5.0",
       "_model_name": "HBoxModel",
       "_view_count": null,
       "_view_module": "@jupyter-widgets/controls",
       "_view_module_version": "1.5.0",
       "_view_name": "HBoxView",
       "box_style": "",
       "children": [
        "IPY_MODEL_3a10bb030b954f1b8118b558e727d409",
        "IPY_MODEL_30fb6b49d80e4663b42ac4c793b7cc13"
       ],
       "layout": "IPY_MODEL_b62c7860b2a74172bc06d4f68e4dd169"
      }
     },
     "5e6c3890b5734d5e9c276fcb7542a69f": {
      "model_module": "@jupyter-widgets/base",
      "model_module_version": "1.2.0",
      "model_name": "LayoutModel",
      "state": {
       "_model_module": "@jupyter-widgets/base",
       "_model_module_version": "1.2.0",
       "_model_name": "LayoutModel",
       "_view_count": null,
       "_view_module": "@jupyter-widgets/base",
       "_view_module_version": "1.2.0",
       "_view_name": "LayoutView",
       "align_content": null,
       "align_items": null,
       "align_self": null,
       "border": null,
       "bottom": null,
       "display": null,
       "flex": null,
       "flex_flow": null,
       "grid_area": null,
       "grid_auto_columns": null,
       "grid_auto_flow": null,
       "grid_auto_rows": null,
       "grid_column": null,
       "grid_gap": null,
       "grid_row": null,
       "grid_template_areas": null,
       "grid_template_columns": null,
       "grid_template_rows": null,
       "height": null,
       "justify_content": null,
       "justify_items": null,
       "left": null,
       "margin": null,
       "max_height": null,
       "max_width": null,
       "min_height": null,
       "min_width": null,
       "object_fit": null,
       "object_position": null,
       "order": null,
       "overflow": null,
       "overflow_x": null,
       "overflow_y": null,
       "padding": null,
       "right": null,
       "top": null,
       "visibility": null,
       "width": null
      }
     },
     "606c7aa52a904955a5eae98c9930cfe2": {
      "model_module": "@jupyter-widgets/controls",
      "model_module_version": "1.5.0",
      "model_name": "HTMLModel",
      "state": {
       "_dom_classes": [],
       "_model_module": "@jupyter-widgets/controls",
       "_model_module_version": "1.5.0",
       "_model_name": "HTMLModel",
       "_view_count": null,
       "_view_module": "@jupyter-widgets/controls",
       "_view_module_version": "1.5.0",
       "_view_name": "HTMLView",
       "description": "",
       "description_tooltip": null,
       "layout": "IPY_MODEL_70647a39ea86405a87cb3905c6d5820e",
       "placeholder": "​",
       "style": "IPY_MODEL_ca7a8d2875ea452c817ba1c652a5113f",
       "value": " 6/6 [00:14&lt;00:00,  2.43s/it]"
      }
     },
     "611123a80f6148089ebcfc59defc2d28": {
      "model_module": "@jupyter-widgets/base",
      "model_module_version": "1.2.0",
      "model_name": "LayoutModel",
      "state": {
       "_model_module": "@jupyter-widgets/base",
       "_model_module_version": "1.2.0",
       "_model_name": "LayoutModel",
       "_view_count": null,
       "_view_module": "@jupyter-widgets/base",
       "_view_module_version": "1.2.0",
       "_view_name": "LayoutView",
       "align_content": null,
       "align_items": null,
       "align_self": null,
       "border": null,
       "bottom": null,
       "display": null,
       "flex": null,
       "flex_flow": null,
       "grid_area": null,
       "grid_auto_columns": null,
       "grid_auto_flow": null,
       "grid_auto_rows": null,
       "grid_column": null,
       "grid_gap": null,
       "grid_row": null,
       "grid_template_areas": null,
       "grid_template_columns": null,
       "grid_template_rows": null,
       "height": null,
       "justify_content": null,
       "justify_items": null,
       "left": null,
       "margin": null,
       "max_height": null,
       "max_width": null,
       "min_height": null,
       "min_width": null,
       "object_fit": null,
       "object_position": null,
       "order": null,
       "overflow": null,
       "overflow_x": null,
       "overflow_y": null,
       "padding": null,
       "right": null,
       "top": null,
       "visibility": null,
       "width": null
      }
     },
     "63394afcba3c4083aa346610264bcccd": {
      "model_module": "@jupyter-widgets/controls",
      "model_module_version": "1.5.0",
      "model_name": "HBoxModel",
      "state": {
       "_dom_classes": [],
       "_model_module": "@jupyter-widgets/controls",
       "_model_module_version": "1.5.0",
       "_model_name": "HBoxModel",
       "_view_count": null,
       "_view_module": "@jupyter-widgets/controls",
       "_view_module_version": "1.5.0",
       "_view_name": "HBoxView",
       "box_style": "",
       "children": [
        "IPY_MODEL_0062099da4d84d9ca2d54fc2a05f71b7",
        "IPY_MODEL_65e04053ba3a4b6bb2cf214b749d7547"
       ],
       "layout": "IPY_MODEL_80b8647e69ee41e3afbc589f5fe7288b"
      }
     },
     "65e04053ba3a4b6bb2cf214b749d7547": {
      "model_module": "@jupyter-widgets/controls",
      "model_module_version": "1.5.0",
      "model_name": "HTMLModel",
      "state": {
       "_dom_classes": [],
       "_model_module": "@jupyter-widgets/controls",
       "_model_module_version": "1.5.0",
       "_model_name": "HTMLModel",
       "_view_count": null,
       "_view_module": "@jupyter-widgets/controls",
       "_view_module_version": "1.5.0",
       "_view_name": "HTMLView",
       "description": "",
       "description_tooltip": null,
       "layout": "IPY_MODEL_611123a80f6148089ebcfc59defc2d28",
       "placeholder": "​",
       "style": "IPY_MODEL_b48f1ce90b4049f98fdf24e5b177c2b7",
       "value": " 25/25 [25:29&lt;00:00, 61.20s/it]"
      }
     },
     "690768275c5342d88f8f3e64a813f3a6": {
      "model_module": "@jupyter-widgets/controls",
      "model_module_version": "1.5.0",
      "model_name": "HBoxModel",
      "state": {
       "_dom_classes": [],
       "_model_module": "@jupyter-widgets/controls",
       "_model_module_version": "1.5.0",
       "_model_name": "HBoxModel",
       "_view_count": null,
       "_view_module": "@jupyter-widgets/controls",
       "_view_module_version": "1.5.0",
       "_view_name": "HBoxView",
       "box_style": "",
       "children": [
        "IPY_MODEL_c3d93d723d5848ee9ae2760ccd4c0e4e",
        "IPY_MODEL_ee270925e88d4f2a872b3fd8015e5408"
       ],
       "layout": "IPY_MODEL_284d036b76e54acaa9ae2adf1a95e70f"
      }
     },
     "6c4c297cbd7343968b0b625540d4f154": {
      "model_module": "@jupyter-widgets/base",
      "model_module_version": "1.2.0",
      "model_name": "LayoutModel",
      "state": {
       "_model_module": "@jupyter-widgets/base",
       "_model_module_version": "1.2.0",
       "_model_name": "LayoutModel",
       "_view_count": null,
       "_view_module": "@jupyter-widgets/base",
       "_view_module_version": "1.2.0",
       "_view_name": "LayoutView",
       "align_content": null,
       "align_items": null,
       "align_self": null,
       "border": null,
       "bottom": null,
       "display": null,
       "flex": null,
       "flex_flow": null,
       "grid_area": null,
       "grid_auto_columns": null,
       "grid_auto_flow": null,
       "grid_auto_rows": null,
       "grid_column": null,
       "grid_gap": null,
       "grid_row": null,
       "grid_template_areas": null,
       "grid_template_columns": null,
       "grid_template_rows": null,
       "height": null,
       "justify_content": null,
       "justify_items": null,
       "left": null,
       "margin": null,
       "max_height": null,
       "max_width": null,
       "min_height": null,
       "min_width": null,
       "object_fit": null,
       "object_position": null,
       "order": null,
       "overflow": null,
       "overflow_x": null,
       "overflow_y": null,
       "padding": null,
       "right": null,
       "top": null,
       "visibility": null,
       "width": null
      }
     },
     "6d33191653424d0bb91a81e409e6c813": {
      "model_module": "@jupyter-widgets/base",
      "model_module_version": "1.2.0",
      "model_name": "LayoutModel",
      "state": {
       "_model_module": "@jupyter-widgets/base",
       "_model_module_version": "1.2.0",
       "_model_name": "LayoutModel",
       "_view_count": null,
       "_view_module": "@jupyter-widgets/base",
       "_view_module_version": "1.2.0",
       "_view_name": "LayoutView",
       "align_content": null,
       "align_items": null,
       "align_self": null,
       "border": null,
       "bottom": null,
       "display": null,
       "flex": null,
       "flex_flow": null,
       "grid_area": null,
       "grid_auto_columns": null,
       "grid_auto_flow": null,
       "grid_auto_rows": null,
       "grid_column": null,
       "grid_gap": null,
       "grid_row": null,
       "grid_template_areas": null,
       "grid_template_columns": null,
       "grid_template_rows": null,
       "height": null,
       "justify_content": null,
       "justify_items": null,
       "left": null,
       "margin": null,
       "max_height": null,
       "max_width": null,
       "min_height": null,
       "min_width": null,
       "object_fit": null,
       "object_position": null,
       "order": null,
       "overflow": null,
       "overflow_x": null,
       "overflow_y": null,
       "padding": null,
       "right": null,
       "top": null,
       "visibility": null,
       "width": null
      }
     },
     "70647a39ea86405a87cb3905c6d5820e": {
      "model_module": "@jupyter-widgets/base",
      "model_module_version": "1.2.0",
      "model_name": "LayoutModel",
      "state": {
       "_model_module": "@jupyter-widgets/base",
       "_model_module_version": "1.2.0",
       "_model_name": "LayoutModel",
       "_view_count": null,
       "_view_module": "@jupyter-widgets/base",
       "_view_module_version": "1.2.0",
       "_view_name": "LayoutView",
       "align_content": null,
       "align_items": null,
       "align_self": null,
       "border": null,
       "bottom": null,
       "display": null,
       "flex": null,
       "flex_flow": null,
       "grid_area": null,
       "grid_auto_columns": null,
       "grid_auto_flow": null,
       "grid_auto_rows": null,
       "grid_column": null,
       "grid_gap": null,
       "grid_row": null,
       "grid_template_areas": null,
       "grid_template_columns": null,
       "grid_template_rows": null,
       "height": null,
       "justify_content": null,
       "justify_items": null,
       "left": null,
       "margin": null,
       "max_height": null,
       "max_width": null,
       "min_height": null,
       "min_width": null,
       "object_fit": null,
       "object_position": null,
       "order": null,
       "overflow": null,
       "overflow_x": null,
       "overflow_y": null,
       "padding": null,
       "right": null,
       "top": null,
       "visibility": null,
       "width": null
      }
     },
     "710319ca73794ea384bc09ad39527919": {
      "model_module": "@jupyter-widgets/controls",
      "model_module_version": "1.5.0",
      "model_name": "DescriptionStyleModel",
      "state": {
       "_model_module": "@jupyter-widgets/controls",
       "_model_module_version": "1.5.0",
       "_model_name": "DescriptionStyleModel",
       "_view_count": null,
       "_view_module": "@jupyter-widgets/base",
       "_view_module_version": "1.2.0",
       "_view_name": "StyleView",
       "description_width": ""
      }
     },
     "7110bd72ba2e4663b8b86591a0fcdf88": {
      "model_module": "@jupyter-widgets/controls",
      "model_module_version": "1.5.0",
      "model_name": "HTMLModel",
      "state": {
       "_dom_classes": [],
       "_model_module": "@jupyter-widgets/controls",
       "_model_module_version": "1.5.0",
       "_model_name": "HTMLModel",
       "_view_count": null,
       "_view_module": "@jupyter-widgets/controls",
       "_view_module_version": "1.5.0",
       "_view_name": "HTMLView",
       "description": "",
       "description_tooltip": null,
       "layout": "IPY_MODEL_02163001da2f4a409f59b6e599a6e993",
       "placeholder": "​",
       "style": "IPY_MODEL_76885982fde94623855bfb5ff9c88835",
       "value": " 3/3 [00:15&lt;00:00,  5.30s/it]"
      }
     },
     "71a61a2a41e746079ac801a877ac4fcc": {
      "model_module": "@jupyter-widgets/controls",
      "model_module_version": "1.5.0",
      "model_name": "HTMLModel",
      "state": {
       "_dom_classes": [],
       "_model_module": "@jupyter-widgets/controls",
       "_model_module_version": "1.5.0",
       "_model_name": "HTMLModel",
       "_view_count": null,
       "_view_module": "@jupyter-widgets/controls",
       "_view_module_version": "1.5.0",
       "_view_name": "HTMLView",
       "description": "",
       "description_tooltip": null,
       "layout": "IPY_MODEL_5e6c3890b5734d5e9c276fcb7542a69f",
       "placeholder": "​",
       "style": "IPY_MODEL_f5184282a9844217b67ad2097191765e",
       "value": " 3/3 [00:34&lt;00:00, 11.60s/it]"
      }
     },
     "726b2f64413e473b9b87ed714fad2d72": {
      "model_module": "@jupyter-widgets/controls",
      "model_module_version": "1.5.0",
      "model_name": "DescriptionStyleModel",
      "state": {
       "_model_module": "@jupyter-widgets/controls",
       "_model_module_version": "1.5.0",
       "_model_name": "DescriptionStyleModel",
       "_view_count": null,
       "_view_module": "@jupyter-widgets/base",
       "_view_module_version": "1.2.0",
       "_view_name": "StyleView",
       "description_width": ""
      }
     },
     "733b92c5bf2c4bf08a28314999865d82": {
      "model_module": "@jupyter-widgets/base",
      "model_module_version": "1.2.0",
      "model_name": "LayoutModel",
      "state": {
       "_model_module": "@jupyter-widgets/base",
       "_model_module_version": "1.2.0",
       "_model_name": "LayoutModel",
       "_view_count": null,
       "_view_module": "@jupyter-widgets/base",
       "_view_module_version": "1.2.0",
       "_view_name": "LayoutView",
       "align_content": null,
       "align_items": null,
       "align_self": null,
       "border": null,
       "bottom": null,
       "display": null,
       "flex": null,
       "flex_flow": null,
       "grid_area": null,
       "grid_auto_columns": null,
       "grid_auto_flow": null,
       "grid_auto_rows": null,
       "grid_column": null,
       "grid_gap": null,
       "grid_row": null,
       "grid_template_areas": null,
       "grid_template_columns": null,
       "grid_template_rows": null,
       "height": null,
       "justify_content": null,
       "justify_items": null,
       "left": null,
       "margin": null,
       "max_height": null,
       "max_width": null,
       "min_height": null,
       "min_width": null,
       "object_fit": null,
       "object_position": null,
       "order": null,
       "overflow": null,
       "overflow_x": null,
       "overflow_y": null,
       "padding": null,
       "right": null,
       "top": null,
       "visibility": null,
       "width": null
      }
     },
     "74248472eeba4f6785cf698b0e22ce97": {
      "model_module": "@jupyter-widgets/controls",
      "model_module_version": "1.5.0",
      "model_name": "FloatProgressModel",
      "state": {
       "_dom_classes": [],
       "_model_module": "@jupyter-widgets/controls",
       "_model_module_version": "1.5.0",
       "_model_name": "FloatProgressModel",
       "_view_count": null,
       "_view_module": "@jupyter-widgets/controls",
       "_view_module_version": "1.5.0",
       "_view_name": "ProgressView",
       "bar_style": "success",
       "description": "100%",
       "description_tooltip": null,
       "layout": "IPY_MODEL_2441b70fd52a477c8c22fefa417b2b3f",
       "max": 6,
       "min": 0,
       "orientation": "horizontal",
       "style": "IPY_MODEL_ba2315c9e2794d0d88e96d876561c69c",
       "value": 6
      }
     },
     "76885982fde94623855bfb5ff9c88835": {
      "model_module": "@jupyter-widgets/controls",
      "model_module_version": "1.5.0",
      "model_name": "DescriptionStyleModel",
      "state": {
       "_model_module": "@jupyter-widgets/controls",
       "_model_module_version": "1.5.0",
       "_model_name": "DescriptionStyleModel",
       "_view_count": null,
       "_view_module": "@jupyter-widgets/base",
       "_view_module_version": "1.2.0",
       "_view_name": "StyleView",
       "description_width": ""
      }
     },
     "77ccee372efa4db1880502ed79a6a592": {
      "model_module": "@jupyter-widgets/base",
      "model_module_version": "1.2.0",
      "model_name": "LayoutModel",
      "state": {
       "_model_module": "@jupyter-widgets/base",
       "_model_module_version": "1.2.0",
       "_model_name": "LayoutModel",
       "_view_count": null,
       "_view_module": "@jupyter-widgets/base",
       "_view_module_version": "1.2.0",
       "_view_name": "LayoutView",
       "align_content": null,
       "align_items": null,
       "align_self": null,
       "border": null,
       "bottom": null,
       "display": null,
       "flex": null,
       "flex_flow": null,
       "grid_area": null,
       "grid_auto_columns": null,
       "grid_auto_flow": null,
       "grid_auto_rows": null,
       "grid_column": null,
       "grid_gap": null,
       "grid_row": null,
       "grid_template_areas": null,
       "grid_template_columns": null,
       "grid_template_rows": null,
       "height": null,
       "justify_content": null,
       "justify_items": null,
       "left": null,
       "margin": null,
       "max_height": null,
       "max_width": null,
       "min_height": null,
       "min_width": null,
       "object_fit": null,
       "object_position": null,
       "order": null,
       "overflow": null,
       "overflow_x": null,
       "overflow_y": null,
       "padding": null,
       "right": null,
       "top": null,
       "visibility": null,
       "width": null
      }
     },
     "80b8647e69ee41e3afbc589f5fe7288b": {
      "model_module": "@jupyter-widgets/base",
      "model_module_version": "1.2.0",
      "model_name": "LayoutModel",
      "state": {
       "_model_module": "@jupyter-widgets/base",
       "_model_module_version": "1.2.0",
       "_model_name": "LayoutModel",
       "_view_count": null,
       "_view_module": "@jupyter-widgets/base",
       "_view_module_version": "1.2.0",
       "_view_name": "LayoutView",
       "align_content": null,
       "align_items": null,
       "align_self": null,
       "border": null,
       "bottom": null,
       "display": null,
       "flex": null,
       "flex_flow": null,
       "grid_area": null,
       "grid_auto_columns": null,
       "grid_auto_flow": null,
       "grid_auto_rows": null,
       "grid_column": null,
       "grid_gap": null,
       "grid_row": null,
       "grid_template_areas": null,
       "grid_template_columns": null,
       "grid_template_rows": null,
       "height": null,
       "justify_content": null,
       "justify_items": null,
       "left": null,
       "margin": null,
       "max_height": null,
       "max_width": null,
       "min_height": null,
       "min_width": null,
       "object_fit": null,
       "object_position": null,
       "order": null,
       "overflow": null,
       "overflow_x": null,
       "overflow_y": null,
       "padding": null,
       "right": null,
       "top": null,
       "visibility": null,
       "width": null
      }
     },
     "89a544a507d24264b1855c53fc33484f": {
      "model_module": "@jupyter-widgets/controls",
      "model_module_version": "1.5.0",
      "model_name": "HBoxModel",
      "state": {
       "_dom_classes": [],
       "_model_module": "@jupyter-widgets/controls",
       "_model_module_version": "1.5.0",
       "_model_name": "HBoxModel",
       "_view_count": null,
       "_view_module": "@jupyter-widgets/controls",
       "_view_module_version": "1.5.0",
       "_view_name": "HBoxView",
       "box_style": "",
       "children": [
        "IPY_MODEL_74248472eeba4f6785cf698b0e22ce97",
        "IPY_MODEL_606c7aa52a904955a5eae98c9930cfe2"
       ],
       "layout": "IPY_MODEL_733b92c5bf2c4bf08a28314999865d82"
      }
     },
     "91d65bd48a5e4eccae7a7b4bb9db3372": {
      "model_module": "@jupyter-widgets/base",
      "model_module_version": "1.2.0",
      "model_name": "LayoutModel",
      "state": {
       "_model_module": "@jupyter-widgets/base",
       "_model_module_version": "1.2.0",
       "_model_name": "LayoutModel",
       "_view_count": null,
       "_view_module": "@jupyter-widgets/base",
       "_view_module_version": "1.2.0",
       "_view_name": "LayoutView",
       "align_content": null,
       "align_items": null,
       "align_self": null,
       "border": null,
       "bottom": null,
       "display": null,
       "flex": null,
       "flex_flow": null,
       "grid_area": null,
       "grid_auto_columns": null,
       "grid_auto_flow": null,
       "grid_auto_rows": null,
       "grid_column": null,
       "grid_gap": null,
       "grid_row": null,
       "grid_template_areas": null,
       "grid_template_columns": null,
       "grid_template_rows": null,
       "height": null,
       "justify_content": null,
       "justify_items": null,
       "left": null,
       "margin": null,
       "max_height": null,
       "max_width": null,
       "min_height": null,
       "min_width": null,
       "object_fit": null,
       "object_position": null,
       "order": null,
       "overflow": null,
       "overflow_x": null,
       "overflow_y": null,
       "padding": null,
       "right": null,
       "top": null,
       "visibility": null,
       "width": null
      }
     },
     "9687fa5745c64924be1251ebe8b691a7": {
      "model_module": "@jupyter-widgets/controls",
      "model_module_version": "1.5.0",
      "model_name": "HTMLModel",
      "state": {
       "_dom_classes": [],
       "_model_module": "@jupyter-widgets/controls",
       "_model_module_version": "1.5.0",
       "_model_name": "HTMLModel",
       "_view_count": null,
       "_view_module": "@jupyter-widgets/controls",
       "_view_module_version": "1.5.0",
       "_view_name": "HTMLView",
       "description": "",
       "description_tooltip": null,
       "layout": "IPY_MODEL_c21270e094b14a3e8217ba276b51df46",
       "placeholder": "​",
       "style": "IPY_MODEL_9acfb8c23718462b90cbcd4c02768fad",
       "value": " 6/6 [03:41&lt;00:00, 36.89s/it]"
      }
     },
     "9acfb8c23718462b90cbcd4c02768fad": {
      "model_module": "@jupyter-widgets/controls",
      "model_module_version": "1.5.0",
      "model_name": "DescriptionStyleModel",
      "state": {
       "_model_module": "@jupyter-widgets/controls",
       "_model_module_version": "1.5.0",
       "_model_name": "DescriptionStyleModel",
       "_view_count": null,
       "_view_module": "@jupyter-widgets/base",
       "_view_module_version": "1.2.0",
       "_view_name": "StyleView",
       "description_width": ""
      }
     },
     "9c4667e98b2441f892a654d98430b5ce": {
      "model_module": "@jupyter-widgets/controls",
      "model_module_version": "1.5.0",
      "model_name": "ProgressStyleModel",
      "state": {
       "_model_module": "@jupyter-widgets/controls",
       "_model_module_version": "1.5.0",
       "_model_name": "ProgressStyleModel",
       "_view_count": null,
       "_view_module": "@jupyter-widgets/base",
       "_view_module_version": "1.2.0",
       "_view_name": "StyleView",
       "bar_color": null,
       "description_width": "initial"
      }
     },
     "a1ba65c1112e495bb8affa23fd7e8970": {
      "model_module": "@jupyter-widgets/controls",
      "model_module_version": "1.5.0",
      "model_name": "ProgressStyleModel",
      "state": {
       "_model_module": "@jupyter-widgets/controls",
       "_model_module_version": "1.5.0",
       "_model_name": "ProgressStyleModel",
       "_view_count": null,
       "_view_module": "@jupyter-widgets/base",
       "_view_module_version": "1.2.0",
       "_view_name": "StyleView",
       "bar_color": null,
       "description_width": "initial"
      }
     },
     "a2a294f6b75041d0a104b908273d7adf": {
      "model_module": "@jupyter-widgets/controls",
      "model_module_version": "1.5.0",
      "model_name": "DescriptionStyleModel",
      "state": {
       "_model_module": "@jupyter-widgets/controls",
       "_model_module_version": "1.5.0",
       "_model_name": "DescriptionStyleModel",
       "_view_count": null,
       "_view_module": "@jupyter-widgets/base",
       "_view_module_version": "1.2.0",
       "_view_name": "StyleView",
       "description_width": ""
      }
     },
     "a947011a9c624481aac14d03f0a8b949": {
      "model_module": "@jupyter-widgets/controls",
      "model_module_version": "1.5.0",
      "model_name": "ProgressStyleModel",
      "state": {
       "_model_module": "@jupyter-widgets/controls",
       "_model_module_version": "1.5.0",
       "_model_name": "ProgressStyleModel",
       "_view_count": null,
       "_view_module": "@jupyter-widgets/base",
       "_view_module_version": "1.2.0",
       "_view_name": "StyleView",
       "bar_color": null,
       "description_width": "initial"
      }
     },
     "ac10dd54812f4a4d8d573f0ff10d3431": {
      "model_module": "@jupyter-widgets/controls",
      "model_module_version": "1.5.0",
      "model_name": "FloatProgressModel",
      "state": {
       "_dom_classes": [],
       "_model_module": "@jupyter-widgets/controls",
       "_model_module_version": "1.5.0",
       "_model_name": "FloatProgressModel",
       "_view_count": null,
       "_view_module": "@jupyter-widgets/controls",
       "_view_module_version": "1.5.0",
       "_view_name": "ProgressView",
       "bar_style": "success",
       "description": "100%",
       "description_tooltip": null,
       "layout": "IPY_MODEL_26737b4e8d0e4f21a86c6fdb79db0ad6",
       "max": 3,
       "min": 0,
       "orientation": "horizontal",
       "style": "IPY_MODEL_ef5083f3ec254d97b6eee847299d7237",
       "value": 3
      }
     },
     "b37b8412e54b4a7998cc4082594cee23": {
      "model_module": "@jupyter-widgets/base",
      "model_module_version": "1.2.0",
      "model_name": "LayoutModel",
      "state": {
       "_model_module": "@jupyter-widgets/base",
       "_model_module_version": "1.2.0",
       "_model_name": "LayoutModel",
       "_view_count": null,
       "_view_module": "@jupyter-widgets/base",
       "_view_module_version": "1.2.0",
       "_view_name": "LayoutView",
       "align_content": null,
       "align_items": null,
       "align_self": null,
       "border": null,
       "bottom": null,
       "display": null,
       "flex": null,
       "flex_flow": null,
       "grid_area": null,
       "grid_auto_columns": null,
       "grid_auto_flow": null,
       "grid_auto_rows": null,
       "grid_column": null,
       "grid_gap": null,
       "grid_row": null,
       "grid_template_areas": null,
       "grid_template_columns": null,
       "grid_template_rows": null,
       "height": null,
       "justify_content": null,
       "justify_items": null,
       "left": null,
       "margin": null,
       "max_height": null,
       "max_width": null,
       "min_height": null,
       "min_width": null,
       "object_fit": null,
       "object_position": null,
       "order": null,
       "overflow": null,
       "overflow_x": null,
       "overflow_y": null,
       "padding": null,
       "right": null,
       "top": null,
       "visibility": null,
       "width": null
      }
     },
     "b48f1ce90b4049f98fdf24e5b177c2b7": {
      "model_module": "@jupyter-widgets/controls",
      "model_module_version": "1.5.0",
      "model_name": "DescriptionStyleModel",
      "state": {
       "_model_module": "@jupyter-widgets/controls",
       "_model_module_version": "1.5.0",
       "_model_name": "DescriptionStyleModel",
       "_view_count": null,
       "_view_module": "@jupyter-widgets/base",
       "_view_module_version": "1.2.0",
       "_view_name": "StyleView",
       "description_width": ""
      }
     },
     "b62c7860b2a74172bc06d4f68e4dd169": {
      "model_module": "@jupyter-widgets/base",
      "model_module_version": "1.2.0",
      "model_name": "LayoutModel",
      "state": {
       "_model_module": "@jupyter-widgets/base",
       "_model_module_version": "1.2.0",
       "_model_name": "LayoutModel",
       "_view_count": null,
       "_view_module": "@jupyter-widgets/base",
       "_view_module_version": "1.2.0",
       "_view_name": "LayoutView",
       "align_content": null,
       "align_items": null,
       "align_self": null,
       "border": null,
       "bottom": null,
       "display": null,
       "flex": null,
       "flex_flow": null,
       "grid_area": null,
       "grid_auto_columns": null,
       "grid_auto_flow": null,
       "grid_auto_rows": null,
       "grid_column": null,
       "grid_gap": null,
       "grid_row": null,
       "grid_template_areas": null,
       "grid_template_columns": null,
       "grid_template_rows": null,
       "height": null,
       "justify_content": null,
       "justify_items": null,
       "left": null,
       "margin": null,
       "max_height": null,
       "max_width": null,
       "min_height": null,
       "min_width": null,
       "object_fit": null,
       "object_position": null,
       "order": null,
       "overflow": null,
       "overflow_x": null,
       "overflow_y": null,
       "padding": null,
       "right": null,
       "top": null,
       "visibility": null,
       "width": null
      }
     },
     "ba2315c9e2794d0d88e96d876561c69c": {
      "model_module": "@jupyter-widgets/controls",
      "model_module_version": "1.5.0",
      "model_name": "ProgressStyleModel",
      "state": {
       "_model_module": "@jupyter-widgets/controls",
       "_model_module_version": "1.5.0",
       "_model_name": "ProgressStyleModel",
       "_view_count": null,
       "_view_module": "@jupyter-widgets/base",
       "_view_module_version": "1.2.0",
       "_view_name": "StyleView",
       "bar_color": null,
       "description_width": "initial"
      }
     },
     "ba41a7ee0d9a456784663cfa5b404ec1": {
      "model_module": "@jupyter-widgets/controls",
      "model_module_version": "1.5.0",
      "model_name": "HBoxModel",
      "state": {
       "_dom_classes": [],
       "_model_module": "@jupyter-widgets/controls",
       "_model_module_version": "1.5.0",
       "_model_name": "HBoxModel",
       "_view_count": null,
       "_view_module": "@jupyter-widgets/controls",
       "_view_module_version": "1.5.0",
       "_view_name": "HBoxView",
       "box_style": "",
       "children": [
        "IPY_MODEL_58e383a4b18749a9982dbedcf1a7d05d",
        "IPY_MODEL_5584619c45c84cbfb079d99bb823611f"
       ],
       "layout": "IPY_MODEL_77ccee372efa4db1880502ed79a6a592"
      }
     },
     "bb16547551974783a3511a4294909870": {
      "model_module": "@jupyter-widgets/base",
      "model_module_version": "1.2.0",
      "model_name": "LayoutModel",
      "state": {
       "_model_module": "@jupyter-widgets/base",
       "_model_module_version": "1.2.0",
       "_model_name": "LayoutModel",
       "_view_count": null,
       "_view_module": "@jupyter-widgets/base",
       "_view_module_version": "1.2.0",
       "_view_name": "LayoutView",
       "align_content": null,
       "align_items": null,
       "align_self": null,
       "border": null,
       "bottom": null,
       "display": null,
       "flex": null,
       "flex_flow": null,
       "grid_area": null,
       "grid_auto_columns": null,
       "grid_auto_flow": null,
       "grid_auto_rows": null,
       "grid_column": null,
       "grid_gap": null,
       "grid_row": null,
       "grid_template_areas": null,
       "grid_template_columns": null,
       "grid_template_rows": null,
       "height": null,
       "justify_content": null,
       "justify_items": null,
       "left": null,
       "margin": null,
       "max_height": null,
       "max_width": null,
       "min_height": null,
       "min_width": null,
       "object_fit": null,
       "object_position": null,
       "order": null,
       "overflow": null,
       "overflow_x": null,
       "overflow_y": null,
       "padding": null,
       "right": null,
       "top": null,
       "visibility": null,
       "width": null
      }
     },
     "c21270e094b14a3e8217ba276b51df46": {
      "model_module": "@jupyter-widgets/base",
      "model_module_version": "1.2.0",
      "model_name": "LayoutModel",
      "state": {
       "_model_module": "@jupyter-widgets/base",
       "_model_module_version": "1.2.0",
       "_model_name": "LayoutModel",
       "_view_count": null,
       "_view_module": "@jupyter-widgets/base",
       "_view_module_version": "1.2.0",
       "_view_name": "LayoutView",
       "align_content": null,
       "align_items": null,
       "align_self": null,
       "border": null,
       "bottom": null,
       "display": null,
       "flex": null,
       "flex_flow": null,
       "grid_area": null,
       "grid_auto_columns": null,
       "grid_auto_flow": null,
       "grid_auto_rows": null,
       "grid_column": null,
       "grid_gap": null,
       "grid_row": null,
       "grid_template_areas": null,
       "grid_template_columns": null,
       "grid_template_rows": null,
       "height": null,
       "justify_content": null,
       "justify_items": null,
       "left": null,
       "margin": null,
       "max_height": null,
       "max_width": null,
       "min_height": null,
       "min_width": null,
       "object_fit": null,
       "object_position": null,
       "order": null,
       "overflow": null,
       "overflow_x": null,
       "overflow_y": null,
       "padding": null,
       "right": null,
       "top": null,
       "visibility": null,
       "width": null
      }
     },
     "c3d93d723d5848ee9ae2760ccd4c0e4e": {
      "model_module": "@jupyter-widgets/controls",
      "model_module_version": "1.5.0",
      "model_name": "FloatProgressModel",
      "state": {
       "_dom_classes": [],
       "_model_module": "@jupyter-widgets/controls",
       "_model_module_version": "1.5.0",
       "_model_name": "FloatProgressModel",
       "_view_count": null,
       "_view_module": "@jupyter-widgets/controls",
       "_view_module_version": "1.5.0",
       "_view_name": "ProgressView",
       "bar_style": "success",
       "description": "100%",
       "description_tooltip": null,
       "layout": "IPY_MODEL_b37b8412e54b4a7998cc4082594cee23",
       "max": 3,
       "min": 0,
       "orientation": "horizontal",
       "style": "IPY_MODEL_a947011a9c624481aac14d03f0a8b949",
       "value": 3
      }
     },
     "c912852069ca4af2a24a39afa08b9c80": {
      "model_module": "@jupyter-widgets/base",
      "model_module_version": "1.2.0",
      "model_name": "LayoutModel",
      "state": {
       "_model_module": "@jupyter-widgets/base",
       "_model_module_version": "1.2.0",
       "_model_name": "LayoutModel",
       "_view_count": null,
       "_view_module": "@jupyter-widgets/base",
       "_view_module_version": "1.2.0",
       "_view_name": "LayoutView",
       "align_content": null,
       "align_items": null,
       "align_self": null,
       "border": null,
       "bottom": null,
       "display": null,
       "flex": null,
       "flex_flow": null,
       "grid_area": null,
       "grid_auto_columns": null,
       "grid_auto_flow": null,
       "grid_auto_rows": null,
       "grid_column": null,
       "grid_gap": null,
       "grid_row": null,
       "grid_template_areas": null,
       "grid_template_columns": null,
       "grid_template_rows": null,
       "height": null,
       "justify_content": null,
       "justify_items": null,
       "left": null,
       "margin": null,
       "max_height": null,
       "max_width": null,
       "min_height": null,
       "min_width": null,
       "object_fit": null,
       "object_position": null,
       "order": null,
       "overflow": null,
       "overflow_x": null,
       "overflow_y": null,
       "padding": null,
       "right": null,
       "top": null,
       "visibility": null,
       "width": null
      }
     },
     "c9e4e119352c453db9a780c5c64c8f3a": {
      "model_module": "@jupyter-widgets/controls",
      "model_module_version": "1.5.0",
      "model_name": "FloatProgressModel",
      "state": {
       "_dom_classes": [],
       "_model_module": "@jupyter-widgets/controls",
       "_model_module_version": "1.5.0",
       "_model_name": "FloatProgressModel",
       "_view_count": null,
       "_view_module": "@jupyter-widgets/controls",
       "_view_module_version": "1.5.0",
       "_view_name": "ProgressView",
       "bar_style": "success",
       "description": "100%",
       "description_tooltip": null,
       "layout": "IPY_MODEL_04ff2b728f0141ea82a63f5fb1fe2eca",
       "max": 6,
       "min": 0,
       "orientation": "horizontal",
       "style": "IPY_MODEL_40bf75d9335e484588a58ec553550717",
       "value": 6
      }
     },
     "ca7a8d2875ea452c817ba1c652a5113f": {
      "model_module": "@jupyter-widgets/controls",
      "model_module_version": "1.5.0",
      "model_name": "DescriptionStyleModel",
      "state": {
       "_model_module": "@jupyter-widgets/controls",
       "_model_module_version": "1.5.0",
       "_model_name": "DescriptionStyleModel",
       "_view_count": null,
       "_view_module": "@jupyter-widgets/base",
       "_view_module_version": "1.2.0",
       "_view_name": "StyleView",
       "description_width": ""
      }
     },
     "ce1290954b3a4d749ef03ec45b9368a4": {
      "model_module": "@jupyter-widgets/base",
      "model_module_version": "1.2.0",
      "model_name": "LayoutModel",
      "state": {
       "_model_module": "@jupyter-widgets/base",
       "_model_module_version": "1.2.0",
       "_model_name": "LayoutModel",
       "_view_count": null,
       "_view_module": "@jupyter-widgets/base",
       "_view_module_version": "1.2.0",
       "_view_name": "LayoutView",
       "align_content": null,
       "align_items": null,
       "align_self": null,
       "border": null,
       "bottom": null,
       "display": null,
       "flex": null,
       "flex_flow": null,
       "grid_area": null,
       "grid_auto_columns": null,
       "grid_auto_flow": null,
       "grid_auto_rows": null,
       "grid_column": null,
       "grid_gap": null,
       "grid_row": null,
       "grid_template_areas": null,
       "grid_template_columns": null,
       "grid_template_rows": null,
       "height": null,
       "justify_content": null,
       "justify_items": null,
       "left": null,
       "margin": null,
       "max_height": null,
       "max_width": null,
       "min_height": null,
       "min_width": null,
       "object_fit": null,
       "object_position": null,
       "order": null,
       "overflow": null,
       "overflow_x": null,
       "overflow_y": null,
       "padding": null,
       "right": null,
       "top": null,
       "visibility": null,
       "width": null
      }
     },
     "d2581cf4a8c741169e9b2577e1f9b742": {
      "model_module": "@jupyter-widgets/controls",
      "model_module_version": "1.5.0",
      "model_name": "ProgressStyleModel",
      "state": {
       "_model_module": "@jupyter-widgets/controls",
       "_model_module_version": "1.5.0",
       "_model_name": "ProgressStyleModel",
       "_view_count": null,
       "_view_module": "@jupyter-widgets/base",
       "_view_module_version": "1.2.0",
       "_view_name": "StyleView",
       "bar_color": null,
       "description_width": "initial"
      }
     },
     "d37ac15a7a4c40a6bc2ae76c1e794015": {
      "model_module": "@jupyter-widgets/base",
      "model_module_version": "1.2.0",
      "model_name": "LayoutModel",
      "state": {
       "_model_module": "@jupyter-widgets/base",
       "_model_module_version": "1.2.0",
       "_model_name": "LayoutModel",
       "_view_count": null,
       "_view_module": "@jupyter-widgets/base",
       "_view_module_version": "1.2.0",
       "_view_name": "LayoutView",
       "align_content": null,
       "align_items": null,
       "align_self": null,
       "border": null,
       "bottom": null,
       "display": null,
       "flex": null,
       "flex_flow": null,
       "grid_area": null,
       "grid_auto_columns": null,
       "grid_auto_flow": null,
       "grid_auto_rows": null,
       "grid_column": null,
       "grid_gap": null,
       "grid_row": null,
       "grid_template_areas": null,
       "grid_template_columns": null,
       "grid_template_rows": null,
       "height": null,
       "justify_content": null,
       "justify_items": null,
       "left": null,
       "margin": null,
       "max_height": null,
       "max_width": null,
       "min_height": null,
       "min_width": null,
       "object_fit": null,
       "object_position": null,
       "order": null,
       "overflow": null,
       "overflow_x": null,
       "overflow_y": null,
       "padding": null,
       "right": null,
       "top": null,
       "visibility": null,
       "width": null
      }
     },
     "d7f5dc562bc74b738e61e77e4112272c": {
      "model_module": "@jupyter-widgets/controls",
      "model_module_version": "1.5.0",
      "model_name": "DescriptionStyleModel",
      "state": {
       "_model_module": "@jupyter-widgets/controls",
       "_model_module_version": "1.5.0",
       "_model_name": "DescriptionStyleModel",
       "_view_count": null,
       "_view_module": "@jupyter-widgets/base",
       "_view_module_version": "1.2.0",
       "_view_name": "StyleView",
       "description_width": ""
      }
     },
     "d819c9b5b5dd4991b106a9b955e41640": {
      "model_module": "@jupyter-widgets/controls",
      "model_module_version": "1.5.0",
      "model_name": "HBoxModel",
      "state": {
       "_dom_classes": [],
       "_model_module": "@jupyter-widgets/controls",
       "_model_module_version": "1.5.0",
       "_model_name": "HBoxModel",
       "_view_count": null,
       "_view_module": "@jupyter-widgets/controls",
       "_view_module_version": "1.5.0",
       "_view_name": "HBoxView",
       "box_style": "",
       "children": [
        "IPY_MODEL_32c20acf44a948f1ad7b066ac98bf836",
        "IPY_MODEL_5b6163ec06114048a1cabc756f01150e"
       ],
       "layout": "IPY_MODEL_09eab942a34a41879fcf741f36d57428"
      }
     },
     "dac8e084f1b84cfda86d364ec740f66f": {
      "model_module": "@jupyter-widgets/controls",
      "model_module_version": "1.5.0",
      "model_name": "FloatProgressModel",
      "state": {
       "_dom_classes": [],
       "_model_module": "@jupyter-widgets/controls",
       "_model_module_version": "1.5.0",
       "_model_name": "FloatProgressModel",
       "_view_count": null,
       "_view_module": "@jupyter-widgets/controls",
       "_view_module_version": "1.5.0",
       "_view_name": "ProgressView",
       "bar_style": "success",
       "description": "100%",
       "description_tooltip": null,
       "layout": "IPY_MODEL_d37ac15a7a4c40a6bc2ae76c1e794015",
       "max": 3,
       "min": 0,
       "orientation": "horizontal",
       "style": "IPY_MODEL_e118bea03bec4c37affd7ecc91fe6569",
       "value": 3
      }
     },
     "e072bd506e934de68b4f1ebc53e5927c": {
      "model_module": "@jupyter-widgets/controls",
      "model_module_version": "1.5.0",
      "model_name": "ProgressStyleModel",
      "state": {
       "_model_module": "@jupyter-widgets/controls",
       "_model_module_version": "1.5.0",
       "_model_name": "ProgressStyleModel",
       "_view_count": null,
       "_view_module": "@jupyter-widgets/base",
       "_view_module_version": "1.2.0",
       "_view_name": "StyleView",
       "bar_color": null,
       "description_width": "initial"
      }
     },
     "e118bea03bec4c37affd7ecc91fe6569": {
      "model_module": "@jupyter-widgets/controls",
      "model_module_version": "1.5.0",
      "model_name": "ProgressStyleModel",
      "state": {
       "_model_module": "@jupyter-widgets/controls",
       "_model_module_version": "1.5.0",
       "_model_name": "ProgressStyleModel",
       "_view_count": null,
       "_view_module": "@jupyter-widgets/base",
       "_view_module_version": "1.2.0",
       "_view_name": "StyleView",
       "bar_color": null,
       "description_width": "initial"
      }
     },
     "e4d929f726904148b17830137d259846": {
      "model_module": "@jupyter-widgets/base",
      "model_module_version": "1.2.0",
      "model_name": "LayoutModel",
      "state": {
       "_model_module": "@jupyter-widgets/base",
       "_model_module_version": "1.2.0",
       "_model_name": "LayoutModel",
       "_view_count": null,
       "_view_module": "@jupyter-widgets/base",
       "_view_module_version": "1.2.0",
       "_view_name": "LayoutView",
       "align_content": null,
       "align_items": null,
       "align_self": null,
       "border": null,
       "bottom": null,
       "display": null,
       "flex": null,
       "flex_flow": null,
       "grid_area": null,
       "grid_auto_columns": null,
       "grid_auto_flow": null,
       "grid_auto_rows": null,
       "grid_column": null,
       "grid_gap": null,
       "grid_row": null,
       "grid_template_areas": null,
       "grid_template_columns": null,
       "grid_template_rows": null,
       "height": null,
       "justify_content": null,
       "justify_items": null,
       "left": null,
       "margin": null,
       "max_height": null,
       "max_width": null,
       "min_height": null,
       "min_width": null,
       "object_fit": null,
       "object_position": null,
       "order": null,
       "overflow": null,
       "overflow_x": null,
       "overflow_y": null,
       "padding": null,
       "right": null,
       "top": null,
       "visibility": null,
       "width": null
      }
     },
     "e530c5c073ff48b4b785582ce7870d7e": {
      "model_module": "@jupyter-widgets/controls",
      "model_module_version": "1.5.0",
      "model_name": "HTMLModel",
      "state": {
       "_dom_classes": [],
       "_model_module": "@jupyter-widgets/controls",
       "_model_module_version": "1.5.0",
       "_model_name": "HTMLModel",
       "_view_count": null,
       "_view_module": "@jupyter-widgets/controls",
       "_view_module_version": "1.5.0",
       "_view_name": "HTMLView",
       "description": "",
       "description_tooltip": null,
       "layout": "IPY_MODEL_1b772d9b484848ec8f0a396b2191214f",
       "placeholder": "​",
       "style": "IPY_MODEL_d7f5dc562bc74b738e61e77e4112272c",
       "value": " 6/6 [00:38&lt;00:00,  6.49s/it]"
      }
     },
     "e62aa267d83c4d17b231c149937c8169": {
      "model_module": "@jupyter-widgets/base",
      "model_module_version": "1.2.0",
      "model_name": "LayoutModel",
      "state": {
       "_model_module": "@jupyter-widgets/base",
       "_model_module_version": "1.2.0",
       "_model_name": "LayoutModel",
       "_view_count": null,
       "_view_module": "@jupyter-widgets/base",
       "_view_module_version": "1.2.0",
       "_view_name": "LayoutView",
       "align_content": null,
       "align_items": null,
       "align_self": null,
       "border": null,
       "bottom": null,
       "display": null,
       "flex": null,
       "flex_flow": null,
       "grid_area": null,
       "grid_auto_columns": null,
       "grid_auto_flow": null,
       "grid_auto_rows": null,
       "grid_column": null,
       "grid_gap": null,
       "grid_row": null,
       "grid_template_areas": null,
       "grid_template_columns": null,
       "grid_template_rows": null,
       "height": null,
       "justify_content": null,
       "justify_items": null,
       "left": null,
       "margin": null,
       "max_height": null,
       "max_width": null,
       "min_height": null,
       "min_width": null,
       "object_fit": null,
       "object_position": null,
       "order": null,
       "overflow": null,
       "overflow_x": null,
       "overflow_y": null,
       "padding": null,
       "right": null,
       "top": null,
       "visibility": null,
       "width": null
      }
     },
     "e8bbbddea1d3410a98416fa865d3adeb": {
      "model_module": "@jupyter-widgets/base",
      "model_module_version": "1.2.0",
      "model_name": "LayoutModel",
      "state": {
       "_model_module": "@jupyter-widgets/base",
       "_model_module_version": "1.2.0",
       "_model_name": "LayoutModel",
       "_view_count": null,
       "_view_module": "@jupyter-widgets/base",
       "_view_module_version": "1.2.0",
       "_view_name": "LayoutView",
       "align_content": null,
       "align_items": null,
       "align_self": null,
       "border": null,
       "bottom": null,
       "display": null,
       "flex": null,
       "flex_flow": null,
       "grid_area": null,
       "grid_auto_columns": null,
       "grid_auto_flow": null,
       "grid_auto_rows": null,
       "grid_column": null,
       "grid_gap": null,
       "grid_row": null,
       "grid_template_areas": null,
       "grid_template_columns": null,
       "grid_template_rows": null,
       "height": null,
       "justify_content": null,
       "justify_items": null,
       "left": null,
       "margin": null,
       "max_height": null,
       "max_width": null,
       "min_height": null,
       "min_width": null,
       "object_fit": null,
       "object_position": null,
       "order": null,
       "overflow": null,
       "overflow_x": null,
       "overflow_y": null,
       "padding": null,
       "right": null,
       "top": null,
       "visibility": null,
       "width": null
      }
     },
     "edcb7ea46e4c4828afc941c12cef9ce0": {
      "model_module": "@jupyter-widgets/controls",
      "model_module_version": "1.5.0",
      "model_name": "HBoxModel",
      "state": {
       "_dom_classes": [],
       "_model_module": "@jupyter-widgets/controls",
       "_model_module_version": "1.5.0",
       "_model_name": "HBoxModel",
       "_view_count": null,
       "_view_module": "@jupyter-widgets/controls",
       "_view_module_version": "1.5.0",
       "_view_name": "HBoxView",
       "box_style": "",
       "children": [
        "IPY_MODEL_4ac65baced634bbaa4eb6abacb275caa",
        "IPY_MODEL_4854331f1ac44231ac400a231a33b7ce"
       ],
       "layout": "IPY_MODEL_36d9695093a842f681e326c968901533"
      }
     },
     "ee270925e88d4f2a872b3fd8015e5408": {
      "model_module": "@jupyter-widgets/controls",
      "model_module_version": "1.5.0",
      "model_name": "HTMLModel",
      "state": {
       "_dom_classes": [],
       "_model_module": "@jupyter-widgets/controls",
       "_model_module_version": "1.5.0",
       "_model_name": "HTMLModel",
       "_view_count": null,
       "_view_module": "@jupyter-widgets/controls",
       "_view_module_version": "1.5.0",
       "_view_name": "HTMLView",
       "description": "",
       "description_tooltip": null,
       "layout": "IPY_MODEL_565b1295831b44dc9ef1a646198b5dbc",
       "placeholder": "​",
       "style": "IPY_MODEL_726b2f64413e473b9b87ed714fad2d72",
       "value": " 3/3 [00:12&lt;00:00,  4.11s/it]"
      }
     },
     "ef5083f3ec254d97b6eee847299d7237": {
      "model_module": "@jupyter-widgets/controls",
      "model_module_version": "1.5.0",
      "model_name": "ProgressStyleModel",
      "state": {
       "_model_module": "@jupyter-widgets/controls",
       "_model_module_version": "1.5.0",
       "_model_name": "ProgressStyleModel",
       "_view_count": null,
       "_view_module": "@jupyter-widgets/base",
       "_view_module_version": "1.2.0",
       "_view_name": "StyleView",
       "bar_color": null,
       "description_width": "initial"
      }
     },
     "f5184282a9844217b67ad2097191765e": {
      "model_module": "@jupyter-widgets/controls",
      "model_module_version": "1.5.0",
      "model_name": "DescriptionStyleModel",
      "state": {
       "_model_module": "@jupyter-widgets/controls",
       "_model_module_version": "1.5.0",
       "_model_name": "DescriptionStyleModel",
       "_view_count": null,
       "_view_module": "@jupyter-widgets/base",
       "_view_module_version": "1.2.0",
       "_view_name": "StyleView",
       "description_width": ""
      }
     },
     "f543609f3ed9462088af95a972dff112": {
      "model_module": "@jupyter-widgets/controls",
      "model_module_version": "1.5.0",
      "model_name": "HBoxModel",
      "state": {
       "_dom_classes": [],
       "_model_module": "@jupyter-widgets/controls",
       "_model_module_version": "1.5.0",
       "_model_name": "HBoxModel",
       "_view_count": null,
       "_view_module": "@jupyter-widgets/controls",
       "_view_module_version": "1.5.0",
       "_view_name": "HBoxView",
       "box_style": "",
       "children": [
        "IPY_MODEL_111ca3cbcd824d9983f7109bd18a7004",
        "IPY_MODEL_9687fa5745c64924be1251ebe8b691a7"
       ],
       "layout": "IPY_MODEL_21822a92f6da40c885d6c9003724c9d6"
      }
     },
     "fd14a52c9b6c4d7fa08db510b167f80b": {
      "model_module": "@jupyter-widgets/controls",
      "model_module_version": "1.5.0",
      "model_name": "DescriptionStyleModel",
      "state": {
       "_model_module": "@jupyter-widgets/controls",
       "_model_module_version": "1.5.0",
       "_model_name": "DescriptionStyleModel",
       "_view_count": null,
       "_view_module": "@jupyter-widgets/base",
       "_view_module_version": "1.2.0",
       "_view_name": "StyleView",
       "description_width": ""
      }
     }
    },
    "version_major": 2,
    "version_minor": 0
   }
  }
 },
 "nbformat": 4,
 "nbformat_minor": 4
}
