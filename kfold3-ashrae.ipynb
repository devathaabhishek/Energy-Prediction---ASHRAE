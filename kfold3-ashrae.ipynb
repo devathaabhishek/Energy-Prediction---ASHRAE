{
 "cells": [
  {
   "cell_type": "markdown",
   "metadata": {
    "papermill": {
     "duration": 0.01486,
     "end_time": "2020-08-09T10:53:28.864023",
     "exception": false,
     "start_time": "2020-08-09T10:53:28.849163",
     "status": "completed"
    },
    "tags": []
   },
   "source": [
    "# Importing Libraries "
   ]
  },
  {
   "cell_type": "code",
   "execution_count": 1,
   "metadata": {
    "_cell_guid": "b1076dfc-b9ad-4769-8c92-a6c4dae69d19",
    "_uuid": "8f2839f25d086af736a60e9eeb907d3b93b6e0e5",
    "execution": {
     "iopub.execute_input": "2020-08-09T10:53:28.902184Z",
     "iopub.status.busy": "2020-08-09T10:53:28.901359Z",
     "iopub.status.idle": "2020-08-09T10:53:31.428786Z",
     "shell.execute_reply": "2020-08-09T10:53:31.427901Z"
    },
    "papermill": {
     "duration": 2.55053,
     "end_time": "2020-08-09T10:53:31.428924",
     "exception": false,
     "start_time": "2020-08-09T10:53:28.878394",
     "status": "completed"
    },
    "tags": []
   },
   "outputs": [],
   "source": [
    "from tqdm import tqdm_notebook as tqdm\n",
    "import numpy as np # linear algebra\n",
    "import pandas as pd # data processing, CSV file I/O (e.g. pd.read_csv)\n",
    "\n",
    "import matplotlib.pyplot as plt\n",
    "import seaborn as sns \n",
    "import statistics\n",
    "from IPython.core.display import display, HTML\n",
    "\n",
    "from math import sqrt\n",
    "from sklearn.metrics import mean_squared_error\n",
    "import warnings\n",
    "warnings.filterwarnings('ignore')\n",
    "import gc\n",
    "\n",
    "\n",
    "\n",
    "# --- models ---\n",
    "#from sklearn import preprocessing\n",
    "from sklearn.model_selection import KFold\n",
    "import lightgbm as lgb\n",
    "import xgboost as xgb\n",
    "#import catboost as cb\n",
    "from sklearn.metrics import mean_squared_error\n",
    "from math import sqrt\n",
    "from tqdm import tqdm\n",
    "import joblib\n",
    "import pickle"
   ]
  },
  {
   "cell_type": "markdown",
   "metadata": {
    "papermill": {
     "duration": 0.012771,
     "end_time": "2020-08-09T10:53:31.454818",
     "exception": false,
     "start_time": "2020-08-09T10:53:31.442047",
     "status": "completed"
    },
    "tags": []
   },
   "source": [
    "# Reduction of Memory :"
   ]
  },
  {
   "cell_type": "code",
   "execution_count": 2,
   "metadata": {
    "_cell_guid": "79c7e3d0-c299-4dcb-8224-4455121ee9b0",
    "_uuid": "d629ff2d2480ee46fbb7e2d37f6b5fab8052498a",
    "execution": {
     "iopub.execute_input": "2020-08-09T10:53:31.505413Z",
     "iopub.status.busy": "2020-08-09T10:53:31.489100Z",
     "iopub.status.idle": "2020-08-09T10:53:31.511814Z",
     "shell.execute_reply": "2020-08-09T10:53:31.512524Z"
    },
    "papermill": {
     "duration": 0.045447,
     "end_time": "2020-08-09T10:53:31.512717",
     "exception": false,
     "start_time": "2020-08-09T10:53:31.467270",
     "status": "completed"
    },
    "tags": []
   },
   "outputs": [],
   "source": [
    "# Original code from https://www.kaggle.com/gemartin/load-data-reduce-memory-usage by @gemartin\n",
    "# Modified to support timestamp type, categorical type\n",
    "# Modified to add option to use float16 or not. feather format does not support float16.\n",
    "from pandas.api.types import is_datetime64_any_dtype as is_datetime\n",
    "from pandas.api.types import is_categorical_dtype\n",
    "\n",
    "def memory_reduction(df, use_float16=False):\n",
    "    \"\"\" iterate through all the columns of a dataframe and modify the data type\n",
    "        to reduce memory usage.        \n",
    "    \"\"\"\n",
    "    start_mem = df.memory_usage().sum() / 1024**2\n",
    "    print('Memory usage of dataframe is {:.2f} MB'.format(start_mem))\n",
    "    \n",
    "    for col in df.columns:\n",
    "        if is_datetime(df[col]) or is_categorical_dtype(df[col]):\n",
    "            # skip datetime type or categorical type\n",
    "            continue\n",
    "        col_type = df[col].dtype\n",
    "        \n",
    "        if col_type != object:\n",
    "            c_min = df[col].min()\n",
    "            c_max = df[col].max()\n",
    "            if str(col_type)[:3] == 'int':\n",
    "                if c_min > np.iinfo(np.int8).min and c_max < np.iinfo(np.int8).max:\n",
    "                    df[col] = df[col].astype(np.int8)\n",
    "                elif c_min > np.iinfo(np.int16).min and c_max < np.iinfo(np.int16).max:\n",
    "                    df[col] = df[col].astype(np.int16)\n",
    "                elif c_min > np.iinfo(np.int32).min and c_max < np.iinfo(np.int32).max:\n",
    "                    df[col] = df[col].astype(np.int32)\n",
    "                elif c_min > np.iinfo(np.int64).min and c_max < np.iinfo(np.int64).max:\n",
    "                    df[col] = df[col].astype(np.int64)  \n",
    "            else:\n",
    "                if use_float16 and c_min > np.finfo(np.float16).min and c_max < np.finfo(np.float16).max:\n",
    "                    df[col] = df[col].astype(np.float16)\n",
    "                elif c_min > np.finfo(np.float32).min and c_max < np.finfo(np.float32).max:\n",
    "                    df[col] = df[col].astype(np.float32)\n",
    "                else:\n",
    "                    df[col] = df[col].astype(np.float64)\n",
    "        else:\n",
    "            df[col] = df[col].astype('category')\n",
    "\n",
    "    end_mem = df.memory_usage().sum() / 1024**2\n",
    "    print('Memory usage after optimization is: {:.2f} MB'\n",
    "          .format(end_mem))\n",
    "    print('Decreased by {:.1f}%'.format(100 * (start_mem - end_mem) / start_mem))\n",
    "    \n",
    "    return df"
   ]
  },
  {
   "cell_type": "markdown",
   "metadata": {
    "papermill": {
     "duration": 0.012399,
     "end_time": "2020-08-09T10:53:31.537725",
     "exception": false,
     "start_time": "2020-08-09T10:53:31.525326",
     "status": "completed"
    },
    "tags": []
   },
   "source": [
    "# Reading Data :"
   ]
  },
  {
   "cell_type": "code",
   "execution_count": 3,
   "metadata": {
    "execution": {
     "iopub.execute_input": "2020-08-09T10:53:31.568729Z",
     "iopub.status.busy": "2020-08-09T10:53:31.567920Z",
     "iopub.status.idle": "2020-08-09T10:53:33.735349Z",
     "shell.execute_reply": "2020-08-09T10:53:33.734651Z"
    },
    "papermill": {
     "duration": 2.184871,
     "end_time": "2020-08-09T10:53:33.735513",
     "exception": false,
     "start_time": "2020-08-09T10:53:31.550642",
     "status": "completed"
    },
    "tags": []
   },
   "outputs": [],
   "source": [
    "merged_train = pd.read_feather('../input/energy-feature-engineering-2/merged_train.feather')"
   ]
  },
  {
   "cell_type": "code",
   "execution_count": 4,
   "metadata": {
    "execution": {
     "iopub.execute_input": "2020-08-09T10:53:33.768587Z",
     "iopub.status.busy": "2020-08-09T10:53:33.767763Z",
     "iopub.status.idle": "2020-08-09T10:53:37.569944Z",
     "shell.execute_reply": "2020-08-09T10:53:37.570548Z"
    },
    "papermill": {
     "duration": 3.822512,
     "end_time": "2020-08-09T10:53:37.570717",
     "exception": false,
     "start_time": "2020-08-09T10:53:33.748205",
     "status": "completed"
    },
    "tags": []
   },
   "outputs": [
    {
     "data": {
      "text/html": [
       "<div>\n",
       "<style scoped>\n",
       "    .dataframe tbody tr th:only-of-type {\n",
       "        vertical-align: middle;\n",
       "    }\n",
       "\n",
       "    .dataframe tbody tr th {\n",
       "        vertical-align: top;\n",
       "    }\n",
       "\n",
       "    .dataframe thead th {\n",
       "        text-align: right;\n",
       "    }\n",
       "</style>\n",
       "<table border=\"1\" class=\"dataframe\">\n",
       "  <thead>\n",
       "    <tr style=\"text-align: right;\">\n",
       "      <th></th>\n",
       "      <th>index</th>\n",
       "      <th>building_id</th>\n",
       "      <th>meter</th>\n",
       "      <th>timestamp</th>\n",
       "      <th>meter_reading_log1p</th>\n",
       "      <th>weekend</th>\n",
       "      <th>site_id</th>\n",
       "      <th>primary_use</th>\n",
       "      <th>square_feet</th>\n",
       "      <th>air_temperature</th>\n",
       "      <th>cloud_coverage</th>\n",
       "      <th>dew_temperature</th>\n",
       "      <th>precip_depth_1_hr</th>\n",
       "      <th>IsHoliday</th>\n",
       "      <th>month_group</th>\n",
       "      <th>horizsolar</th>\n",
       "      <th>Sensible_Heat</th>\n",
       "      <th>relative_humidity</th>\n",
       "    </tr>\n",
       "  </thead>\n",
       "  <tbody>\n",
       "    <tr>\n",
       "      <th>0</th>\n",
       "      <td>0</td>\n",
       "      <td>105</td>\n",
       "      <td>0</td>\n",
       "      <td>2016-01-01 00:00:00</td>\n",
       "      <td>3.190624</td>\n",
       "      <td>4</td>\n",
       "      <td>1</td>\n",
       "      <td>0</td>\n",
       "      <td>10.832181</td>\n",
       "      <td>3.8</td>\n",
       "      <td>0.0</td>\n",
       "      <td>2.4</td>\n",
       "      <td>NaN</td>\n",
       "      <td>1.0</td>\n",
       "      <td>1</td>\n",
       "      <td>0.0</td>\n",
       "      <td>0.040676</td>\n",
       "      <td>90.575539</td>\n",
       "    </tr>\n",
       "    <tr>\n",
       "      <th>1</th>\n",
       "      <td>1</td>\n",
       "      <td>106</td>\n",
       "      <td>0</td>\n",
       "      <td>2016-01-01 00:00:00</td>\n",
       "      <td>0.318163</td>\n",
       "      <td>4</td>\n",
       "      <td>1</td>\n",
       "      <td>0</td>\n",
       "      <td>8.589514</td>\n",
       "      <td>3.8</td>\n",
       "      <td>0.0</td>\n",
       "      <td>2.4</td>\n",
       "      <td>NaN</td>\n",
       "      <td>1.0</td>\n",
       "      <td>1</td>\n",
       "      <td>0.0</td>\n",
       "      <td>0.032254</td>\n",
       "      <td>90.575539</td>\n",
       "    </tr>\n",
       "    <tr>\n",
       "      <th>2</th>\n",
       "      <td>2</td>\n",
       "      <td>106</td>\n",
       "      <td>3</td>\n",
       "      <td>2016-01-01 00:00:00</td>\n",
       "      <td>0.000000</td>\n",
       "      <td>4</td>\n",
       "      <td>1</td>\n",
       "      <td>0</td>\n",
       "      <td>8.589514</td>\n",
       "      <td>3.8</td>\n",
       "      <td>0.0</td>\n",
       "      <td>2.4</td>\n",
       "      <td>NaN</td>\n",
       "      <td>1.0</td>\n",
       "      <td>1</td>\n",
       "      <td>0.0</td>\n",
       "      <td>0.032254</td>\n",
       "      <td>90.575539</td>\n",
       "    </tr>\n",
       "    <tr>\n",
       "      <th>3</th>\n",
       "      <td>3</td>\n",
       "      <td>107</td>\n",
       "      <td>0</td>\n",
       "      <td>2016-01-01 00:00:00</td>\n",
       "      <td>5.171529</td>\n",
       "      <td>4</td>\n",
       "      <td>1</td>\n",
       "      <td>0</td>\n",
       "      <td>11.487947</td>\n",
       "      <td>3.8</td>\n",
       "      <td>0.0</td>\n",
       "      <td>2.4</td>\n",
       "      <td>NaN</td>\n",
       "      <td>1.0</td>\n",
       "      <td>1</td>\n",
       "      <td>0.0</td>\n",
       "      <td>0.043138</td>\n",
       "      <td>90.575539</td>\n",
       "    </tr>\n",
       "    <tr>\n",
       "      <th>4</th>\n",
       "      <td>4</td>\n",
       "      <td>108</td>\n",
       "      <td>0</td>\n",
       "      <td>2016-01-01 00:00:00</td>\n",
       "      <td>4.524668</td>\n",
       "      <td>4</td>\n",
       "      <td>1</td>\n",
       "      <td>0</td>\n",
       "      <td>11.309352</td>\n",
       "      <td>3.8</td>\n",
       "      <td>0.0</td>\n",
       "      <td>2.4</td>\n",
       "      <td>NaN</td>\n",
       "      <td>1.0</td>\n",
       "      <td>1</td>\n",
       "      <td>0.0</td>\n",
       "      <td>0.042468</td>\n",
       "      <td>90.575539</td>\n",
       "    </tr>\n",
       "    <tr>\n",
       "      <th>...</th>\n",
       "      <td>...</td>\n",
       "      <td>...</td>\n",
       "      <td>...</td>\n",
       "      <td>...</td>\n",
       "      <td>...</td>\n",
       "      <td>...</td>\n",
       "      <td>...</td>\n",
       "      <td>...</td>\n",
       "      <td>...</td>\n",
       "      <td>...</td>\n",
       "      <td>...</td>\n",
       "      <td>...</td>\n",
       "      <td>...</td>\n",
       "      <td>...</td>\n",
       "      <td>...</td>\n",
       "      <td>...</td>\n",
       "      <td>...</td>\n",
       "      <td>...</td>\n",
       "    </tr>\n",
       "    <tr>\n",
       "      <th>19852315</th>\n",
       "      <td>19852315</td>\n",
       "      <td>1444</td>\n",
       "      <td>0</td>\n",
       "      <td>2016-12-31 23:00:00</td>\n",
       "      <td>2.277267</td>\n",
       "      <td>5</td>\n",
       "      <td>15</td>\n",
       "      <td>3</td>\n",
       "      <td>9.884305</td>\n",
       "      <td>NaN</td>\n",
       "      <td>NaN</td>\n",
       "      <td>NaN</td>\n",
       "      <td>NaN</td>\n",
       "      <td>NaN</td>\n",
       "      <td>3</td>\n",
       "      <td>0.0</td>\n",
       "      <td>NaN</td>\n",
       "      <td>NaN</td>\n",
       "    </tr>\n",
       "    <tr>\n",
       "      <th>19852316</th>\n",
       "      <td>19852316</td>\n",
       "      <td>1445</td>\n",
       "      <td>0</td>\n",
       "      <td>2016-12-31 23:00:00</td>\n",
       "      <td>1.762159</td>\n",
       "      <td>5</td>\n",
       "      <td>15</td>\n",
       "      <td>0</td>\n",
       "      <td>8.366138</td>\n",
       "      <td>NaN</td>\n",
       "      <td>NaN</td>\n",
       "      <td>NaN</td>\n",
       "      <td>NaN</td>\n",
       "      <td>NaN</td>\n",
       "      <td>3</td>\n",
       "      <td>0.0</td>\n",
       "      <td>NaN</td>\n",
       "      <td>NaN</td>\n",
       "    </tr>\n",
       "    <tr>\n",
       "      <th>19852317</th>\n",
       "      <td>19852317</td>\n",
       "      <td>1446</td>\n",
       "      <td>0</td>\n",
       "      <td>2016-12-31 23:00:00</td>\n",
       "      <td>0.000000</td>\n",
       "      <td>5</td>\n",
       "      <td>15</td>\n",
       "      <td>3</td>\n",
       "      <td>9.329545</td>\n",
       "      <td>NaN</td>\n",
       "      <td>NaN</td>\n",
       "      <td>NaN</td>\n",
       "      <td>NaN</td>\n",
       "      <td>NaN</td>\n",
       "      <td>3</td>\n",
       "      <td>0.0</td>\n",
       "      <td>NaN</td>\n",
       "      <td>NaN</td>\n",
       "    </tr>\n",
       "    <tr>\n",
       "      <th>19852318</th>\n",
       "      <td>19852318</td>\n",
       "      <td>1447</td>\n",
       "      <td>0</td>\n",
       "      <td>2016-12-31 23:00:00</td>\n",
       "      <td>5.078761</td>\n",
       "      <td>5</td>\n",
       "      <td>15</td>\n",
       "      <td>1</td>\n",
       "      <td>10.301458</td>\n",
       "      <td>NaN</td>\n",
       "      <td>NaN</td>\n",
       "      <td>NaN</td>\n",
       "      <td>NaN</td>\n",
       "      <td>NaN</td>\n",
       "      <td>3</td>\n",
       "      <td>0.0</td>\n",
       "      <td>NaN</td>\n",
       "      <td>NaN</td>\n",
       "    </tr>\n",
       "    <tr>\n",
       "      <th>19852319</th>\n",
       "      <td>19852319</td>\n",
       "      <td>1448</td>\n",
       "      <td>0</td>\n",
       "      <td>2016-12-31 23:00:00</td>\n",
       "      <td>1.348073</td>\n",
       "      <td>5</td>\n",
       "      <td>15</td>\n",
       "      <td>2</td>\n",
       "      <td>11.432496</td>\n",
       "      <td>NaN</td>\n",
       "      <td>NaN</td>\n",
       "      <td>NaN</td>\n",
       "      <td>NaN</td>\n",
       "      <td>NaN</td>\n",
       "      <td>3</td>\n",
       "      <td>0.0</td>\n",
       "      <td>NaN</td>\n",
       "      <td>NaN</td>\n",
       "    </tr>\n",
       "  </tbody>\n",
       "</table>\n",
       "<p>19852320 rows × 18 columns</p>\n",
       "</div>"
      ],
      "text/plain": [
       "             index  building_id  meter           timestamp  \\\n",
       "0                0          105      0 2016-01-01 00:00:00   \n",
       "1                1          106      0 2016-01-01 00:00:00   \n",
       "2                2          106      3 2016-01-01 00:00:00   \n",
       "3                3          107      0 2016-01-01 00:00:00   \n",
       "4                4          108      0 2016-01-01 00:00:00   \n",
       "...            ...          ...    ...                 ...   \n",
       "19852315  19852315         1444      0 2016-12-31 23:00:00   \n",
       "19852316  19852316         1445      0 2016-12-31 23:00:00   \n",
       "19852317  19852317         1446      0 2016-12-31 23:00:00   \n",
       "19852318  19852318         1447      0 2016-12-31 23:00:00   \n",
       "19852319  19852319         1448      0 2016-12-31 23:00:00   \n",
       "\n",
       "          meter_reading_log1p  weekend  site_id  primary_use  square_feet  \\\n",
       "0                    3.190624        4        1            0    10.832181   \n",
       "1                    0.318163        4        1            0     8.589514   \n",
       "2                    0.000000        4        1            0     8.589514   \n",
       "3                    5.171529        4        1            0    11.487947   \n",
       "4                    4.524668        4        1            0    11.309352   \n",
       "...                       ...      ...      ...          ...          ...   \n",
       "19852315             2.277267        5       15            3     9.884305   \n",
       "19852316             1.762159        5       15            0     8.366138   \n",
       "19852317             0.000000        5       15            3     9.329545   \n",
       "19852318             5.078761        5       15            1    10.301458   \n",
       "19852319             1.348073        5       15            2    11.432496   \n",
       "\n",
       "          air_temperature  cloud_coverage  dew_temperature  precip_depth_1_hr  \\\n",
       "0                     3.8             0.0              2.4                NaN   \n",
       "1                     3.8             0.0              2.4                NaN   \n",
       "2                     3.8             0.0              2.4                NaN   \n",
       "3                     3.8             0.0              2.4                NaN   \n",
       "4                     3.8             0.0              2.4                NaN   \n",
       "...                   ...             ...              ...                ...   \n",
       "19852315              NaN             NaN              NaN                NaN   \n",
       "19852316              NaN             NaN              NaN                NaN   \n",
       "19852317              NaN             NaN              NaN                NaN   \n",
       "19852318              NaN             NaN              NaN                NaN   \n",
       "19852319              NaN             NaN              NaN                NaN   \n",
       "\n",
       "          IsHoliday  month_group  horizsolar  Sensible_Heat  relative_humidity  \n",
       "0               1.0            1         0.0       0.040676          90.575539  \n",
       "1               1.0            1         0.0       0.032254          90.575539  \n",
       "2               1.0            1         0.0       0.032254          90.575539  \n",
       "3               1.0            1         0.0       0.043138          90.575539  \n",
       "4               1.0            1         0.0       0.042468          90.575539  \n",
       "...             ...          ...         ...            ...                ...  \n",
       "19852315        NaN            3         0.0            NaN                NaN  \n",
       "19852316        NaN            3         0.0            NaN                NaN  \n",
       "19852317        NaN            3         0.0            NaN                NaN  \n",
       "19852318        NaN            3         0.0            NaN                NaN  \n",
       "19852319        NaN            3         0.0            NaN                NaN  \n",
       "\n",
       "[19852320 rows x 18 columns]"
      ]
     },
     "execution_count": 4,
     "metadata": {},
     "output_type": "execute_result"
    }
   ],
   "source": [
    "merged_train.sort_values(\"timestamp\")\n",
    "merged_train.reset_index(drop=True)         "
   ]
  },
  {
   "cell_type": "code",
   "execution_count": 5,
   "metadata": {
    "execution": {
     "iopub.execute_input": "2020-08-09T10:53:37.603861Z",
     "iopub.status.busy": "2020-08-09T10:53:37.602818Z",
     "iopub.status.idle": "2020-08-09T10:53:37.607723Z",
     "shell.execute_reply": "2020-08-09T10:53:37.607053Z"
    },
    "papermill": {
     "duration": 0.023855,
     "end_time": "2020-08-09T10:53:37.607857",
     "exception": false,
     "start_time": "2020-08-09T10:53:37.584002",
     "status": "completed"
    },
    "tags": []
   },
   "outputs": [
    {
     "data": {
      "text/plain": [
       "Index(['index', 'building_id', 'meter', 'timestamp', 'meter_reading_log1p',\n",
       "       'weekend', 'site_id', 'primary_use', 'square_feet', 'air_temperature',\n",
       "       'cloud_coverage', 'dew_temperature', 'precip_depth_1_hr', 'IsHoliday',\n",
       "       'month_group', 'horizsolar', 'Sensible_Heat', 'relative_humidity'],\n",
       "      dtype='object')"
      ]
     },
     "execution_count": 5,
     "metadata": {},
     "output_type": "execute_result"
    }
   ],
   "source": [
    "merged_train.columns"
   ]
  },
  {
   "cell_type": "code",
   "execution_count": 6,
   "metadata": {
    "execution": {
     "iopub.execute_input": "2020-08-09T10:53:37.641034Z",
     "iopub.status.busy": "2020-08-09T10:53:37.640205Z",
     "iopub.status.idle": "2020-08-09T10:53:39.583861Z",
     "shell.execute_reply": "2020-08-09T10:53:39.583039Z"
    },
    "papermill": {
     "duration": 1.962899,
     "end_time": "2020-08-09T10:53:39.583997",
     "exception": false,
     "start_time": "2020-08-09T10:53:37.621098",
     "status": "completed"
    },
    "tags": []
   },
   "outputs": [],
   "source": [
    "merged_train[\"hour\"] = merged_train[\"timestamp\"].dt.hour #converting timestamp to hour"
   ]
  },
  {
   "cell_type": "code",
   "execution_count": 7,
   "metadata": {
    "execution": {
     "iopub.execute_input": "2020-08-09T10:53:39.619048Z",
     "iopub.status.busy": "2020-08-09T10:53:39.617387Z",
     "iopub.status.idle": "2020-08-09T10:53:42.131558Z",
     "shell.execute_reply": "2020-08-09T10:53:42.130149Z"
    },
    "papermill": {
     "duration": 2.534479,
     "end_time": "2020-08-09T10:53:42.131742",
     "exception": false,
     "start_time": "2020-08-09T10:53:39.597263",
     "status": "completed"
    },
    "tags": []
   },
   "outputs": [],
   "source": [
    "merged_train = merged_train.drop(['index',\"timestamp\"],axis=1)"
   ]
  },
  {
   "cell_type": "code",
   "execution_count": 8,
   "metadata": {
    "execution": {
     "iopub.execute_input": "2020-08-09T10:53:43.782777Z",
     "iopub.status.busy": "2020-08-09T10:53:42.394554Z",
     "iopub.status.idle": "2020-08-09T10:53:43.805750Z",
     "shell.execute_reply": "2020-08-09T10:53:43.802338Z"
    },
    "papermill": {
     "duration": 1.63844,
     "end_time": "2020-08-09T10:53:43.806128",
     "exception": false,
     "start_time": "2020-08-09T10:53:42.167688",
     "status": "completed"
    },
    "tags": []
   },
   "outputs": [],
   "source": [
    "merged_train = merged_train.drop(['month_group','Sensible_Heat', 'relative_humidity'],axis=1)"
   ]
  },
  {
   "cell_type": "code",
   "execution_count": 9,
   "metadata": {
    "execution": {
     "iopub.execute_input": "2020-08-09T10:53:43.944569Z",
     "iopub.status.busy": "2020-08-09T10:53:43.940459Z",
     "iopub.status.idle": "2020-08-09T10:53:43.960348Z",
     "shell.execute_reply": "2020-08-09T10:53:43.963301Z"
    },
    "papermill": {
     "duration": 0.103757,
     "end_time": "2020-08-09T10:53:43.964162",
     "exception": false,
     "start_time": "2020-08-09T10:53:43.860405",
     "status": "completed"
    },
    "tags": []
   },
   "outputs": [
    {
     "data": {
      "text/plain": [
       "Index(['building_id', 'meter', 'meter_reading_log1p', 'weekend', 'site_id',\n",
       "       'primary_use', 'square_feet', 'air_temperature', 'cloud_coverage',\n",
       "       'dew_temperature', 'precip_depth_1_hr', 'IsHoliday', 'horizsolar',\n",
       "       'hour'],\n",
       "      dtype='object')"
      ]
     },
     "execution_count": 9,
     "metadata": {},
     "output_type": "execute_result"
    }
   ],
   "source": [
    "merged_train.columns"
   ]
  },
  {
   "cell_type": "code",
   "execution_count": 10,
   "metadata": {
    "execution": {
     "iopub.execute_input": "2020-08-09T10:53:44.928064Z",
     "iopub.status.busy": "2020-08-09T10:53:44.924767Z",
     "iopub.status.idle": "2020-08-09T10:53:44.934058Z",
     "shell.execute_reply": "2020-08-09T10:53:44.931637Z"
    },
    "papermill": {
     "duration": 0.914617,
     "end_time": "2020-08-09T10:53:44.934251",
     "exception": false,
     "start_time": "2020-08-09T10:53:44.019634",
     "status": "completed"
    },
    "tags": []
   },
   "outputs": [],
   "source": [
    "target = merged_train['meter_reading_log1p']\n",
    "merged_train = merged_train.drop(['meter_reading_log1p'], axis=1)"
   ]
  },
  {
   "cell_type": "markdown",
   "metadata": {
    "papermill": {
     "duration": 0.04314,
     "end_time": "2020-08-09T10:53:45.021031",
     "exception": false,
     "start_time": "2020-08-09T10:53:44.977891",
     "status": "completed"
    },
    "tags": []
   },
   "source": [
    "# Training data using LGBM :"
   ]
  },
  {
   "cell_type": "code",
   "execution_count": 11,
   "metadata": {
    "execution": {
     "iopub.execute_input": "2020-08-09T10:53:45.122319Z",
     "iopub.status.busy": "2020-08-09T10:53:45.121184Z",
     "iopub.status.idle": "2020-08-09T11:19:14.945193Z",
     "shell.execute_reply": "2020-08-09T11:19:14.946326Z"
    },
    "papermill": {
     "duration": 1529.89691,
     "end_time": "2020-08-09T11:19:14.947663",
     "exception": false,
     "start_time": "2020-08-09T10:53:45.050753",
     "status": "completed"
    },
    "tags": []
   },
   "outputs": [
    {
     "name": "stdout",
     "output_type": "stream",
     "text": [
      "Training until validation scores don't improve for 50 rounds\n",
      "[25]\ttraining's rmse: 1.08239\tvalid_1's rmse: 1.24094\n",
      "[50]\ttraining's rmse: 0.881653\tvalid_1's rmse: 1.13036\n",
      "[75]\ttraining's rmse: 0.815702\tvalid_1's rmse: 1.11899\n",
      "[100]\ttraining's rmse: 0.776132\tvalid_1's rmse: 1.1187\n",
      "[125]\ttraining's rmse: 0.745911\tvalid_1's rmse: 1.1206\n",
      "Early stopping, best iteration is:\n",
      "[83]\ttraining's rmse: 0.801443\tvalid_1's rmse: 1.11799\n",
      "Training until validation scores don't improve for 50 rounds\n",
      "[25]\ttraining's rmse: 1.08648\tvalid_1's rmse: 1.19972\n",
      "[50]\ttraining's rmse: 0.890567\tvalid_1's rmse: 1.06515\n",
      "[75]\ttraining's rmse: 0.834016\tvalid_1's rmse: 1.04061\n",
      "[100]\ttraining's rmse: 0.802273\tvalid_1's rmse: 1.03658\n",
      "[125]\ttraining's rmse: 0.775709\tvalid_1's rmse: 1.03519\n",
      "[150]\ttraining's rmse: 0.75793\tvalid_1's rmse: 1.03322\n",
      "[175]\ttraining's rmse: 0.744338\tvalid_1's rmse: 1.03238\n",
      "[200]\ttraining's rmse: 0.734564\tvalid_1's rmse: 1.03158\n",
      "[225]\ttraining's rmse: 0.726332\tvalid_1's rmse: 1.03151\n",
      "[250]\ttraining's rmse: 0.719382\tvalid_1's rmse: 1.03155\n",
      "[275]\ttraining's rmse: 0.712478\tvalid_1's rmse: 1.03167\n",
      "Early stopping, best iteration is:\n",
      "[231]\ttraining's rmse: 0.724807\tvalid_1's rmse: 1.0313\n",
      "Training until validation scores don't improve for 50 rounds\n",
      "[25]\ttraining's rmse: 1.0539\tvalid_1's rmse: 1.251\n",
      "[50]\ttraining's rmse: 0.840146\tvalid_1's rmse: 1.14982\n",
      "[75]\ttraining's rmse: 0.773979\tvalid_1's rmse: 1.14388\n",
      "[100]\ttraining's rmse: 0.734662\tvalid_1's rmse: 1.14915\n",
      "Early stopping, best iteration is:\n",
      "[67]\ttraining's rmse: 0.788332\tvalid_1's rmse: 1.1436\n"
     ]
    }
   ],
   "source": [
    "#https://www.kaggle.com/gunesevitan/ashrae-lightgbm-1-048-no-leak\n",
    "\n",
    "cat_features = [\"building_id\", \"site_id\", \"meter\", \"primary_use\", \"weekend\",'IsHoliday']#, 'month_group'\n",
    "params = {\n",
    "    \"objective\": \"regression\",\"boosting\": \"gbdt\",\"num_leaves\": 1280,\"learning_rate\": 0.05,\n",
    "    \"feature_fraction\": 0.85,\"reg_lambda\": 2,\"metric\": \"rmse\",\"n_estimators\":2000\n",
    "}\n",
    "\n",
    "kf = KFold(n_splits=3)\n",
    "models = []\n",
    "i = 0\n",
    "for train_index,valid_index in kf.split(merged_train):\n",
    "    xx_train = merged_train.loc[train_index]\n",
    "    yy_train = target.loc[train_index]\n",
    "    \n",
    "    xx_valid = merged_train.loc[valid_index]\n",
    "    yy_valid = target.loc[valid_index]\n",
    "    \n",
    "    d_training = lgb.Dataset(xx_train, label=yy_train,categorical_feature=cat_features, free_raw_data=False)\n",
    "    d_valid = lgb.Dataset(xx_valid, label=yy_valid,categorical_feature=cat_features, free_raw_data=False)\n",
    "    \n",
    "    model = lgb.train(params, train_set=d_training, num_boost_round=1000, valid_sets=[d_training,d_valid], verbose_eval=25, early_stopping_rounds=50)\n",
    "    filename = 'lgb_reg_new'+ str(i)+'.sav'\n",
    "    pickle.dump(model, open(filename, 'wb'))\n",
    "    i +=1\n",
    "    models.append(model)\n",
    "    del xx_train, yy_train, xx_valid, yy_valid, d_training, d_valid\n",
    "    gc.collect()        "
   ]
  },
  {
   "cell_type": "code",
   "execution_count": 12,
   "metadata": {
    "execution": {
     "iopub.execute_input": "2020-08-09T11:19:15.008487Z",
     "iopub.status.busy": "2020-08-09T11:19:15.007341Z",
     "iopub.status.idle": "2020-08-09T11:19:15.012256Z",
     "shell.execute_reply": "2020-08-09T11:19:15.011372Z"
    },
    "papermill": {
     "duration": 0.048378,
     "end_time": "2020-08-09T11:19:15.012412",
     "exception": false,
     "start_time": "2020-08-09T11:19:14.964034",
     "status": "completed"
    },
    "tags": []
   },
   "outputs": [],
   "source": [
    "del merged_train                                              "
   ]
  },
  {
   "cell_type": "code",
   "execution_count": 13,
   "metadata": {
    "execution": {
     "iopub.execute_input": "2020-08-09T11:19:15.051562Z",
     "iopub.status.busy": "2020-08-09T11:19:15.050752Z",
     "iopub.status.idle": "2020-08-09T11:19:15.053475Z",
     "shell.execute_reply": "2020-08-09T11:19:15.054043Z"
    },
    "papermill": {
     "duration": 0.024985,
     "end_time": "2020-08-09T11:19:15.054236",
     "exception": false,
     "start_time": "2020-08-09T11:19:15.029251",
     "status": "completed"
    },
    "tags": []
   },
   "outputs": [],
   "source": [
    "del model"
   ]
  },
  {
   "cell_type": "markdown",
   "metadata": {
    "papermill": {
     "duration": 0.015455,
     "end_time": "2020-08-09T11:19:15.085834",
     "exception": false,
     "start_time": "2020-08-09T11:19:15.070379",
     "status": "completed"
    },
    "tags": []
   },
   "source": [
    "# Reading test data :"
   ]
  },
  {
   "cell_type": "code",
   "execution_count": 14,
   "metadata": {
    "execution": {
     "iopub.execute_input": "2020-08-09T11:19:15.123523Z",
     "iopub.status.busy": "2020-08-09T11:19:15.122620Z",
     "iopub.status.idle": "2020-08-09T11:19:17.417582Z",
     "shell.execute_reply": "2020-08-09T11:19:17.416813Z"
    },
    "papermill": {
     "duration": 2.316347,
     "end_time": "2020-08-09T11:19:17.417725",
     "exception": false,
     "start_time": "2020-08-09T11:19:15.101378",
     "status": "completed"
    },
    "tags": []
   },
   "outputs": [],
   "source": [
    "merged_test = pd.read_feather('../input/energy-feature-engineering-2/merged_test.feather')    "
   ]
  },
  {
   "cell_type": "code",
   "execution_count": 15,
   "metadata": {
    "execution": {
     "iopub.execute_input": "2020-08-09T11:19:17.456039Z",
     "iopub.status.busy": "2020-08-09T11:19:17.455211Z",
     "iopub.status.idle": "2020-08-09T11:19:21.519918Z",
     "shell.execute_reply": "2020-08-09T11:19:21.519214Z"
    },
    "papermill": {
     "duration": 4.08656,
     "end_time": "2020-08-09T11:19:21.520056",
     "exception": false,
     "start_time": "2020-08-09T11:19:17.433496",
     "status": "completed"
    },
    "tags": []
   },
   "outputs": [],
   "source": [
    "merged_test[\"hour\"] = merged_test[\"timestamp\"].dt.hour"
   ]
  },
  {
   "cell_type": "code",
   "execution_count": 16,
   "metadata": {
    "execution": {
     "iopub.execute_input": "2020-08-09T11:19:21.558240Z",
     "iopub.status.busy": "2020-08-09T11:19:21.557254Z",
     "iopub.status.idle": "2020-08-09T11:19:21.562338Z",
     "shell.execute_reply": "2020-08-09T11:19:21.561615Z"
    },
    "papermill": {
     "duration": 0.026729,
     "end_time": "2020-08-09T11:19:21.562487",
     "exception": false,
     "start_time": "2020-08-09T11:19:21.535758",
     "status": "completed"
    },
    "tags": []
   },
   "outputs": [
    {
     "data": {
      "text/plain": [
       "Index(['index', 'row_id', 'building_id', 'meter', 'timestamp', 'weekend',\n",
       "       'site_id', 'primary_use', 'square_feet', 'air_temperature',\n",
       "       'cloud_coverage', 'dew_temperature', 'precip_depth_1_hr', 'IsHoliday',\n",
       "       'month_group', 'horizsolar', 'Sensible_Heat', 'relative_humidity',\n",
       "       'hour'],\n",
       "      dtype='object')"
      ]
     },
     "execution_count": 16,
     "metadata": {},
     "output_type": "execute_result"
    }
   ],
   "source": [
    "merged_test.columns"
   ]
  },
  {
   "cell_type": "code",
   "execution_count": 17,
   "metadata": {
    "execution": {
     "iopub.execute_input": "2020-08-09T11:19:21.601649Z",
     "iopub.status.busy": "2020-08-09T11:19:21.600837Z",
     "iopub.status.idle": "2020-08-09T11:19:24.227818Z",
     "shell.execute_reply": "2020-08-09T11:19:24.227032Z"
    },
    "papermill": {
     "duration": 2.649548,
     "end_time": "2020-08-09T11:19:24.227972",
     "exception": false,
     "start_time": "2020-08-09T11:19:21.578424",
     "status": "completed"
    },
    "tags": []
   },
   "outputs": [],
   "source": [
    "merged_test = merged_test.drop(['index', 'row_id','timestamp'],axis=1)"
   ]
  },
  {
   "cell_type": "code",
   "execution_count": 18,
   "metadata": {
    "execution": {
     "iopub.execute_input": "2020-08-09T11:19:25.210561Z",
     "iopub.status.busy": "2020-08-09T11:19:24.986351Z",
     "iopub.status.idle": "2020-08-09T11:19:25.223144Z",
     "shell.execute_reply": "2020-08-09T11:19:25.222274Z"
    },
    "papermill": {
     "duration": 0.979079,
     "end_time": "2020-08-09T11:19:25.223285",
     "exception": false,
     "start_time": "2020-08-09T11:19:24.244206",
     "status": "completed"
    },
    "tags": []
   },
   "outputs": [],
   "source": [
    "merged_test = merged_test.drop(['month_group','Sensible_Heat', 'relative_humidity'],axis=1)"
   ]
  },
  {
   "cell_type": "code",
   "execution_count": 19,
   "metadata": {
    "execution": {
     "iopub.execute_input": "2020-08-09T11:19:25.262968Z",
     "iopub.status.busy": "2020-08-09T11:19:25.261794Z",
     "iopub.status.idle": "2020-08-09T11:19:25.267195Z",
     "shell.execute_reply": "2020-08-09T11:19:25.267927Z"
    },
    "papermill": {
     "duration": 0.02808,
     "end_time": "2020-08-09T11:19:25.268124",
     "exception": false,
     "start_time": "2020-08-09T11:19:25.240044",
     "status": "completed"
    },
    "tags": []
   },
   "outputs": [
    {
     "data": {
      "text/plain": [
       "(41697600, 13)"
      ]
     },
     "execution_count": 19,
     "metadata": {},
     "output_type": "execute_result"
    }
   ],
   "source": [
    "merged_test.shape"
   ]
  },
  {
   "cell_type": "markdown",
   "metadata": {
    "papermill": {
     "duration": 0.015934,
     "end_time": "2020-08-09T11:19:25.300603",
     "exception": false,
     "start_time": "2020-08-09T11:19:25.284669",
     "status": "completed"
    },
    "tags": []
   },
   "source": [
    "# Prediction of Test data :"
   ]
  },
  {
   "cell_type": "code",
   "execution_count": 20,
   "metadata": {
    "execution": {
     "iopub.execute_input": "2020-08-09T11:19:25.344164Z",
     "iopub.status.busy": "2020-08-09T11:19:25.342398Z",
     "iopub.status.idle": "2020-08-09T11:19:25.348120Z",
     "shell.execute_reply": "2020-08-09T11:19:25.347392Z"
    },
    "papermill": {
     "duration": 0.03136,
     "end_time": "2020-08-09T11:19:25.348269",
     "exception": false,
     "start_time": "2020-08-09T11:19:25.316909",
     "status": "completed"
    },
    "tags": []
   },
   "outputs": [],
   "source": [
    "def pred(X_test, models, batch_size=100000):\n",
    "    iterations = (X_test.shape[0] + batch_size -1) // batch_size\n",
    "    print('iterations', iterations)\n",
    "\n",
    "    y_test_pred_total = np.zeros(X_test.shape[0])\n",
    "    for i, model in enumerate(models):\n",
    "        print(f'predicting {i}-th model')\n",
    "        for k in tqdm(range(iterations)):\n",
    "            y_pred_test = model.predict(X_test[k*batch_size:(k+1)*batch_size], num_iteration=model.best_iteration)\n",
    "            y_test_pred_total[k*batch_size:(k+1)*batch_size] += y_pred_test\n",
    "\n",
    "    y_test_pred_total /= len(models)\n",
    "    return y_test_pred_total   "
   ]
  },
  {
   "cell_type": "code",
   "execution_count": 21,
   "metadata": {
    "execution": {
     "iopub.execute_input": "2020-08-09T11:19:25.388602Z",
     "iopub.status.busy": "2020-08-09T11:19:25.387572Z",
     "iopub.status.idle": "2020-08-09T11:19:25.392840Z",
     "shell.execute_reply": "2020-08-09T11:19:25.392190Z"
    },
    "papermill": {
     "duration": 0.02804,
     "end_time": "2020-08-09T11:19:25.392968",
     "exception": false,
     "start_time": "2020-08-09T11:19:25.364928",
     "status": "completed"
    },
    "tags": []
   },
   "outputs": [
    {
     "data": {
      "text/plain": [
       "'\\navg_model = []\\nfor i in range(0,3) : \\n\\n    filename = \"./lgb_reg_new\"+ str(i) +\".sav\"\\n    regressor = pickle.load(open(filename,\\'rb\\'))\\n    avg_model.append(regressor)\\n              '"
      ]
     },
     "execution_count": 21,
     "metadata": {},
     "output_type": "execute_result"
    }
   ],
   "source": [
    "'''\n",
    "avg_model = []\n",
    "for i in range(0,3) : \n",
    "\n",
    "    filename = \"./lgb_reg_new\"+ str(i) +\".sav\"\n",
    "    regressor = pickle.load(open(filename,'rb'))\n",
    "    avg_model.append(regressor)\n",
    "              '''       "
   ]
  },
  {
   "cell_type": "code",
   "execution_count": 22,
   "metadata": {
    "execution": {
     "iopub.execute_input": "2020-08-09T11:19:25.431658Z",
     "iopub.status.busy": "2020-08-09T11:19:25.430864Z",
     "iopub.status.idle": "2020-08-09T11:19:25.433909Z",
     "shell.execute_reply": "2020-08-09T11:19:25.434533Z"
    },
    "papermill": {
     "duration": 0.025305,
     "end_time": "2020-08-09T11:19:25.434724",
     "exception": false,
     "start_time": "2020-08-09T11:19:25.409419",
     "status": "completed"
    },
    "tags": []
   },
   "outputs": [],
   "source": [
    "avg_model = models"
   ]
  },
  {
   "cell_type": "code",
   "execution_count": 23,
   "metadata": {
    "execution": {
     "iopub.execute_input": "2020-08-09T11:19:25.475250Z",
     "iopub.status.busy": "2020-08-09T11:19:25.473899Z",
     "iopub.status.idle": "2020-08-09T12:01:40.436016Z",
     "shell.execute_reply": "2020-08-09T12:01:40.436905Z"
    },
    "papermill": {
     "duration": 2534.985841,
     "end_time": "2020-08-09T12:01:40.437162",
     "exception": false,
     "start_time": "2020-08-09T11:19:25.451321",
     "status": "completed"
    },
    "tags": []
   },
   "outputs": [
    {
     "name": "stderr",
     "output_type": "stream",
     "text": [
      "  0%|          | 0/417 [00:00<?, ?it/s]"
     ]
    },
    {
     "name": "stdout",
     "output_type": "stream",
     "text": [
      "iterations 417\n",
      "predicting 0-th model\n"
     ]
    },
    {
     "name": "stderr",
     "output_type": "stream",
     "text": [
      "100%|██████████| 417/417 [08:11<00:00,  1.18s/it]\n",
      "  0%|          | 0/417 [00:00<?, ?it/s]"
     ]
    },
    {
     "name": "stdout",
     "output_type": "stream",
     "text": [
      "predicting 1-th model\n"
     ]
    },
    {
     "name": "stderr",
     "output_type": "stream",
     "text": [
      "100%|██████████| 417/417 [27:50<00:00,  4.01s/it]\n",
      "  0%|          | 0/417 [00:00<?, ?it/s]"
     ]
    },
    {
     "name": "stdout",
     "output_type": "stream",
     "text": [
      "predicting 2-th model\n"
     ]
    },
    {
     "name": "stderr",
     "output_type": "stream",
     "text": [
      "100%|██████████| 417/417 [06:12<00:00,  1.12it/s]\n"
     ]
    }
   ],
   "source": [
    "predict_test = pred(merged_test,avg_model)"
   ]
  },
  {
   "cell_type": "code",
   "execution_count": 24,
   "metadata": {
    "execution": {
     "iopub.execute_input": "2020-08-09T12:01:40.654006Z",
     "iopub.status.busy": "2020-08-09T12:01:40.653250Z",
     "iopub.status.idle": "2020-08-09T12:01:41.851541Z",
     "shell.execute_reply": "2020-08-09T12:01:41.850845Z"
    },
    "papermill": {
     "duration": 1.30136,
     "end_time": "2020-08-09T12:01:41.851703",
     "exception": false,
     "start_time": "2020-08-09T12:01:40.550343",
     "status": "completed"
    },
    "tags": []
   },
   "outputs": [],
   "source": [
    "predict_test = np.expm1(predict_test)                                                                                                                                                                                                                                                                                                            "
   ]
  },
  {
   "cell_type": "code",
   "execution_count": 25,
   "metadata": {
    "execution": {
     "iopub.execute_input": "2020-08-09T12:01:42.061546Z",
     "iopub.status.busy": "2020-08-09T12:01:42.060228Z",
     "iopub.status.idle": "2020-08-09T12:01:42.479948Z",
     "shell.execute_reply": "2020-08-09T12:01:42.479032Z"
    },
    "papermill": {
     "duration": 0.530822,
     "end_time": "2020-08-09T12:01:42.480097",
     "exception": false,
     "start_time": "2020-08-09T12:01:41.949275",
     "status": "completed"
    },
    "tags": []
   },
   "outputs": [
    {
     "data": {
      "text/plain": [
       "['predict_test.pkl']"
      ]
     },
     "execution_count": 25,
     "metadata": {},
     "output_type": "execute_result"
    }
   ],
   "source": [
    "import joblib\n",
    "joblib.dump(predict_test, 'predict_test.pkl') "
   ]
  },
  {
   "cell_type": "code",
   "execution_count": 32,
   "metadata": {
    "execution": {
     "iopub.execute_input": "2020-08-09T12:01:51.024269Z",
     "iopub.status.busy": "2020-08-09T12:01:51.023282Z",
     "iopub.status.idle": "2020-08-09T12:01:53.449933Z",
     "shell.execute_reply": "2020-08-09T12:01:53.449044Z"
    },
    "papermill": {
     "duration": 2.532024,
     "end_time": "2020-08-09T12:01:53.450081",
     "exception": false,
     "start_time": "2020-08-09T12:01:50.918057",
     "status": "completed"
    },
    "tags": []
   },
   "outputs": [],
   "source": [
    "merged_test = pd.read_feather('../input/energy-feature-engineering-2/merged_test.feather')    "
   ]
  },
  {
   "cell_type": "code",
   "execution_count": 37,
   "metadata": {
    "execution": {
     "iopub.execute_input": "2020-08-09T12:03:15.723217Z",
     "iopub.status.busy": "2020-08-09T12:03:15.722259Z",
     "iopub.status.idle": "2020-08-09T12:03:16.944005Z",
     "shell.execute_reply": "2020-08-09T12:03:16.943145Z"
    },
    "papermill": {
     "duration": 1.325463,
     "end_time": "2020-08-09T12:03:16.944194",
     "exception": false,
     "start_time": "2020-08-09T12:03:15.618731",
     "status": "completed"
    },
    "tags": []
   },
   "outputs": [
    {
     "name": "stdout",
     "output_type": "stream",
     "text": [
      "Memory usage of dataframe is 636.26 MB\n",
      "Memory usage after optimization is: 198.83 MB\n",
      "Decreased by 68.7%\n"
     ]
    }
   ],
   "source": [
    "sample_submission = pd.read_feather(\"../input/ashrae-feather-format-for-fast-loading/sample_submission.feather\")\n",
    "sample_submission = memory_reduction(sample_submission)            "
   ]
  },
  {
   "cell_type": "code",
   "execution_count": 38,
   "metadata": {
    "execution": {
     "iopub.execute_input": "2020-08-09T12:03:17.153205Z",
     "iopub.status.busy": "2020-08-09T12:03:17.152099Z",
     "iopub.status.idle": "2020-08-09T12:03:17.155066Z",
     "shell.execute_reply": "2020-08-09T12:03:17.155653Z"
    },
    "papermill": {
     "duration": 0.108305,
     "end_time": "2020-08-09T12:03:17.155830",
     "exception": false,
     "start_time": "2020-08-09T12:03:17.047525",
     "status": "completed"
    },
    "tags": []
   },
   "outputs": [],
   "source": [
    "row_ids = merged_test[\"row_id\"]"
   ]
  },
  {
   "cell_type": "code",
   "execution_count": 39,
   "metadata": {
    "execution": {
     "iopub.execute_input": "2020-08-09T12:03:17.421132Z",
     "iopub.status.busy": "2020-08-09T12:03:17.420323Z",
     "iopub.status.idle": "2020-08-09T12:03:17.992144Z",
     "shell.execute_reply": "2020-08-09T12:03:17.992809Z"
    },
    "papermill": {
     "duration": 0.679042,
     "end_time": "2020-08-09T12:03:17.993019",
     "exception": false,
     "start_time": "2020-08-09T12:03:17.313977",
     "status": "completed"
    },
    "tags": []
   },
   "outputs": [],
   "source": [
    "sample_submission = pd.DataFrame({\"row_id\": row_ids, \"meter_reading\": np.clip(predict_test, 0, a_max=None)})\n",
    "sample_submission['meter_reading'] = sample_submission['meter_reading'].astype('float32')\n",
    "sample_submission['row_id'] = sample_submission['row_id'].astype('int32')"
   ]
  },
  {
   "cell_type": "code",
   "execution_count": 40,
   "metadata": {
    "execution": {
     "iopub.execute_input": "2020-08-09T12:03:18.199192Z",
     "iopub.status.busy": "2020-08-09T12:03:18.198342Z",
     "iopub.status.idle": "2020-08-09T12:03:18.338737Z",
     "shell.execute_reply": "2020-08-09T12:03:18.337942Z"
    },
    "papermill": {
     "duration": 0.24456,
     "end_time": "2020-08-09T12:03:18.338877",
     "exception": false,
     "start_time": "2020-08-09T12:03:18.094317",
     "status": "completed"
    },
    "tags": []
   },
   "outputs": [],
   "source": [
    "sample_submission[\"meter_reading\"] = merged_test['meter_reading']"
   ]
  },
  {
   "cell_type": "code",
   "execution_count": 41,
   "metadata": {
    "execution": {
     "iopub.execute_input": "2020-08-09T12:03:18.553411Z",
     "iopub.status.busy": "2020-08-09T12:03:18.552250Z",
     "iopub.status.idle": "2020-08-09T12:03:18.558271Z",
     "shell.execute_reply": "2020-08-09T12:03:18.557426Z"
    },
    "papermill": {
     "duration": 0.119043,
     "end_time": "2020-08-09T12:03:18.558412",
     "exception": false,
     "start_time": "2020-08-09T12:03:18.439369",
     "status": "completed"
    },
    "tags": []
   },
   "outputs": [
    {
     "data": {
      "text/html": [
       "<div>\n",
       "<style scoped>\n",
       "    .dataframe tbody tr th:only-of-type {\n",
       "        vertical-align: middle;\n",
       "    }\n",
       "\n",
       "    .dataframe tbody tr th {\n",
       "        vertical-align: top;\n",
       "    }\n",
       "\n",
       "    .dataframe thead th {\n",
       "        text-align: right;\n",
       "    }\n",
       "</style>\n",
       "<table border=\"1\" class=\"dataframe\">\n",
       "  <thead>\n",
       "    <tr style=\"text-align: right;\">\n",
       "      <th></th>\n",
       "      <th>row_id</th>\n",
       "      <th>meter_reading</th>\n",
       "    </tr>\n",
       "  </thead>\n",
       "  <tbody>\n",
       "    <tr>\n",
       "      <th>0</th>\n",
       "      <td>0</td>\n",
       "      <td>173.370293</td>\n",
       "    </tr>\n",
       "    <tr>\n",
       "      <th>1</th>\n",
       "      <td>1</td>\n",
       "      <td>53.512720</td>\n",
       "    </tr>\n",
       "    <tr>\n",
       "      <th>2</th>\n",
       "      <td>2</td>\n",
       "      <td>6.143042</td>\n",
       "    </tr>\n",
       "    <tr>\n",
       "      <th>3</th>\n",
       "      <td>3</td>\n",
       "      <td>101.701470</td>\n",
       "    </tr>\n",
       "    <tr>\n",
       "      <th>4</th>\n",
       "      <td>4</td>\n",
       "      <td>1141.240666</td>\n",
       "    </tr>\n",
       "    <tr>\n",
       "      <th>5</th>\n",
       "      <td>5</td>\n",
       "      <td>13.651204</td>\n",
       "    </tr>\n",
       "    <tr>\n",
       "      <th>6</th>\n",
       "      <td>6</td>\n",
       "      <td>260.874513</td>\n",
       "    </tr>\n",
       "    <tr>\n",
       "      <th>7</th>\n",
       "      <td>7</td>\n",
       "      <td>502.705590</td>\n",
       "    </tr>\n",
       "    <tr>\n",
       "      <th>8</th>\n",
       "      <td>8</td>\n",
       "      <td>717.574038</td>\n",
       "    </tr>\n",
       "    <tr>\n",
       "      <th>9</th>\n",
       "      <td>9</td>\n",
       "      <td>513.285268</td>\n",
       "    </tr>\n",
       "    <tr>\n",
       "      <th>10</th>\n",
       "      <td>10</td>\n",
       "      <td>61.839954</td>\n",
       "    </tr>\n",
       "    <tr>\n",
       "      <th>11</th>\n",
       "      <td>11</td>\n",
       "      <td>0.000000</td>\n",
       "    </tr>\n",
       "    <tr>\n",
       "      <th>12</th>\n",
       "      <td>12</td>\n",
       "      <td>1806.736848</td>\n",
       "    </tr>\n",
       "    <tr>\n",
       "      <th>13</th>\n",
       "      <td>13</td>\n",
       "      <td>472.331669</td>\n",
       "    </tr>\n",
       "    <tr>\n",
       "      <th>14</th>\n",
       "      <td>14</td>\n",
       "      <td>298.620091</td>\n",
       "    </tr>\n",
       "    <tr>\n",
       "      <th>15</th>\n",
       "      <td>15</td>\n",
       "      <td>308.858494</td>\n",
       "    </tr>\n",
       "    <tr>\n",
       "      <th>16</th>\n",
       "      <td>16</td>\n",
       "      <td>253.261425</td>\n",
       "    </tr>\n",
       "    <tr>\n",
       "      <th>17</th>\n",
       "      <td>17</td>\n",
       "      <td>263.468243</td>\n",
       "    </tr>\n",
       "    <tr>\n",
       "      <th>18</th>\n",
       "      <td>18</td>\n",
       "      <td>464.312613</td>\n",
       "    </tr>\n",
       "    <tr>\n",
       "      <th>19</th>\n",
       "      <td>19</td>\n",
       "      <td>176.441813</td>\n",
       "    </tr>\n",
       "    <tr>\n",
       "      <th>20</th>\n",
       "      <td>20</td>\n",
       "      <td>253.261425</td>\n",
       "    </tr>\n",
       "    <tr>\n",
       "      <th>21</th>\n",
       "      <td>21</td>\n",
       "      <td>1299.048585</td>\n",
       "    </tr>\n",
       "    <tr>\n",
       "      <th>22</th>\n",
       "      <td>22</td>\n",
       "      <td>165.589108</td>\n",
       "    </tr>\n",
       "    <tr>\n",
       "      <th>23</th>\n",
       "      <td>23</td>\n",
       "      <td>2070.614676</td>\n",
       "    </tr>\n",
       "    <tr>\n",
       "      <th>24</th>\n",
       "      <td>24</td>\n",
       "      <td>174.735409</td>\n",
       "    </tr>\n",
       "  </tbody>\n",
       "</table>\n",
       "</div>"
      ],
      "text/plain": [
       "    row_id  meter_reading\n",
       "0        0     173.370293\n",
       "1        1      53.512720\n",
       "2        2       6.143042\n",
       "3        3     101.701470\n",
       "4        4    1141.240666\n",
       "5        5      13.651204\n",
       "6        6     260.874513\n",
       "7        7     502.705590\n",
       "8        8     717.574038\n",
       "9        9     513.285268\n",
       "10      10      61.839954\n",
       "11      11       0.000000\n",
       "12      12    1806.736848\n",
       "13      13     472.331669\n",
       "14      14     298.620091\n",
       "15      15     308.858494\n",
       "16      16     253.261425\n",
       "17      17     263.468243\n",
       "18      18     464.312613\n",
       "19      19     176.441813\n",
       "20      20     253.261425\n",
       "21      21    1299.048585\n",
       "22      22     165.589108\n",
       "23      23    2070.614676\n",
       "24      24     174.735409"
      ]
     },
     "execution_count": 41,
     "metadata": {},
     "output_type": "execute_result"
    }
   ],
   "source": [
    "sample_submission.head(25)   "
   ]
  },
  {
   "cell_type": "code",
   "execution_count": null,
   "metadata": {},
   "outputs": [],
   "source": [
    "sample_submission.to_csv('3foldwith_nanleakdata_lgb.csv',index=False)"
   ]
  },
  {
   "cell_type": "code",
   "execution_count": 44,
   "metadata": {
    "execution": {
     "iopub.execute_input": "2020-08-09T12:06:21.412788Z",
     "iopub.status.busy": "2020-08-09T12:06:21.411567Z",
     "iopub.status.idle": "2020-08-09T12:06:21.415779Z",
     "shell.execute_reply": "2020-08-09T12:06:21.416373Z"
    },
    "papermill": {
     "duration": 0.11431,
     "end_time": "2020-08-09T12:06:21.416591",
     "exception": false,
     "start_time": "2020-08-09T12:06:21.302281",
     "status": "completed"
    },
    "tags": []
   },
   "outputs": [
    {
     "name": "stdout",
     "output_type": "stream",
     "text": [
      "<class 'pandas.core.frame.DataFrame'>\n",
      "Int64Index: 41697600 entries, 0 to 41697599\n",
      "Data columns (total 2 columns):\n",
      " #   Column         Dtype  \n",
      "---  ------         -----  \n",
      " 0   row_id         int32  \n",
      " 1   meter_reading  float64\n",
      "dtypes: float64(1), int32(1)\n",
      "memory usage: 795.3 MB\n"
     ]
    }
   ],
   "source": [
    "sample_submission.info()                            "
   ]
  },
  {
   "cell_type": "code",
   "execution_count": 1,
   "metadata": {
    "papermill": {
     "duration": 0.099176,
     "end_time": "2020-08-09T12:06:21.617267",
     "exception": false,
     "start_time": "2020-08-09T12:06:21.518091",
     "status": "completed"
    },
    "tags": []
   },
   "outputs": [
    {
     "data": {
      "image/jpeg": "[encoded data removed]",
      "text/plain": [
       "<IPython.core.display.Image object>"
      ]
     },
     "execution_count": 1,
     "metadata": {},
     "output_type": "execute_result"
    }
   ],
   "source": [
    "from IPython.display import Image\n",
    "Image(filename='kfold.JPG')                                                                                                                                                                                                                 "
   ]
  }
 ],
 "metadata": {
  "kernelspec": {
   "display_name": "Python 3",
   "language": "python",
   "name": "python3"
  },
  "language_info": {
   "codemirror_mode": {
    "name": "ipython",
    "version": 3
   },
   "file_extension": ".py",
   "mimetype": "text/x-python",
   "name": "python",
   "nbconvert_exporter": "python",
   "pygments_lexer": "ipython3",
   "version": "3.7.3"
  },
  "papermill": {
   "duration": 4378.355867,
   "end_time": "2020-08-09T12:06:21.828912",
   "environment_variables": {},
   "exception": null,
   "input_path": "__notebook__.ipynb",
   "output_path": "__notebook__.ipynb",
   "parameters": {},
   "start_time": "2020-08-09T10:53:23.473045",
   "version": "2.1.0"
  }
 },
 "nbformat": 4,
 "nbformat_minor": 4
}
