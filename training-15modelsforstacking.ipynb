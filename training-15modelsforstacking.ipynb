{
 "cells": [
  {
   "cell_type": "code",
   "execution_count": 1,
   "metadata": {
    "_cell_guid": "b1076dfc-b9ad-4769-8c92-a6c4dae69d19",
    "_uuid": "8f2839f25d086af736a60e9eeb907d3b93b6e0e5",
    "execution": {
     "iopub.execute_input": "2020-08-09T14:10:40.690539Z",
     "iopub.status.busy": "2020-08-09T14:10:40.689759Z",
     "iopub.status.idle": "2020-08-09T14:10:44.042944Z",
     "shell.execute_reply": "2020-08-09T14:10:44.043624Z"
    },
    "papermill": {
     "duration": 3.382227,
     "end_time": "2020-08-09T14:10:44.043851",
     "exception": false,
     "start_time": "2020-08-09T14:10:40.661624",
     "status": "completed"
    },
    "tags": []
   },
   "outputs": [
    {
     "data": {
      "text/html": [
       "        <script type=\"text/javascript\">\n",
       "        window.PlotlyConfig = {MathJaxConfig: 'local'};\n",
       "        if (window.MathJax) {MathJax.Hub.Config({SVG: {font: \"STIX-Web\"}});}\n",
       "        if (typeof require !== 'undefined') {\n",
       "        require.undef(\"plotly\");\n",
       "        requirejs.config({\n",
       "            paths: {\n",
       "                'plotly': ['https://cdn.plot.ly/plotly-latest.min']\n",
       "            }\n",
       "        });\n",
       "        require(['plotly'], function(Plotly) {\n",
       "            window._Plotly = Plotly;\n",
       "        });\n",
       "        }\n",
       "        </script>\n",
       "        "
      ]
     },
     "metadata": {},
     "output_type": "display_data"
    }
   ],
   "source": [
    "import gc\n",
    "import os\n",
    "import random\n",
    "import sys\n",
    "\n",
    "from tqdm import tqdm_notebook as tqdm\n",
    "import numpy as np # linear algebra\n",
    "import pandas as pd # data processing, CSV file I/O (e.g. pd.read_csv)\n",
    "\n",
    "import matplotlib.pyplot as plt\n",
    "import seaborn as sns\n",
    "import statistics\n",
    "from IPython.core.display import display, HTML\n",
    "\n",
    "from math import sqrt\n",
    "from sklearn.metrics import mean_squared_error\n",
    "import warnings\n",
    "warnings.filterwarnings('ignore')\n",
    "\n",
    "\n",
    "\n",
    "\n",
    "# --- plotly ---\n",
    "from plotly import tools, subplots\n",
    "import plotly.offline as py\n",
    "py.init_notebook_mode(connected=True)\n",
    "import plotly.graph_objs as go\n",
    "import plotly.express as px\n",
    "import plotly.figure_factory as ff\n",
    "\n",
    "# --- models ---\n",
    "#from sklearn import preprocessing\n",
    "from sklearn.model_selection import KFold\n",
    "import lightgbm as lgb\n",
    "import xgboost as xgb\n",
    "#import catboost as cb"
   ]
  },
  {
   "cell_type": "code",
   "execution_count": 2,
   "metadata": {
    "_cell_guid": "79c7e3d0-c299-4dcb-8224-4455121ee9b0",
    "_uuid": "d629ff2d2480ee46fbb7e2d37f6b5fab8052498a",
    "execution": {
     "iopub.execute_input": "2020-08-09T14:10:44.105219Z",
     "iopub.status.busy": "2020-08-09T14:10:44.098770Z",
     "iopub.status.idle": "2020-08-09T14:10:44.108873Z",
     "shell.execute_reply": "2020-08-09T14:10:44.108141Z"
    },
    "papermill": {
     "duration": 0.046694,
     "end_time": "2020-08-09T14:10:44.108998",
     "exception": false,
     "start_time": "2020-08-09T14:10:44.062304",
     "status": "completed"
    },
    "tags": []
   },
   "outputs": [],
   "source": [
    "# Original code from https://www.kaggle.com/gemartin/load-data-reduce-memory-usage by @gemartin\n",
    "# Modified to support timestamp type, categorical type\n",
    "# Modified to add option to use float16 or not. feather format does not support float16.\n",
    "from pandas.api.types import is_datetime64_any_dtype as is_datetime\n",
    "from pandas.api.types import is_categorical_dtype\n",
    "\n",
    "def memory_reduction(df, use_float16=False):\n",
    "    \"\"\" iterate through all the columns of a dataframe and modify the data type\n",
    "        to reduce memory usage.        \n",
    "    \"\"\"\n",
    "    start_mem = df.memory_usage().sum() / 1024**2\n",
    "    print('Memory usage of dataframe is {:.2f} MB'.format(start_mem))\n",
    "    \n",
    "    for col in df.columns:\n",
    "        if is_datetime(df[col]) or is_categorical_dtype(df[col]):\n",
    "            # skip datetime type or categorical type\n",
    "            continue\n",
    "        col_type = df[col].dtype\n",
    "        \n",
    "        if col_type != object:\n",
    "            c_min = df[col].min()\n",
    "            c_max = df[col].max()\n",
    "            if str(col_type)[:3] == 'int':\n",
    "                if c_min > np.iinfo(np.int8).min and c_max < np.iinfo(np.int8).max:\n",
    "                    df[col] = df[col].astype(np.int8)\n",
    "                elif c_min > np.iinfo(np.int16).min and c_max < np.iinfo(np.int16).max:\n",
    "                    df[col] = df[col].astype(np.int16)\n",
    "                elif c_min > np.iinfo(np.int32).min and c_max < np.iinfo(np.int32).max:\n",
    "                    df[col] = df[col].astype(np.int32)\n",
    "                elif c_min > np.iinfo(np.int64).min and c_max < np.iinfo(np.int64).max:\n",
    "                    df[col] = df[col].astype(np.int64)  \n",
    "            else:\n",
    "                if use_float16 and c_min > np.finfo(np.float16).min and c_max < np.finfo(np.float16).max:\n",
    "                    df[col] = df[col].astype(np.float16)\n",
    "                elif c_min > np.finfo(np.float32).min and c_max < np.finfo(np.float32).max:\n",
    "                    df[col] = df[col].astype(np.float32)\n",
    "                else:\n",
    "                    df[col] = df[col].astype(np.float64)\n",
    "        else:\n",
    "            df[col] = df[col].astype('category')\n",
    "\n",
    "    end_mem = df.memory_usage().sum() / 1024**2\n",
    "    print('Memory usage after optimization is: {:.2f} MB'\n",
    "          .format(end_mem))\n",
    "    print('Decreased by {:.1f}%'.format(100 * (start_mem - end_mem) / start_mem))\n",
    "    \n",
    "    return df"
   ]
  },
  {
   "cell_type": "code",
   "execution_count": 3,
   "metadata": {
    "execution": {
     "iopub.execute_input": "2020-08-09T14:10:44.146673Z",
     "iopub.status.busy": "2020-08-09T14:10:44.145732Z",
     "iopub.status.idle": "2020-08-09T14:10:46.777254Z",
     "shell.execute_reply": "2020-08-09T14:10:46.775833Z"
    },
    "papermill": {
     "duration": 2.652302,
     "end_time": "2020-08-09T14:10:46.777461",
     "exception": false,
     "start_time": "2020-08-09T14:10:44.125159",
     "status": "completed"
    },
    "tags": []
   },
   "outputs": [],
   "source": [
    "merged_train = pd.read_feather('../input/energy-feature-engineering-2/merged_train.feather')"
   ]
  },
  {
   "cell_type": "code",
   "execution_count": 4,
   "metadata": {
    "execution": {
     "iopub.execute_input": "2020-08-09T14:10:46.822395Z",
     "iopub.status.busy": "2020-08-09T14:10:46.821144Z",
     "iopub.status.idle": "2020-08-09T14:10:50.701304Z",
     "shell.execute_reply": "2020-08-09T14:10:50.701863Z"
    },
    "papermill": {
     "duration": 3.903332,
     "end_time": "2020-08-09T14:10:50.702025",
     "exception": false,
     "start_time": "2020-08-09T14:10:46.798693",
     "status": "completed"
    },
    "tags": []
   },
   "outputs": [
    {
     "data": {
      "text/html": [
       "<div>\n",
       "<style scoped>\n",
       "    .dataframe tbody tr th:only-of-type {\n",
       "        vertical-align: middle;\n",
       "    }\n",
       "\n",
       "    .dataframe tbody tr th {\n",
       "        vertical-align: top;\n",
       "    }\n",
       "\n",
       "    .dataframe thead th {\n",
       "        text-align: right;\n",
       "    }\n",
       "</style>\n",
       "<table border=\"1\" class=\"dataframe\">\n",
       "  <thead>\n",
       "    <tr style=\"text-align: right;\">\n",
       "      <th></th>\n",
       "      <th>index</th>\n",
       "      <th>building_id</th>\n",
       "      <th>meter</th>\n",
       "      <th>timestamp</th>\n",
       "      <th>meter_reading_log1p</th>\n",
       "      <th>weekend</th>\n",
       "      <th>site_id</th>\n",
       "      <th>primary_use</th>\n",
       "      <th>square_feet</th>\n",
       "      <th>air_temperature</th>\n",
       "      <th>cloud_coverage</th>\n",
       "      <th>dew_temperature</th>\n",
       "      <th>precip_depth_1_hr</th>\n",
       "      <th>IsHoliday</th>\n",
       "      <th>month_group</th>\n",
       "      <th>horizsolar</th>\n",
       "      <th>Sensible_Heat</th>\n",
       "      <th>relative_humidity</th>\n",
       "    </tr>\n",
       "  </thead>\n",
       "  <tbody>\n",
       "    <tr>\n",
       "      <th>0</th>\n",
       "      <td>0</td>\n",
       "      <td>105</td>\n",
       "      <td>0</td>\n",
       "      <td>2016-01-01 00:00:00</td>\n",
       "      <td>3.190624</td>\n",
       "      <td>4</td>\n",
       "      <td>1</td>\n",
       "      <td>0</td>\n",
       "      <td>10.832181</td>\n",
       "      <td>3.8</td>\n",
       "      <td>0.0</td>\n",
       "      <td>2.4</td>\n",
       "      <td>NaN</td>\n",
       "      <td>1.0</td>\n",
       "      <td>1</td>\n",
       "      <td>0.0</td>\n",
       "      <td>0.040676</td>\n",
       "      <td>90.575539</td>\n",
       "    </tr>\n",
       "    <tr>\n",
       "      <th>1</th>\n",
       "      <td>1</td>\n",
       "      <td>106</td>\n",
       "      <td>0</td>\n",
       "      <td>2016-01-01 00:00:00</td>\n",
       "      <td>0.318163</td>\n",
       "      <td>4</td>\n",
       "      <td>1</td>\n",
       "      <td>0</td>\n",
       "      <td>8.589514</td>\n",
       "      <td>3.8</td>\n",
       "      <td>0.0</td>\n",
       "      <td>2.4</td>\n",
       "      <td>NaN</td>\n",
       "      <td>1.0</td>\n",
       "      <td>1</td>\n",
       "      <td>0.0</td>\n",
       "      <td>0.032254</td>\n",
       "      <td>90.575539</td>\n",
       "    </tr>\n",
       "    <tr>\n",
       "      <th>2</th>\n",
       "      <td>2</td>\n",
       "      <td>106</td>\n",
       "      <td>3</td>\n",
       "      <td>2016-01-01 00:00:00</td>\n",
       "      <td>0.000000</td>\n",
       "      <td>4</td>\n",
       "      <td>1</td>\n",
       "      <td>0</td>\n",
       "      <td>8.589514</td>\n",
       "      <td>3.8</td>\n",
       "      <td>0.0</td>\n",
       "      <td>2.4</td>\n",
       "      <td>NaN</td>\n",
       "      <td>1.0</td>\n",
       "      <td>1</td>\n",
       "      <td>0.0</td>\n",
       "      <td>0.032254</td>\n",
       "      <td>90.575539</td>\n",
       "    </tr>\n",
       "    <tr>\n",
       "      <th>3</th>\n",
       "      <td>3</td>\n",
       "      <td>107</td>\n",
       "      <td>0</td>\n",
       "      <td>2016-01-01 00:00:00</td>\n",
       "      <td>5.171529</td>\n",
       "      <td>4</td>\n",
       "      <td>1</td>\n",
       "      <td>0</td>\n",
       "      <td>11.487947</td>\n",
       "      <td>3.8</td>\n",
       "      <td>0.0</td>\n",
       "      <td>2.4</td>\n",
       "      <td>NaN</td>\n",
       "      <td>1.0</td>\n",
       "      <td>1</td>\n",
       "      <td>0.0</td>\n",
       "      <td>0.043138</td>\n",
       "      <td>90.575539</td>\n",
       "    </tr>\n",
       "    <tr>\n",
       "      <th>4</th>\n",
       "      <td>4</td>\n",
       "      <td>108</td>\n",
       "      <td>0</td>\n",
       "      <td>2016-01-01 00:00:00</td>\n",
       "      <td>4.524668</td>\n",
       "      <td>4</td>\n",
       "      <td>1</td>\n",
       "      <td>0</td>\n",
       "      <td>11.309352</td>\n",
       "      <td>3.8</td>\n",
       "      <td>0.0</td>\n",
       "      <td>2.4</td>\n",
       "      <td>NaN</td>\n",
       "      <td>1.0</td>\n",
       "      <td>1</td>\n",
       "      <td>0.0</td>\n",
       "      <td>0.042468</td>\n",
       "      <td>90.575539</td>\n",
       "    </tr>\n",
       "    <tr>\n",
       "      <th>...</th>\n",
       "      <td>...</td>\n",
       "      <td>...</td>\n",
       "      <td>...</td>\n",
       "      <td>...</td>\n",
       "      <td>...</td>\n",
       "      <td>...</td>\n",
       "      <td>...</td>\n",
       "      <td>...</td>\n",
       "      <td>...</td>\n",
       "      <td>...</td>\n",
       "      <td>...</td>\n",
       "      <td>...</td>\n",
       "      <td>...</td>\n",
       "      <td>...</td>\n",
       "      <td>...</td>\n",
       "      <td>...</td>\n",
       "      <td>...</td>\n",
       "      <td>...</td>\n",
       "    </tr>\n",
       "    <tr>\n",
       "      <th>19852315</th>\n",
       "      <td>19852315</td>\n",
       "      <td>1444</td>\n",
       "      <td>0</td>\n",
       "      <td>2016-12-31 23:00:00</td>\n",
       "      <td>2.277267</td>\n",
       "      <td>5</td>\n",
       "      <td>15</td>\n",
       "      <td>3</td>\n",
       "      <td>9.884305</td>\n",
       "      <td>NaN</td>\n",
       "      <td>NaN</td>\n",
       "      <td>NaN</td>\n",
       "      <td>NaN</td>\n",
       "      <td>NaN</td>\n",
       "      <td>3</td>\n",
       "      <td>0.0</td>\n",
       "      <td>NaN</td>\n",
       "      <td>NaN</td>\n",
       "    </tr>\n",
       "    <tr>\n",
       "      <th>19852316</th>\n",
       "      <td>19852316</td>\n",
       "      <td>1445</td>\n",
       "      <td>0</td>\n",
       "      <td>2016-12-31 23:00:00</td>\n",
       "      <td>1.762159</td>\n",
       "      <td>5</td>\n",
       "      <td>15</td>\n",
       "      <td>0</td>\n",
       "      <td>8.366138</td>\n",
       "      <td>NaN</td>\n",
       "      <td>NaN</td>\n",
       "      <td>NaN</td>\n",
       "      <td>NaN</td>\n",
       "      <td>NaN</td>\n",
       "      <td>3</td>\n",
       "      <td>0.0</td>\n",
       "      <td>NaN</td>\n",
       "      <td>NaN</td>\n",
       "    </tr>\n",
       "    <tr>\n",
       "      <th>19852317</th>\n",
       "      <td>19852317</td>\n",
       "      <td>1446</td>\n",
       "      <td>0</td>\n",
       "      <td>2016-12-31 23:00:00</td>\n",
       "      <td>0.000000</td>\n",
       "      <td>5</td>\n",
       "      <td>15</td>\n",
       "      <td>3</td>\n",
       "      <td>9.329545</td>\n",
       "      <td>NaN</td>\n",
       "      <td>NaN</td>\n",
       "      <td>NaN</td>\n",
       "      <td>NaN</td>\n",
       "      <td>NaN</td>\n",
       "      <td>3</td>\n",
       "      <td>0.0</td>\n",
       "      <td>NaN</td>\n",
       "      <td>NaN</td>\n",
       "    </tr>\n",
       "    <tr>\n",
       "      <th>19852318</th>\n",
       "      <td>19852318</td>\n",
       "      <td>1447</td>\n",
       "      <td>0</td>\n",
       "      <td>2016-12-31 23:00:00</td>\n",
       "      <td>5.078761</td>\n",
       "      <td>5</td>\n",
       "      <td>15</td>\n",
       "      <td>1</td>\n",
       "      <td>10.301458</td>\n",
       "      <td>NaN</td>\n",
       "      <td>NaN</td>\n",
       "      <td>NaN</td>\n",
       "      <td>NaN</td>\n",
       "      <td>NaN</td>\n",
       "      <td>3</td>\n",
       "      <td>0.0</td>\n",
       "      <td>NaN</td>\n",
       "      <td>NaN</td>\n",
       "    </tr>\n",
       "    <tr>\n",
       "      <th>19852319</th>\n",
       "      <td>19852319</td>\n",
       "      <td>1448</td>\n",
       "      <td>0</td>\n",
       "      <td>2016-12-31 23:00:00</td>\n",
       "      <td>1.348073</td>\n",
       "      <td>5</td>\n",
       "      <td>15</td>\n",
       "      <td>2</td>\n",
       "      <td>11.432496</td>\n",
       "      <td>NaN</td>\n",
       "      <td>NaN</td>\n",
       "      <td>NaN</td>\n",
       "      <td>NaN</td>\n",
       "      <td>NaN</td>\n",
       "      <td>3</td>\n",
       "      <td>0.0</td>\n",
       "      <td>NaN</td>\n",
       "      <td>NaN</td>\n",
       "    </tr>\n",
       "  </tbody>\n",
       "</table>\n",
       "<p>19852320 rows × 18 columns</p>\n",
       "</div>"
      ],
      "text/plain": [
       "             index  building_id  meter           timestamp  \\\n",
       "0                0          105      0 2016-01-01 00:00:00   \n",
       "1                1          106      0 2016-01-01 00:00:00   \n",
       "2                2          106      3 2016-01-01 00:00:00   \n",
       "3                3          107      0 2016-01-01 00:00:00   \n",
       "4                4          108      0 2016-01-01 00:00:00   \n",
       "...            ...          ...    ...                 ...   \n",
       "19852315  19852315         1444      0 2016-12-31 23:00:00   \n",
       "19852316  19852316         1445      0 2016-12-31 23:00:00   \n",
       "19852317  19852317         1446      0 2016-12-31 23:00:00   \n",
       "19852318  19852318         1447      0 2016-12-31 23:00:00   \n",
       "19852319  19852319         1448      0 2016-12-31 23:00:00   \n",
       "\n",
       "          meter_reading_log1p  weekend  site_id  primary_use  square_feet  \\\n",
       "0                    3.190624        4        1            0    10.832181   \n",
       "1                    0.318163        4        1            0     8.589514   \n",
       "2                    0.000000        4        1            0     8.589514   \n",
       "3                    5.171529        4        1            0    11.487947   \n",
       "4                    4.524668        4        1            0    11.309352   \n",
       "...                       ...      ...      ...          ...          ...   \n",
       "19852315             2.277267        5       15            3     9.884305   \n",
       "19852316             1.762159        5       15            0     8.366138   \n",
       "19852317             0.000000        5       15            3     9.329545   \n",
       "19852318             5.078761        5       15            1    10.301458   \n",
       "19852319             1.348073        5       15            2    11.432496   \n",
       "\n",
       "          air_temperature  cloud_coverage  dew_temperature  precip_depth_1_hr  \\\n",
       "0                     3.8             0.0              2.4                NaN   \n",
       "1                     3.8             0.0              2.4                NaN   \n",
       "2                     3.8             0.0              2.4                NaN   \n",
       "3                     3.8             0.0              2.4                NaN   \n",
       "4                     3.8             0.0              2.4                NaN   \n",
       "...                   ...             ...              ...                ...   \n",
       "19852315              NaN             NaN              NaN                NaN   \n",
       "19852316              NaN             NaN              NaN                NaN   \n",
       "19852317              NaN             NaN              NaN                NaN   \n",
       "19852318              NaN             NaN              NaN                NaN   \n",
       "19852319              NaN             NaN              NaN                NaN   \n",
       "\n",
       "          IsHoliday  month_group  horizsolar  Sensible_Heat  relative_humidity  \n",
       "0               1.0            1         0.0       0.040676          90.575539  \n",
       "1               1.0            1         0.0       0.032254          90.575539  \n",
       "2               1.0            1         0.0       0.032254          90.575539  \n",
       "3               1.0            1         0.0       0.043138          90.575539  \n",
       "4               1.0            1         0.0       0.042468          90.575539  \n",
       "...             ...          ...         ...            ...                ...  \n",
       "19852315        NaN            3         0.0            NaN                NaN  \n",
       "19852316        NaN            3         0.0            NaN                NaN  \n",
       "19852317        NaN            3         0.0            NaN                NaN  \n",
       "19852318        NaN            3         0.0            NaN                NaN  \n",
       "19852319        NaN            3         0.0            NaN                NaN  \n",
       "\n",
       "[19852320 rows x 18 columns]"
      ]
     },
     "execution_count": 4,
     "metadata": {},
     "output_type": "execute_result"
    }
   ],
   "source": [
    "merged_train.sort_values(\"timestamp\")\n",
    "merged_train.reset_index(drop=True)"
   ]
  },
  {
   "cell_type": "code",
   "execution_count": 5,
   "metadata": {
    "execution": {
     "iopub.execute_input": "2020-08-09T14:10:50.743261Z",
     "iopub.status.busy": "2020-08-09T14:10:50.742170Z",
     "iopub.status.idle": "2020-08-09T14:10:50.746662Z",
     "shell.execute_reply": "2020-08-09T14:10:50.746029Z"
    },
    "papermill": {
     "duration": 0.026992,
     "end_time": "2020-08-09T14:10:50.746783",
     "exception": false,
     "start_time": "2020-08-09T14:10:50.719791",
     "status": "completed"
    },
    "tags": []
   },
   "outputs": [
    {
     "data": {
      "text/plain": [
       "Index(['index', 'building_id', 'meter', 'timestamp', 'meter_reading_log1p',\n",
       "       'weekend', 'site_id', 'primary_use', 'square_feet', 'air_temperature',\n",
       "       'cloud_coverage', 'dew_temperature', 'precip_depth_1_hr', 'IsHoliday',\n",
       "       'month_group', 'horizsolar', 'Sensible_Heat', 'relative_humidity'],\n",
       "      dtype='object')"
      ]
     },
     "execution_count": 5,
     "metadata": {},
     "output_type": "execute_result"
    }
   ],
   "source": [
    "merged_train.columns"
   ]
  },
  {
   "cell_type": "code",
   "execution_count": 6,
   "metadata": {
    "execution": {
     "iopub.execute_input": "2020-08-09T14:10:50.787842Z",
     "iopub.status.busy": "2020-08-09T14:10:50.787121Z",
     "iopub.status.idle": "2020-08-09T14:10:52.708452Z",
     "shell.execute_reply": "2020-08-09T14:10:52.707773Z"
    },
    "papermill": {
     "duration": 1.943674,
     "end_time": "2020-08-09T14:10:52.708607",
     "exception": false,
     "start_time": "2020-08-09T14:10:50.764933",
     "status": "completed"
    },
    "tags": []
   },
   "outputs": [],
   "source": [
    "merged_train[\"hour\"] = merged_train[\"timestamp\"].dt.hour #converting timestamp to hour\n",
    "#merged_train[\"month\"] = merged_train[\"timestamp\"].dt.month\n",
    "#merged_train[\"dayofweek\"] = merged_train[\"timestamp\"].dt.dayofweek"
   ]
  },
  {
   "cell_type": "code",
   "execution_count": 7,
   "metadata": {
    "execution": {
     "iopub.execute_input": "2020-08-09T14:10:52.755264Z",
     "iopub.status.busy": "2020-08-09T14:10:52.754536Z",
     "iopub.status.idle": "2020-08-09T14:10:54.304936Z",
     "shell.execute_reply": "2020-08-09T14:10:54.304260Z"
    },
    "papermill": {
     "duration": 1.575145,
     "end_time": "2020-08-09T14:10:54.305084",
     "exception": false,
     "start_time": "2020-08-09T14:10:52.729939",
     "status": "completed"
    },
    "tags": []
   },
   "outputs": [],
   "source": [
    "merged_train = merged_train.drop(['index',\"timestamp\"],axis=1)"
   ]
  },
  {
   "cell_type": "code",
   "execution_count": 8,
   "metadata": {
    "execution": {
     "iopub.execute_input": "2020-08-09T14:10:54.348263Z",
     "iopub.status.busy": "2020-08-09T14:10:54.347481Z",
     "iopub.status.idle": "2020-08-09T14:10:54.350769Z",
     "shell.execute_reply": "2020-08-09T14:10:54.351325Z"
    },
    "papermill": {
     "duration": 0.027412,
     "end_time": "2020-08-09T14:10:54.351480",
     "exception": false,
     "start_time": "2020-08-09T14:10:54.324068",
     "status": "completed"
    },
    "tags": []
   },
   "outputs": [
    {
     "data": {
      "text/plain": [
       "Index(['building_id', 'meter', 'meter_reading_log1p', 'weekend', 'site_id',\n",
       "       'primary_use', 'square_feet', 'air_temperature', 'cloud_coverage',\n",
       "       'dew_temperature', 'precip_depth_1_hr', 'IsHoliday', 'month_group',\n",
       "       'horizsolar', 'Sensible_Heat', 'relative_humidity', 'hour'],\n",
       "      dtype='object')"
      ]
     },
     "execution_count": 8,
     "metadata": {},
     "output_type": "execute_result"
    }
   ],
   "source": [
    "merged_train.columns"
   ]
  },
  {
   "cell_type": "code",
   "execution_count": 9,
   "metadata": {
    "execution": {
     "iopub.execute_input": "2020-08-09T14:10:54.396038Z",
     "iopub.status.busy": "2020-08-09T14:10:54.395343Z",
     "iopub.status.idle": "2020-08-09T14:10:54.398623Z",
     "shell.execute_reply": "2020-08-09T14:10:54.397992Z"
    },
    "papermill": {
     "duration": 0.028197,
     "end_time": "2020-08-09T14:10:54.398745",
     "exception": false,
     "start_time": "2020-08-09T14:10:54.370548",
     "status": "completed"
    },
    "tags": []
   },
   "outputs": [],
   "source": [
    "\n",
    "folds = 6\n",
    "seed = 555\n",
    "shuffle = False\n",
    "kf = KFold(n_splits=folds, shuffle=shuffle, random_state=seed)"
   ]
  },
  {
   "cell_type": "code",
   "execution_count": 10,
   "metadata": {
    "execution": {
     "iopub.execute_input": "2020-08-09T14:10:54.443189Z",
     "iopub.status.busy": "2020-08-09T14:10:54.442484Z",
     "iopub.status.idle": "2020-08-09T14:11:08.255868Z",
     "shell.execute_reply": "2020-08-09T14:11:08.255026Z"
    },
    "papermill": {
     "duration": 13.838022,
     "end_time": "2020-08-09T14:11:08.255999",
     "exception": false,
     "start_time": "2020-08-09T14:10:54.417977",
     "status": "completed"
    },
    "tags": []
   },
   "outputs": [],
   "source": [
    "for train_idx, valid_idx in kf.split(merged_train):\n",
    "    train_data = merged_train.iloc[train_idx,:]\n",
    "    valid_data = merged_train.iloc[valid_idx,:]\n"
   ]
  },
  {
   "cell_type": "code",
   "execution_count": 11,
   "metadata": {
    "execution": {
     "iopub.execute_input": "2020-08-09T14:11:08.301765Z",
     "iopub.status.busy": "2020-08-09T14:11:08.300809Z",
     "iopub.status.idle": "2020-08-09T14:11:08.305940Z",
     "shell.execute_reply": "2020-08-09T14:11:08.305326Z"
    },
    "papermill": {
     "duration": 0.030371,
     "end_time": "2020-08-09T14:11:08.306075",
     "exception": false,
     "start_time": "2020-08-09T14:11:08.275704",
     "status": "completed"
    },
    "tags": []
   },
   "outputs": [
    {
     "data": {
      "text/plain": [
       "(16543600, 17)"
      ]
     },
     "execution_count": 11,
     "metadata": {},
     "output_type": "execute_result"
    }
   ],
   "source": [
    "train_data.shape"
   ]
  },
  {
   "cell_type": "code",
   "execution_count": 12,
   "metadata": {
    "execution": {
     "iopub.execute_input": "2020-08-09T14:11:08.352429Z",
     "iopub.status.busy": "2020-08-09T14:11:08.351458Z",
     "iopub.status.idle": "2020-08-09T14:11:08.357620Z",
     "shell.execute_reply": "2020-08-09T14:11:08.356703Z"
    },
    "papermill": {
     "duration": 0.031429,
     "end_time": "2020-08-09T14:11:08.357798",
     "exception": false,
     "start_time": "2020-08-09T14:11:08.326369",
     "status": "completed"
    },
    "tags": []
   },
   "outputs": [
    {
     "data": {
      "text/plain": [
       "(3308720, 17)"
      ]
     },
     "execution_count": 12,
     "metadata": {},
     "output_type": "execute_result"
    }
   ],
   "source": [
    "valid_data.shape"
   ]
  },
  {
   "cell_type": "code",
   "execution_count": 13,
   "metadata": {
    "execution": {
     "iopub.execute_input": "2020-08-09T14:11:08.411641Z",
     "iopub.status.busy": "2020-08-09T14:11:08.410905Z",
     "iopub.status.idle": "2020-08-09T14:11:08.413787Z",
     "shell.execute_reply": "2020-08-09T14:11:08.414356Z"
    },
    "papermill": {
     "duration": 0.031638,
     "end_time": "2020-08-09T14:11:08.414507",
     "exception": false,
     "start_time": "2020-08-09T14:11:08.382869",
     "status": "completed"
    },
    "tags": []
   },
   "outputs": [],
   "source": [
    "del merged_train"
   ]
  },
  {
   "cell_type": "code",
   "execution_count": 14,
   "metadata": {
    "execution": {
     "iopub.execute_input": "2020-08-09T14:11:08.546169Z",
     "iopub.status.busy": "2020-08-09T14:11:08.545298Z",
     "iopub.status.idle": "2020-08-09T14:11:08.549225Z",
     "shell.execute_reply": "2020-08-09T14:11:08.548656Z"
    },
    "papermill": {
     "duration": 0.113901,
     "end_time": "2020-08-09T14:11:08.549394",
     "exception": false,
     "start_time": "2020-08-09T14:11:08.435493",
     "status": "completed"
    },
    "tags": []
   },
   "outputs": [],
   "source": [
    "yy_valid = valid_data['meter_reading_log1p']\n",
    "xx_valid = valid_data.drop(['meter_reading_log1p'], axis=1)\n",
    "del valid_data"
   ]
  },
  {
   "cell_type": "code",
   "execution_count": 15,
   "metadata": {
    "execution": {
     "iopub.execute_input": "2020-08-09T14:11:08.616012Z",
     "iopub.status.busy": "2020-08-09T14:11:08.599915Z",
     "iopub.status.idle": "2020-08-09T14:11:08.634421Z",
     "shell.execute_reply": "2020-08-09T14:11:08.633542Z"
    },
    "papermill": {
     "duration": 0.064425,
     "end_time": "2020-08-09T14:11:08.634598",
     "exception": false,
     "start_time": "2020-08-09T14:11:08.570173",
     "status": "completed"
    },
    "tags": []
   },
   "outputs": [
    {
     "data": {
      "text/html": [
       "<div>\n",
       "<style scoped>\n",
       "    .dataframe tbody tr th:only-of-type {\n",
       "        vertical-align: middle;\n",
       "    }\n",
       "\n",
       "    .dataframe tbody tr th {\n",
       "        vertical-align: top;\n",
       "    }\n",
       "\n",
       "    .dataframe thead th {\n",
       "        text-align: right;\n",
       "    }\n",
       "</style>\n",
       "<table border=\"1\" class=\"dataframe\">\n",
       "  <thead>\n",
       "    <tr style=\"text-align: right;\">\n",
       "      <th></th>\n",
       "      <th>building_id</th>\n",
       "      <th>meter</th>\n",
       "      <th>weekend</th>\n",
       "      <th>site_id</th>\n",
       "      <th>primary_use</th>\n",
       "      <th>square_feet</th>\n",
       "      <th>air_temperature</th>\n",
       "      <th>cloud_coverage</th>\n",
       "      <th>dew_temperature</th>\n",
       "      <th>precip_depth_1_hr</th>\n",
       "      <th>IsHoliday</th>\n",
       "      <th>month_group</th>\n",
       "      <th>horizsolar</th>\n",
       "      <th>Sensible_Heat</th>\n",
       "      <th>relative_humidity</th>\n",
       "      <th>hour</th>\n",
       "    </tr>\n",
       "  </thead>\n",
       "  <tbody>\n",
       "    <tr>\n",
       "      <th>16543600</th>\n",
       "      <td>259</td>\n",
       "      <td>0</td>\n",
       "      <td>2</td>\n",
       "      <td>2</td>\n",
       "      <td>0</td>\n",
       "      <td>11.257646</td>\n",
       "      <td>23.299999</td>\n",
       "      <td>5.0</td>\n",
       "      <td>2.8</td>\n",
       "      <td>0.0</td>\n",
       "      <td>0.0</td>\n",
       "      <td>3</td>\n",
       "      <td>0.0</td>\n",
       "      <td>0.030696</td>\n",
       "      <td>26.154922</td>\n",
       "      <td>20</td>\n",
       "    </tr>\n",
       "    <tr>\n",
       "      <th>16543601</th>\n",
       "      <td>259</td>\n",
       "      <td>1</td>\n",
       "      <td>2</td>\n",
       "      <td>2</td>\n",
       "      <td>0</td>\n",
       "      <td>11.257646</td>\n",
       "      <td>23.299999</td>\n",
       "      <td>5.0</td>\n",
       "      <td>2.8</td>\n",
       "      <td>0.0</td>\n",
       "      <td>0.0</td>\n",
       "      <td>3</td>\n",
       "      <td>0.0</td>\n",
       "      <td>0.030696</td>\n",
       "      <td>26.154922</td>\n",
       "      <td>20</td>\n",
       "    </tr>\n",
       "    <tr>\n",
       "      <th>16543602</th>\n",
       "      <td>260</td>\n",
       "      <td>0</td>\n",
       "      <td>2</td>\n",
       "      <td>2</td>\n",
       "      <td>0</td>\n",
       "      <td>11.751832</td>\n",
       "      <td>23.299999</td>\n",
       "      <td>5.0</td>\n",
       "      <td>2.8</td>\n",
       "      <td>0.0</td>\n",
       "      <td>0.0</td>\n",
       "      <td>3</td>\n",
       "      <td>0.0</td>\n",
       "      <td>0.032043</td>\n",
       "      <td>26.154922</td>\n",
       "      <td>20</td>\n",
       "    </tr>\n",
       "    <tr>\n",
       "      <th>16543603</th>\n",
       "      <td>260</td>\n",
       "      <td>1</td>\n",
       "      <td>2</td>\n",
       "      <td>2</td>\n",
       "      <td>0</td>\n",
       "      <td>11.751832</td>\n",
       "      <td>23.299999</td>\n",
       "      <td>5.0</td>\n",
       "      <td>2.8</td>\n",
       "      <td>0.0</td>\n",
       "      <td>0.0</td>\n",
       "      <td>3</td>\n",
       "      <td>0.0</td>\n",
       "      <td>0.032043</td>\n",
       "      <td>26.154922</td>\n",
       "      <td>20</td>\n",
       "    </tr>\n",
       "    <tr>\n",
       "      <th>16543604</th>\n",
       "      <td>260</td>\n",
       "      <td>3</td>\n",
       "      <td>2</td>\n",
       "      <td>2</td>\n",
       "      <td>0</td>\n",
       "      <td>11.751832</td>\n",
       "      <td>23.299999</td>\n",
       "      <td>5.0</td>\n",
       "      <td>2.8</td>\n",
       "      <td>0.0</td>\n",
       "      <td>0.0</td>\n",
       "      <td>3</td>\n",
       "      <td>0.0</td>\n",
       "      <td>0.032043</td>\n",
       "      <td>26.154922</td>\n",
       "      <td>20</td>\n",
       "    </tr>\n",
       "    <tr>\n",
       "      <th>...</th>\n",
       "      <td>...</td>\n",
       "      <td>...</td>\n",
       "      <td>...</td>\n",
       "      <td>...</td>\n",
       "      <td>...</td>\n",
       "      <td>...</td>\n",
       "      <td>...</td>\n",
       "      <td>...</td>\n",
       "      <td>...</td>\n",
       "      <td>...</td>\n",
       "      <td>...</td>\n",
       "      <td>...</td>\n",
       "      <td>...</td>\n",
       "      <td>...</td>\n",
       "      <td>...</td>\n",
       "      <td>...</td>\n",
       "    </tr>\n",
       "    <tr>\n",
       "      <th>19852315</th>\n",
       "      <td>1444</td>\n",
       "      <td>0</td>\n",
       "      <td>5</td>\n",
       "      <td>15</td>\n",
       "      <td>3</td>\n",
       "      <td>9.884305</td>\n",
       "      <td>NaN</td>\n",
       "      <td>NaN</td>\n",
       "      <td>NaN</td>\n",
       "      <td>NaN</td>\n",
       "      <td>NaN</td>\n",
       "      <td>3</td>\n",
       "      <td>0.0</td>\n",
       "      <td>NaN</td>\n",
       "      <td>NaN</td>\n",
       "      <td>23</td>\n",
       "    </tr>\n",
       "    <tr>\n",
       "      <th>19852316</th>\n",
       "      <td>1445</td>\n",
       "      <td>0</td>\n",
       "      <td>5</td>\n",
       "      <td>15</td>\n",
       "      <td>0</td>\n",
       "      <td>8.366138</td>\n",
       "      <td>NaN</td>\n",
       "      <td>NaN</td>\n",
       "      <td>NaN</td>\n",
       "      <td>NaN</td>\n",
       "      <td>NaN</td>\n",
       "      <td>3</td>\n",
       "      <td>0.0</td>\n",
       "      <td>NaN</td>\n",
       "      <td>NaN</td>\n",
       "      <td>23</td>\n",
       "    </tr>\n",
       "    <tr>\n",
       "      <th>19852317</th>\n",
       "      <td>1446</td>\n",
       "      <td>0</td>\n",
       "      <td>5</td>\n",
       "      <td>15</td>\n",
       "      <td>3</td>\n",
       "      <td>9.329545</td>\n",
       "      <td>NaN</td>\n",
       "      <td>NaN</td>\n",
       "      <td>NaN</td>\n",
       "      <td>NaN</td>\n",
       "      <td>NaN</td>\n",
       "      <td>3</td>\n",
       "      <td>0.0</td>\n",
       "      <td>NaN</td>\n",
       "      <td>NaN</td>\n",
       "      <td>23</td>\n",
       "    </tr>\n",
       "    <tr>\n",
       "      <th>19852318</th>\n",
       "      <td>1447</td>\n",
       "      <td>0</td>\n",
       "      <td>5</td>\n",
       "      <td>15</td>\n",
       "      <td>1</td>\n",
       "      <td>10.301458</td>\n",
       "      <td>NaN</td>\n",
       "      <td>NaN</td>\n",
       "      <td>NaN</td>\n",
       "      <td>NaN</td>\n",
       "      <td>NaN</td>\n",
       "      <td>3</td>\n",
       "      <td>0.0</td>\n",
       "      <td>NaN</td>\n",
       "      <td>NaN</td>\n",
       "      <td>23</td>\n",
       "    </tr>\n",
       "    <tr>\n",
       "      <th>19852319</th>\n",
       "      <td>1448</td>\n",
       "      <td>0</td>\n",
       "      <td>5</td>\n",
       "      <td>15</td>\n",
       "      <td>2</td>\n",
       "      <td>11.432496</td>\n",
       "      <td>NaN</td>\n",
       "      <td>NaN</td>\n",
       "      <td>NaN</td>\n",
       "      <td>NaN</td>\n",
       "      <td>NaN</td>\n",
       "      <td>3</td>\n",
       "      <td>0.0</td>\n",
       "      <td>NaN</td>\n",
       "      <td>NaN</td>\n",
       "      <td>23</td>\n",
       "    </tr>\n",
       "  </tbody>\n",
       "</table>\n",
       "<p>3308720 rows × 16 columns</p>\n",
       "</div>"
      ],
      "text/plain": [
       "          building_id  meter  weekend  site_id  primary_use  square_feet  \\\n",
       "16543600          259      0        2        2            0    11.257646   \n",
       "16543601          259      1        2        2            0    11.257646   \n",
       "16543602          260      0        2        2            0    11.751832   \n",
       "16543603          260      1        2        2            0    11.751832   \n",
       "16543604          260      3        2        2            0    11.751832   \n",
       "...               ...    ...      ...      ...          ...          ...   \n",
       "19852315         1444      0        5       15            3     9.884305   \n",
       "19852316         1445      0        5       15            0     8.366138   \n",
       "19852317         1446      0        5       15            3     9.329545   \n",
       "19852318         1447      0        5       15            1    10.301458   \n",
       "19852319         1448      0        5       15            2    11.432496   \n",
       "\n",
       "          air_temperature  cloud_coverage  dew_temperature  precip_depth_1_hr  \\\n",
       "16543600        23.299999             5.0              2.8                0.0   \n",
       "16543601        23.299999             5.0              2.8                0.0   \n",
       "16543602        23.299999             5.0              2.8                0.0   \n",
       "16543603        23.299999             5.0              2.8                0.0   \n",
       "16543604        23.299999             5.0              2.8                0.0   \n",
       "...                   ...             ...              ...                ...   \n",
       "19852315              NaN             NaN              NaN                NaN   \n",
       "19852316              NaN             NaN              NaN                NaN   \n",
       "19852317              NaN             NaN              NaN                NaN   \n",
       "19852318              NaN             NaN              NaN                NaN   \n",
       "19852319              NaN             NaN              NaN                NaN   \n",
       "\n",
       "          IsHoliday  month_group  horizsolar  Sensible_Heat  \\\n",
       "16543600        0.0            3         0.0       0.030696   \n",
       "16543601        0.0            3         0.0       0.030696   \n",
       "16543602        0.0            3         0.0       0.032043   \n",
       "16543603        0.0            3         0.0       0.032043   \n",
       "16543604        0.0            3         0.0       0.032043   \n",
       "...             ...          ...         ...            ...   \n",
       "19852315        NaN            3         0.0            NaN   \n",
       "19852316        NaN            3         0.0            NaN   \n",
       "19852317        NaN            3         0.0            NaN   \n",
       "19852318        NaN            3         0.0            NaN   \n",
       "19852319        NaN            3         0.0            NaN   \n",
       "\n",
       "          relative_humidity  hour  \n",
       "16543600          26.154922    20  \n",
       "16543601          26.154922    20  \n",
       "16543602          26.154922    20  \n",
       "16543603          26.154922    20  \n",
       "16543604          26.154922    20  \n",
       "...                     ...   ...  \n",
       "19852315                NaN    23  \n",
       "19852316                NaN    23  \n",
       "19852317                NaN    23  \n",
       "19852318                NaN    23  \n",
       "19852319                NaN    23  \n",
       "\n",
       "[3308720 rows x 16 columns]"
      ]
     },
     "execution_count": 15,
     "metadata": {},
     "output_type": "execute_result"
    }
   ],
   "source": [
    "xx_valid"
   ]
  },
  {
   "cell_type": "code",
   "execution_count": 16,
   "metadata": {
    "execution": {
     "iopub.execute_input": "2020-08-09T14:11:08.694970Z",
     "iopub.status.busy": "2020-08-09T14:11:08.692064Z",
     "iopub.status.idle": "2020-08-09T14:11:08.697603Z",
     "shell.execute_reply": "2020-08-09T14:11:08.698124Z"
    },
    "papermill": {
     "duration": 0.034073,
     "end_time": "2020-08-09T14:11:08.698327",
     "exception": false,
     "start_time": "2020-08-09T14:11:08.664254",
     "status": "completed"
    },
    "tags": []
   },
   "outputs": [],
   "source": [
    "from sklearn.metrics import mean_squared_error\n",
    "from math import sqrt\n",
    "from tqdm import tqdm\n",
    "import joblib\n",
    "import pickle\n",
    "#filename = 'regressor0.sav'\n",
    "#pickle.dump(regressor, open(filename, 'wb')) "
   ]
  },
  {
   "cell_type": "code",
   "execution_count": 17,
   "metadata": {
    "execution": {
     "iopub.execute_input": "2020-08-09T14:11:08.756674Z",
     "iopub.status.busy": "2020-08-09T14:11:08.755652Z",
     "iopub.status.idle": "2020-08-09T19:37:30.034638Z",
     "shell.execute_reply": "2020-08-09T19:37:30.031007Z"
    },
    "papermill": {
     "duration": 19581.314218,
     "end_time": "2020-08-09T19:37:30.034883",
     "exception": false,
     "start_time": "2020-08-09T14:11:08.720665",
     "status": "completed"
    },
    "tags": []
   },
   "outputs": [
    {
     "name": "stderr",
     "output_type": "stream",
     "text": [
      "  7%|▋         | 1/15 [21:49<5:05:28, 1309.19s/it]"
     ]
    },
    {
     "name": "stdout",
     "output_type": "stream",
     "text": [
      "0.9807582780228233\n"
     ]
    },
    {
     "name": "stderr",
     "output_type": "stream",
     "text": [
      " 13%|█▎        | 2/15 [43:26<4:42:52, 1305.56s/it]"
     ]
    },
    {
     "name": "stdout",
     "output_type": "stream",
     "text": [
      "0.9805510557813775\n"
     ]
    },
    {
     "name": "stderr",
     "output_type": "stream",
     "text": [
      " 20%|██        | 3/15 [1:05:04<4:20:38, 1303.25s/it]"
     ]
    },
    {
     "name": "stdout",
     "output_type": "stream",
     "text": [
      "0.9812798430670716\n"
     ]
    },
    {
     "name": "stderr",
     "output_type": "stream",
     "text": [
      " 27%|██▋       | 4/15 [1:26:44<3:58:44, 1302.24s/it]"
     ]
    },
    {
     "name": "stdout",
     "output_type": "stream",
     "text": [
      "0.977617236415025\n"
     ]
    },
    {
     "name": "stderr",
     "output_type": "stream",
     "text": [
      " 33%|███▎      | 5/15 [1:48:31<3:37:17, 1303.76s/it]"
     ]
    },
    {
     "name": "stdout",
     "output_type": "stream",
     "text": [
      "0.9812057491660351\n"
     ]
    },
    {
     "name": "stderr",
     "output_type": "stream",
     "text": [
      " 40%|████      | 6/15 [2:10:10<3:15:20, 1302.29s/it]"
     ]
    },
    {
     "name": "stdout",
     "output_type": "stream",
     "text": [
      "0.9776525785212831\n"
     ]
    },
    {
     "name": "stderr",
     "output_type": "stream",
     "text": [
      " 47%|████▋     | 7/15 [2:32:12<2:54:25, 1308.21s/it]"
     ]
    },
    {
     "name": "stdout",
     "output_type": "stream",
     "text": [
      "0.9767983274020188\n"
     ]
    },
    {
     "name": "stderr",
     "output_type": "stream",
     "text": [
      " 53%|█████▎    | 8/15 [2:53:50<2:32:16, 1305.28s/it]"
     ]
    },
    {
     "name": "stdout",
     "output_type": "stream",
     "text": [
      "0.9780162432015006\n"
     ]
    },
    {
     "name": "stderr",
     "output_type": "stream",
     "text": [
      " 60%|██████    | 9/15 [3:15:34<2:10:29, 1304.95s/it]"
     ]
    },
    {
     "name": "stdout",
     "output_type": "stream",
     "text": [
      "0.9817892753285583\n"
     ]
    },
    {
     "name": "stderr",
     "output_type": "stream",
     "text": [
      " 67%|██████▋   | 10/15 [3:37:35<1:49:08, 1309.72s/it]"
     ]
    },
    {
     "name": "stdout",
     "output_type": "stream",
     "text": [
      "0.9768269633545543\n"
     ]
    },
    {
     "name": "stderr",
     "output_type": "stream",
     "text": [
      " 73%|███████▎  | 11/15 [3:59:06<1:26:55, 1303.99s/it]"
     ]
    },
    {
     "name": "stdout",
     "output_type": "stream",
     "text": [
      "0.9781237180446286\n"
     ]
    },
    {
     "name": "stderr",
     "output_type": "stream",
     "text": [
      " 80%|████████  | 12/15 [4:20:50<1:05:11, 1303.99s/it]"
     ]
    },
    {
     "name": "stdout",
     "output_type": "stream",
     "text": [
      "0.9777316651633127\n"
     ]
    },
    {
     "name": "stderr",
     "output_type": "stream",
     "text": [
      " 87%|████████▋ | 13/15 [4:42:45<43:34, 1307.39s/it]  "
     ]
    },
    {
     "name": "stdout",
     "output_type": "stream",
     "text": [
      "0.9724930386082853\n"
     ]
    },
    {
     "name": "stderr",
     "output_type": "stream",
     "text": [
      " 93%|█████████▎| 14/15 [5:04:30<21:46, 1306.72s/it]"
     ]
    },
    {
     "name": "stdout",
     "output_type": "stream",
     "text": [
      "0.9785885459327468\n"
     ]
    },
    {
     "name": "stderr",
     "output_type": "stream",
     "text": [
      "100%|██████████| 15/15 [5:26:21<00:00, 1305.42s/it]"
     ]
    },
    {
     "name": "stdout",
     "output_type": "stream",
     "text": [
      "0.974180997943618\n"
     ]
    },
    {
     "name": "stderr",
     "output_type": "stream",
     "text": [
      "\n"
     ]
    }
   ],
   "source": [
    "import lightgbm as lgb\n",
    "valid_pred=[]\n",
    "#test_pred=[]\n",
    "for i in tqdm(range(0,15)):\n",
    "    df=train_data.sample(n=12000000,replace = True) \n",
    "    \n",
    "    y_train_fit=df['meter_reading_log1p']\n",
    "    train_fit=df.drop(['meter_reading_log1p'], axis=1)\n",
    "\n",
    "    #device = 'gpu',gpu_device_id= 1,\n",
    "    regressor=lgb.LGBMRegressor(num_leaves=255,feature_fraction = 0.9,reg_lambda= 2,metric=\"rmse\",learning_rate = 0.05,boosting_type='gbdt',n_estimators=1500,max_depth=13,objective='regression',n_jobs=-1)\n",
    "\n",
    "    regressor.fit(train_fit,y_train_fit)\n",
    "    \n",
    "    filename = 'lgb_reg'+ str(i)+'.sav'\n",
    "    pickle.dump(regressor, open(filename, 'wb'))\n",
    "    predict_valid =  regressor.predict(xx_valid)\n",
    "                                           \n",
    "    #predict_test =  regressor.predict(X_test)\n",
    "    k=sqrt(mean_squared_error(yy_valid, predict_valid))\n",
    "    print(k)\n",
    "\n",
    "   \n",
    "    valid_pred.append(predict_valid)\n",
    "    #test_pred.append(predict_test)\n",
    "    \n",
    "    del train_fit,regressor, k ,df,y_train_fit,predict_valid\n",
    "     \n",
    "                                                                                        "
   ]
  },
  {
   "cell_type": "code",
   "execution_count": 18,
   "metadata": {
    "execution": {
     "iopub.execute_input": "2020-08-09T19:37:30.132439Z",
     "iopub.status.busy": "2020-08-09T19:37:30.117027Z",
     "iopub.status.idle": "2020-08-09T19:37:30.788053Z",
     "shell.execute_reply": "2020-08-09T19:37:30.787403Z"
    },
    "papermill": {
     "duration": 0.717494,
     "end_time": "2020-08-09T19:37:30.788176",
     "exception": false,
     "start_time": "2020-08-09T19:37:30.070682",
     "status": "completed"
    },
    "tags": []
   },
   "outputs": [
    {
     "data": {
      "text/plain": [
       "['yy__valid_nan15_lgb.pkl']"
      ]
     },
     "execution_count": 18,
     "metadata": {},
     "output_type": "execute_result"
    }
   ],
   "source": [
    "import joblib\n",
    "joblib.dump(valid_pred, 'valid_pred_nan15__15lgb.pkl') \n",
    "joblib.dump(yy_valid, 'yy__valid_nan15_lgb.pkl') \n",
    "#joblib.dump(test_pred, 'test_pred2__100lgb.pkl')        "
   ]
  },
  {
   "cell_type": "code",
   "execution_count": null,
   "metadata": {
    "papermill": {
     "duration": 0.035853,
     "end_time": "2020-08-09T19:37:30.860298",
     "exception": false,
     "start_time": "2020-08-09T19:37:30.824445",
     "status": "completed"
    },
    "tags": []
   },
   "outputs": [],
   "source": [
    "     "
   ]
  }
 ],
 "metadata": {
  "kernelspec": {
   "display_name": "Python 3",
   "language": "python",
   "name": "python3"
  },
  "language_info": {
   "codemirror_mode": {
    "name": "ipython",
    "version": 3
   },
   "file_extension": ".py",
   "mimetype": "text/x-python",
   "name": "python",
   "nbconvert_exporter": "python",
   "pygments_lexer": "ipython3",
   "version": "3.7.3"
  },
  "papermill": {
   "duration": 19614.623613,
   "end_time": "2020-08-09T19:37:31.005620",
   "environment_variables": {},
   "exception": null,
   "input_path": "__notebook__.ipynb",
   "output_path": "__notebook__.ipynb",
   "parameters": {},
   "start_time": "2020-08-09T14:10:36.382007",
   "version": "2.1.0"
  }
 },
 "nbformat": 4,
 "nbformat_minor": 4
}
