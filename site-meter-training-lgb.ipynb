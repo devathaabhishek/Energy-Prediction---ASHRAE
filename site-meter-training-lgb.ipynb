{
 "cells": [
  {
   "cell_type": "code",
   "execution_count": 1,
   "metadata": {
    "_cell_guid": "b1076dfc-b9ad-4769-8c92-a6c4dae69d19",
    "_uuid": "8f2839f25d086af736a60e9eeb907d3b93b6e0e5",
    "execution": {
     "iopub.execute_input": "2020-08-09T14:32:45.413064Z",
     "iopub.status.busy": "2020-08-09T14:32:45.412078Z",
     "iopub.status.idle": "2020-08-09T14:32:47.417391Z",
     "shell.execute_reply": "2020-08-09T14:32:47.416591Z"
    },
    "papermill": {
     "duration": 2.039136,
     "end_time": "2020-08-09T14:32:47.417540",
     "exception": false,
     "start_time": "2020-08-09T14:32:45.378404",
     "status": "completed"
    },
    "tags": []
   },
   "outputs": [],
   "source": [
    "from tqdm import tqdm_notebook as tqdm\n",
    "import numpy as np # linear algebra\n",
    "import pandas as pd # data processing, CSV file I/O (e.g. pd.read_csv)\n",
    "\n",
    "import matplotlib.pyplot as plt\n",
    "import seaborn as sns \n",
    "import statistics\n",
    "from IPython.core.display import display, HTML\n",
    "\n",
    "from math import sqrt\n",
    "from sklearn.metrics import mean_squared_error\n",
    "import warnings\n",
    "warnings.filterwarnings('ignore')\n",
    "import gc\n",
    "\n",
    "\n",
    "\n",
    "# --- models ---\n",
    "#from sklearn import preprocessing\n",
    "from sklearn.model_selection import KFold,GroupKFold\n",
    "import lightgbm as lgb\n",
    "import xgboost as xgb\n",
    "#import catboost as cb\n",
    "from sklearn.metrics import mean_squared_error\n",
    "from math import sqrt\n",
    "from tqdm import tqdm\n",
    "import joblib\n",
    "import pickle"
   ]
  },
  {
   "cell_type": "code",
   "execution_count": 2,
   "metadata": {
    "_cell_guid": "79c7e3d0-c299-4dcb-8224-4455121ee9b0",
    "_uuid": "d629ff2d2480ee46fbb7e2d37f6b5fab8052498a",
    "execution": {
     "iopub.execute_input": "2020-08-09T14:32:47.489548Z",
     "iopub.status.busy": "2020-08-09T14:32:47.488416Z",
     "iopub.status.idle": "2020-08-09T14:32:47.491930Z",
     "shell.execute_reply": "2020-08-09T14:32:47.491190Z"
    },
    "papermill": {
     "duration": 0.051977,
     "end_time": "2020-08-09T14:32:47.492058",
     "exception": false,
     "start_time": "2020-08-09T14:32:47.440081",
     "status": "completed"
    },
    "tags": []
   },
   "outputs": [],
   "source": [
    "# Original code from https://www.kaggle.com/gemartin/load-data-reduce-memory-usage by @gemartin\n",
    "# Modified to support timestamp type, categorical type\n",
    "# Modified to add option to use float16 or not. feather format does not support float16.\n",
    "from pandas.api.types import is_datetime64_any_dtype as is_datetime\n",
    "from pandas.api.types import is_categorical_dtype\n",
    "\n",
    "def memory_reduction(df, use_float16=False):\n",
    "    \"\"\" iterate through all the columns of a dataframe and modify the data type\n",
    "        to reduce memory usage.        \n",
    "    \"\"\"\n",
    "    start_mem = df.memory_usage().sum() / 1024**2\n",
    "    print('Memory usage of dataframe is {:.2f} MB'.format(start_mem))\n",
    "    \n",
    "    for col in df.columns:\n",
    "        if is_datetime(df[col]) or is_categorical_dtype(df[col]):\n",
    "            # skip datetime type or categorical type\n",
    "            continue\n",
    "        col_type = df[col].dtype\n",
    "        \n",
    "        if col_type != object:\n",
    "            c_min = df[col].min()\n",
    "            c_max = df[col].max()\n",
    "            if str(col_type)[:3] == 'int':\n",
    "                if c_min > np.iinfo(np.int8).min and c_max < np.iinfo(np.int8).max:\n",
    "                    df[col] = df[col].astype(np.int8)\n",
    "                elif c_min > np.iinfo(np.int16).min and c_max < np.iinfo(np.int16).max:\n",
    "                    df[col] = df[col].astype(np.int16)\n",
    "                elif c_min > np.iinfo(np.int32).min and c_max < np.iinfo(np.int32).max:\n",
    "                    df[col] = df[col].astype(np.int32)\n",
    "                elif c_min > np.iinfo(np.int64).min and c_max < np.iinfo(np.int64).max:\n",
    "                    df[col] = df[col].astype(np.int64)  \n",
    "            else:\n",
    "                if use_float16 and c_min > np.finfo(np.float16).min and c_max < np.finfo(np.float16).max:\n",
    "                    df[col] = df[col].astype(np.float16)\n",
    "                elif c_min > np.finfo(np.float32).min and c_max < np.finfo(np.float32).max:\n",
    "                    df[col] = df[col].astype(np.float32)\n",
    "                else:\n",
    "                    df[col] = df[col].astype(np.float64)\n",
    "        else:\n",
    "            df[col] = df[col].astype('category')\n",
    "\n",
    "    end_mem = df.memory_usage().sum() / 1024**2\n",
    "    print('Memory usage after optimization is: {:.2f} MB'\n",
    "          .format(end_mem))\n",
    "    print('Decreased by {:.1f}%'.format(100 * (start_mem - end_mem) / start_mem))\n",
    "    \n",
    "    return df"
   ]
  },
  {
   "cell_type": "code",
   "execution_count": 3,
   "metadata": {
    "execution": {
     "iopub.execute_input": "2020-08-09T14:32:47.542363Z",
     "iopub.status.busy": "2020-08-09T14:32:47.541373Z",
     "iopub.status.idle": "2020-08-09T14:32:49.607323Z",
     "shell.execute_reply": "2020-08-09T14:32:49.606471Z"
    },
    "papermill": {
     "duration": 2.093038,
     "end_time": "2020-08-09T14:32:49.607461",
     "exception": false,
     "start_time": "2020-08-09T14:32:47.514423",
     "status": "completed"
    },
    "tags": []
   },
   "outputs": [],
   "source": [
    "merged_train = pd.read_feather('../input/energy-feature-engineering-2/merged_train.feather')"
   ]
  },
  {
   "cell_type": "code",
   "execution_count": 4,
   "metadata": {
    "execution": {
     "iopub.execute_input": "2020-08-09T14:32:49.659444Z",
     "iopub.status.busy": "2020-08-09T14:32:49.658431Z",
     "iopub.status.idle": "2020-08-09T14:32:49.662151Z",
     "shell.execute_reply": "2020-08-09T14:32:49.661472Z"
    },
    "papermill": {
     "duration": 0.03087,
     "end_time": "2020-08-09T14:32:49.662285",
     "exception": false,
     "start_time": "2020-08-09T14:32:49.631415",
     "status": "completed"
    },
    "tags": []
   },
   "outputs": [],
   "source": [
    "siteid = 14"
   ]
  },
  {
   "cell_type": "code",
   "execution_count": 5,
   "metadata": {
    "execution": {
     "iopub.execute_input": "2020-08-09T14:32:49.715293Z",
     "iopub.status.busy": "2020-08-09T14:32:49.714144Z",
     "iopub.status.idle": "2020-08-09T14:32:50.062563Z",
     "shell.execute_reply": "2020-08-09T14:32:50.061765Z"
    },
    "papermill": {
     "duration": 0.377546,
     "end_time": "2020-08-09T14:32:50.062695",
     "exception": false,
     "start_time": "2020-08-09T14:32:49.685149",
     "status": "completed"
    },
    "tags": []
   },
   "outputs": [],
   "source": [
    "merged_train = merged_train[merged_train['site_id']==siteid]"
   ]
  },
  {
   "cell_type": "code",
   "execution_count": 6,
   "metadata": {
    "execution": {
     "iopub.execute_input": "2020-08-09T14:32:50.113791Z",
     "iopub.status.busy": "2020-08-09T14:32:50.113051Z",
     "iopub.status.idle": "2020-08-09T14:32:50.492414Z",
     "shell.execute_reply": "2020-08-09T14:32:50.492998Z"
    },
    "papermill": {
     "duration": 0.40787,
     "end_time": "2020-08-09T14:32:50.493189",
     "exception": false,
     "start_time": "2020-08-09T14:32:50.085319",
     "status": "completed"
    },
    "tags": []
   },
   "outputs": [
    {
     "data": {
      "text/html": [
       "<div>\n",
       "<style scoped>\n",
       "    .dataframe tbody tr th:only-of-type {\n",
       "        vertical-align: middle;\n",
       "    }\n",
       "\n",
       "    .dataframe tbody tr th {\n",
       "        vertical-align: top;\n",
       "    }\n",
       "\n",
       "    .dataframe thead th {\n",
       "        text-align: right;\n",
       "    }\n",
       "</style>\n",
       "<table border=\"1\" class=\"dataframe\">\n",
       "  <thead>\n",
       "    <tr style=\"text-align: right;\">\n",
       "      <th></th>\n",
       "      <th>index</th>\n",
       "      <th>building_id</th>\n",
       "      <th>meter</th>\n",
       "      <th>timestamp</th>\n",
       "      <th>meter_reading_log1p</th>\n",
       "      <th>weekend</th>\n",
       "      <th>site_id</th>\n",
       "      <th>primary_use</th>\n",
       "      <th>square_feet</th>\n",
       "      <th>air_temperature</th>\n",
       "      <th>cloud_coverage</th>\n",
       "      <th>dew_temperature</th>\n",
       "      <th>precip_depth_1_hr</th>\n",
       "      <th>IsHoliday</th>\n",
       "      <th>month_group</th>\n",
       "      <th>horizsolar</th>\n",
       "      <th>Sensible_Heat</th>\n",
       "      <th>relative_humidity</th>\n",
       "    </tr>\n",
       "  </thead>\n",
       "  <tbody>\n",
       "    <tr>\n",
       "      <th>0</th>\n",
       "      <td>1673</td>\n",
       "      <td>1223</td>\n",
       "      <td>0</td>\n",
       "      <td>2016-01-01 00:00:00</td>\n",
       "      <td>4.392538</td>\n",
       "      <td>4</td>\n",
       "      <td>14</td>\n",
       "      <td>2</td>\n",
       "      <td>10.861726</td>\n",
       "      <td>4.4</td>\n",
       "      <td>1.333333</td>\n",
       "      <td>-2.8</td>\n",
       "      <td>0.0</td>\n",
       "      <td>1.0</td>\n",
       "      <td>1</td>\n",
       "      <td>0.0</td>\n",
       "      <td>0.040443</td>\n",
       "      <td>59.521717</td>\n",
       "    </tr>\n",
       "    <tr>\n",
       "      <th>1</th>\n",
       "      <td>1674</td>\n",
       "      <td>1223</td>\n",
       "      <td>1</td>\n",
       "      <td>2016-01-01 00:00:00</td>\n",
       "      <td>5.167274</td>\n",
       "      <td>4</td>\n",
       "      <td>14</td>\n",
       "      <td>2</td>\n",
       "      <td>10.861726</td>\n",
       "      <td>4.4</td>\n",
       "      <td>1.333333</td>\n",
       "      <td>-2.8</td>\n",
       "      <td>0.0</td>\n",
       "      <td>1.0</td>\n",
       "      <td>1</td>\n",
       "      <td>0.0</td>\n",
       "      <td>0.040443</td>\n",
       "      <td>59.521717</td>\n",
       "    </tr>\n",
       "    <tr>\n",
       "      <th>2</th>\n",
       "      <td>1675</td>\n",
       "      <td>1223</td>\n",
       "      <td>3</td>\n",
       "      <td>2016-01-01 00:00:00</td>\n",
       "      <td>6.081390</td>\n",
       "      <td>4</td>\n",
       "      <td>14</td>\n",
       "      <td>2</td>\n",
       "      <td>10.861726</td>\n",
       "      <td>4.4</td>\n",
       "      <td>1.333333</td>\n",
       "      <td>-2.8</td>\n",
       "      <td>0.0</td>\n",
       "      <td>1.0</td>\n",
       "      <td>1</td>\n",
       "      <td>0.0</td>\n",
       "      <td>0.040443</td>\n",
       "      <td>59.521717</td>\n",
       "    </tr>\n",
       "    <tr>\n",
       "      <th>3</th>\n",
       "      <td>1676</td>\n",
       "      <td>1224</td>\n",
       "      <td>0</td>\n",
       "      <td>2016-01-01 00:00:00</td>\n",
       "      <td>2.564949</td>\n",
       "      <td>4</td>\n",
       "      <td>14</td>\n",
       "      <td>2</td>\n",
       "      <td>10.063990</td>\n",
       "      <td>4.4</td>\n",
       "      <td>1.333333</td>\n",
       "      <td>-2.8</td>\n",
       "      <td>0.0</td>\n",
       "      <td>1.0</td>\n",
       "      <td>1</td>\n",
       "      <td>0.0</td>\n",
       "      <td>0.037473</td>\n",
       "      <td>59.521717</td>\n",
       "    </tr>\n",
       "    <tr>\n",
       "      <th>4</th>\n",
       "      <td>1677</td>\n",
       "      <td>1224</td>\n",
       "      <td>1</td>\n",
       "      <td>2016-01-01 00:00:00</td>\n",
       "      <td>5.147227</td>\n",
       "      <td>4</td>\n",
       "      <td>14</td>\n",
       "      <td>2</td>\n",
       "      <td>10.063990</td>\n",
       "      <td>4.4</td>\n",
       "      <td>1.333333</td>\n",
       "      <td>-2.8</td>\n",
       "      <td>0.0</td>\n",
       "      <td>1.0</td>\n",
       "      <td>1</td>\n",
       "      <td>0.0</td>\n",
       "      <td>0.037473</td>\n",
       "      <td>59.521717</td>\n",
       "    </tr>\n",
       "    <tr>\n",
       "      <th>...</th>\n",
       "      <td>...</td>\n",
       "      <td>...</td>\n",
       "      <td>...</td>\n",
       "      <td>...</td>\n",
       "      <td>...</td>\n",
       "      <td>...</td>\n",
       "      <td>...</td>\n",
       "      <td>...</td>\n",
       "      <td>...</td>\n",
       "      <td>...</td>\n",
       "      <td>...</td>\n",
       "      <td>...</td>\n",
       "      <td>...</td>\n",
       "      <td>...</td>\n",
       "      <td>...</td>\n",
       "      <td>...</td>\n",
       "      <td>...</td>\n",
       "      <td>...</td>\n",
       "    </tr>\n",
       "    <tr>\n",
       "      <th>2501501</th>\n",
       "      <td>19852066</td>\n",
       "      <td>1323</td>\n",
       "      <td>1</td>\n",
       "      <td>2016-12-31 23:00:00</td>\n",
       "      <td>0.000000</td>\n",
       "      <td>5</td>\n",
       "      <td>14</td>\n",
       "      <td>2</td>\n",
       "      <td>11.375971</td>\n",
       "      <td>NaN</td>\n",
       "      <td>NaN</td>\n",
       "      <td>NaN</td>\n",
       "      <td>NaN</td>\n",
       "      <td>NaN</td>\n",
       "      <td>3</td>\n",
       "      <td>0.0</td>\n",
       "      <td>NaN</td>\n",
       "      <td>NaN</td>\n",
       "    </tr>\n",
       "    <tr>\n",
       "      <th>2501502</th>\n",
       "      <td>19852067</td>\n",
       "      <td>1323</td>\n",
       "      <td>3</td>\n",
       "      <td>2016-12-31 23:00:00</td>\n",
       "      <td>7.555031</td>\n",
       "      <td>5</td>\n",
       "      <td>14</td>\n",
       "      <td>2</td>\n",
       "      <td>11.375971</td>\n",
       "      <td>NaN</td>\n",
       "      <td>NaN</td>\n",
       "      <td>NaN</td>\n",
       "      <td>NaN</td>\n",
       "      <td>NaN</td>\n",
       "      <td>3</td>\n",
       "      <td>0.0</td>\n",
       "      <td>NaN</td>\n",
       "      <td>NaN</td>\n",
       "    </tr>\n",
       "    <tr>\n",
       "      <th>2501503</th>\n",
       "      <td>19852068</td>\n",
       "      <td>1324</td>\n",
       "      <td>0</td>\n",
       "      <td>2016-12-31 23:00:00</td>\n",
       "      <td>2.708050</td>\n",
       "      <td>5</td>\n",
       "      <td>14</td>\n",
       "      <td>3</td>\n",
       "      <td>11.346741</td>\n",
       "      <td>NaN</td>\n",
       "      <td>NaN</td>\n",
       "      <td>NaN</td>\n",
       "      <td>NaN</td>\n",
       "      <td>NaN</td>\n",
       "      <td>3</td>\n",
       "      <td>0.0</td>\n",
       "      <td>NaN</td>\n",
       "      <td>NaN</td>\n",
       "    </tr>\n",
       "    <tr>\n",
       "      <th>2501504</th>\n",
       "      <td>19852069</td>\n",
       "      <td>1324</td>\n",
       "      <td>1</td>\n",
       "      <td>2016-12-31 23:00:00</td>\n",
       "      <td>0.000000</td>\n",
       "      <td>5</td>\n",
       "      <td>14</td>\n",
       "      <td>3</td>\n",
       "      <td>11.346741</td>\n",
       "      <td>NaN</td>\n",
       "      <td>NaN</td>\n",
       "      <td>NaN</td>\n",
       "      <td>NaN</td>\n",
       "      <td>NaN</td>\n",
       "      <td>3</td>\n",
       "      <td>0.0</td>\n",
       "      <td>NaN</td>\n",
       "      <td>NaN</td>\n",
       "    </tr>\n",
       "    <tr>\n",
       "      <th>2501505</th>\n",
       "      <td>19852070</td>\n",
       "      <td>1324</td>\n",
       "      <td>3</td>\n",
       "      <td>2016-12-31 23:00:00</td>\n",
       "      <td>5.899950</td>\n",
       "      <td>5</td>\n",
       "      <td>14</td>\n",
       "      <td>3</td>\n",
       "      <td>11.346741</td>\n",
       "      <td>NaN</td>\n",
       "      <td>NaN</td>\n",
       "      <td>NaN</td>\n",
       "      <td>NaN</td>\n",
       "      <td>NaN</td>\n",
       "      <td>3</td>\n",
       "      <td>0.0</td>\n",
       "      <td>NaN</td>\n",
       "      <td>NaN</td>\n",
       "    </tr>\n",
       "  </tbody>\n",
       "</table>\n",
       "<p>2501506 rows × 18 columns</p>\n",
       "</div>"
      ],
      "text/plain": [
       "            index  building_id  meter           timestamp  \\\n",
       "0            1673         1223      0 2016-01-01 00:00:00   \n",
       "1            1674         1223      1 2016-01-01 00:00:00   \n",
       "2            1675         1223      3 2016-01-01 00:00:00   \n",
       "3            1676         1224      0 2016-01-01 00:00:00   \n",
       "4            1677         1224      1 2016-01-01 00:00:00   \n",
       "...           ...          ...    ...                 ...   \n",
       "2501501  19852066         1323      1 2016-12-31 23:00:00   \n",
       "2501502  19852067         1323      3 2016-12-31 23:00:00   \n",
       "2501503  19852068         1324      0 2016-12-31 23:00:00   \n",
       "2501504  19852069         1324      1 2016-12-31 23:00:00   \n",
       "2501505  19852070         1324      3 2016-12-31 23:00:00   \n",
       "\n",
       "         meter_reading_log1p  weekend  site_id  primary_use  square_feet  \\\n",
       "0                   4.392538        4       14            2    10.861726   \n",
       "1                   5.167274        4       14            2    10.861726   \n",
       "2                   6.081390        4       14            2    10.861726   \n",
       "3                   2.564949        4       14            2    10.063990   \n",
       "4                   5.147227        4       14            2    10.063990   \n",
       "...                      ...      ...      ...          ...          ...   \n",
       "2501501             0.000000        5       14            2    11.375971   \n",
       "2501502             7.555031        5       14            2    11.375971   \n",
       "2501503             2.708050        5       14            3    11.346741   \n",
       "2501504             0.000000        5       14            3    11.346741   \n",
       "2501505             5.899950        5       14            3    11.346741   \n",
       "\n",
       "         air_temperature  cloud_coverage  dew_temperature  precip_depth_1_hr  \\\n",
       "0                    4.4        1.333333             -2.8                0.0   \n",
       "1                    4.4        1.333333             -2.8                0.0   \n",
       "2                    4.4        1.333333             -2.8                0.0   \n",
       "3                    4.4        1.333333             -2.8                0.0   \n",
       "4                    4.4        1.333333             -2.8                0.0   \n",
       "...                  ...             ...              ...                ...   \n",
       "2501501              NaN             NaN              NaN                NaN   \n",
       "2501502              NaN             NaN              NaN                NaN   \n",
       "2501503              NaN             NaN              NaN                NaN   \n",
       "2501504              NaN             NaN              NaN                NaN   \n",
       "2501505              NaN             NaN              NaN                NaN   \n",
       "\n",
       "         IsHoliday  month_group  horizsolar  Sensible_Heat  relative_humidity  \n",
       "0              1.0            1         0.0       0.040443          59.521717  \n",
       "1              1.0            1         0.0       0.040443          59.521717  \n",
       "2              1.0            1         0.0       0.040443          59.521717  \n",
       "3              1.0            1         0.0       0.037473          59.521717  \n",
       "4              1.0            1         0.0       0.037473          59.521717  \n",
       "...            ...          ...         ...            ...                ...  \n",
       "2501501        NaN            3         0.0            NaN                NaN  \n",
       "2501502        NaN            3         0.0            NaN                NaN  \n",
       "2501503        NaN            3         0.0            NaN                NaN  \n",
       "2501504        NaN            3         0.0            NaN                NaN  \n",
       "2501505        NaN            3         0.0            NaN                NaN  \n",
       "\n",
       "[2501506 rows x 18 columns]"
      ]
     },
     "execution_count": 6,
     "metadata": {},
     "output_type": "execute_result"
    }
   ],
   "source": [
    "merged_train.sort_values(\"timestamp\")\n",
    "merged_train.reset_index(drop=True)         "
   ]
  },
  {
   "cell_type": "code",
   "execution_count": 7,
   "metadata": {
    "execution": {
     "iopub.execute_input": "2020-08-09T14:32:50.549318Z",
     "iopub.status.busy": "2020-08-09T14:32:50.548253Z",
     "iopub.status.idle": "2020-08-09T14:32:50.551759Z",
     "shell.execute_reply": "2020-08-09T14:32:50.552490Z"
    },
    "papermill": {
     "duration": 0.03504,
     "end_time": "2020-08-09T14:32:50.552652",
     "exception": false,
     "start_time": "2020-08-09T14:32:50.517612",
     "status": "completed"
    },
    "tags": []
   },
   "outputs": [
    {
     "data": {
      "text/plain": [
       "Index(['index', 'building_id', 'meter', 'timestamp', 'meter_reading_log1p',\n",
       "       'weekend', 'site_id', 'primary_use', 'square_feet', 'air_temperature',\n",
       "       'cloud_coverage', 'dew_temperature', 'precip_depth_1_hr', 'IsHoliday',\n",
       "       'month_group', 'horizsolar', 'Sensible_Heat', 'relative_humidity'],\n",
       "      dtype='object')"
      ]
     },
     "execution_count": 7,
     "metadata": {},
     "output_type": "execute_result"
    }
   ],
   "source": [
    "merged_train.columns"
   ]
  },
  {
   "cell_type": "code",
   "execution_count": 8,
   "metadata": {
    "execution": {
     "iopub.execute_input": "2020-08-09T14:32:50.608676Z",
     "iopub.status.busy": "2020-08-09T14:32:50.607872Z",
     "iopub.status.idle": "2020-08-09T14:32:50.857023Z",
     "shell.execute_reply": "2020-08-09T14:32:50.856364Z"
    },
    "papermill": {
     "duration": 0.279516,
     "end_time": "2020-08-09T14:32:50.857167",
     "exception": false,
     "start_time": "2020-08-09T14:32:50.577651",
     "status": "completed"
    },
    "tags": []
   },
   "outputs": [],
   "source": [
    "merged_train[\"hour\"] = merged_train[\"timestamp\"].dt.hour #converting timestamp to hour"
   ]
  },
  {
   "cell_type": "code",
   "execution_count": 9,
   "metadata": {
    "execution": {
     "iopub.execute_input": "2020-08-09T14:32:50.913375Z",
     "iopub.status.busy": "2020-08-09T14:32:50.912523Z",
     "iopub.status.idle": "2020-08-09T14:32:51.014818Z",
     "shell.execute_reply": "2020-08-09T14:32:51.014080Z"
    },
    "papermill": {
     "duration": 0.13326,
     "end_time": "2020-08-09T14:32:51.014994",
     "exception": false,
     "start_time": "2020-08-09T14:32:50.881734",
     "status": "completed"
    },
    "tags": []
   },
   "outputs": [],
   "source": [
    "merged_train = merged_train.drop(['index',\"timestamp\"],axis=1)"
   ]
  },
  {
   "cell_type": "code",
   "execution_count": 10,
   "metadata": {
    "execution": {
     "iopub.execute_input": "2020-08-09T14:32:51.135204Z",
     "iopub.status.busy": "2020-08-09T14:32:51.121555Z",
     "iopub.status.idle": "2020-08-09T14:32:51.139679Z",
     "shell.execute_reply": "2020-08-09T14:32:51.138934Z"
    },
    "papermill": {
     "duration": 0.10008,
     "end_time": "2020-08-09T14:32:51.139809",
     "exception": false,
     "start_time": "2020-08-09T14:32:51.039729",
     "status": "completed"
    },
    "tags": []
   },
   "outputs": [],
   "source": [
    "merged_train = merged_train.drop(['month_group','Sensible_Heat', 'relative_humidity'],axis=1)"
   ]
  },
  {
   "cell_type": "code",
   "execution_count": 11,
   "metadata": {
    "execution": {
     "iopub.execute_input": "2020-08-09T14:32:51.196790Z",
     "iopub.status.busy": "2020-08-09T14:32:51.195794Z",
     "iopub.status.idle": "2020-08-09T14:32:51.200636Z",
     "shell.execute_reply": "2020-08-09T14:32:51.200049Z"
    },
    "papermill": {
     "duration": 0.036182,
     "end_time": "2020-08-09T14:32:51.200769",
     "exception": false,
     "start_time": "2020-08-09T14:32:51.164587",
     "status": "completed"
    },
    "tags": []
   },
   "outputs": [
    {
     "data": {
      "text/plain": [
       "Index(['building_id', 'meter', 'meter_reading_log1p', 'weekend', 'site_id',\n",
       "       'primary_use', 'square_feet', 'air_temperature', 'cloud_coverage',\n",
       "       'dew_temperature', 'precip_depth_1_hr', 'IsHoliday', 'horizsolar',\n",
       "       'hour'],\n",
       "      dtype='object')"
      ]
     },
     "execution_count": 11,
     "metadata": {},
     "output_type": "execute_result"
    }
   ],
   "source": [
    "merged_train.columns"
   ]
  },
  {
   "cell_type": "code",
   "execution_count": 12,
   "metadata": {
    "execution": {
     "iopub.execute_input": "2020-08-09T14:32:51.258575Z",
     "iopub.status.busy": "2020-08-09T14:32:51.257742Z",
     "iopub.status.idle": "2020-08-09T14:32:51.379824Z",
     "shell.execute_reply": "2020-08-09T14:32:51.379128Z"
    },
    "papermill": {
     "duration": 0.153582,
     "end_time": "2020-08-09T14:32:51.379974",
     "exception": false,
     "start_time": "2020-08-09T14:32:51.226392",
     "status": "completed"
    },
    "tags": []
   },
   "outputs": [],
   "source": [
    "target = merged_train['meter_reading_log1p'].reset_index()\n",
    "merged_train = merged_train.drop(['meter_reading_log1p'], axis=1).reset_index()"
   ]
  },
  {
   "cell_type": "code",
   "execution_count": 13,
   "metadata": {
    "execution": {
     "iopub.execute_input": "2020-08-09T14:32:51.438490Z",
     "iopub.status.busy": "2020-08-09T14:32:51.437538Z",
     "iopub.status.idle": "2020-08-09T14:32:51.440666Z",
     "shell.execute_reply": "2020-08-09T14:32:51.440033Z"
    },
    "papermill": {
     "duration": 0.035011,
     "end_time": "2020-08-09T14:32:51.440791",
     "exception": false,
     "start_time": "2020-08-09T14:32:51.405780",
     "status": "completed"
    },
    "tags": []
   },
   "outputs": [],
   "source": [
    "#.reset_index()\n"
   ]
  },
  {
   "cell_type": "code",
   "execution_count": 14,
   "metadata": {
    "execution": {
     "iopub.execute_input": "2020-08-09T14:32:51.499091Z",
     "iopub.status.busy": "2020-08-09T14:32:51.498353Z",
     "iopub.status.idle": "2020-08-09T14:32:51.586267Z",
     "shell.execute_reply": "2020-08-09T14:32:51.585475Z"
    },
    "papermill": {
     "duration": 0.119855,
     "end_time": "2020-08-09T14:32:51.586401",
     "exception": false,
     "start_time": "2020-08-09T14:32:51.466546",
     "status": "completed"
    },
    "tags": []
   },
   "outputs": [],
   "source": [
    "merged_train = merged_train.drop(['index'],axis = 1)\n",
    "target = target.drop(['index'],axis = 1)"
   ]
  },
  {
   "cell_type": "code",
   "execution_count": 15,
   "metadata": {
    "execution": {
     "iopub.execute_input": "2020-08-09T14:32:51.656882Z",
     "iopub.status.busy": "2020-08-09T14:32:51.655654Z",
     "iopub.status.idle": "2020-08-09T14:34:26.780098Z",
     "shell.execute_reply": "2020-08-09T14:34:26.781035Z"
    },
    "papermill": {
     "duration": 95.167819,
     "end_time": "2020-08-09T14:34:26.781298",
     "exception": false,
     "start_time": "2020-08-09T14:32:51.613479",
     "status": "completed"
    },
    "tags": []
   },
   "outputs": [
    {
     "name": "stdout",
     "output_type": "stream",
     "text": [
      "Training until validation scores don't improve for 100 rounds\n",
      "[25]\ttraining's rmse: 1.7198\tvalid_1's rmse: 1.78198\n",
      "[50]\ttraining's rmse: 1.55319\tvalid_1's rmse: 1.68791\n",
      "[75]\ttraining's rmse: 1.47874\tvalid_1's rmse: 1.64929\n",
      "[100]\ttraining's rmse: 1.4261\tvalid_1's rmse: 1.63256\n",
      "[125]\ttraining's rmse: 1.39048\tvalid_1's rmse: 1.62008\n",
      "[150]\ttraining's rmse: 1.36809\tvalid_1's rmse: 1.6104\n",
      "[175]\ttraining's rmse: 1.3505\tvalid_1's rmse: 1.6067\n",
      "[200]\ttraining's rmse: 1.33595\tvalid_1's rmse: 1.60286\n",
      "[225]\ttraining's rmse: 1.32482\tvalid_1's rmse: 1.60062\n",
      "[250]\ttraining's rmse: 1.3129\tvalid_1's rmse: 1.60074\n",
      "[275]\ttraining's rmse: 1.30313\tvalid_1's rmse: 1.60081\n",
      "[300]\ttraining's rmse: 1.29352\tvalid_1's rmse: 1.60149\n",
      "[325]\ttraining's rmse: 1.28613\tvalid_1's rmse: 1.60428\n",
      "[350]\ttraining's rmse: 1.27728\tvalid_1's rmse: 1.60576\n",
      "Early stopping, best iteration is:\n",
      "[264]\ttraining's rmse: 1.30764\tvalid_1's rmse: 1.59962\n",
      "Training until validation scores don't improve for 100 rounds\n",
      "[25]\ttraining's rmse: 1.79036\tvalid_1's rmse: 1.8014\n",
      "[50]\ttraining's rmse: 1.6323\tvalid_1's rmse: 1.64545\n",
      "[75]\ttraining's rmse: 1.54269\tvalid_1's rmse: 1.53196\n",
      "[100]\ttraining's rmse: 1.49437\tvalid_1's rmse: 1.48889\n",
      "[125]\ttraining's rmse: 1.46483\tvalid_1's rmse: 1.46713\n",
      "[150]\ttraining's rmse: 1.44238\tvalid_1's rmse: 1.45622\n",
      "[175]\ttraining's rmse: 1.42276\tvalid_1's rmse: 1.45508\n",
      "[200]\ttraining's rmse: 1.41055\tvalid_1's rmse: 1.44957\n",
      "[225]\ttraining's rmse: 1.39776\tvalid_1's rmse: 1.44726\n",
      "[250]\ttraining's rmse: 1.3873\tvalid_1's rmse: 1.44735\n",
      "[275]\ttraining's rmse: 1.37566\tvalid_1's rmse: 1.4466\n",
      "[300]\ttraining's rmse: 1.36701\tvalid_1's rmse: 1.44638\n",
      "[325]\ttraining's rmse: 1.35651\tvalid_1's rmse: 1.4468\n",
      "[350]\ttraining's rmse: 1.34936\tvalid_1's rmse: 1.446\n",
      "Early stopping, best iteration is:\n",
      "[260]\ttraining's rmse: 1.38207\tvalid_1's rmse: 1.44498\n",
      "Training until validation scores don't improve for 100 rounds\n",
      "[25]\ttraining's rmse: 1.67615\tvalid_1's rmse: 1.98918\n",
      "[50]\ttraining's rmse: 1.49274\tvalid_1's rmse: 1.88328\n",
      "[75]\ttraining's rmse: 1.39476\tvalid_1's rmse: 1.83668\n",
      "[100]\ttraining's rmse: 1.32282\tvalid_1's rmse: 1.81677\n",
      "[125]\ttraining's rmse: 1.27631\tvalid_1's rmse: 1.80719\n",
      "[150]\ttraining's rmse: 1.24576\tvalid_1's rmse: 1.80277\n",
      "[175]\ttraining's rmse: 1.22694\tvalid_1's rmse: 1.80159\n",
      "[200]\ttraining's rmse: 1.21459\tvalid_1's rmse: 1.79994\n",
      "[225]\ttraining's rmse: 1.20308\tvalid_1's rmse: 1.79969\n",
      "[250]\ttraining's rmse: 1.19334\tvalid_1's rmse: 1.80046\n",
      "[275]\ttraining's rmse: 1.18563\tvalid_1's rmse: 1.80056\n",
      "[300]\ttraining's rmse: 1.177\tvalid_1's rmse: 1.80252\n",
      "[325]\ttraining's rmse: 1.16994\tvalid_1's rmse: 1.80287\n",
      "Early stopping, best iteration is:\n",
      "[235]\ttraining's rmse: 1.19952\tvalid_1's rmse: 1.79937\n"
     ]
    }
   ],
   "source": [
    "#https://www.kaggle.com/gunesevitan/ashrae-lightgbm-1-048-no-leak\n",
    "\n",
    "cat_features = [\"building_id\", \"site_id\", \"meter\", \"primary_use\", \"weekend\",'IsHoliday']#, 'month_group'\n",
    "params = {\n",
    "    \"objective\": \"regression\",\"boosting\": \"gbdt\",\"num_leaves\": 31,\"max_depth\": 11,\"learning_rate\": 0.05,\n",
    "    \"feature_fraction\": 0.9,\"reg_lambda\": 2,\"metric\": \"rmse\",\"n_estimators\":5000\n",
    "}\n",
    "\n",
    "kf = GroupKFold(n_splits = 3)\n",
    "models = []\n",
    "i = 0\n",
    "for train_index,valid_index in kf.split(merged_train,,groups = merged_train[\"month_group\"]):\n",
    "    xx_train = merged_train.loc[train_index]\n",
    "    yy_train = target.loc[train_index]\n",
    "    \n",
    "    xx_valid = merged_train.loc[valid_index]\n",
    "    yy_valid = target.loc[valid_index]\n",
    "    \n",
    "    d_training = lgb.Dataset(xx_train, label=yy_train,categorical_feature=cat_features, free_raw_data=False)\n",
    "    d_valid = lgb.Dataset(xx_valid, label=yy_valid,categorical_feature=cat_features, free_raw_data=False)\n",
    "    \n",
    "    model = lgb.train(params, train_set=d_training, num_boost_round=1000, valid_sets=[d_training,d_valid], verbose_eval=25, early_stopping_rounds=100)\n",
    "    filename = 'lgb_reg_site3'+ str(i)+'.sav'\n",
    "    pickle.dump(model, open(filename, 'wb'))\n",
    "    i +=1\n",
    "    models.append(model)\n",
    "    del xx_train, yy_train, xx_valid, yy_valid, d_training, d_valid\n",
    "    gc.collect()        "
   ]
  },
  {
   "cell_type": "code",
   "execution_count": 16,
   "metadata": {
    "execution": {
     "iopub.execute_input": "2020-08-09T14:34:26.889479Z",
     "iopub.status.busy": "2020-08-09T14:34:26.888413Z",
     "iopub.status.idle": "2020-08-09T14:34:29.622507Z",
     "shell.execute_reply": "2020-08-09T14:34:29.621685Z"
    },
    "papermill": {
     "duration": 2.786725,
     "end_time": "2020-08-09T14:34:29.622648",
     "exception": false,
     "start_time": "2020-08-09T14:34:26.835923",
     "status": "completed"
    },
    "tags": []
   },
   "outputs": [],
   "source": [
    "merged_test = pd.read_feather('../input/energy-feature-engineering-2/merged_test.feather')    "
   ]
  },
  {
   "cell_type": "code",
   "execution_count": 17,
   "metadata": {
    "execution": {
     "iopub.execute_input": "2020-08-09T14:34:29.719671Z",
     "iopub.status.busy": "2020-08-09T14:34:29.718670Z",
     "iopub.status.idle": "2020-08-09T14:34:33.746309Z",
     "shell.execute_reply": "2020-08-09T14:34:33.745573Z"
    },
    "papermill": {
     "duration": 4.07813,
     "end_time": "2020-08-09T14:34:33.746446",
     "exception": false,
     "start_time": "2020-08-09T14:34:29.668316",
     "status": "completed"
    },
    "tags": []
   },
   "outputs": [],
   "source": [
    "merged_test[\"hour\"] = merged_test[\"timestamp\"].dt.hour"
   ]
  },
  {
   "cell_type": "code",
   "execution_count": 18,
   "metadata": {
    "execution": {
     "iopub.execute_input": "2020-08-09T14:34:33.843931Z",
     "iopub.status.busy": "2020-08-09T14:34:33.842815Z",
     "iopub.status.idle": "2020-08-09T14:34:33.847626Z",
     "shell.execute_reply": "2020-08-09T14:34:33.846905Z"
    },
    "papermill": {
     "duration": 0.055987,
     "end_time": "2020-08-09T14:34:33.847751",
     "exception": false,
     "start_time": "2020-08-09T14:34:33.791764",
     "status": "completed"
    },
    "tags": []
   },
   "outputs": [
    {
     "data": {
      "text/plain": [
       "Index(['index', 'row_id', 'building_id', 'meter', 'timestamp', 'weekend',\n",
       "       'site_id', 'primary_use', 'square_feet', 'air_temperature',\n",
       "       'cloud_coverage', 'dew_temperature', 'precip_depth_1_hr', 'IsHoliday',\n",
       "       'month_group', 'horizsolar', 'Sensible_Heat', 'relative_humidity',\n",
       "       'hour'],\n",
       "      dtype='object')"
      ]
     },
     "execution_count": 18,
     "metadata": {},
     "output_type": "execute_result"
    }
   ],
   "source": [
    "merged_test.columns"
   ]
  },
  {
   "cell_type": "code",
   "execution_count": 19,
   "metadata": {
    "execution": {
     "iopub.execute_input": "2020-08-09T14:34:33.946415Z",
     "iopub.status.busy": "2020-08-09T14:34:33.945627Z",
     "iopub.status.idle": "2020-08-09T14:34:35.501637Z",
     "shell.execute_reply": "2020-08-09T14:34:35.500785Z"
    },
    "papermill": {
     "duration": 1.608202,
     "end_time": "2020-08-09T14:34:35.501793",
     "exception": false,
     "start_time": "2020-08-09T14:34:33.893591",
     "status": "completed"
    },
    "tags": []
   },
   "outputs": [],
   "source": [
    "merged_test = merged_test.drop(['index', 'row_id','timestamp'],axis=1)"
   ]
  },
  {
   "cell_type": "code",
   "execution_count": 20,
   "metadata": {
    "execution": {
     "iopub.execute_input": "2020-08-09T14:34:35.975628Z",
     "iopub.status.busy": "2020-08-09T14:34:35.817215Z",
     "iopub.status.idle": "2020-08-09T14:34:36.610981Z",
     "shell.execute_reply": "2020-08-09T14:34:36.610253Z"
    },
    "papermill": {
     "duration": 1.061808,
     "end_time": "2020-08-09T14:34:36.611125",
     "exception": false,
     "start_time": "2020-08-09T14:34:35.549317",
     "status": "completed"
    },
    "tags": []
   },
   "outputs": [],
   "source": [
    "merged_test = merged_test.drop(['month_group','Sensible_Heat', 'relative_humidity'],axis=1)"
   ]
  },
  {
   "cell_type": "code",
   "execution_count": 21,
   "metadata": {
    "execution": {
     "iopub.execute_input": "2020-08-09T14:34:36.711485Z",
     "iopub.status.busy": "2020-08-09T14:34:36.710452Z",
     "iopub.status.idle": "2020-08-09T14:34:36.715205Z",
     "shell.execute_reply": "2020-08-09T14:34:36.714582Z"
    },
    "papermill": {
     "duration": 0.05661,
     "end_time": "2020-08-09T14:34:36.715337",
     "exception": false,
     "start_time": "2020-08-09T14:34:36.658727",
     "status": "completed"
    },
    "tags": []
   },
   "outputs": [
    {
     "data": {
      "text/plain": [
       "(41697600, 13)"
      ]
     },
     "execution_count": 21,
     "metadata": {},
     "output_type": "execute_result"
    }
   ],
   "source": [
    "merged_test.shape"
   ]
  },
  {
   "cell_type": "code",
   "execution_count": 22,
   "metadata": {
    "execution": {
     "iopub.execute_input": "2020-08-09T14:34:36.819965Z",
     "iopub.status.busy": "2020-08-09T14:34:36.818019Z",
     "iopub.status.idle": "2020-08-09T14:34:36.823291Z",
     "shell.execute_reply": "2020-08-09T14:34:36.823904Z"
    },
    "papermill": {
     "duration": 0.062017,
     "end_time": "2020-08-09T14:34:36.824071",
     "exception": false,
     "start_time": "2020-08-09T14:34:36.762054",
     "status": "completed"
    },
    "tags": []
   },
   "outputs": [],
   "source": [
    "def pred(X_test, models, batch_size=100000):\n",
    "    iterations = (X_test.shape[0] + batch_size -1) // batch_size\n",
    "    print('iterations', iterations)\n",
    "\n",
    "    y_test_pred_total = np.zeros(X_test.shape[0])\n",
    "    for i, model in enumerate(models):\n",
    "        print(f'predicting {i}-th model')\n",
    "        for k in tqdm(range(iterations)):\n",
    "            y_pred_test = model.predict(X_test[k*batch_size:(k+1)*batch_size], num_iteration=model.best_iteration)\n",
    "            y_test_pred_total[k*batch_size:(k+1)*batch_size] += y_pred_test\n",
    "\n",
    "    y_test_pred_total /= len(models)\n",
    "    return y_test_pred_total   "
   ]
  },
  {
   "cell_type": "code",
   "execution_count": 23,
   "metadata": {
    "execution": {
     "iopub.execute_input": "2020-08-09T14:34:36.923954Z",
     "iopub.status.busy": "2020-08-09T14:34:36.923093Z",
     "iopub.status.idle": "2020-08-09T14:34:37.313151Z",
     "shell.execute_reply": "2020-08-09T14:34:37.312456Z"
    },
    "papermill": {
     "duration": 0.442249,
     "end_time": "2020-08-09T14:34:37.313281",
     "exception": false,
     "start_time": "2020-08-09T14:34:36.871032",
     "status": "completed"
    },
    "tags": []
   },
   "outputs": [],
   "source": [
    "merged_test = merged_test[merged_test['site_id']==siteid]"
   ]
  },
  {
   "cell_type": "code",
   "execution_count": 24,
   "metadata": {
    "execution": {
     "iopub.execute_input": "2020-08-09T14:34:37.413379Z",
     "iopub.status.busy": "2020-08-09T14:34:37.412477Z",
     "iopub.status.idle": "2020-08-09T14:36:14.610082Z",
     "shell.execute_reply": "2020-08-09T14:36:14.611118Z"
    },
    "papermill": {
     "duration": 97.250989,
     "end_time": "2020-08-09T14:36:14.611393",
     "exception": false,
     "start_time": "2020-08-09T14:34:37.360404",
     "status": "completed"
    },
    "tags": []
   },
   "outputs": [
    {
     "name": "stderr",
     "output_type": "stream",
     "text": [
      "  0%|          | 0/51 [00:00<?, ?it/s]"
     ]
    },
    {
     "name": "stdout",
     "output_type": "stream",
     "text": [
      "iterations 51\n",
      "predicting 0-th model\n"
     ]
    },
    {
     "name": "stderr",
     "output_type": "stream",
     "text": [
      "100%|██████████| 51/51 [00:33<00:00,  1.53it/s]\n",
      "  0%|          | 0/51 [00:00<?, ?it/s]"
     ]
    },
    {
     "name": "stdout",
     "output_type": "stream",
     "text": [
      "predicting 1-th model\n"
     ]
    },
    {
     "name": "stderr",
     "output_type": "stream",
     "text": [
      "100%|██████████| 51/51 [00:34<00:00,  1.49it/s]\n",
      "  0%|          | 0/51 [00:00<?, ?it/s]"
     ]
    },
    {
     "name": "stdout",
     "output_type": "stream",
     "text": [
      "predicting 2-th model\n"
     ]
    },
    {
     "name": "stderr",
     "output_type": "stream",
     "text": [
      "100%|██████████| 51/51 [00:29<00:00,  1.72it/s]\n"
     ]
    }
   ],
   "source": [
    "avg_model = models\n",
    "predict_test = pred(merged_test,avg_model)"
   ]
  },
  {
   "cell_type": "code",
   "execution_count": 25,
   "metadata": {
    "execution": {
     "iopub.execute_input": "2020-08-09T14:36:14.873036Z",
     "iopub.status.busy": "2020-08-09T14:36:14.872260Z",
     "iopub.status.idle": "2020-08-09T14:36:14.982746Z",
     "shell.execute_reply": "2020-08-09T14:36:14.983396Z"
    },
    "papermill": {
     "duration": 0.236736,
     "end_time": "2020-08-09T14:36:14.983611",
     "exception": false,
     "start_time": "2020-08-09T14:36:14.746875",
     "status": "completed"
    },
    "tags": []
   },
   "outputs": [],
   "source": [
    "predict_test = np.expm1(predict_test)     "
   ]
  },
  {
   "cell_type": "code",
   "execution_count": 26,
   "metadata": {
    "execution": {
     "iopub.execute_input": "2020-08-09T14:36:15.217889Z",
     "iopub.status.busy": "2020-08-09T14:36:15.214241Z",
     "iopub.status.idle": "2020-08-09T14:36:15.260097Z",
     "shell.execute_reply": "2020-08-09T14:36:15.259355Z"
    },
    "papermill": {
     "duration": 0.163363,
     "end_time": "2020-08-09T14:36:15.260235",
     "exception": false,
     "start_time": "2020-08-09T14:36:15.096872",
     "status": "completed"
    },
    "tags": []
   },
   "outputs": [
    {
     "data": {
      "text/plain": [
       "['predict_test_site14.pkl']"
      ]
     },
     "execution_count": 26,
     "metadata": {},
     "output_type": "execute_result"
    }
   ],
   "source": [
    "import joblib\n",
    "h = 'predict_test_site'+ str(siteid)+'.pkl'\n",
    "joblib.dump(predict_test, h) "
   ]
  },
  {
   "cell_type": "code",
   "execution_count": 27,
   "metadata": {
    "execution": {
     "iopub.execute_input": "2020-08-09T14:36:15.492823Z",
     "iopub.status.busy": "2020-08-09T14:36:15.491868Z",
     "iopub.status.idle": "2020-08-09T14:36:15.496705Z",
     "shell.execute_reply": "2020-08-09T14:36:15.495974Z"
    },
    "papermill": {
     "duration": 0.123764,
     "end_time": "2020-08-09T14:36:15.496829",
     "exception": false,
     "start_time": "2020-08-09T14:36:15.373065",
     "status": "completed"
    },
    "tags": []
   },
   "outputs": [
    {
     "data": {
      "text/html": [
       "<a href='./predict_test_site14.pkl' target='_blank'>./predict_test_site14.pkl</a><br>"
      ],
      "text/plain": [
       "/kaggle/working/predict_test_site14.pkl"
      ]
     },
     "execution_count": 27,
     "metadata": {},
     "output_type": "execute_result"
    }
   ],
   "source": [
    "from IPython.display import FileLink\n",
    "FileLink(r'./predict_test_site14.pkl')                                                                                                            "
   ]
  },
  {
   "cell_type": "code",
   "execution_count": null,
   "metadata": {
    "papermill": {
     "duration": 0.113422,
     "end_time": "2020-08-09T14:36:15.723689",
     "exception": false,
     "start_time": "2020-08-09T14:36:15.610267",
     "status": "completed"
    },
    "tags": []
   },
   "outputs": [],
   "source": [
    "merged_test = merged_test.merge(leak_data, on=['building_id','meter','timestamp'], how='left')"
   ]
  },
  {
   "cell_type": "code",
   "execution_count": null,
   "metadata": {},
   "outputs": [],
   "source": [
    "c2 = 0\n",
    "for i in range(16) :\n",
    "    k1 = \"../input/16sitesprediction/predict_test_site\"+str(i)+\".pkl\"\n",
    "    k2 = joblib.load(k1)\n",
    "    c2 += len(k2)\n",
    "    merged_test.loc[merged_test[\"site_id\"]==i,\"meter_reading\"] = k2   "
   ]
  },
  {
   "cell_type": "code",
   "execution_count": null,
   "metadata": {},
   "outputs": [],
   "source": [
    "sample_submission = pd.read_feather(\"../input/ashrae-feather-format-for-fast-loading/sample_submission.feather\")\n",
    "sample_submission = memory_reduction(sample_submission)              "
   ]
  },
  {
   "cell_type": "code",
   "execution_count": null,
   "metadata": {},
   "outputs": [],
   "source": [
    "row_ids = merged_test[\"row_id\"]"
   ]
  },
  {
   "cell_type": "code",
   "execution_count": null,
   "metadata": {},
   "outputs": [],
   "source": [
    "sample_submission = pd.DataFrame({\"row_id\": row_ids, \"meter_reading\": np.clip(0.95*merged_test['meter_reading'], 0, a_max=None)})\n",
    "sample_submission['meter_reading'] = sample_submission['meter_reading'].astype('float32')\n",
    "sample_submission['row_id'] = sample_submission['row_id'].astype('int32')"
   ]
  },
  {
   "cell_type": "code",
   "execution_count": null,
   "metadata": {},
   "outputs": [],
   "source": [
    "sample_submission.to_csv('site-meter-predictions16',index=False)"
   ]
  },
  {
   "cell_type": "code",
   "execution_count": 1,
   "metadata": {},
   "outputs": [
    {
     "data": {
      "image/jpeg": "[encoded data removed]",
      "text/plain": [
       "<IPython.core.display.Image object>"
      ]
     },
     "execution_count": 1,
     "metadata": {},
     "output_type": "execute_result"
    }
   ],
   "source": [
    "from IPython.display import Image\n",
    "Image(filename='site_meter.JPG')                                                                                                                                                                                                         "
   ]
  },
  {
   "cell_type": "code",
   "execution_count": null,
   "metadata": {},
   "outputs": [],
   "source": []
  }
 ],
 "metadata": {
  "kernelspec": {
   "display_name": "Python 3",
   "language": "python",
   "name": "python3"
  },
  "language_info": {
   "codemirror_mode": {
    "name": "ipython",
    "version": 3
   },
   "file_extension": ".py",
   "mimetype": "text/x-python",
   "name": "python",
   "nbconvert_exporter": "python",
   "pygments_lexer": "ipython3",
   "version": "3.7.3"
  },
  "papermill": {
   "duration": 215.15418,
   "end_time": "2020-08-09T14:36:15.946711",
   "environment_variables": {},
   "exception": null,
   "input_path": "__notebook__.ipynb",
   "output_path": "__notebook__.ipynb",
   "parameters": {},
   "start_time": "2020-08-09T14:32:40.792531",
   "version": "2.1.0"
  }
 },
 "nbformat": 4,
 "nbformat_minor": 4
}
